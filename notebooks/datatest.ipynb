{
 "cells": [
  {
   "cell_type": "code",
   "execution_count": 1,
   "metadata": {},
   "outputs": [],
   "source": [
    "import pandas as pd\n",
    "import numpy as np"
   ]
  },
  {
   "cell_type": "code",
   "execution_count": 4,
   "metadata": {},
   "outputs": [
    {
     "data": {
      "text/html": [
       "<div>\n",
       "<style scoped>\n",
       "    .dataframe tbody tr th:only-of-type {\n",
       "        vertical-align: middle;\n",
       "    }\n",
       "\n",
       "    .dataframe tbody tr th {\n",
       "        vertical-align: top;\n",
       "    }\n",
       "\n",
       "    .dataframe thead th {\n",
       "        text-align: right;\n",
       "    }\n",
       "</style>\n",
       "<table border=\"1\" class=\"dataframe\">\n",
       "  <thead>\n",
       "    <tr style=\"text-align: right;\">\n",
       "      <th></th>\n",
       "      <th>filename</th>\n",
       "      <th>url</th>\n",
       "      <th>mem_score</th>\n",
       "      <th>alpha</th>\n",
       "      <th>audio_description</th>\n",
       "      <th>captions</th>\n",
       "      <th>action_labels</th>\n",
       "    </tr>\n",
       "  </thead>\n",
       "  <tbody>\n",
       "    <tr>\n",
       "      <th>0</th>\n",
       "      <td>adult-female-singing_peeks-www_k_to_keek_2Qwue...</td>\n",
       "      <td>https://data.csail.mit.edu/soundnet/actions3/a...</td>\n",
       "      <td>0.989151</td>\n",
       "      <td>-0.000387</td>\n",
       "      <td>indoors you see a woman with red hair held up ...</td>\n",
       "      <td>[A brown hair girl with lip piercings mumbles ...</td>\n",
       "      <td>[holding, looking, adult+female+singing, singing]</td>\n",
       "    </tr>\n",
       "    <tr>\n",
       "      <th>1</th>\n",
       "      <td>adult-female-singing_peeks-www_k_to_keek_2Xyqe...</td>\n",
       "      <td>https://data.csail.mit.edu/soundnet/actions3/a...</td>\n",
       "      <td>0.913391</td>\n",
       "      <td>0.000410</td>\n",
       "      <td>owner of short brown hair wearing a blue sweat...</td>\n",
       "      <td>[A woman is standing and singing under a ceili...</td>\n",
       "      <td>[adult+female+singing, standing, singing]</td>\n",
       "    </tr>\n",
       "    <tr>\n",
       "      <th>2</th>\n",
       "      <td>adult-female-singing_peeks-www_k_to_keek_2g4te...</td>\n",
       "      <td>https://data.csail.mit.edu/soundnet/actions3/a...</td>\n",
       "      <td>0.932910</td>\n",
       "      <td>-0.000518</td>\n",
       "      <td>videos of lady face up close and she's singing...</td>\n",
       "      <td>[A person wearing a white sleeveless shirt is ...</td>\n",
       "      <td>[dancing, adult+female+singing, speaking, sing...</td>\n",
       "    </tr>\n",
       "    <tr>\n",
       "      <th>3</th>\n",
       "      <td>adult-female-singing_peeks-www_k_to_keek_EO30e...</td>\n",
       "      <td>https://data.csail.mit.edu/soundnet/actions3/a...</td>\n",
       "      <td>0.966062</td>\n",
       "      <td>-0.000108</td>\n",
       "      <td>videos of the lady on the red wall and she's d...</td>\n",
       "      <td>[A woman leans against a red, decorated wall a...</td>\n",
       "      <td>[dancing, cheering, adult+female+singing, sing...</td>\n",
       "    </tr>\n",
       "    <tr>\n",
       "      <th>4</th>\n",
       "      <td>adult-female-singing_peeks-www_k_to_keek_J2Rve...</td>\n",
       "      <td>https://data.csail.mit.edu/soundnet/actions3/a...</td>\n",
       "      <td>0.944808</td>\n",
       "      <td>-0.000662</td>\n",
       "      <td>this is a video of a woman in a red shirt and ...</td>\n",
       "      <td>[Two overweight women sway next to each other ...</td>\n",
       "      <td>[singing, adult+female+singing, standing]</td>\n",
       "    </tr>\n",
       "  </tbody>\n",
       "</table>\n",
       "</div>"
      ],
      "text/plain": [
       "                                            filename  \\\n",
       "0  adult-female-singing_peeks-www_k_to_keek_2Qwue...   \n",
       "1  adult-female-singing_peeks-www_k_to_keek_2Xyqe...   \n",
       "2  adult-female-singing_peeks-www_k_to_keek_2g4te...   \n",
       "3  adult-female-singing_peeks-www_k_to_keek_EO30e...   \n",
       "4  adult-female-singing_peeks-www_k_to_keek_J2Rve...   \n",
       "\n",
       "                                                 url  mem_score     alpha  \\\n",
       "0  https://data.csail.mit.edu/soundnet/actions3/a...   0.989151 -0.000387   \n",
       "1  https://data.csail.mit.edu/soundnet/actions3/a...   0.913391  0.000410   \n",
       "2  https://data.csail.mit.edu/soundnet/actions3/a...   0.932910 -0.000518   \n",
       "3  https://data.csail.mit.edu/soundnet/actions3/a...   0.966062 -0.000108   \n",
       "4  https://data.csail.mit.edu/soundnet/actions3/a...   0.944808 -0.000662   \n",
       "\n",
       "                                   audio_description  \\\n",
       "0  indoors you see a woman with red hair held up ...   \n",
       "1  owner of short brown hair wearing a blue sweat...   \n",
       "2  videos of lady face up close and she's singing...   \n",
       "3  videos of the lady on the red wall and she's d...   \n",
       "4  this is a video of a woman in a red shirt and ...   \n",
       "\n",
       "                                            captions  \\\n",
       "0  [A brown hair girl with lip piercings mumbles ...   \n",
       "1  [A woman is standing and singing under a ceili...   \n",
       "2  [A person wearing a white sleeveless shirt is ...   \n",
       "3  [A woman leans against a red, decorated wall a...   \n",
       "4  [Two overweight women sway next to each other ...   \n",
       "\n",
       "                                       action_labels  \n",
       "0  [holding, looking, adult+female+singing, singing]  \n",
       "1          [adult+female+singing, standing, singing]  \n",
       "2  [dancing, adult+female+singing, speaking, sing...  \n",
       "3  [dancing, cheering, adult+female+singing, sing...  \n",
       "4          [singing, adult+female+singing, standing]  "
      ]
     },
     "execution_count": 4,
     "metadata": {},
     "output_type": "execute_result"
    }
   ],
   "source": [
    "train_23 = pd.read_json('/mnt/rufus_A/Memento10k 2023/training_set/memento_train_data.json')\n",
    "train_23.head()"
   ]
  },
  {
   "cell_type": "code",
   "execution_count": 8,
   "metadata": {},
   "outputs": [
    {
     "data": {
      "text/html": [
       "<div>\n",
       "<style scoped>\n",
       "    .dataframe tbody tr th:only-of-type {\n",
       "        vertical-align: middle;\n",
       "    }\n",
       "\n",
       "    .dataframe tbody tr th {\n",
       "        vertical-align: top;\n",
       "    }\n",
       "\n",
       "    .dataframe thead th {\n",
       "        text-align: right;\n",
       "    }\n",
       "</style>\n",
       "<table border=\"1\" class=\"dataframe\">\n",
       "  <thead>\n",
       "    <tr style=\"text-align: right;\">\n",
       "      <th></th>\n",
       "      <th>filename</th>\n",
       "      <th>url</th>\n",
       "      <th>mem_score</th>\n",
       "      <th>alpha</th>\n",
       "      <th>audio_description</th>\n",
       "      <th>captions</th>\n",
       "      <th>action_labels</th>\n",
       "    </tr>\n",
       "  </thead>\n",
       "  <tbody>\n",
       "    <tr>\n",
       "      <th>0</th>\n",
       "      <td>adult-male-singing_peeks-www_k_to_keek_vqfgeab...</td>\n",
       "      <td>https://data.csail.mit.edu/soundnet/actions3/a...</td>\n",
       "      <td>0.790810</td>\n",
       "      <td>-0.001496</td>\n",
       "      <td>there is a boy singing there is a microphone t...</td>\n",
       "      <td>[A singer dressed in purple is singing inside ...</td>\n",
       "      <td>[applauding, adult+male+singing, singing, smil...</td>\n",
       "    </tr>\n",
       "    <tr>\n",
       "      <th>1</th>\n",
       "      <td>aiming_1-3-2-3-6-3-4-7-14413236347.mp4</td>\n",
       "      <td>https://data.csail.mit.edu/soundnet/actions3/a...</td>\n",
       "      <td>0.824979</td>\n",
       "      <td>-0.001711</td>\n",
       "      <td>this is a video of man shooting assault rifle</td>\n",
       "      <td>[Three men wearing ear protection shoot guns o...</td>\n",
       "      <td>[aiming, shooting]</td>\n",
       "    </tr>\n",
       "    <tr>\n",
       "      <th>2</th>\n",
       "      <td>applauding_1-7-4-5-3-8-3-6-3017453836.mp4</td>\n",
       "      <td>https://data.csail.mit.edu/soundnet/actions3/a...</td>\n",
       "      <td>0.858428</td>\n",
       "      <td>0.001024</td>\n",
       "      <td>this is a performing stage there are many peop...</td>\n",
       "      <td>[A rap group performs on a stage in front of a...</td>\n",
       "      <td>[adult+male+singing, dancing, playing+music, p...</td>\n",
       "    </tr>\n",
       "    <tr>\n",
       "      <th>3</th>\n",
       "      <td>ascending_flickr-2-2-7-3-0-0-7-6-15622730076_1...</td>\n",
       "      <td>https://data.csail.mit.edu/soundnet/actions3/a...</td>\n",
       "      <td>0.618703</td>\n",
       "      <td>-0.004464</td>\n",
       "      <td>there are two subjects in the video they are o...</td>\n",
       "      <td>[Two people wearing green are climbing onto a ...</td>\n",
       "      <td>[ascending]</td>\n",
       "    </tr>\n",
       "    <tr>\n",
       "      <th>4</th>\n",
       "      <td>asking_flickr-1-1-7-8-7-6-9-1-3011787691_19.mp4</td>\n",
       "      <td>https://data.csail.mit.edu/soundnet/actions3/a...</td>\n",
       "      <td>0.919319</td>\n",
       "      <td>-0.001644</td>\n",
       "      <td>there is a gentleman standing in front of a cr...</td>\n",
       "      <td>[A blond man in a white shirt raising his arms...</td>\n",
       "      <td>[asking]</td>\n",
       "    </tr>\n",
       "  </tbody>\n",
       "</table>\n",
       "</div>"
      ],
      "text/plain": [
       "                                            filename  \\\n",
       "0  adult-male-singing_peeks-www_k_to_keek_vqfgeab...   \n",
       "1             aiming_1-3-2-3-6-3-4-7-14413236347.mp4   \n",
       "2          applauding_1-7-4-5-3-8-3-6-3017453836.mp4   \n",
       "3  ascending_flickr-2-2-7-3-0-0-7-6-15622730076_1...   \n",
       "4    asking_flickr-1-1-7-8-7-6-9-1-3011787691_19.mp4   \n",
       "\n",
       "                                                 url  mem_score     alpha  \\\n",
       "0  https://data.csail.mit.edu/soundnet/actions3/a...   0.790810 -0.001496   \n",
       "1  https://data.csail.mit.edu/soundnet/actions3/a...   0.824979 -0.001711   \n",
       "2  https://data.csail.mit.edu/soundnet/actions3/a...   0.858428  0.001024   \n",
       "3  https://data.csail.mit.edu/soundnet/actions3/a...   0.618703 -0.004464   \n",
       "4  https://data.csail.mit.edu/soundnet/actions3/a...   0.919319 -0.001644   \n",
       "\n",
       "                                   audio_description  \\\n",
       "0  there is a boy singing there is a microphone t...   \n",
       "1      this is a video of man shooting assault rifle   \n",
       "2  this is a performing stage there are many peop...   \n",
       "3  there are two subjects in the video they are o...   \n",
       "4  there is a gentleman standing in front of a cr...   \n",
       "\n",
       "                                            captions  \\\n",
       "0  [A singer dressed in purple is singing inside ...   \n",
       "1  [Three men wearing ear protection shoot guns o...   \n",
       "2  [A rap group performs on a stage in front of a...   \n",
       "3  [Two people wearing green are climbing onto a ...   \n",
       "4  [A blond man in a white shirt raising his arms...   \n",
       "\n",
       "                                       action_labels  \n",
       "0  [applauding, adult+male+singing, singing, smil...  \n",
       "1                                 [aiming, shooting]  \n",
       "2  [adult+male+singing, dancing, playing+music, p...  \n",
       "3                                        [ascending]  \n",
       "4                                           [asking]  "
      ]
     },
     "execution_count": 8,
     "metadata": {},
     "output_type": "execute_result"
    }
   ],
   "source": [
    "dev_23 = pd.read_json('/mnt/rufus_A/Memento10k 2023/development_set/memento_dev_data.json')\n",
    "dev_23.head()"
   ]
  },
  {
   "cell_type": "code",
   "execution_count": 9,
   "metadata": {},
   "outputs": [
    {
     "data": {
      "text/html": [
       "<div>\n",
       "<style scoped>\n",
       "    .dataframe tbody tr th:only-of-type {\n",
       "        vertical-align: middle;\n",
       "    }\n",
       "\n",
       "    .dataframe tbody tr th {\n",
       "        vertical-align: top;\n",
       "    }\n",
       "\n",
       "    .dataframe thead th {\n",
       "        text-align: right;\n",
       "    }\n",
       "</style>\n",
       "<table border=\"1\" class=\"dataframe\">\n",
       "  <thead>\n",
       "    <tr style=\"text-align: right;\">\n",
       "      <th></th>\n",
       "      <th>filename</th>\n",
       "      <th>url</th>\n",
       "      <th>mem_score</th>\n",
       "      <th>alpha</th>\n",
       "      <th>audio_description</th>\n",
       "      <th>captions</th>\n",
       "      <th>action_labels</th>\n",
       "    </tr>\n",
       "  </thead>\n",
       "  <tbody>\n",
       "    <tr>\n",
       "      <th>0</th>\n",
       "      <td>adult-female-singing_peeks-www_k_to_keek_2Qwue...</td>\n",
       "      <td>https://data.csail.mit.edu/soundnet/actions3/a...</td>\n",
       "      <td>0.989151</td>\n",
       "      <td>-0.000387</td>\n",
       "      <td>indoors you see a woman with red hair held up ...</td>\n",
       "      <td>[A brown hair girl with lip piercings mumbles ...</td>\n",
       "      <td>[holding, looking, adult+female+singing, singing]</td>\n",
       "    </tr>\n",
       "    <tr>\n",
       "      <th>1</th>\n",
       "      <td>adult-female-singing_peeks-www_k_to_keek_2Xyqe...</td>\n",
       "      <td>https://data.csail.mit.edu/soundnet/actions3/a...</td>\n",
       "      <td>0.913391</td>\n",
       "      <td>0.000410</td>\n",
       "      <td>owner of short brown hair wearing a blue sweat...</td>\n",
       "      <td>[A woman is standing and singing under a ceili...</td>\n",
       "      <td>[adult+female+singing, standing, singing]</td>\n",
       "    </tr>\n",
       "    <tr>\n",
       "      <th>2</th>\n",
       "      <td>adult-female-singing_peeks-www_k_to_keek_2g4te...</td>\n",
       "      <td>https://data.csail.mit.edu/soundnet/actions3/a...</td>\n",
       "      <td>0.932910</td>\n",
       "      <td>-0.000518</td>\n",
       "      <td>videos of lady face up close and she's singing...</td>\n",
       "      <td>[A person wearing a white sleeveless shirt is ...</td>\n",
       "      <td>[dancing, adult+female+singing, speaking, sing...</td>\n",
       "    </tr>\n",
       "    <tr>\n",
       "      <th>3</th>\n",
       "      <td>adult-female-singing_peeks-www_k_to_keek_EO30e...</td>\n",
       "      <td>https://data.csail.mit.edu/soundnet/actions3/a...</td>\n",
       "      <td>0.966062</td>\n",
       "      <td>-0.000108</td>\n",
       "      <td>videos of the lady on the red wall and she's d...</td>\n",
       "      <td>[A woman leans against a red, decorated wall a...</td>\n",
       "      <td>[dancing, cheering, adult+female+singing, sing...</td>\n",
       "    </tr>\n",
       "    <tr>\n",
       "      <th>4</th>\n",
       "      <td>adult-female-singing_peeks-www_k_to_keek_J2Rve...</td>\n",
       "      <td>https://data.csail.mit.edu/soundnet/actions3/a...</td>\n",
       "      <td>0.944808</td>\n",
       "      <td>-0.000662</td>\n",
       "      <td>this is a video of a woman in a red shirt and ...</td>\n",
       "      <td>[Two overweight women sway next to each other ...</td>\n",
       "      <td>[singing, adult+female+singing, standing]</td>\n",
       "    </tr>\n",
       "  </tbody>\n",
       "</table>\n",
       "</div>"
      ],
      "text/plain": [
       "                                            filename  \\\n",
       "0  adult-female-singing_peeks-www_k_to_keek_2Qwue...   \n",
       "1  adult-female-singing_peeks-www_k_to_keek_2Xyqe...   \n",
       "2  adult-female-singing_peeks-www_k_to_keek_2g4te...   \n",
       "3  adult-female-singing_peeks-www_k_to_keek_EO30e...   \n",
       "4  adult-female-singing_peeks-www_k_to_keek_J2Rve...   \n",
       "\n",
       "                                                 url  mem_score     alpha  \\\n",
       "0  https://data.csail.mit.edu/soundnet/actions3/a...   0.989151 -0.000387   \n",
       "1  https://data.csail.mit.edu/soundnet/actions3/a...   0.913391  0.000410   \n",
       "2  https://data.csail.mit.edu/soundnet/actions3/a...   0.932910 -0.000518   \n",
       "3  https://data.csail.mit.edu/soundnet/actions3/a...   0.966062 -0.000108   \n",
       "4  https://data.csail.mit.edu/soundnet/actions3/a...   0.944808 -0.000662   \n",
       "\n",
       "                                   audio_description  \\\n",
       "0  indoors you see a woman with red hair held up ...   \n",
       "1  owner of short brown hair wearing a blue sweat...   \n",
       "2  videos of lady face up close and she's singing...   \n",
       "3  videos of the lady on the red wall and she's d...   \n",
       "4  this is a video of a woman in a red shirt and ...   \n",
       "\n",
       "                                            captions  \\\n",
       "0  [A brown hair girl with lip piercings mumbles ...   \n",
       "1  [A woman is standing and singing under a ceili...   \n",
       "2  [A person wearing a white sleeveless shirt is ...   \n",
       "3  [A woman leans against a red, decorated wall a...   \n",
       "4  [Two overweight women sway next to each other ...   \n",
       "\n",
       "                                       action_labels  \n",
       "0  [holding, looking, adult+female+singing, singing]  \n",
       "1          [adult+female+singing, standing, singing]  \n",
       "2  [dancing, adult+female+singing, speaking, sing...  \n",
       "3  [dancing, cheering, adult+female+singing, sing...  \n",
       "4          [singing, adult+female+singing, standing]  "
      ]
     },
     "execution_count": 9,
     "metadata": {},
     "output_type": "execute_result"
    }
   ],
   "source": [
    "data_2023 = pd.concat([train_23, dev_23], ignore_index=True)\n",
    "data_2023.head()"
   ]
  },
  {
   "cell_type": "code",
   "execution_count": 18,
   "metadata": {},
   "outputs": [
    {
     "name": "stdout",
     "output_type": "stream",
     "text": [
      "shows a series of cables that are in a car inside\n",
      "Seven young girls dressed in pink and black clap their hands and raise their arms doing a cheering performance standing in front of cheerleaders.\n",
      "A group of cheerleaders work with small children on a cheer.\n",
      "Young girls in pink t-shirts clap and cheer with cheerleaders in black and yellow.\n",
      "A group of little girls in pink shirts is doing hand motions along with cheerleaders.\n"
     ]
    }
   ],
   "source": [
    "captions = data_2023[data_2023.filename == 'cheering_flickr-1-6-1-2-3-2-2-6-4316123226_14.mp4'].captions.values\n",
    "# Print each caption in the list\n",
    "for caption in captions:\n",
    "    print('\\n'.join(caption))"
   ]
  },
  {
   "cell_type": "code",
   "execution_count": 4,
   "metadata": {},
   "outputs": [
    {
     "data": {
      "text/html": [
       "<div>\n",
       "<style scoped>\n",
       "    .dataframe tbody tr th:only-of-type {\n",
       "        vertical-align: middle;\n",
       "    }\n",
       "\n",
       "    .dataframe tbody tr th {\n",
       "        vertical-align: top;\n",
       "    }\n",
       "\n",
       "    .dataframe thead th {\n",
       "        text-align: right;\n",
       "    }\n",
       "</style>\n",
       "<table border=\"1\" class=\"dataframe\">\n",
       "  <thead>\n",
       "    <tr style=\"text-align: right;\">\n",
       "      <th></th>\n",
       "      <th>filename</th>\n",
       "      <th>url</th>\n",
       "      <th>mem_score</th>\n",
       "      <th>alpha</th>\n",
       "      <th>audio_description</th>\n",
       "      <th>captions</th>\n",
       "      <th>action_labels</th>\n",
       "    </tr>\n",
       "  </thead>\n",
       "  <tbody>\n",
       "    <tr>\n",
       "      <th>0</th>\n",
       "      <td>adult-female-singing_peeks-www_k_to_keek_2Qwue...</td>\n",
       "      <td>https://data.csail.mit.edu/soundnet/actions3/a...</td>\n",
       "      <td>0.989151</td>\n",
       "      <td>-0.000387</td>\n",
       "      <td>indoors you see a woman with red hair held up ...</td>\n",
       "      <td>[A brown hair girl with lip piercings mumbles ...</td>\n",
       "      <td>[holding, looking, adult+female+singing, singing]</td>\n",
       "    </tr>\n",
       "    <tr>\n",
       "      <th>1</th>\n",
       "      <td>adult-female-singing_peeks-www_k_to_keek_2Xyqe...</td>\n",
       "      <td>https://data.csail.mit.edu/soundnet/actions3/a...</td>\n",
       "      <td>0.913391</td>\n",
       "      <td>0.000410</td>\n",
       "      <td>owner of short brown hair wearing a blue sweat...</td>\n",
       "      <td>[A woman is standing and singing under a ceili...</td>\n",
       "      <td>[adult+female+singing, standing, singing]</td>\n",
       "    </tr>\n",
       "    <tr>\n",
       "      <th>2</th>\n",
       "      <td>adult-female-singing_peeks-www_k_to_keek_2g4te...</td>\n",
       "      <td>https://data.csail.mit.edu/soundnet/actions3/a...</td>\n",
       "      <td>0.932910</td>\n",
       "      <td>-0.000518</td>\n",
       "      <td>videos of lady face up close and she's singing...</td>\n",
       "      <td>[A person wearing a white sleeveless shirt is ...</td>\n",
       "      <td>[dancing, adult+female+singing, speaking, sing...</td>\n",
       "    </tr>\n",
       "    <tr>\n",
       "      <th>3</th>\n",
       "      <td>adult-female-singing_peeks-www_k_to_keek_EO30e...</td>\n",
       "      <td>https://data.csail.mit.edu/soundnet/actions3/a...</td>\n",
       "      <td>0.966062</td>\n",
       "      <td>-0.000108</td>\n",
       "      <td>videos of the lady on the red wall and she's d...</td>\n",
       "      <td>[A woman leans against a red, decorated wall a...</td>\n",
       "      <td>[dancing, cheering, adult+female+singing, sing...</td>\n",
       "    </tr>\n",
       "    <tr>\n",
       "      <th>4</th>\n",
       "      <td>adult-female-singing_peeks-www_k_to_keek_J2Rve...</td>\n",
       "      <td>https://data.csail.mit.edu/soundnet/actions3/a...</td>\n",
       "      <td>0.944808</td>\n",
       "      <td>-0.000662</td>\n",
       "      <td>this is a video of a woman in a red shirt and ...</td>\n",
       "      <td>[Two overweight women sway next to each other ...</td>\n",
       "      <td>[singing, adult+female+singing, standing]</td>\n",
       "    </tr>\n",
       "  </tbody>\n",
       "</table>\n",
       "</div>"
      ],
      "text/plain": [
       "                                            filename  \\\n",
       "0  adult-female-singing_peeks-www_k_to_keek_2Qwue...   \n",
       "1  adult-female-singing_peeks-www_k_to_keek_2Xyqe...   \n",
       "2  adult-female-singing_peeks-www_k_to_keek_2g4te...   \n",
       "3  adult-female-singing_peeks-www_k_to_keek_EO30e...   \n",
       "4  adult-female-singing_peeks-www_k_to_keek_J2Rve...   \n",
       "\n",
       "                                                 url  mem_score     alpha  \\\n",
       "0  https://data.csail.mit.edu/soundnet/actions3/a...   0.989151 -0.000387   \n",
       "1  https://data.csail.mit.edu/soundnet/actions3/a...   0.913391  0.000410   \n",
       "2  https://data.csail.mit.edu/soundnet/actions3/a...   0.932910 -0.000518   \n",
       "3  https://data.csail.mit.edu/soundnet/actions3/a...   0.966062 -0.000108   \n",
       "4  https://data.csail.mit.edu/soundnet/actions3/a...   0.944808 -0.000662   \n",
       "\n",
       "                                   audio_description  \\\n",
       "0  indoors you see a woman with red hair held up ...   \n",
       "1  owner of short brown hair wearing a blue sweat...   \n",
       "2  videos of lady face up close and she's singing...   \n",
       "3  videos of the lady on the red wall and she's d...   \n",
       "4  this is a video of a woman in a red shirt and ...   \n",
       "\n",
       "                                            captions  \\\n",
       "0  [A brown hair girl with lip piercings mumbles ...   \n",
       "1  [A woman is standing and singing under a ceili...   \n",
       "2  [A person wearing a white sleeveless shirt is ...   \n",
       "3  [A woman leans against a red, decorated wall a...   \n",
       "4  [Two overweight women sway next to each other ...   \n",
       "\n",
       "                                       action_labels  \n",
       "0  [holding, looking, adult+female+singing, singing]  \n",
       "1          [adult+female+singing, standing, singing]  \n",
       "2  [dancing, adult+female+singing, speaking, sing...  \n",
       "3  [dancing, cheering, adult+female+singing, sing...  \n",
       "4          [singing, adult+female+singing, standing]  "
      ]
     },
     "execution_count": 4,
     "metadata": {},
     "output_type": "execute_result"
    }
   ],
   "source": [
    "train_old = pd.read_json('/mnt/rufus_A/multimemo/data/raw/memento_train_data.json')\n",
    "train_old.head()"
   ]
  },
  {
   "cell_type": "code",
   "execution_count": 14,
   "metadata": {},
   "outputs": [
    {
     "data": {
      "text/html": [
       "<div>\n",
       "<style scoped>\n",
       "    .dataframe tbody tr th:only-of-type {\n",
       "        vertical-align: middle;\n",
       "    }\n",
       "\n",
       "    .dataframe tbody tr th {\n",
       "        vertical-align: top;\n",
       "    }\n",
       "\n",
       "    .dataframe thead th {\n",
       "        text-align: right;\n",
       "    }\n",
       "</style>\n",
       "<table border=\"1\" class=\"dataframe\">\n",
       "  <thead>\n",
       "    <tr style=\"text-align: right;\">\n",
       "      <th></th>\n",
       "      <th>filename</th>\n",
       "      <th>url</th>\n",
       "      <th>mem_score</th>\n",
       "      <th>alpha</th>\n",
       "      <th>audio_description</th>\n",
       "      <th>captions</th>\n",
       "      <th>action_labels</th>\n",
       "    </tr>\n",
       "  </thead>\n",
       "  <tbody>\n",
       "    <tr>\n",
       "      <th>0</th>\n",
       "      <td>adult-male-singing_peeks-www_k_to_keek_vqfgeab...</td>\n",
       "      <td>https://data.csail.mit.edu/soundnet/actions3/a...</td>\n",
       "      <td>0.790810</td>\n",
       "      <td>-0.001496</td>\n",
       "      <td>there is a boy singing there is a microphone t...</td>\n",
       "      <td>[A singer dressed in purple is singing inside ...</td>\n",
       "      <td>[applauding, adult+male+singing, singing, smil...</td>\n",
       "    </tr>\n",
       "    <tr>\n",
       "      <th>1</th>\n",
       "      <td>aiming_1-3-2-3-6-3-4-7-14413236347.mp4</td>\n",
       "      <td>https://data.csail.mit.edu/soundnet/actions3/a...</td>\n",
       "      <td>0.824979</td>\n",
       "      <td>-0.001711</td>\n",
       "      <td>this is a video of man shooting assault rifle</td>\n",
       "      <td>[Three men wearing ear protection shoot guns o...</td>\n",
       "      <td>[aiming, shooting]</td>\n",
       "    </tr>\n",
       "    <tr>\n",
       "      <th>2</th>\n",
       "      <td>applauding_1-7-4-5-3-8-3-6-3017453836.mp4</td>\n",
       "      <td>https://data.csail.mit.edu/soundnet/actions3/a...</td>\n",
       "      <td>0.858428</td>\n",
       "      <td>0.001024</td>\n",
       "      <td>this is a performing stage there are many peop...</td>\n",
       "      <td>[A rap group performs on a stage in front of a...</td>\n",
       "      <td>[adult+male+singing, dancing, playing+music, p...</td>\n",
       "    </tr>\n",
       "    <tr>\n",
       "      <th>3</th>\n",
       "      <td>ascending_flickr-2-2-7-3-0-0-7-6-15622730076_1...</td>\n",
       "      <td>https://data.csail.mit.edu/soundnet/actions3/a...</td>\n",
       "      <td>0.618703</td>\n",
       "      <td>-0.004464</td>\n",
       "      <td>there are two subjects in the video they are o...</td>\n",
       "      <td>[Two people wearing green are climbing onto a ...</td>\n",
       "      <td>[ascending]</td>\n",
       "    </tr>\n",
       "    <tr>\n",
       "      <th>4</th>\n",
       "      <td>asking_flickr-1-1-7-8-7-6-9-1-3011787691_19.mp4</td>\n",
       "      <td>https://data.csail.mit.edu/soundnet/actions3/a...</td>\n",
       "      <td>0.919319</td>\n",
       "      <td>-0.001644</td>\n",
       "      <td>there is a gentleman standing in front of a cr...</td>\n",
       "      <td>[A blond man in a white shirt raising his arms...</td>\n",
       "      <td>[asking]</td>\n",
       "    </tr>\n",
       "  </tbody>\n",
       "</table>\n",
       "</div>"
      ],
      "text/plain": [
       "                                            filename  \\\n",
       "0  adult-male-singing_peeks-www_k_to_keek_vqfgeab...   \n",
       "1             aiming_1-3-2-3-6-3-4-7-14413236347.mp4   \n",
       "2          applauding_1-7-4-5-3-8-3-6-3017453836.mp4   \n",
       "3  ascending_flickr-2-2-7-3-0-0-7-6-15622730076_1...   \n",
       "4    asking_flickr-1-1-7-8-7-6-9-1-3011787691_19.mp4   \n",
       "\n",
       "                                                 url  mem_score     alpha  \\\n",
       "0  https://data.csail.mit.edu/soundnet/actions3/a...   0.790810 -0.001496   \n",
       "1  https://data.csail.mit.edu/soundnet/actions3/a...   0.824979 -0.001711   \n",
       "2  https://data.csail.mit.edu/soundnet/actions3/a...   0.858428  0.001024   \n",
       "3  https://data.csail.mit.edu/soundnet/actions3/a...   0.618703 -0.004464   \n",
       "4  https://data.csail.mit.edu/soundnet/actions3/a...   0.919319 -0.001644   \n",
       "\n",
       "                                   audio_description  \\\n",
       "0  there is a boy singing there is a microphone t...   \n",
       "1      this is a video of man shooting assault rifle   \n",
       "2  this is a performing stage there are many peop...   \n",
       "3  there are two subjects in the video they are o...   \n",
       "4  there is a gentleman standing in front of a cr...   \n",
       "\n",
       "                                            captions  \\\n",
       "0  [A singer dressed in purple is singing inside ...   \n",
       "1  [Three men wearing ear protection shoot guns o...   \n",
       "2  [A rap group performs on a stage in front of a...   \n",
       "3  [Two people wearing green are climbing onto a ...   \n",
       "4  [A blond man in a white shirt raising his arms...   \n",
       "\n",
       "                                       action_labels  \n",
       "0  [applauding, adult+male+singing, singing, smil...  \n",
       "1                                 [aiming, shooting]  \n",
       "2  [adult+male+singing, dancing, playing+music, p...  \n",
       "3                                        [ascending]  \n",
       "4                                           [asking]  "
      ]
     },
     "execution_count": 14,
     "metadata": {},
     "output_type": "execute_result"
    }
   ],
   "source": [
    "dev_old = pd.read_json('/mnt/rufus_A/multimemo/data/raw/memento_val_data.json')\n",
    "dev_old.head()"
   ]
  },
  {
   "cell_type": "code",
   "execution_count": 5,
   "metadata": {},
   "outputs": [
    {
     "data": {
      "text/plain": [
       "True    7000\n",
       "Name: video_url, dtype: int64"
      ]
     },
     "execution_count": 5,
     "metadata": {},
     "output_type": "execute_result"
    }
   ],
   "source": [
    "# Check if the two datasets have the same values in the url (video_url) column\n",
    "train_23['video_url'].isin(train_old['url']).value_counts()"
   ]
  },
  {
   "cell_type": "code",
   "execution_count": 15,
   "metadata": {},
   "outputs": [
    {
     "data": {
      "text/plain": [
       "True    1500\n",
       "Name: video_url, dtype: int64"
      ]
     },
     "execution_count": 15,
     "metadata": {},
     "output_type": "execute_result"
    }
   ],
   "source": [
    "dev_23['video_url'].isin(dev_old['url']).value_counts()"
   ]
  },
  {
   "cell_type": "code",
   "execution_count": 13,
   "metadata": {},
   "outputs": [],
   "source": [
    "# For every video, check if the score associated is the same for both datasets (with a precision of 5 decimals)\n",
    "for vid in train_23['video_url']:\n",
    "    if vid in train_old['url'].values:\n",
    "        if round(train_23[train_23['video_url'] == vid]['scores_short_term'].values[0], 5) != round(train_old[train_old['url'] == vid]['mem_score'].values[0], 5):\n",
    "            print('Different scores for video: ', vid)\n",
    "            print('train_23 score: ', train_23[train_23['video_url'] == vid]['scores_short_term'].values)\n",
    "            print('train_old score: ', train_old[train_old['url'] == vid]['mem_score'].values)\n",
    "            print('\\n')"
   ]
  },
  {
   "cell_type": "code",
   "execution_count": 16,
   "metadata": {},
   "outputs": [],
   "source": [
    "for vid in dev_23['video_url']:\n",
    "    if vid in dev_old['url'].values:\n",
    "        if round(dev_23[dev_23['video_url'] == vid]['scores_short_term'].values[0], 5) != round(dev_old[dev_old['url'] == vid]['mem_score'].values[0], 5):\n",
    "            print('Different scores for video: ', vid)\n",
    "            print('train_23 score: ', dev_23[dev_23['video_url'] == vid]['scores_short_term'].values)\n",
    "            print('train_old score: ', train_old[train_old['url'] == vid]['mem_score'].values)\n",
    "            print('\\n')\n",
    "    else:\n",
    "        print('Video not found in dev_old: ', vid)\n",
    "        print('\\n')"
   ]
  },
  {
   "cell_type": "code",
   "execution_count": 2,
   "metadata": {},
   "outputs": [
    {
     "data": {
      "text/plain": [
       "True"
      ]
     },
     "execution_count": 2,
     "metadata": {},
     "output_type": "execute_result"
    }
   ],
   "source": [
    "import openai\n",
    "from dotenv import load_dotenv, find_dotenv\n",
    "\n",
    "load_dotenv(find_dotenv())"
   ]
  },
  {
   "cell_type": "code",
   "execution_count": 12,
   "metadata": {},
   "outputs": [
    {
     "data": {
      "text/plain": [
       "(1536, 1536)"
      ]
     },
     "execution_count": 12,
     "metadata": {},
     "output_type": "execute_result"
    }
   ],
   "source": [
    "from src.tools.chatgpt import ChatGPT\n",
    "import os\n",
    "\n",
    "# Get chatgpt config from environment and set up the ChatGPT object\n",
    "gptconfig = {\n",
    "    'MODEL': os.environ.get('MODEL'),\n",
    "    'OPENAI_API_KEY': os.environ.get('OPENAI_API_KEY'),\n",
    "    'OPENAI_API_BASE': os.environ.get('OPENAI_API_BASE'),\n",
    "    'OPENAI_API_VERSION': os.environ.get('OPENAI_API_VERSION'),\n",
    "    'ENGINE': os.environ.get('ENGINE')\n",
    "}\n",
    "\n",
    "model = ChatGPT(gptconfig, None)\n",
    "\n",
    "sent1 = 'A person spreads the leaves and shows a four leaf clover.'\n",
    "sent2 = \"A lucky charm is revealed as someone deftly plucks it from nature's bounty.\"\n",
    "emb1 = model.get_embedding(sent1)['data'][0]['embedding']\n",
    "emb2 = model.get_embedding(sent2)['data'][0]['embedding']\n",
    "\n",
    "(len(emb1), len(emb2))\n"
   ]
  },
  {
   "cell_type": "code",
   "execution_count": 13,
   "metadata": {},
   "outputs": [
    {
     "data": {
      "text/plain": [
       "0.8548511599805337"
      ]
     },
     "execution_count": 13,
     "metadata": {},
     "output_type": "execute_result"
    }
   ],
   "source": [
    "import numpy as np\n",
    "np.dot(emb1, emb2)"
   ]
  },
  {
   "cell_type": "code",
   "execution_count": 15,
   "metadata": {},
   "outputs": [],
   "source": [
    "import tiktoken\n",
    "\n",
    "tok = tiktoken.get_encoding(\"cl100k_base\")"
   ]
  },
  {
   "cell_type": "code",
   "execution_count": 18,
   "metadata": {},
   "outputs": [
    {
     "data": {
      "text/plain": [
       "[b'A',\n",
       " b' person',\n",
       " b' spreads',\n",
       " b' the',\n",
       " b' leaves',\n",
       " b' and',\n",
       " b' shows',\n",
       " b' a',\n",
       " b' four',\n",
       " b' leaf',\n",
       " b' clo',\n",
       " b'ver',\n",
       " b'.']"
      ]
     },
     "execution_count": 18,
     "metadata": {},
     "output_type": "execute_result"
    }
   ],
   "source": [
    "[tok.decode_single_token_bytes(t) for t in tok.encode(sent1)]"
   ]
  },
  {
   "cell_type": "code",
   "execution_count": 19,
   "metadata": {},
   "outputs": [
    {
     "data": {
      "text/plain": [
       "[b'A',\n",
       " b' lucky',\n",
       " b' charm',\n",
       " b' is',\n",
       " b' revealed',\n",
       " b' as',\n",
       " b' someone',\n",
       " b' def',\n",
       " b't',\n",
       " b'ly',\n",
       " b' pl',\n",
       " b'ucks',\n",
       " b' it',\n",
       " b' from',\n",
       " b' nature',\n",
       " b\"'s\",\n",
       " b' bounty',\n",
       " b'.']"
      ]
     },
     "execution_count": 19,
     "metadata": {},
     "output_type": "execute_result"
    }
   ],
   "source": [
    "[tok.decode_single_token_bytes(t) for t in tok.encode(sent2)]"
   ]
  },
  {
   "cell_type": "code",
   "execution_count": 20,
   "metadata": {},
   "outputs": [
    {
     "data": {
      "text/plain": [
       "['a',\n",
       " 'person',\n",
       " 'spreads',\n",
       " 'the',\n",
       " 'leaves',\n",
       " 'and',\n",
       " 'shows',\n",
       " 'a',\n",
       " 'four',\n",
       " 'leaf',\n",
       " 'clover',\n",
       " '.']"
      ]
     },
     "execution_count": 20,
     "metadata": {},
     "output_type": "execute_result"
    }
   ],
   "source": [
    "from transformers import AutoTokenizer\n",
    "tokenizer = AutoTokenizer.from_pretrained(\"sentence-transformers/all-mpnet-base-v2\")\n",
    "\n",
    "tokenizer.tokenize(sent1)"
   ]
  },
  {
   "cell_type": "code",
   "execution_count": 21,
   "metadata": {},
   "outputs": [
    {
     "data": {
      "text/plain": [
       "['a',\n",
       " 'lucky',\n",
       " 'charm',\n",
       " 'is',\n",
       " 'revealed',\n",
       " 'as',\n",
       " 'someone',\n",
       " 'def',\n",
       " '##tly',\n",
       " 'pl',\n",
       " '##uck',\n",
       " '##s',\n",
       " 'it',\n",
       " 'from',\n",
       " 'nature',\n",
       " \"'\",\n",
       " 's',\n",
       " 'bounty',\n",
       " '.']"
      ]
     },
     "execution_count": 21,
     "metadata": {},
     "output_type": "execute_result"
    }
   ],
   "source": [
    "tokenizer.tokenize(sent2)"
   ]
  },
  {
   "cell_type": "markdown",
   "metadata": {},
   "source": [
    "Caption: A person spreads the leaves and shows a four leaf clover.\n",
    "Recaption: A lucky charm is revealed as someone deftly plucks it from nature's bounty.\n",
    "Cosine similarity: 0.24718073343314328\n",
    "Memorability score: 0.9471210990000001"
   ]
  }
 ],
 "metadata": {
  "kernelspec": {
   "display_name": "memo",
   "language": "python",
   "name": "python3"
  },
  "language_info": {
   "codemirror_mode": {
    "name": "ipython",
    "version": 3
   },
   "file_extension": ".py",
   "mimetype": "text/x-python",
   "name": "python",
   "nbconvert_exporter": "python",
   "pygments_lexer": "ipython3",
   "version": "3.10.13"
  },
  "orig_nbformat": 4
 },
 "nbformat": 4,
 "nbformat_minor": 2
}
