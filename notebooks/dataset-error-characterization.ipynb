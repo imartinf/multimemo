{
 "cells": [
  {
   "cell_type": "code",
   "execution_count": 2,
   "metadata": {},
   "outputs": [],
   "source": [
    "import pandas as pd\n",
    "import numpy as np\n",
    "import matplotlib.pyplot as plt\n",
    "import seaborn as sns\n",
    "import os\n",
    "import sys\n",
    "import re\n",
    "import plotly.express as px\n",
    "import plotly.graph_objects as go\n",
    "from plotly.subplots import make_subplots"
   ]
  },
  {
   "cell_type": "code",
   "execution_count": 3,
   "metadata": {},
   "outputs": [],
   "source": [
    "BASE_DIR = '/mnt/rufus_A/multimemo'"
   ]
  },
  {
   "cell_type": "code",
   "execution_count": 4,
   "metadata": {},
   "outputs": [
    {
     "name": "stdout",
     "output_type": "stream",
     "text": [
      "(500, 23)\n"
     ]
    },
    {
     "data": {
      "text/html": [
       "<div>\n",
       "<style scoped>\n",
       "    .dataframe tbody tr th:only-of-type {\n",
       "        vertical-align: middle;\n",
       "    }\n",
       "\n",
       "    .dataframe tbody tr th {\n",
       "        vertical-align: top;\n",
       "    }\n",
       "\n",
       "    .dataframe thead th {\n",
       "        text-align: right;\n",
       "    }\n",
       "</style>\n",
       "<table border=\"1\" class=\"dataframe\">\n",
       "  <thead>\n",
       "    <tr style=\"text-align: right;\">\n",
       "      <th></th>\n",
       "      <th>filename</th>\n",
       "      <th>url</th>\n",
       "      <th>mem_score</th>\n",
       "      <th>alpha</th>\n",
       "      <th>audio_description</th>\n",
       "      <th>captions</th>\n",
       "      <th>action_labels</th>\n",
       "      <th>actions</th>\n",
       "      <th>responses</th>\n",
       "      <th>recaptions</th>\n",
       "      <th>...</th>\n",
       "      <th>openai_caption_embeddings</th>\n",
       "      <th>openai_recaption_embeddings</th>\n",
       "      <th>mean_emb_distance_video</th>\n",
       "      <th>std_emb_distance_video</th>\n",
       "      <th>mean_emb_distance</th>\n",
       "      <th>caption_z_score</th>\n",
       "      <th>ERROR ID</th>\n",
       "      <th>ERROR</th>\n",
       "      <th>Comments</th>\n",
       "      <th>Remove?</th>\n",
       "    </tr>\n",
       "  </thead>\n",
       "  <tbody>\n",
       "    <tr>\n",
       "      <th>0</th>\n",
       "      <td>clearing_flickr-8-7-9-7-5-1-1-1-5187975111_8.mp4</td>\n",
       "      <td>https://data.csail.mit.edu/soundnet/actions3/c...</td>\n",
       "      <td>0.837529</td>\n",
       "      <td>-0.001939</td>\n",
       "      <td>this is a video of a bulldozer knocking down t...</td>\n",
       "      <td>A construction site is going underway and is d...</td>\n",
       "      <td>['ing', 'clearing', 'bulldozing', 'destroying'...</td>\n",
       "      <td>ing, clearing, bulldozing, destroying, knocking</td>\n",
       "      <td>[{'id': 'chatcmpl-7JoNzBl9kYR72EW5yTPUgWNiiCAl...</td>\n",
       "      <td>A heavy machinery transforms the terrain by le...</td>\n",
       "      <td>...</td>\n",
       "      <td>[-0.00457278 -0.02464931 -0.00815007 ... -0.02...</td>\n",
       "      <td>[-0.00678381 -0.02734889  0.00928767 ... -0.00...</td>\n",
       "      <td>0.882420</td>\n",
       "      <td>0.029964</td>\n",
       "      <td>0.847579</td>\n",
       "      <td>-1.162783</td>\n",
       "      <td>4.0</td>\n",
       "      <td>Caption mistakenly describes the scene</td>\n",
       "      <td>There is just a yellow crane which is not desc...</td>\n",
       "      <td>Yes</td>\n",
       "    </tr>\n",
       "    <tr>\n",
       "      <th>1</th>\n",
       "      <td>cleaning_flickr-8-1-3-5-0-3-6-5-5681350365_13.mp4</td>\n",
       "      <td>https://data.csail.mit.edu/soundnet/actions3/c...</td>\n",
       "      <td>0.989171</td>\n",
       "      <td>-0.000284</td>\n",
       "      <td>the lady is washing her camera off under the b...</td>\n",
       "      <td>The new and improved Canon camera  It is water...</td>\n",
       "      <td>['washing', 'rinsing', 'cleaning']</td>\n",
       "      <td>washing, rinsing, cleaning</td>\n",
       "      <td>[{'id': 'chatcmpl-7JoLYcRy5uljy9WtEXAFW2zeUDn6...</td>\n",
       "      <td>Testing the durability of the upgraded Canon c...</td>\n",
       "      <td>...</td>\n",
       "      <td>[-0.00300088  0.02196193 -0.00965095 ... -0.00...</td>\n",
       "      <td>[ 0.01005147  0.00331997 -0.00527329 ... -0.02...</td>\n",
       "      <td>0.906366</td>\n",
       "      <td>0.062259</td>\n",
       "      <td>0.830535</td>\n",
       "      <td>-1.217981</td>\n",
       "      <td>3.0</td>\n",
       "      <td>Caption does not describe the scene (subjective)</td>\n",
       "      <td>NaN</td>\n",
       "      <td>Maybe</td>\n",
       "    </tr>\n",
       "    <tr>\n",
       "      <th>2</th>\n",
       "      <td>riding_4-4-6-4999054446.mp4</td>\n",
       "      <td>https://data.csail.mit.edu/soundnet/actions3/r...</td>\n",
       "      <td>0.779686</td>\n",
       "      <td>-0.002241</td>\n",
       "      <td>the camera sits behind a vehicle of some sort ...</td>\n",
       "      <td>point of view from the bed of an old pickup truck</td>\n",
       "      <td>['riding', 'sitting', 'driving', 'wearing', 's...</td>\n",
       "      <td>riding, sitting, driving, wearing, swerving</td>\n",
       "      <td>[{'id': 'chatcmpl-7K6dWwoKfRfEhM9wr989uVcSTsJP...</td>\n",
       "      <td>Experience the thrill of a rural ride on the b...</td>\n",
       "      <td>...</td>\n",
       "      <td>[ 0.02562682 -0.01268798  0.00180715 ...  0.01...</td>\n",
       "      <td>[ 0.00071028 -0.01052072  0.02023781 ... -0.00...</td>\n",
       "      <td>0.896447</td>\n",
       "      <td>0.057794</td>\n",
       "      <td>0.829158</td>\n",
       "      <td>-1.164290</td>\n",
       "      <td>4.0</td>\n",
       "      <td>Caption mistakenly describes the scene</td>\n",
       "      <td>NaN</td>\n",
       "      <td>Yes</td>\n",
       "    </tr>\n",
       "    <tr>\n",
       "      <th>3</th>\n",
       "      <td>talking_flickr-0-6-6-5-3-4-0-2-7606653402_59.mp4</td>\n",
       "      <td>https://data.csail.mit.edu/soundnet/actions3/t...</td>\n",
       "      <td>0.804864</td>\n",
       "      <td>-0.000695</td>\n",
       "      <td>a woman wearing glasses is sitting up close to...</td>\n",
       "      <td>A young girl complaining how little she does i...</td>\n",
       "      <td>['talking', 'speaking']</td>\n",
       "      <td>talking, speaking</td>\n",
       "      <td>[{'id': 'chatcmpl-7KCFCYJGrLttc0G7uSKb8YkNOthR...</td>\n",
       "      <td>A young cheerleader expressing her disappointm...</td>\n",
       "      <td>...</td>\n",
       "      <td>[-0.01980111 -0.00081296  0.01562432 ...  0.00...</td>\n",
       "      <td>[-0.03493531 -0.01338248 -0.00046222 ... -0.00...</td>\n",
       "      <td>0.849817</td>\n",
       "      <td>0.081768</td>\n",
       "      <td>0.750325</td>\n",
       "      <td>-1.216754</td>\n",
       "      <td>6.0</td>\n",
       "      <td>Caption refers to audio</td>\n",
       "      <td>NaN</td>\n",
       "      <td>Maybe</td>\n",
       "    </tr>\n",
       "    <tr>\n",
       "      <th>4</th>\n",
       "      <td>closing_flickr-1-5-6-3-7-2-7-7-14915637277_12.mp4</td>\n",
       "      <td>https://data.csail.mit.edu/soundnet/actions3/c...</td>\n",
       "      <td>0.664634</td>\n",
       "      <td>-0.001505</td>\n",
       "      <td>people swimming under the water is blue and wh...</td>\n",
       "      <td>happiness happiness cleanliness and good view ...</td>\n",
       "      <td>['standing', 'flowing']</td>\n",
       "      <td>standing, flowing</td>\n",
       "      <td>[{'id': 'chatcmpl-7JosMa8WimXqpkfi7M6DIKVQVPtA...</td>\n",
       "      <td>Enjoying the beautiful surroundings with a ple...</td>\n",
       "      <td>...</td>\n",
       "      <td>[ 0.02682773  0.00394008  0.01174528 ... -0.00...</td>\n",
       "      <td>[ 0.01002434  0.01233364  0.01532598 ... -0.00...</td>\n",
       "      <td>0.852439</td>\n",
       "      <td>0.087465</td>\n",
       "      <td>0.746024</td>\n",
       "      <td>-1.216661</td>\n",
       "      <td>3.0</td>\n",
       "      <td>Caption does not describe the scene (subjective)</td>\n",
       "      <td>NaN</td>\n",
       "      <td>Maybe</td>\n",
       "    </tr>\n",
       "  </tbody>\n",
       "</table>\n",
       "<p>5 rows × 23 columns</p>\n",
       "</div>"
      ],
      "text/plain": [
       "                                            filename  \\\n",
       "0   clearing_flickr-8-7-9-7-5-1-1-1-5187975111_8.mp4   \n",
       "1  cleaning_flickr-8-1-3-5-0-3-6-5-5681350365_13.mp4   \n",
       "2                        riding_4-4-6-4999054446.mp4   \n",
       "3   talking_flickr-0-6-6-5-3-4-0-2-7606653402_59.mp4   \n",
       "4  closing_flickr-1-5-6-3-7-2-7-7-14915637277_12.mp4   \n",
       "\n",
       "                                                 url  mem_score     alpha  \\\n",
       "0  https://data.csail.mit.edu/soundnet/actions3/c...   0.837529 -0.001939   \n",
       "1  https://data.csail.mit.edu/soundnet/actions3/c...   0.989171 -0.000284   \n",
       "2  https://data.csail.mit.edu/soundnet/actions3/r...   0.779686 -0.002241   \n",
       "3  https://data.csail.mit.edu/soundnet/actions3/t...   0.804864 -0.000695   \n",
       "4  https://data.csail.mit.edu/soundnet/actions3/c...   0.664634 -0.001505   \n",
       "\n",
       "                                   audio_description  \\\n",
       "0  this is a video of a bulldozer knocking down t...   \n",
       "1  the lady is washing her camera off under the b...   \n",
       "2  the camera sits behind a vehicle of some sort ...   \n",
       "3  a woman wearing glasses is sitting up close to...   \n",
       "4  people swimming under the water is blue and wh...   \n",
       "\n",
       "                                            captions  \\\n",
       "0  A construction site is going underway and is d...   \n",
       "1  The new and improved Canon camera  It is water...   \n",
       "2  point of view from the bed of an old pickup truck   \n",
       "3  A young girl complaining how little she does i...   \n",
       "4  happiness happiness cleanliness and good view ...   \n",
       "\n",
       "                                       action_labels  \\\n",
       "0  ['ing', 'clearing', 'bulldozing', 'destroying'...   \n",
       "1                 ['washing', 'rinsing', 'cleaning']   \n",
       "2  ['riding', 'sitting', 'driving', 'wearing', 's...   \n",
       "3                            ['talking', 'speaking']   \n",
       "4                            ['standing', 'flowing']   \n",
       "\n",
       "                                           actions  \\\n",
       "0  ing, clearing, bulldozing, destroying, knocking   \n",
       "1                       washing, rinsing, cleaning   \n",
       "2      riding, sitting, driving, wearing, swerving   \n",
       "3                                talking, speaking   \n",
       "4                                standing, flowing   \n",
       "\n",
       "                                           responses  \\\n",
       "0  [{'id': 'chatcmpl-7JoNzBl9kYR72EW5yTPUgWNiiCAl...   \n",
       "1  [{'id': 'chatcmpl-7JoLYcRy5uljy9WtEXAFW2zeUDn6...   \n",
       "2  [{'id': 'chatcmpl-7K6dWwoKfRfEhM9wr989uVcSTsJP...   \n",
       "3  [{'id': 'chatcmpl-7KCFCYJGrLttc0G7uSKb8YkNOthR...   \n",
       "4  [{'id': 'chatcmpl-7JosMa8WimXqpkfi7M6DIKVQVPtA...   \n",
       "\n",
       "                                          recaptions  ...  \\\n",
       "0  A heavy machinery transforms the terrain by le...  ...   \n",
       "1  Testing the durability of the upgraded Canon c...  ...   \n",
       "2  Experience the thrill of a rural ride on the b...  ...   \n",
       "3  A young cheerleader expressing her disappointm...  ...   \n",
       "4  Enjoying the beautiful surroundings with a ple...  ...   \n",
       "\n",
       "                           openai_caption_embeddings  \\\n",
       "0  [-0.00457278 -0.02464931 -0.00815007 ... -0.02...   \n",
       "1  [-0.00300088  0.02196193 -0.00965095 ... -0.00...   \n",
       "2  [ 0.02562682 -0.01268798  0.00180715 ...  0.01...   \n",
       "3  [-0.01980111 -0.00081296  0.01562432 ...  0.00...   \n",
       "4  [ 0.02682773  0.00394008  0.01174528 ... -0.00...   \n",
       "\n",
       "                         openai_recaption_embeddings mean_emb_distance_video  \\\n",
       "0  [-0.00678381 -0.02734889  0.00928767 ... -0.00...                0.882420   \n",
       "1  [ 0.01005147  0.00331997 -0.00527329 ... -0.02...                0.906366   \n",
       "2  [ 0.00071028 -0.01052072  0.02023781 ... -0.00...                0.896447   \n",
       "3  [-0.03493531 -0.01338248 -0.00046222 ... -0.00...                0.849817   \n",
       "4  [ 0.01002434  0.01233364  0.01532598 ... -0.00...                0.852439   \n",
       "\n",
       "  std_emb_distance_video mean_emb_distance  caption_z_score  ERROR ID  \\\n",
       "0               0.029964          0.847579        -1.162783       4.0   \n",
       "1               0.062259          0.830535        -1.217981       3.0   \n",
       "2               0.057794          0.829158        -1.164290       4.0   \n",
       "3               0.081768          0.750325        -1.216754       6.0   \n",
       "4               0.087465          0.746024        -1.216661       3.0   \n",
       "\n",
       "                                              ERROR  \\\n",
       "0            Caption mistakenly describes the scene   \n",
       "1  Caption does not describe the scene (subjective)   \n",
       "2            Caption mistakenly describes the scene   \n",
       "3                           Caption refers to audio   \n",
       "4  Caption does not describe the scene (subjective)   \n",
       "\n",
       "                                            Comments  Remove?  \n",
       "0  There is just a yellow crane which is not desc...      Yes  \n",
       "1                                                NaN    Maybe  \n",
       "2                                                NaN      Yes  \n",
       "3                                                NaN    Maybe  \n",
       "4                                                NaN    Maybe  \n",
       "\n",
       "[5 rows x 23 columns]"
      ]
     },
     "execution_count": 4,
     "metadata": {},
     "output_type": "execute_result"
    }
   ],
   "source": [
    "# Read just first page from excel file\n",
    "df = pd.read_excel(os.path.join(BASE_DIR, 'data/processed/memento_data_recaption_exp_emb_z_score_openai_embs.xlsx'), sheet_name='in')\n",
    "print(df.shape)\n",
    "df.head()"
   ]
  },
  {
   "cell_type": "code",
   "execution_count": 5,
   "metadata": {},
   "outputs": [],
   "source": [
    "df['captions_emb_path'] = df['captions_emb_path'].apply(lambda x: os.path.join(BASE_DIR, x))"
   ]
  },
  {
   "cell_type": "code",
   "execution_count": 6,
   "metadata": {},
   "outputs": [
    {
     "data": {
      "text/plain": [
       "count    226.000000\n",
       "mean       3.048673\n",
       "std        2.042291\n",
       "min        1.000000\n",
       "25%        1.000000\n",
       "50%        3.000000\n",
       "75%        4.000000\n",
       "max       10.000000\n",
       "Name: ERROR ID, dtype: float64"
      ]
     },
     "execution_count": 6,
     "metadata": {},
     "output_type": "execute_result"
    }
   ],
   "source": [
    "df['ERROR ID'].describe()"
   ]
  },
  {
   "cell_type": "code",
   "execution_count": 7,
   "metadata": {},
   "outputs": [],
   "source": [
    "# Error ID is a categorical variable\n",
    "# df['ERROR ID'] = df['ERROR ID'].astype('category')\n",
    "# Show category distribution\n",
    "# df['ERROR ID'].value_counts().plot(kind='bar')"
   ]
  },
  {
   "cell_type": "code",
   "execution_count": 8,
   "metadata": {},
   "outputs": [
    {
     "data": {
      "text/html": [
       "<div>\n",
       "<style scoped>\n",
       "    .dataframe tbody tr th:only-of-type {\n",
       "        vertical-align: middle;\n",
       "    }\n",
       "\n",
       "    .dataframe tbody tr th {\n",
       "        vertical-align: top;\n",
       "    }\n",
       "\n",
       "    .dataframe thead th {\n",
       "        text-align: right;\n",
       "    }\n",
       "</style>\n",
       "<table border=\"1\" class=\"dataframe\">\n",
       "  <thead>\n",
       "    <tr style=\"text-align: right;\">\n",
       "      <th></th>\n",
       "      <th>ERROR ID</th>\n",
       "      <th>ERROR</th>\n",
       "    </tr>\n",
       "  </thead>\n",
       "  <tbody>\n",
       "    <tr>\n",
       "      <th>20</th>\n",
       "      <td>1.0</td>\n",
       "      <td>No error</td>\n",
       "    </tr>\n",
       "    <tr>\n",
       "      <th>5</th>\n",
       "      <td>2.0</td>\n",
       "      <td>Caption focuses on a different part of the scene</td>\n",
       "    </tr>\n",
       "    <tr>\n",
       "      <th>1</th>\n",
       "      <td>3.0</td>\n",
       "      <td>Caption does not describe the scene (subjective)</td>\n",
       "    </tr>\n",
       "    <tr>\n",
       "      <th>0</th>\n",
       "      <td>4.0</td>\n",
       "      <td>Caption mistakenly describes the scene</td>\n",
       "    </tr>\n",
       "    <tr>\n",
       "      <th>11</th>\n",
       "      <td>5.0</td>\n",
       "      <td>Caption does not belong to video</td>\n",
       "    </tr>\n",
       "    <tr>\n",
       "      <th>3</th>\n",
       "      <td>6.0</td>\n",
       "      <td>Caption refers to audio</td>\n",
       "    </tr>\n",
       "    <tr>\n",
       "      <th>13</th>\n",
       "      <td>7.0</td>\n",
       "      <td>Caption has a typo</td>\n",
       "    </tr>\n",
       "    <tr>\n",
       "      <th>26</th>\n",
       "      <td>8.0</td>\n",
       "      <td>Playback error</td>\n",
       "    </tr>\n",
       "    <tr>\n",
       "      <th>10</th>\n",
       "      <td>9.0</td>\n",
       "      <td>Caption includes external context</td>\n",
       "    </tr>\n",
       "    <tr>\n",
       "      <th>156</th>\n",
       "      <td>10.0</td>\n",
       "      <td>Unknown - Corrupt video</td>\n",
       "    </tr>\n",
       "    <tr>\n",
       "      <th>226</th>\n",
       "      <td>NaN</td>\n",
       "      <td>NaN</td>\n",
       "    </tr>\n",
       "  </tbody>\n",
       "</table>\n",
       "</div>"
      ],
      "text/plain": [
       "     ERROR ID                                             ERROR\n",
       "20        1.0                                          No error\n",
       "5         2.0  Caption focuses on a different part of the scene\n",
       "1         3.0  Caption does not describe the scene (subjective)\n",
       "0         4.0            Caption mistakenly describes the scene\n",
       "11        5.0                  Caption does not belong to video\n",
       "3         6.0                           Caption refers to audio\n",
       "13        7.0                                Caption has a typo\n",
       "26        8.0                                    Playback error\n",
       "10        9.0                 Caption includes external context\n",
       "156      10.0                           Unknown - Corrupt video\n",
       "226       NaN                                               NaN"
      ]
     },
     "execution_count": 8,
     "metadata": {},
     "output_type": "execute_result"
    }
   ],
   "source": [
    "# Show mapping between error id and error description\n",
    "df[['ERROR ID', 'ERROR']].drop_duplicates().sort_values(by='ERROR ID')"
   ]
  },
  {
   "cell_type": "code",
   "execution_count": 9,
   "metadata": {},
   "outputs": [
    {
     "data": {
      "text/plain": [
       "<Axes: xlabel='ERROR ID'>"
      ]
     },
     "execution_count": 9,
     "metadata": {},
     "output_type": "execute_result"
    },
    {
     "data": {
      "image/png": "[encoded data removed]",
      "text/plain": [
       "<Figure size 640x480 with 1 Axes>"
      ]
     },
     "metadata": {},
     "output_type": "display_data"
    }
   ],
   "source": [
    "df['ERROR ID'].value_counts().plot(kind='bar')"
   ]
  },
  {
   "cell_type": "code",
   "execution_count": 10,
   "metadata": {},
   "outputs": [
    {
     "name": "stdout",
     "output_type": "stream",
     "text": [
      "                                                                        captions  \\\n",
      "156  A man with a yellow shirt looks into the camera as it moves around the room   \n",
      "\n",
      "                                                                audio_description  \n",
      "156  a family sitting down to dinner a woman is sitting down eating with the fork  \n"
     ]
    }
   ],
   "source": [
    "pd.set_option('display.max_colwidth', None)\n",
    "print(df[df['ERROR ID'] == 10][['captions','audio_description']])\n",
    "pd.reset_option('display.max_colwidth')"
   ]
  },
  {
   "cell_type": "code",
   "execution_count": 11,
   "metadata": {},
   "outputs": [],
   "source": [
    "# Assign the sample with error id 10 to error id 4\n",
    "df.loc[df['ERROR ID'] == 10, 'ERROR ID'] = 4\n",
    "df['ERROR ID'] = df['ERROR ID'].astype('category')"
   ]
  },
  {
   "cell_type": "code",
   "execution_count": 12,
   "metadata": {},
   "outputs": [
    {
     "name": "stderr",
     "output_type": "stream",
     "text": [
      "/tmp/ipykernel_117189/1781534301.py:2: SettingWithCopyWarning: \n",
      "A value is trying to be set on a copy of a slice from a DataFrame.\n",
      "Try using .loc[row_indexer,col_indexer] = value instead\n",
      "\n",
      "See the caveats in the documentation: https://pandas.pydata.org/pandas-docs/stable/user_guide/indexing.html#returning-a-view-versus-a-copy\n",
      "  df_filtered['ERROR ID'] = df_filtered['ERROR ID'].astype('category')\n"
     ]
    },
    {
     "data": {
      "text/plain": [
       "(226, 23)"
      ]
     },
     "execution_count": 12,
     "metadata": {},
     "output_type": "execute_result"
    }
   ],
   "source": [
    "df_filtered = df[df['ERROR ID'].notnull()]\n",
    "df_filtered['ERROR ID'] = df_filtered['ERROR ID'].astype('category')\n",
    "df_filtered.shape"
   ]
  },
  {
   "cell_type": "code",
   "execution_count": 13,
   "metadata": {},
   "outputs": [
    {
     "name": "stderr",
     "output_type": "stream",
     "text": [
      "/tmp/ipykernel_117189/664958976.py:3: SettingWithCopyWarning: \n",
      "A value is trying to be set on a copy of a slice from a DataFrame.\n",
      "Try using .loc[row_indexer,col_indexer] = value instead\n",
      "\n",
      "See the caveats in the documentation: https://pandas.pydata.org/pandas-docs/stable/user_guide/indexing.html#returning-a-view-versus-a-copy\n",
      "  df_filtered['openai_caption_embeddings'] = df_filtered['captions_emb_path'].apply(lambda x: np.load(x))\n"
     ]
    },
    {
     "data": {
      "text/html": [
       "<div>\n",
       "<style scoped>\n",
       "    .dataframe tbody tr th:only-of-type {\n",
       "        vertical-align: middle;\n",
       "    }\n",
       "\n",
       "    .dataframe tbody tr th {\n",
       "        vertical-align: top;\n",
       "    }\n",
       "\n",
       "    .dataframe thead th {\n",
       "        text-align: right;\n",
       "    }\n",
       "</style>\n",
       "<table border=\"1\" class=\"dataframe\">\n",
       "  <thead>\n",
       "    <tr style=\"text-align: right;\">\n",
       "      <th></th>\n",
       "      <th>pc1</th>\n",
       "      <th>pc2</th>\n",
       "      <th>pc3</th>\n",
       "    </tr>\n",
       "  </thead>\n",
       "  <tbody>\n",
       "    <tr>\n",
       "      <th>0</th>\n",
       "      <td>-0.027909</td>\n",
       "      <td>0.096129</td>\n",
       "      <td>-0.022402</td>\n",
       "    </tr>\n",
       "    <tr>\n",
       "      <th>1</th>\n",
       "      <td>0.133402</td>\n",
       "      <td>0.034492</td>\n",
       "      <td>-0.085798</td>\n",
       "    </tr>\n",
       "    <tr>\n",
       "      <th>2</th>\n",
       "      <td>0.081848</td>\n",
       "      <td>0.102574</td>\n",
       "      <td>-0.071739</td>\n",
       "    </tr>\n",
       "    <tr>\n",
       "      <th>3</th>\n",
       "      <td>-0.034738</td>\n",
       "      <td>-0.147649</td>\n",
       "      <td>0.040898</td>\n",
       "    </tr>\n",
       "    <tr>\n",
       "      <th>4</th>\n",
       "      <td>0.299240</td>\n",
       "      <td>0.018377</td>\n",
       "      <td>0.129693</td>\n",
       "    </tr>\n",
       "  </tbody>\n",
       "</table>\n",
       "</div>"
      ],
      "text/plain": [
       "        pc1       pc2       pc3\n",
       "0 -0.027909  0.096129 -0.022402\n",
       "1  0.133402  0.034492 -0.085798\n",
       "2  0.081848  0.102574 -0.071739\n",
       "3 -0.034738 -0.147649  0.040898\n",
       "4  0.299240  0.018377  0.129693"
      ]
     },
     "execution_count": 13,
     "metadata": {},
     "output_type": "execute_result"
    }
   ],
   "source": [
    "# PCA of openai caption embeddings for df_filtered\n",
    "from sklearn.decomposition import PCA\n",
    "df_filtered['openai_caption_embeddings'] = df_filtered['captions_emb_path'].apply(lambda x: np.load(x))\n",
    "pca = PCA(n_components=3)\n",
    "principalComponents = pca.fit_transform(df_filtered['openai_caption_embeddings'].tolist())\n",
    "principalDf = pd.DataFrame(data = principalComponents, columns = ['pc1', 'pc2', 'pc3'])\n",
    "principalDf.head()"
   ]
  },
  {
   "cell_type": "code",
   "execution_count": 14,
   "metadata": {},
   "outputs": [
    {
     "name": "stdout",
     "output_type": "stream",
     "text": [
      "Explained variation per principal component: [0.04336461 0.0372459  0.03154269]\n"
     ]
    }
   ],
   "source": [
    "print('Explained variation per principal component: {}'.format(pca.explained_variance_ratio_))"
   ]
  },
  {
   "cell_type": "code",
   "execution_count": 15,
   "metadata": {},
   "outputs": [
    {
     "data": {
      "application/vnd.plotly.v1+json": {
       "config": {
        "plotlyServerURL": "https://plot.ly"
       },
       "data": [
        {
         "hovertemplate": "<b>%{hovertext}</b><br><br>color=Caption mistakenly describes the scene<br>pc1=%{x}<br>pc2=%{y}<br>pc3=%{z}<br>size=%{marker.size}<extra></extra>",
         "hovertext": [
          "A construction site is going underway and is developing land",
          "point of view from the bed of an old pickup truck",
          "Pitch black dark night with flashlights to guide you along the shore line as the water breaks at the shore",
          "A person on the sidewalk wearing a green shirt with white buckets",
          "A man riding a bicycle on the highway while wearing a helmet",
          "A swan is in a pond with its neck buried under the water",
          "a bird flies across the sky while people fish in the water below it",
          "a few people enjoy the party of a person that is with them",
          "Rams quarterback scores yet again during yesterdays game at the field",
          "A group of people wearing red shirt long pants and a brown hat",
          "someone who is showing a product and how to use it",
          "A person with long hair and baggy clothes sitting on a couch",
          "A stretch of water being filmed from a boat with homes and trees lining the shore",
          "a person takes a cup and pours it into a pink item",
          "Two teams of baseball players on the court during a baseball game",
          "It is dark at the beach the waves arent rough as they crash against an island",
          "two people at a party of some sort and serving refreshments",
          "a group of people sit on chairs outside in the daytime",
          "A dog leans its head out the window into the rain and tries to drink rain",
          "a person goes around and moves another person in the room",
          "White tulle with a sequin rainbow sheen is draped artistically against a black background",
          "A skate is show floating very close to the ocean floor",
          "In the white background many portions of whiteout are filling the scene",
          "A prisoner attempts a daring escape being lifted by helicopter",
          "A pair of hands are seen crumbling up flower petals",
          "A group of people wearing white suits in a type of competition",
          "A grey small car on the street in front of it is a street sign",
          "A dog with a vest on is looking at a tree and then walking",
          "A little boy and a little girl dancing and playing with balloons"
         ],
         "legendgroup": "Caption mistakenly describes the scene",
         "marker": {
          "color": "#636efa",
          "size": [
           0.8375294504,
           0.7796856625,
           0.6004157975,
           0.9247365896,
           0.674878469,
           0.6911434916,
           0.8779836442,
           0.8008999997,
           0.6423075076,
           0.8888293979,
           0.9674052409,
           0.8236103153,
           0.6570863632,
           0.7749276779,
           0.7208129804,
           0.6062695832,
           0.801958458,
           0.8414105411,
           0.8337442439,
           0.9342076142,
           0.9453080832,
           0.8969324132,
           0.6646015482,
           0.8800775557,
           0.955612528,
           0.8301861334,
           0.8196530429,
           0.7277205737,
           0.6646967938
          ],
          "sizemode": "area",
          "sizeref": 0.00247292655325,
          "symbol": "circle"
         },
         "mode": "markers",
         "name": "Caption mistakenly describes the scene",
         "scene": "scene",
         "showlegend": true,
         "type": "scatter3d",
         "x": [
          -0.027909164585109437,
          0.0818484806584664,
          0.006906581649364408,
          -0.08082478825718639,
          -0.08278674761561469,
          0.018650922486758096,
          -0.007207536256406593,
          -0.030595775718328593,
          -0.05912779681307574,
          -0.12496403226506111,
          0.01021481624082436,
          -0.016939140093110816,
          0.060199379471197786,
          0.012406817126257887,
          -0.17872490536468177,
          0.056969747958315047,
          -0.11322628050596889,
          -0.05146411846592312,
          0.0587003795135462,
          -0.13895395097014,
          0.017074691747369357,
          0.022715486799983545,
          0.008405484720255013,
          -0.07499264082171583,
          -0.027220304380643465,
          -0.1306810941586785,
          -0.016252302238919644,
          0.04113100621857815,
          -0.12390407851665072
         ],
         "y": [
          0.09612912870981581,
          0.10257359666734694,
          0.1388279203004558,
          -0.0006372717774987486,
          0.15811585547046383,
          -0.007185114107301743,
          0.0916351157044112,
          -0.04031514039228026,
          0.0038329802030725056,
          0.02541722143308969,
          -0.08004378123530281,
          -0.09588821499393632,
          0.13852155766610674,
          -0.11225378922315798,
          0.034051354751486136,
          0.08103216043323219,
          -0.0709645470930116,
          0.11617149564080227,
          -0.053406456744848396,
          -0.08180427841414349,
          -0.0414840169800598,
          0.0914426149408506,
          0.09432828897748445,
          0.06911007605790791,
          -0.020478851656451764,
          0.05316091740239258,
          0.1095660485001315,
          -0.0012551231472469288,
          -0.16509580385940154
         ],
         "z": [
          -0.022401517590097394,
          -0.07173949418958371,
          -0.023626815301280673,
          -0.010070102305534543,
          -0.07037537205112816,
          -0.12285693781294948,
          -0.02746633965827739,
          0.2330105442926649,
          0.01701585644753052,
          0.1538503402046668,
          0.0016544625003526304,
          0.024495750262999622,
          -0.02236831953914507,
          -0.07964748182378668,
          0.07880566989438899,
          -0.006777634785779756,
          0.1368397029332986,
          0.14821247930818182,
          -0.15388467420923035,
          0.014742576889358644,
          0.0031039227598936257,
          -0.10992721739048314,
          -0.05962745854501998,
          -0.09565673160831063,
          -0.06283190061942723,
          0.12234471056808131,
          -0.07858962728125013,
          -0.11276707153551346,
          0.06214507668660383
         ]
        },
        {
         "hovertemplate": "<b>%{hovertext}</b><br><br>color=Caption does not describe the scene (subjective)<br>pc1=%{x}<br>pc2=%{y}<br>pc3=%{z}<br>size=%{marker.size}<extra></extra>",
         "hovertext": [
          "The new and improved Canon camera  It is waterproof and can withstand a great amount of water pressure",
          "happiness happiness cleanliness and good view I find it very nice as the environment looks everything is very beautiful",
          "It seems very good to me since it is shown very alleges in the image",
          "It has a very nice landscape and I would like to be there is very wonderful",
          "This is what it looks like in the morning when i held my pee all night",
          "Such an aggravating taskmicrofiche You press a screen upward only for it to quickly go back down",
          "EEEKKKK Run for your life the dinosaur is after me",
          "happiness happiness cleanliness and good view I find it very nice",
          "I like them very much since everything is very clear and precise I like animals very much",
          "looking for in an image\n they are very happy and focused on what",
          "Ok which toy do I choose from There is quite the variety to choose from",
          "Suddenly Jeremy wakes and thinks Where am I how much milk did I drink and wheres my car",
          "I really like everything since it is very beautiful and",
          "OMG I hope everyone survived the helicopter plunging to the ground",
          "We bout to ride boys whose with me You hear me",
          "its Sunday and in this town everything is quiet and no one is out",
          "It is very entertaining colorful and shows a lot of interesting content that we all want to see and know more",
          "Window show of my pal he enjoys the wind blowing on his face",
          "they are having fun while practising and enjoying it nice",
          "A man moving a machinery part on his car in his fathers shop",
          "A man lets the baby lamb get a little more compared to his brothers and sisters",
          "Leave me alone peasant I am eating my meal in peace",
          "these kids get to come to the park every Friday and swing together",
          "It seems very good because it reflects everything I am",
          "Thinking about my life decisions To find a Girlfriend or play games",
          "A couple wants to see what its like to play Red Dead Redemption in real life",
          "I think its a very interesting way to see things",
          "Well nice chatting with you Time to mosey on  around these wires and visit other tables",
          "a very cool and in depth look at life in and under the water",
          "Yea go ahead and bounce to your hearts content Ill just stand her and support the arm of the couch",
          "It was a close football game last night The white team took home the victory",
          "colorful and shows a lot of interesting content that we all",
          "I find it very interesting since it shows a little about the life of animals",
          "There is nothing more enjoyable than watching a peewee ball game with the little ones playing",
          "Here little squirrel come and get your treat as it is tasty",
          "Daddys new worker Mows the grass for a kiss and a candy",
          "show how beautiful nature is and a beautiful waterfall is good",
          "You see something in red go off the screen but you cant see what because its so dark",
          "karaoke is quite easy at this bar where nobody he attends on the weekend",
          "Anchors away as we rough the seas together arm in hand",
          "It seems very good because it reflects everything I am looking",
          "At last going home after a long day cant wait to soak in the bathtub",
          "I really like everything since it is very beautiful and interesting",
          "And we have liftoff as we venture forth into the sky above",
          "It has a very nice landscape and I would like to be there is very wonderful",
          "Looks like a horror story or could it be science culture slides",
          "Kitty cat what  are you doing on my bed  Get down",
          "ready get set to run the race that is set before us",
          "Ok look you book the right team and I will book the opposite",
          "Look at the fiddlers Are they competing or dueling to a song The crowd is going wild",
          "The screen pans to the right showing how amazing nature can be"
         ],
         "legendgroup": "Caption does not describe the scene (subjective)",
         "marker": {
          "color": "#EF553B",
          "size": [
           0.9891706213,
           0.6646338186,
           0.6712279318,
           0.6985110562,
           0.9007854597,
           0.8232800392,
           0.8876102395,
           0.8248798006,
           0.8096748953,
           0.8932434554,
           0.6496834998,
           0.857505877,
           0.826166134,
           0.9229894117,
           0.7027873603,
           0.5034061025,
           0.7343080447,
           0.8056558956,
           0.7159524521,
           0.8890853519,
           0.8475424759,
           0.8266440598,
           0.7563572715,
           0.9064132979,
           0.8886223422,
           0.7456610573,
           0.9635655371,
           0.7754070956,
           0.7974579215,
           0.9018637614,
           0.7418429484,
           0.6431426143,
           0.7489827462,
           0.7696534612,
           0.8301259548,
           0.9033172792,
           0.7723195818,
           0.6252375696,
           0.6980094656,
           0.6873643337,
           0.7428423406,
           0.8536519807,
           0.6775291194,
           0.7622805591,
           0.9140083782,
           0.7882803853,
           0.7953205437,
           0.7821171912,
           0.7904525703,
           0.731935087,
           0.6455161791
          ],
          "sizemode": "area",
          "sizeref": 0.00247292655325,
          "symbol": "circle"
         },
         "mode": "markers",
         "name": "Caption does not describe the scene (subjective)",
         "scene": "scene",
         "showlegend": true,
         "type": "scatter3d",
         "x": [
          0.13340224725648825,
          0.29924002284366846,
          0.2525396379158741,
          0.2929941338057959,
          0.09377258689961182,
          0.08207072911671133,
          0.020910671278305298,
          0.28291800913637255,
          0.2788841883837427,
          0.16264914105580103,
          0.10618105864622954,
          0.030655683775142606,
          0.34902037651824097,
          0.017917820458714793,
          -0.06029467777639474,
          0.025483144785881474,
          0.2398115473460343,
          0.06040780925069825,
          -0.009919523827086846,
          -0.08148509166045362,
          -0.050109434262423175,
          0.0025247194104598175,
          -0.06605952275874859,
          0.30297425659743976,
          0.06044273156778779,
          -0.008342747635220289,
          0.25105980392666116,
          0.04650965482886602,
          0.1947199519206044,
          0.0014775999122398965,
          -0.03699257431560617,
          0.22117963267249863,
          0.2649960629665269,
          -0.020612436919026957,
          0.06119111318725904,
          -0.04010411307662622,
          0.20802499938406355,
          0.04890169319593902,
          -0.002218473247550781,
          0.004876283821232801,
          0.3349942058621181,
          0.08898936101425493,
          0.35405418908214537,
          0.018772163623291364,
          0.2929941338057959,
          0.08572135123762799,
          0.02324987366804245,
          -0.036734519212642806,
          0.01697131711152421,
          -0.10190742161189618,
          0.1583468467840303
         ],
         "y": [
          0.034492452748952865,
          0.018377367982008445,
          0.0010820219051813724,
          0.06957487786170237,
          -0.027525968425370525,
          -0.035156042725159535,
          -0.0022483558759311805,
          -0.009695824658979004,
          -0.0368380998381127,
          -0.053510625984373866,
          -0.09849838624736551,
          -0.01835716127811299,
          -0.03319837268218166,
          0.06043119614470275,
          0.051041267674506736,
          0.04155746000385584,
          -0.01453991349428068,
          -0.03481035057749964,
          -0.035506330652905684,
          -0.003413269631254592,
          -0.13452213745784877,
          -0.10173139228134086,
          -0.029119148314178965,
          -0.06160069361316457,
          -0.09866827267057722,
          0.04853220990601948,
          0.020969054331024115,
          -0.043073223254857164,
          0.045573406218763754,
          -0.12303680218933717,
          -0.013909925758432858,
          -0.019237617280960156,
          -0.030011860983257223,
          -0.07653968137286858,
          -0.119643999335769,
          -0.14764168783986464,
          0.06252419420045716,
          0.04300019402118813,
          -0.03972221563489118,
          0.01020251997011859,
          -0.02658827423247265,
          -0.03926020538224961,
          -0.01847519875397455,
          0.07554536938731234,
          0.06957487786170237,
          0.020202003594507703,
          -0.15515270180337454,
          0.07667549821767261,
          -0.012404611721934496,
          0.024473305062479387,
          0.10698999680349514
         ],
         "z": [
          -0.08579796849103097,
          0.129692713977691,
          0.022149345209390797,
          0.1064737386338538,
          -0.04683133722073249,
          -0.12592919749072204,
          -0.08582134562198854,
          0.11929869038330039,
          0.08737967819339759,
          0.07802225182408423,
          0.0072009456294985785,
          -0.12465353204186407,
          0.13582633792606022,
          -0.005999598378501057,
          0.0665044800272594,
          0.11300105558889487,
          0.1275924048183163,
          0.015622625235079386,
          0.15886671469173957,
          -0.14174578974452867,
          -0.0644703667858127,
          0.0062896395301175615,
          0.18284946566875016,
          0.089996829810273,
          0.07045775207539409,
          0.07930318258945915,
          0.07014708894014295,
          0.08595381194941563,
          -0.0007784671688568117,
          0.02044465519684276,
          0.08040464837597101,
          0.1394682098605187,
          0.03422275501543286,
          0.1277508775238077,
          -0.030501624612536984,
          -0.04801640815496169,
          0.0646718302241181,
          -0.07970500234732733,
          0.16721229633163076,
          0.009427340403998551,
          0.07731839576086429,
          0.03347296818724817,
          0.13370733504962748,
          -0.017766603428346104,
          0.1064737386338538,
          -0.03491743545877624,
          -0.09876377427306403,
          0.015298075566374799,
          0.07942152115811975,
          0.1192667847940586,
          -0.0414684598587607
         ]
        },
        {
         "hovertemplate": "<b>%{hovertext}</b><br><br>color=Caption refers to audio<br>pc1=%{x}<br>pc2=%{y}<br>pc3=%{z}<br>size=%{marker.size}<extra></extra>",
         "hovertext": [
          "A young girl complaining how little she does in cheerleading",
          "a happy man going to show more about life coaching",
          "Women laugh and talk in the background around a nighttime campfire",
          "Woman speaks in Foreign language to the viewers of the clip",
          "showing a baby happy to be with her mommy talking to her",
          "A boy holding a sparking firework gets burned and gets hurt"
         ],
         "legendgroup": "Caption refers to audio",
         "marker": {
          "color": "#00cc96",
          "size": [
           0.80486367,
           0.92773883,
           0.8276754234,
           0.8822023415,
           0.8387233374,
           0.8431552365
          ],
          "sizemode": "area",
          "sizeref": 0.00247292655325,
          "symbol": "circle"
         },
         "mode": "markers",
         "name": "Caption refers to audio",
         "scene": "scene",
         "showlegend": true,
         "type": "scatter3d",
         "x": [
          -0.03473772445059712,
          0.03703711236990858,
          -0.044363271155635285,
          -0.004240652612578252,
          0.04043225825714013,
          -0.07370854929682553
         ],
         "y": [
          -0.1476488662932558,
          -0.04268418994073199,
          0.005409751723657444,
          -0.0656616305453298,
          -0.2138970882329727,
          -0.0647080237589186
         ],
         "z": [
          0.04089760403569902,
          0.09848491955468529,
          0.1564407537285081,
          0.026846495253413594,
          0.05678934381654818,
          -0.0562668888468484
         ]
        },
        {
         "hovertemplate": "<b>%{hovertext}</b><br><br>color=Caption focuses on a different part of the scene<br>pc1=%{x}<br>pc2=%{y}<br>pc3=%{z}<br>size=%{marker.size}<extra></extra>",
         "hovertext": [
          "A lady sitting down on a bench wearing a black jacket",
          "A Dish is being thrown into a heater to be cooked",
          "this lady is holding a newborn baby with a man inside of the hospital",
          "A black door being fed by its owner putting on a red shorts",
          "some people use fire outside and put it in a barrel",
          "DJ is playing the music and a girl is dancing to it",
          "A person is recording someone as they are in a parking lot",
          "The device flips and reveals two images that become one as it speeds up",
          "a man with black boots next to a green bucket looks into his black plate",
          "A powerful waterfall is stunning So smooth until the interfiled opened peoples eyes",
          "A man in a white shirt and cap is talking to a man in a yellow shirt",
          "A person takes a spoon and stirs the contents of a boiling pot",
          "A cat with green eyes and stripes is licking water",
          "A little girl wearing a red sweater trips after a girl beside her falls",
          "The model explodes into expression as the next model waits anxiously",
          "Some people are prodding with tools at a white surface overhead",
          "The camera pans upward from the cats paws to its head",
          "A group of people are sitting at tables while watching two girls talking",
          "Showing a lot of derby cars that are together on the left side one is smoking on the hood",
          "point of view from a dash cam in a large city",
          "A band in the middle of a green field playing their instruments for the audience",
          "Cars are driving down the road and a white thing is seemingly hanging above the road just floating",
          "a person standing at first then trying to roller skate",
          "A machine moves while cutting a product and spraying liquid",
          "On a cloudy day you can see cars driving around a town ",
          "A girl with curly hair and a blue suit sitting on  a chair",
          "A carpenter doing some finishing on a chair that he has just constructed",
          "A young child wearing a black and white hoodie is running to something",
          "Many motorcyclists drive under an underpass and follow the roads curve off into the distance",
          "A young girl is swinging in a child swing with wood chips behind her",
          "Valentines day celebration for his spouse A jewelry gift was given to celebrate the occasion",
          "An overhead view of a marching band standing on the street in red shirts",
          "A group of people in a field witness a large explosion",
          "The arm of the machinery extends beyond the border made of railroad ties",
          "A dog is lying and its back on a hard floor barking at the sky",
          "a black and white cat drinks water while the black and brown cat looks through the glass",
          "a boy with a beanie on looks over to where the girl is in the car",
          "Driving down a paved country road in the woods Will a bear jump out A deer",
          "Multiple slots charge all your gadget in one place keep it from being all over",
          "A man in a black jacket is walking around a group of women talking",
          "A blonde baby with a blue bib and white shirt",
          "a person wearing red steers a blue boat towards a dock",
          "A woman sits on a chair as she looks at the other vehicles",
          "Lights and flicking on and off and different colors while a band plays on stage",
          "The camera fades back from a large crowd of people and reveals a road",
          "a man rides a horse around some dirt in the daytime",
          "A group of dancing bears are on a stage with the words Mama Mia lit up behind them",
          "A child is enclosed in a multi colored plastic fence",
          "a flagbearer leads his group in a parade down a city street"
         ],
         "legendgroup": "Caption focuses on a different part of the scene",
         "marker": {
          "color": "#ab63fa",
          "size": [
           0.8389934285,
           0.9166570948,
           0.888965501,
           0.8540227389,
           0.6187774475,
           0.6886890916,
           0.929106717,
           0.9688891214,
           0.8015448086,
           0.6548812583,
           0.6982056767,
           0.8457195908,
           0.9557820164,
           0.9542160773,
           0.8987697959,
           0.7189253108,
           0.7905196123,
           0.8250996441,
           0.531041844,
           0.5760730698,
           0.7624270014,
           0.531329648,
           0.7234373873,
           0.593919182,
           0.8501722728,
           0.8400618686,
           0.9799727628,
           0.6896257327,
           0.8027768417,
           0.8044200536,
           0.8508632271,
           0.848917664,
           0.8225514502,
           0.8616885757,
           0.8576368831,
           0.7404055643,
           0.7614264645,
           0.8336662682,
           0.9354663542,
           0.8644533768,
           0.8241567772,
           0.6326732017,
           0.8550794874,
           0.7306720628,
           0.632654174,
           0.7119407694,
           0.8248488217,
           0.7862316045,
           0.7706575948
          ],
          "sizemode": "area",
          "sizeref": 0.00247292655325,
          "symbol": "circle"
         },
         "mode": "markers",
         "name": "Caption focuses on a different part of the scene",
         "scene": "scene",
         "showlegend": true,
         "type": "scatter3d",
         "x": [
          -0.041183404018091375,
          -0.05084162927109205,
          -0.05840622558193974,
          -0.042954725347631194,
          -0.059767119211108916,
          -0.0979625194898789,
          -0.09786939360442737,
          0.06561015808506415,
          -0.019794701166664267,
          0.1307978625260672,
          -0.11241171704645114,
          -0.0656372858927879,
          0.0788329195261359,
          -0.11238401947215873,
          0.02429191118093223,
          -0.0945322116152442,
          0.07719536881866895,
          -0.07788780071150282,
          -0.01497904277730874,
          0.06739278380019662,
          -0.1162377062604366,
          -0.011631251376439897,
          -0.10941443925271647,
          -0.027378740207898215,
          0.00830604982756123,
          -0.020520062677268355,
          -0.023372105848850657,
          -0.08232703150521997,
          -0.051003857428569666,
          -0.0715727152064521,
          -0.006433441928463359,
          -0.13265485557594536,
          -0.09349940434080592,
          -0.04539265864856642,
          0.036148816835560836,
          0.06784216655135011,
          -0.032965773006538655,
          0.009084353236267297,
          0.06941393762681677,
          -0.11475791592944705,
          -0.02199717038067724,
          -0.022594821624057383,
          0.040592642921933465,
          -0.05688996231690963,
          0.007777518562058103,
          -0.03722318496358734,
          -0.043153039826450516,
          -0.05432296957606056,
          -0.10068310187342944
         ],
         "y": [
          -0.05518895307842677,
          -0.0438362955965444,
          -0.1413563828076385,
          -0.07304082333463814,
          0.03996922947188917,
          -0.12169116438446824,
          0.03096810985590778,
          0.07997592692254599,
          -0.013121051591445552,
          0.13854300826289853,
          -0.019765113329431944,
          -0.07911941106535894,
          -0.13349825853828928,
          -0.11152791370137974,
          -0.038540586919852286,
          0.010143930596797184,
          -0.048319798141317594,
          -0.04897986424675563,
          0.12394479913666921,
          0.17788916394373902,
          0.06412637392648247,
          0.15733594824124178,
          -0.022281834414272048,
          0.0064612453986464344,
          0.20511220093655724,
          -0.14793452890191677,
          -0.09162691799869994,
          -0.09573110035869112,
          0.27869750048906167,
          -0.11326827133449449,
          -0.1207108114308627,
          0.10357442800224649,
          0.14871062397835622,
          0.09633493694084433,
          -0.0611694240167804,
          -0.09919728573376839,
          -0.04169795955244266,
          0.12474727510011789,
          -0.004758715302980865,
          -0.01819093621123068,
          -0.18562172170273603,
          0.07784985836657035,
          0.04766837634608022,
          0.035094035158015534,
          0.21792596903161107,
          0.10332837649129978,
          -0.042398423429961224,
          -0.08303807145150216,
          0.10001043960948884
         ],
         "z": [
          0.04180963935141464,
          -0.10968963607308387,
          0.036785361424977826,
          -0.0564956489049288,
          0.039175386738484655,
          0.08954667472514888,
          -0.01905887275070595,
          -0.1420566695103117,
          -0.07571019558739625,
          -0.01853196154940988,
          0.05581025530008314,
          -0.11480863010335544,
          -0.13350144249620371,
          -0.042437345878026486,
          -0.0902110406679897,
          -0.05205800007122154,
          -0.17057681662936489,
          0.16906254484380903,
          -0.029725812406897086,
          -0.04756133027090193,
          0.17175368598899232,
          -0.14679525696584178,
          -0.07140662490125572,
          -0.14790552969975318,
          -0.04886378924403582,
          0.03611010823502218,
          -0.06198015035379264,
          -0.10400488532960638,
          -0.048542096182930476,
          -0.0064830269080505005,
          0.05870237967518065,
          0.09617021113094626,
          0.02726487889736751,
          -0.12945309924553502,
          -0.11331043836839289,
          -0.08864968272890404,
          -0.03366497943993382,
          -0.09423001893712683,
          -0.010524092575248082,
          0.08853104026482882,
          -0.044885597871431836,
          -0.06093366546987819,
          -0.03471942149422972,
          0.08906130737459494,
          -0.024491967703316197,
          -0.03809048752205578,
          0.13633231168680823,
          -0.0722256612906272,
          0.08285898848505158
         ]
        },
        {
         "hovertemplate": "<b>%{hovertext}</b><br><br>color=Caption includes external context<br>pc1=%{x}<br>pc2=%{y}<br>pc3=%{z}<br>size=%{marker.size}<extra></extra>",
         "hovertext": [
          "A scene from the movie Social Network in which a man talks to a woman",
          "You are seeing the forest fires from California I presume",
          "A man giving the introductions to the band getting ready to play their set",
          "someone riding by the Louvre at night on a bicycle"
         ],
         "legendgroup": "Caption includes external context",
         "marker": {
          "color": "#FFA15A",
          "size": [
           0.9669630553,
           0.7147326723,
           0.7961571023,
           0.7487577812
          ],
          "sizemode": "area",
          "sizeref": 0.00247292655325,
          "symbol": "circle"
         },
         "mode": "markers",
         "name": "Caption includes external context",
         "scene": "scene",
         "showlegend": true,
         "type": "scatter3d",
         "x": [
          -0.020570206979214068,
          0.060335817104253286,
          -0.12758763268243903,
          -0.004536592023310699
         ],
         "y": [
          -0.07272938910508109,
          0.13620969251361967,
          -0.02845970210116573,
          0.13667051027510183
         ],
         "z": [
          0.0767584560865293,
          0.004256893535092807,
          0.14427026378769867,
          0.008612967901307913
         ]
        },
        {
         "hovertemplate": "<b>%{hovertext}</b><br><br>color=Caption does not belong to video<br>pc1=%{x}<br>pc2=%{y}<br>pc3=%{z}<br>size=%{marker.size}<extra></extra>",
         "hovertext": [
          "A woman is not very happy with what she has seen on her computer screen and needs to focus more on cleaning",
          "a person is showing someone something that is in the water",
          "soldiers forming ranks and helping each other\n soldiers forming ranks and helping each other",
          "shows a series of cables that are in a car inside",
          "its a concert and attend many people to watch the show",
          "Three performers performing a dance and song on stage during a concert",
          "shows a dog spinning in the snow is very happy",
          "A man on a surfboard surfing on a giant wave",
          "A woman wearing a red sweater and knee pads adjusts her hair at a skating rink",
          "a statue in the museum at the chief guest and gave the prize"
         ],
         "legendgroup": "Caption does not belong to video",
         "marker": {
          "color": "#19d3f3",
          "size": [
           0.909751011,
           0.8031262333,
           0.6460053964,
           0.7888260927,
           0.8410537716,
           0.7919243808,
           0.6485963809,
           0.821205045,
           0.6423854287,
           0.8717114985
          ],
          "sizemode": "area",
          "sizeref": 0.00247292655325,
          "symbol": "circle"
         },
         "mode": "markers",
         "name": "Caption does not belong to video",
         "scene": "scene",
         "showlegend": true,
         "type": "scatter3d",
         "x": [
          0.11749360476214944,
          -0.012098975979436934,
          -0.09533908306422295,
          0.047707215470062805,
          -0.01099755384773166,
          -0.1367087866204306,
          0.08511193371782803,
          -0.043042567085463786,
          -0.09544106212871745,
          -0.014392994740444014
         ],
         "y": [
          -0.11256113791189622,
          -0.021532400792328096,
          0.02095857064289829,
          0.10216072997288682,
          0.06345540765276657,
          -0.0007696776738681607,
          -0.05646504479888333,
          0.06988946281247697,
          -0.06513792952303336,
          -0.04184633199770161
         ],
         "z": [
          -0.05373203905269165,
          -0.08195027974207814,
          0.07686965672038908,
          -0.0656786678133977,
          0.22188063208580655,
          0.1988918946302565,
          -0.04175144996051581,
          -0.05947387880077058,
          -0.0033996125069638648,
          0.0883130406480211
         ]
        },
        {
         "hovertemplate": "<b>%{hovertext}</b><br><br>color=Caption has a typo<br>pc1=%{x}<br>pc2=%{y}<br>pc3=%{z}<br>size=%{marker.size}<extra></extra>",
         "hovertext": [
          "a horse is turning a corner while being followed by more nurses",
          "a little baby sits at a little baby stool it has",
          "I think we all feel this way on Mondaya dog is laying down on a bed spread napping",
          "First Person Racing perspective on a live trackHop in and take a ride",
          "a train with many carats is moving against a railroad",
          "Driving in a busy city during rush hour after getting off workThere is a ton of traffic",
          "As I walk through the eerie winter woods I turn to check a sound and",
          "Biking fest dayJust enjoying the ride in this rainy weather",
          "a person toggles the a video game controller with one hand",
          "A video of waves created by a bot and dolphins jumping out the water",
          "A sleeping car is snuck up on by the cameraman",
          "The intently watches the laser pointers mark before reaching out to catch it"
         ],
         "legendgroup": "Caption has a typo",
         "marker": {
          "color": "#FF6692",
          "size": [
           0.9094000172,
           0.6235951897,
           0.905739089,
           0.6795930116,
           0.8649488361,
           0.8009179314,
           0.8097853091,
           0.7771100772,
           0.9294698058,
           0.8112786902,
           0.7311434169,
           0.8951877541
          ],
          "sizemode": "area",
          "sizeref": 0.00247292655325,
          "symbol": "circle"
         },
         "mode": "markers",
         "name": "Caption has a typo",
         "scene": "scene",
         "showlegend": true,
         "type": "scatter3d",
         "x": [
          -0.06379283429394936,
          0.020777223822524893,
          0.08699035118212153,
          0.006346226126450149,
          -0.04488511473171911,
          -0.013340700745329694,
          0.04296339451641325,
          -0.010944929470491024,
          -0.04852549301256349,
          0.03385160668650449,
          -0.018074229874701662,
          -0.006125040800069144
         ],
         "y": [
          0.06350667381993767,
          -0.19231681800596853,
          -0.06541074908086598,
          0.12908339491148071,
          0.13464525472715763,
          0.1606602826732336,
          0.045565662747752644,
          0.1454855639392028,
          -0.05694556013448488,
          0.05088054697519437,
          0.11673782106505394,
          -0.058213110527417816
         ],
         "z": [
          -0.05116783244615533,
          -0.05154195036473322,
          -0.02077138513550386,
          -0.03328679855149516,
          -0.06053630862049308,
          -0.03582533655074894,
          -0.0793756975188801,
          0.06781797180792853,
          -0.062359397203747786,
          -0.05216237339353421,
          -0.10451795823006328,
          -0.1495507559998562
         ]
        },
        {
         "hovertemplate": "<b>%{hovertext}</b><br><br>color=No error<br>pc1=%{x}<br>pc2=%{y}<br>pc3=%{z}<br>size=%{marker.size}<extra></extra>",
         "hovertext": [
          "A soccer player wearing a black outfit kicks the ball and keeps it away the other team",
          "a plane flies lower and lower to the ground during the daytime",
          "Large animal bear in the woods feeding on the grass",
          "A group of people that just set up a campfire",
          "A woman in a yellow top runs along the street as a person on a bike follows",
          "a bicycle rack where the contestants show who is better",
          "Its a dog show where dogs and their owners test their dexterity",
          "A man rides his bike in water without protective equipment",
          "Two cars drive very fast on a freeway together in unison",
          "A large bird pecks into the water and then feeds the contents to two smaller birds",
          "Caucasian child sucks on the edge of a beverage container",
          "A cop holds an item to the face of the man who is detained",
          "People walking barefoot on a dirt trail next to some grass",
          "what appears to be a goose swallowing food down its throat",
          "a man in a black shirt prepares to do an arm workout",
          "Two black beautiful ducks outside relaxing on a grassy field",
          "How funny A black cat tries to catch a ribbon that is swinging from someones hand on the grass",
          "a group of kids ride their bike around on the street",
          "Many birds are flying away from the trees and the small waterfall",
          "two full white water rafting boats are going down a river while paddling with white paddles",
          "A young child is trying to figure out how to use an ink pen",
          "Two people doing a bike race competition on a smooth express",
          "A pair of hands with a wooden stick playing with dough",
          "A white man with glasses is playing a small guitar while singing",
          "A person is skydiving in the air doing tricks while ascending down",
          "A novice skier is trying to control himself as he crashes to the ground in front of two other skiers",
          "a large flock of birds enjoy the water under a dark sky",
          "a small animal coming out of the snow and looking around nervously",
          "An infant is sitting on someones leg while looking off into the distance",
          "Something looking through a fence can see multiple cars going down a track",
          "many cars drive on the road and make many turns",
          "A person is twirling a baton lit of fire around himself at night",
          "A woman with blonde hair sitting in a white armchair in front of a Christmas tree smiles at a young boy in a red sweater and jeans",
          "a child playing with the toys in the bedroom",
          "a cowboy gives a kid a pony ride while a dog just wants someone to throw the ball to it",
          "Various people are riding a carousel of motorcycles outside at a carnival",
          "Group of boys are playing basketball while some are standing in field",
          "A man in a magenta tee shirt steadies a girl on a training bike outside in a park on a colorful cobblestone walk",
          "A man and a podium possibly giving a Sunday sermon",
          "Water rushing down a rocky side of a mountain and splashing up",
          "A person jumps in the water while they are holding someone else",
          "A woman stands on a stage before an audience introducing the next performer",
          "A group of children playing baseball on the field with adults watching",
          "Several women in red are dancing in front of a room while others watch",
          "The Camera is viewing a crowd of people in the reflection of a mirror",
          "A little girl with dark hair is singing right into the camera with only her head showing",
          "A glass blower shapes a piece of art as it is cooling",
          "A view of a vodafone vehicle which is showcased on a stand",
          "A reggae band is performing a concert in a small music club",
          "A man is excitedly explaining something funny that occurred to him and his friends",
          "an adult in a red and black jacket assist a child on an ice rink",
          "A group of workers are congregating outside to discuss work",
          "There is a bonfire at night and there is smoke coming from it",
          "A man in a red suit is shown shaking the hand of an child with elf ears",
          "a few kids sit in a tub with each other and bathe",
          "A man feels the consistency of a material in a bucket",
          "The sewing machine seems to work fine after being repaired",
          "A guy is blowing into something white inside his house"
         ],
         "legendgroup": "No error",
         "marker": {
          "color": "#B6E880",
          "size": [
           0.604983478,
           0.8086804243,
           0.8899459152,
           0.7964766191,
           0.8205310137,
           0.7790840779,
           0.7775197272,
           0.8326290673,
           0.6491617275,
           0.9114184128,
           0.9046039628,
           0.9685729439,
           0.8343087822,
           0.7543712154,
           0.8276210413,
           0.7836529419,
           0.8836457653,
           0.8385837407,
           0.6908238112,
           0.6695748248,
           0.7103197683,
           0.6915870385,
           0.9567752317,
           0.9425049279,
           0.6396856861,
           0.8183408802,
           0.7638992613,
           0.7199116412,
           0.6724775724,
           0.7250013936,
           0.7036291253,
           0.7239240538,
           0.7935419005,
           0.8064547665,
           0.7766008808,
           0.8888572293,
           0.7295587191,
           0.6169880683,
           0.879814683,
           0.8790948548,
           0.9117769355,
           0.848405341,
           0.8482879843,
           0.8525211607,
           0.6863125669,
           0.7854414093,
           0.8471237021,
           0.7701676202,
           0.7944862668,
           0.8534210975,
           0.7042643536,
           0.6653348797,
           0.6660091963,
           0.9563238483,
           0.9655283095,
           0.901331097,
           0.9034382828,
           0.898481013
          ],
          "sizemode": "area",
          "sizeref": 0.00247292655325,
          "symbol": "circle"
         },
         "mode": "markers",
         "name": "No error",
         "scene": "scene",
         "showlegend": true,
         "type": "scatter3d",
         "x": [
          -0.09987863733307435,
          0.021071155922398666,
          0.0229908001421088,
          -0.09999756624040625,
          -0.11408416234371697,
          -0.015351995306045186,
          -0.01086199172770056,
          -0.07335687428625629,
          -0.07324510519611512,
          0.01013749077286341,
          -0.028999866247739193,
          -0.09275608122864919,
          -0.06500583196581713,
          0.08001649981017302,
          -0.10065844980705005,
          0.021338033282891997,
          -0.0006992762192922197,
          -0.12738807311129652,
          0.017003425331447063,
          -0.03771076520235331,
          -0.019770431582720308,
          -0.08979514012862012,
          -0.08255264785441598,
          -0.06349353681170831,
          -0.0653882519087955,
          -0.11772811540197387,
          0.040903425151107314,
          0.03614648639562423,
          -0.03620735612727065,
          -0.016935529274942008,
          0.008035347391312783,
          -0.11462105740885738,
          -0.026934318159467136,
          -0.008270454883443882,
          -0.05988767761759121,
          -0.07883557173178903,
          -0.15825891917267484,
          -0.1056220533092838,
          -0.06737760976337723,
          0.015536422666136236,
          -0.13117259903853518,
          -0.0931992794822027,
          -0.17410398039807862,
          -0.10847904052329525,
          -0.006661942629485863,
          -0.02956594626704842,
          -0.029554774425408294,
          0.07565039727047938,
          -0.11569495389843845,
          -0.04277815451960871,
          -0.1535533515975384,
          -0.09840314416613909,
          -0.025406373638947245,
          -0.09119726384909514,
          -0.05300770942796518,
          0.02565252980220836,
          0.06107585107439322,
          -0.05196718928250317
         ],
         "y": [
          -0.03705470164256995,
          0.1449521122587307,
          -0.00916801896064856,
          0.05560713358973004,
          0.07719234891350878,
          0.08156737194323917,
          -0.03694936201503257,
          0.1274965644012831,
          0.1951176625172626,
          -0.041408323409339434,
          -0.18353144362675683,
          -0.040469574163059255,
          0.09900948347741421,
          -0.09170065189153842,
          -0.03136517606409391,
          0.015272116780970705,
          -0.10730626117027861,
          0.10528557089223926,
          0.11029875952282116,
          0.10152673740193405,
          -0.1796157085057829,
          0.14020116885275713,
          -0.1431669749512619,
          -0.08698369233114614,
          0.03877270804858549,
          0.026753653554965916,
          0.08853018483060271,
          -0.05476903799128961,
          -0.14014901028528656,
          0.20440354641305666,
          0.23539577785099716,
          0.014787418646621257,
          -0.1831237593850147,
          -0.18718812891573813,
          -0.08952428653622553,
          0.18547398011387367,
          0.03397822445795687,
          0.01353641863059855,
          -0.005322275477565891,
          0.08329168434758798,
          -0.014302419876839577,
          -0.08947883911248343,
          -0.001955390609216195,
          -0.037713151015106645,
          0.06950294522587128,
          -0.15944324034472895,
          -0.031037206005830265,
          0.1139288591327422,
          0.009756344702641057,
          -0.040357182896239914,
          -0.085842497204147,
          0.09245965507872668,
          0.07472778341738633,
          -0.1468769375810092,
          -0.08930594340432794,
          -0.04664337983867273,
          -0.06862279167313938,
          -0.0751935952615483
         ],
         "z": [
          -0.01279604089444866,
          -0.0697871711156598,
          -0.05214432491542189,
          0.1264195445025729,
          0.012388379025979498,
          0.06783210889308261,
          0.010165032893445556,
          -0.1136555006360094,
          -0.05099048794369794,
          -0.08680579618278181,
          -0.1281155947685553,
          -0.09601425797445073,
          0.025878287220540436,
          -0.12585006262194903,
          -0.034554227198631896,
          0.016203699024134204,
          -0.09237273200610353,
          0.07554716195974583,
          -0.05627507301213418,
          -0.007499038276294238,
          -0.14881538733938002,
          0.049329554270160066,
          -0.014570564361586059,
          0.019907713754806256,
          -0.05797328397429579,
          -0.06927612776247288,
          0.03599188844523275,
          -0.13600416483724834,
          -0.07856122078312248,
          -0.07933913396766461,
          -0.023535846002758126,
          0.019199563243926118,
          0.04254825066116374,
          -0.03201146140927646,
          -0.013077326274815452,
          0.07997626510811567,
          0.05822783370166367,
          0.02620570151534881,
          0.06552247929800237,
          -0.06889316731869101,
          -0.032562655907105574,
          0.11552642793716596,
          0.09045403642392683,
          0.19227596763560845,
          0.040595964759999506,
          -0.01580466082353279,
          -0.08751179744397972,
          -0.017886332434598338,
          0.1685982930499596,
          0.05994953689214407,
          -0.013887026924842087,
          0.11461406658289919,
          0.03978549224668126,
          0.02316879871433469,
          0.06094052455456673,
          -0.11548692141002344,
          -0.07548299172673528,
          -0.07264003213734055
         ]
        },
        {
         "hovertemplate": "<b>%{hovertext}</b><br><br>color=Playback error<br>pc1=%{x}<br>pc2=%{y}<br>pc3=%{z}<br>size=%{marker.size}<extra></extra>",
         "hovertext": [
          "I am not sure if this is just from my side or not but this is another blank page",
          "it says video couldnt be decoded there is an error with this video",
          "This video has no apparent content and shows varying black and white pixels",
          "This one isnt playing anything but it wont let me progress until I type ten words",
          "There is nothing to caption in this because no images are appearing on the screen",
          "wheres the video it doesnt seem to have loaded on this one "
         ],
         "legendgroup": "Playback error",
         "marker": {
          "color": "#FF97FF",
          "size": [
           0.7772712924,
           0.5067690455,
           0.7940577594,
           0.8789487947,
           0.8797591373,
           0.6962785714
          ],
          "sizemode": "area",
          "sizeref": 0.00247292655325,
          "symbol": "circle"
         },
         "mode": "markers",
         "name": "Playback error",
         "scene": "scene",
         "showlegend": true,
         "type": "scatter3d",
         "x": [
          0.10371622574659412,
          0.04940487285057973,
          0.07269089501638351,
          0.02200214153055534,
          0.07954966946963578,
          0.044418554936538644
         ],
         "y": [
          -0.04209417085793966,
          -0.043170810809305855,
          0.019284672539382732,
          -0.07508316242982467,
          -0.021154808907723706,
          -0.019433680056102545
         ],
         "z": [
          -0.0371107309138597,
          -0.04471289410154806,
          -0.08711478516555676,
          -0.0480927824757567,
          -0.02056520716791055,
          -0.05251481164804741
         ]
        },
        {
         "hovertemplate": "<b>%{hovertext}</b><br><br>color=Unknown - Corrupt video<br>pc1=%{x}<br>pc2=%{y}<br>pc3=%{z}<br>size=%{marker.size}<extra></extra>",
         "hovertext": [
          "A man with a yellow shirt looks into the camera as it moves around the room"
         ],
         "legendgroup": "Unknown - Corrupt video",
         "marker": {
          "color": "#FECB52",
          "size": [
           0.6500879746
          ],
          "sizemode": "area",
          "sizeref": 0.00247292655325,
          "symbol": "circle"
         },
         "mode": "markers",
         "name": "Unknown - Corrupt video",
         "scene": "scene",
         "showlegend": true,
         "type": "scatter3d",
         "x": [
          -0.03366176233746504
         ],
         "y": [
          -0.029021971173548315
         ],
         "z": [
          0.00023619749070596745
         ]
        }
       ],
       "layout": {
        "legend": {
         "itemsizing": "constant",
         "title": {
          "text": "color"
         },
         "tracegroupgap": 0
        },
        "margin": {
         "t": 60
        },
        "scene": {
         "domain": {
          "x": [
           0,
           1
          ],
          "y": [
           0,
           1
          ]
         },
         "xaxis": {
          "title": {
           "text": "pc1"
          }
         },
         "yaxis": {
          "title": {
           "text": "pc2"
          }
         },
         "zaxis": {
          "title": {
           "text": "pc3"
          }
         }
        },
        "template": {
         "data": {
          "bar": [
           {
            "error_x": {
             "color": "#2a3f5f"
            },
            "error_y": {
             "color": "#2a3f5f"
            },
            "marker": {
             "line": {
              "color": "#E5ECF6",
              "width": 0.5
             },
             "pattern": {
              "fillmode": "overlay",
              "size": 10,
              "solidity": 0.2
             }
            },
            "type": "bar"
           }
          ],
          "barpolar": [
           {
            "marker": {
             "line": {
              "color": "#E5ECF6",
              "width": 0.5
             },
             "pattern": {
              "fillmode": "overlay",
              "size": 10,
              "solidity": 0.2
             }
            },
            "type": "barpolar"
           }
          ],
          "carpet": [
           {
            "aaxis": {
             "endlinecolor": "#2a3f5f",
             "gridcolor": "white",
             "linecolor": "white",
             "minorgridcolor": "white",
             "startlinecolor": "#2a3f5f"
            },
            "baxis": {
             "endlinecolor": "#2a3f5f",
             "gridcolor": "white",
             "linecolor": "white",
             "minorgridcolor": "white",
             "startlinecolor": "#2a3f5f"
            },
            "type": "carpet"
           }
          ],
          "choropleth": [
           {
            "colorbar": {
             "outlinewidth": 0,
             "ticks": ""
            },
            "type": "choropleth"
           }
          ],
          "contour": [
           {
            "colorbar": {
             "outlinewidth": 0,
             "ticks": ""
            },
            "colorscale": [
             [
              0,
              "#0d0887"
             ],
             [
              0.1111111111111111,
              "#46039f"
             ],
             [
              0.2222222222222222,
              "#7201a8"
             ],
             [
              0.3333333333333333,
              "#9c179e"
             ],
             [
              0.4444444444444444,
              "#bd3786"
             ],
             [
              0.5555555555555556,
              "#d8576b"
             ],
             [
              0.6666666666666666,
              "#ed7953"
             ],
             [
              0.7777777777777778,
              "#fb9f3a"
             ],
             [
              0.8888888888888888,
              "#fdca26"
             ],
             [
              1,
              "#f0f921"
             ]
            ],
            "type": "contour"
           }
          ],
          "contourcarpet": [
           {
            "colorbar": {
             "outlinewidth": 0,
             "ticks": ""
            },
            "type": "contourcarpet"
           }
          ],
          "heatmap": [
           {
            "colorbar": {
             "outlinewidth": 0,
             "ticks": ""
            },
            "colorscale": [
             [
              0,
              "#0d0887"
             ],
             [
              0.1111111111111111,
              "#46039f"
             ],
             [
              0.2222222222222222,
              "#7201a8"
             ],
             [
              0.3333333333333333,
              "#9c179e"
             ],
             [
              0.4444444444444444,
              "#bd3786"
             ],
             [
              0.5555555555555556,
              "#d8576b"
             ],
             [
              0.6666666666666666,
              "#ed7953"
             ],
             [
              0.7777777777777778,
              "#fb9f3a"
             ],
             [
              0.8888888888888888,
              "#fdca26"
             ],
             [
              1,
              "#f0f921"
             ]
            ],
            "type": "heatmap"
           }
          ],
          "heatmapgl": [
           {
            "colorbar": {
             "outlinewidth": 0,
             "ticks": ""
            },
            "colorscale": [
             [
              0,
              "#0d0887"
             ],
             [
              0.1111111111111111,
              "#46039f"
             ],
             [
              0.2222222222222222,
              "#7201a8"
             ],
             [
              0.3333333333333333,
              "#9c179e"
             ],
             [
              0.4444444444444444,
              "#bd3786"
             ],
             [
              0.5555555555555556,
              "#d8576b"
             ],
             [
              0.6666666666666666,
              "#ed7953"
             ],
             [
              0.7777777777777778,
              "#fb9f3a"
             ],
             [
              0.8888888888888888,
              "#fdca26"
             ],
             [
              1,
              "#f0f921"
             ]
            ],
            "type": "heatmapgl"
           }
          ],
          "histogram": [
           {
            "marker": {
             "pattern": {
              "fillmode": "overlay",
              "size": 10,
              "solidity": 0.2
             }
            },
            "type": "histogram"
           }
          ],
          "histogram2d": [
           {
            "colorbar": {
             "outlinewidth": 0,
             "ticks": ""
            },
            "colorscale": [
             [
              0,
              "#0d0887"
             ],
             [
              0.1111111111111111,
              "#46039f"
             ],
             [
              0.2222222222222222,
              "#7201a8"
             ],
             [
              0.3333333333333333,
              "#9c179e"
             ],
             [
              0.4444444444444444,
              "#bd3786"
             ],
             [
              0.5555555555555556,
              "#d8576b"
             ],
             [
              0.6666666666666666,
              "#ed7953"
             ],
             [
              0.7777777777777778,
              "#fb9f3a"
             ],
             [
              0.8888888888888888,
              "#fdca26"
             ],
             [
              1,
              "#f0f921"
             ]
            ],
            "type": "histogram2d"
           }
          ],
          "histogram2dcontour": [
           {
            "colorbar": {
             "outlinewidth": 0,
             "ticks": ""
            },
            "colorscale": [
             [
              0,
              "#0d0887"
             ],
             [
              0.1111111111111111,
              "#46039f"
             ],
             [
              0.2222222222222222,
              "#7201a8"
             ],
             [
              0.3333333333333333,
              "#9c179e"
             ],
             [
              0.4444444444444444,
              "#bd3786"
             ],
             [
              0.5555555555555556,
              "#d8576b"
             ],
             [
              0.6666666666666666,
              "#ed7953"
             ],
             [
              0.7777777777777778,
              "#fb9f3a"
             ],
             [
              0.8888888888888888,
              "#fdca26"
             ],
             [
              1,
              "#f0f921"
             ]
            ],
            "type": "histogram2dcontour"
           }
          ],
          "mesh3d": [
           {
            "colorbar": {
             "outlinewidth": 0,
             "ticks": ""
            },
            "type": "mesh3d"
           }
          ],
          "parcoords": [
           {
            "line": {
             "colorbar": {
              "outlinewidth": 0,
              "ticks": ""
             }
            },
            "type": "parcoords"
           }
          ],
          "pie": [
           {
            "automargin": true,
            "type": "pie"
           }
          ],
          "scatter": [
           {
            "fillpattern": {
             "fillmode": "overlay",
             "size": 10,
             "solidity": 0.2
            },
            "type": "scatter"
           }
          ],
          "scatter3d": [
           {
            "line": {
             "colorbar": {
              "outlinewidth": 0,
              "ticks": ""
             }
            },
            "marker": {
             "colorbar": {
              "outlinewidth": 0,
              "ticks": ""
             }
            },
            "type": "scatter3d"
           }
          ],
          "scattercarpet": [
           {
            "marker": {
             "colorbar": {
              "outlinewidth": 0,
              "ticks": ""
             }
            },
            "type": "scattercarpet"
           }
          ],
          "scattergeo": [
           {
            "marker": {
             "colorbar": {
              "outlinewidth": 0,
              "ticks": ""
             }
            },
            "type": "scattergeo"
           }
          ],
          "scattergl": [
           {
            "marker": {
             "colorbar": {
              "outlinewidth": 0,
              "ticks": ""
             }
            },
            "type": "scattergl"
           }
          ],
          "scattermapbox": [
           {
            "marker": {
             "colorbar": {
              "outlinewidth": 0,
              "ticks": ""
             }
            },
            "type": "scattermapbox"
           }
          ],
          "scatterpolar": [
           {
            "marker": {
             "colorbar": {
              "outlinewidth": 0,
              "ticks": ""
             }
            },
            "type": "scatterpolar"
           }
          ],
          "scatterpolargl": [
           {
            "marker": {
             "colorbar": {
              "outlinewidth": 0,
              "ticks": ""
             }
            },
            "type": "scatterpolargl"
           }
          ],
          "scatterternary": [
           {
            "marker": {
             "colorbar": {
              "outlinewidth": 0,
              "ticks": ""
             }
            },
            "type": "scatterternary"
           }
          ],
          "surface": [
           {
            "colorbar": {
             "outlinewidth": 0,
             "ticks": ""
            },
            "colorscale": [
             [
              0,
              "#0d0887"
             ],
             [
              0.1111111111111111,
              "#46039f"
             ],
             [
              0.2222222222222222,
              "#7201a8"
             ],
             [
              0.3333333333333333,
              "#9c179e"
             ],
             [
              0.4444444444444444,
              "#bd3786"
             ],
             [
              0.5555555555555556,
              "#d8576b"
             ],
             [
              0.6666666666666666,
              "#ed7953"
             ],
             [
              0.7777777777777778,
              "#fb9f3a"
             ],
             [
              0.8888888888888888,
              "#fdca26"
             ],
             [
              1,
              "#f0f921"
             ]
            ],
            "type": "surface"
           }
          ],
          "table": [
           {
            "cells": {
             "fill": {
              "color": "#EBF0F8"
             },
             "line": {
              "color": "white"
             }
            },
            "header": {
             "fill": {
              "color": "#C8D4E3"
             },
             "line": {
              "color": "white"
             }
            },
            "type": "table"
           }
          ]
         },
         "layout": {
          "annotationdefaults": {
           "arrowcolor": "#2a3f5f",
           "arrowhead": 0,
           "arrowwidth": 1
          },
          "autotypenumbers": "strict",
          "coloraxis": {
           "colorbar": {
            "outlinewidth": 0,
            "ticks": ""
           }
          },
          "colorscale": {
           "diverging": [
            [
             0,
             "#8e0152"
            ],
            [
             0.1,
             "#c51b7d"
            ],
            [
             0.2,
             "#de77ae"
            ],
            [
             0.3,
             "#f1b6da"
            ],
            [
             0.4,
             "#fde0ef"
            ],
            [
             0.5,
             "#f7f7f7"
            ],
            [
             0.6,
             "#e6f5d0"
            ],
            [
             0.7,
             "#b8e186"
            ],
            [
             0.8,
             "#7fbc41"
            ],
            [
             0.9,
             "#4d9221"
            ],
            [
             1,
             "#276419"
            ]
           ],
           "sequential": [
            [
             0,
             "#0d0887"
            ],
            [
             0.1111111111111111,
             "#46039f"
            ],
            [
             0.2222222222222222,
             "#7201a8"
            ],
            [
             0.3333333333333333,
             "#9c179e"
            ],
            [
             0.4444444444444444,
             "#bd3786"
            ],
            [
             0.5555555555555556,
             "#d8576b"
            ],
            [
             0.6666666666666666,
             "#ed7953"
            ],
            [
             0.7777777777777778,
             "#fb9f3a"
            ],
            [
             0.8888888888888888,
             "#fdca26"
            ],
            [
             1,
             "#f0f921"
            ]
           ],
           "sequentialminus": [
            [
             0,
             "#0d0887"
            ],
            [
             0.1111111111111111,
             "#46039f"
            ],
            [
             0.2222222222222222,
             "#7201a8"
            ],
            [
             0.3333333333333333,
             "#9c179e"
            ],
            [
             0.4444444444444444,
             "#bd3786"
            ],
            [
             0.5555555555555556,
             "#d8576b"
            ],
            [
             0.6666666666666666,
             "#ed7953"
            ],
            [
             0.7777777777777778,
             "#fb9f3a"
            ],
            [
             0.8888888888888888,
             "#fdca26"
            ],
            [
             1,
             "#f0f921"
            ]
           ]
          },
          "colorway": [
           "#636efa",
           "#EF553B",
           "#00cc96",
           "#ab63fa",
           "#FFA15A",
           "#19d3f3",
           "#FF6692",
           "#B6E880",
           "#FF97FF",
           "#FECB52"
          ],
          "font": {
           "color": "#2a3f5f"
          },
          "geo": {
           "bgcolor": "white",
           "lakecolor": "white",
           "landcolor": "#E5ECF6",
           "showlakes": true,
           "showland": true,
           "subunitcolor": "white"
          },
          "hoverlabel": {
           "align": "left"
          },
          "hovermode": "closest",
          "mapbox": {
           "style": "light"
          },
          "paper_bgcolor": "white",
          "plot_bgcolor": "#E5ECF6",
          "polar": {
           "angularaxis": {
            "gridcolor": "white",
            "linecolor": "white",
            "ticks": ""
           },
           "bgcolor": "#E5ECF6",
           "radialaxis": {
            "gridcolor": "white",
            "linecolor": "white",
            "ticks": ""
           }
          },
          "scene": {
           "xaxis": {
            "backgroundcolor": "#E5ECF6",
            "gridcolor": "white",
            "gridwidth": 2,
            "linecolor": "white",
            "showbackground": true,
            "ticks": "",
            "zerolinecolor": "white"
           },
           "yaxis": {
            "backgroundcolor": "#E5ECF6",
            "gridcolor": "white",
            "gridwidth": 2,
            "linecolor": "white",
            "showbackground": true,
            "ticks": "",
            "zerolinecolor": "white"
           },
           "zaxis": {
            "backgroundcolor": "#E5ECF6",
            "gridcolor": "white",
            "gridwidth": 2,
            "linecolor": "white",
            "showbackground": true,
            "ticks": "",
            "zerolinecolor": "white"
           }
          },
          "shapedefaults": {
           "line": {
            "color": "#2a3f5f"
           }
          },
          "ternary": {
           "aaxis": {
            "gridcolor": "white",
            "linecolor": "white",
            "ticks": ""
           },
           "baxis": {
            "gridcolor": "white",
            "linecolor": "white",
            "ticks": ""
           },
           "bgcolor": "#E5ECF6",
           "caxis": {
            "gridcolor": "white",
            "linecolor": "white",
            "ticks": ""
           }
          },
          "title": {
           "x": 0.05
          },
          "xaxis": {
           "automargin": true,
           "gridcolor": "white",
           "linecolor": "white",
           "ticks": "",
           "title": {
            "standoff": 15
           },
           "zerolinecolor": "white",
           "zerolinewidth": 2
          },
          "yaxis": {
           "automargin": true,
           "gridcolor": "white",
           "linecolor": "white",
           "ticks": "",
           "title": {
            "standoff": 15
           },
           "zerolinecolor": "white",
           "zerolinewidth": 2
          }
         }
        }
       }
      }
     },
     "metadata": {},
     "output_type": "display_data"
    }
   ],
   "source": [
    "# Scatter plot PCA with Error as color and memorability score as size. Show caption on hover\n",
    "fig = px.scatter_3d(principalDf, x=\"pc1\", y=\"pc2\", z=\"pc3\", color=df_filtered['ERROR'].tolist(), size=df_filtered['mem_score'].tolist(), hover_name=df_filtered['captions'].tolist())\n",
    "fig.show()"
   ]
  },
  {
   "cell_type": "code",
   "execution_count": 16,
   "metadata": {},
   "outputs": [
    {
     "name": "stderr",
     "output_type": "stream",
     "text": [
      "/tmp/ipykernel_117189/2446894959.py:1: SettingWithCopyWarning:\n",
      "\n",
      "\n",
      "A value is trying to be set on a copy of a slice from a DataFrame.\n",
      "Try using .loc[row_indexer,col_indexer] = value instead\n",
      "\n",
      "See the caveats in the documentation: https://pandas.pydata.org/pandas-docs/stable/user_guide/indexing.html#returning-a-view-versus-a-copy\n",
      "\n"
     ]
    },
    {
     "data": {
      "application/vnd.plotly.v1+json": {
       "config": {
        "plotlyServerURL": "https://plot.ly"
       },
       "data": [
        {
         "hovertemplate": "<b>%{hovertext}</b><br><br>color=no<br>pc1=%{x}<br>pc2=%{y}<br>pc3=%{z}<br>size=%{marker.size}<extra></extra>",
         "hovertext": [
          "A construction site is going underway and is developing land",
          "point of view from the bed of an old pickup truck",
          "A young girl complaining how little she does in cheerleading",
          "A lady sitting down on a bench wearing a black jacket",
          "Pitch black dark night with flashlights to guide you along the shore line as the water breaks at the shore",
          "a happy man going to show more about life coaching",
          "A scene from the movie Social Network in which a man talks to a woman",
          "A woman is not very happy with what she has seen on her computer screen and needs to focus more on cleaning",
          "a horse is turning a corner while being followed by more nurses",
          "A Dish is being thrown into a heater to be cooked",
          "this lady is holding a newborn baby with a man inside of the hospital",
          "A person on the sidewalk wearing a green shirt with white buckets",
          "A man riding a bicycle on the highway while wearing a helmet",
          "You are seeing the forest fires from California I presume",
          "A soccer player wearing a black outfit kicks the ball and keeps it away the other team",
          "A swan is in a pond with its neck buried under the water",
          "A black door being fed by its owner putting on a red shorts",
          "some people use fire outside and put it in a barrel",
          "a plane flies lower and lower to the ground during the daytime",
          "I am not sure if this is just from my side or not but this is another blank page",
          "a bird flies across the sky while people fish in the water below it",
          "DJ is playing the music and a girl is dancing to it",
          "it says video couldnt be decoded there is an error with this video",
          "A person is recording someone as they are in a parking lot",
          "Large animal bear in the woods feeding on the grass",
          "A group of people that just set up a campfire",
          "A woman in a yellow top runs along the street as a person on a bike follows",
          "a bicycle rack where the contestants show who is better",
          "Its a dog show where dogs and their owners test their dexterity",
          "a little baby sits at a little baby stool it has",
          "a few people enjoy the party of a person that is with them",
          "A man rides his bike in water without protective equipment",
          "The device flips and reveals two images that become one as it speeds up",
          "Rams quarterback scores yet again during yesterdays game at the field",
          "a man with black boots next to a green bucket looks into his black plate",
          "A group of people wearing red shirt long pants and a brown hat",
          "Two cars drive very fast on a freeway together in unison",
          "A powerful waterfall is stunning So smooth until the interfiled opened peoples eyes",
          "A man in a white shirt and cap is talking to a man in a yellow shirt",
          "someone who is showing a product and how to use it",
          "A person takes a spoon and stirs the contents of a boiling pot",
          "A person with long hair and baggy clothes sitting on a couch",
          "Women laugh and talk in the background around a nighttime campfire",
          "A man giving the introductions to the band getting ready to play their set",
          "A stretch of water being filmed from a boat with homes and trees lining the shore",
          "A cat with green eyes and stripes is licking water",
          "A little girl wearing a red sweater trips after a girl beside her falls",
          "The model explodes into expression as the next model waits anxiously",
          "Some people are prodding with tools at a white surface overhead",
          "A large bird pecks into the water and then feeds the contents to two smaller birds",
          "a person takes a cup and pours it into a pink item",
          "I think we all feel this way on Mondaya dog is laying down on a bed spread napping",
          "someone riding by the Louvre at night on a bicycle",
          "Woman speaks in Foreign language to the viewers of the clip",
          "Caucasian child sucks on the edge of a beverage container",
          "A cop holds an item to the face of the man who is detained",
          "Two teams of baseball players on the court during a baseball game",
          "People walking barefoot on a dirt trail next to some grass",
          "showing a baby happy to be with her mommy talking to her",
          "what appears to be a goose swallowing food down its throat",
          "It is dark at the beach the waves arent rough as they crash against an island",
          "The camera pans upward from the cats paws to its head",
          "First Person Racing perspective on a live trackHop in and take a ride",
          "A group of people are sitting at tables while watching two girls talking",
          "two people at a party of some sort and serving refreshments",
          "a group of people sit on chairs outside in the daytime",
          "A dog leans its head out the window into the rain and tries to drink rain",
          "Showing a lot of derby cars that are together on the left side one is smoking on the hood",
          "a train with many carats is moving against a railroad",
          "point of view from a dash cam in a large city",
          "a man in a black shirt prepares to do an arm workout",
          "A band in the middle of a green field playing their instruments for the audience",
          "Cars are driving down the road and a white thing is seemingly hanging above the road just floating",
          "a person standing at first then trying to roller skate",
          "A machine moves while cutting a product and spraying liquid",
          "On a cloudy day you can see cars driving around a town ",
          "a person goes around and moves another person in the room",
          "A girl with curly hair and a blue suit sitting on  a chair",
          "A carpenter doing some finishing on a chair that he has just constructed",
          "A young child wearing a black and white hoodie is running to something",
          "Many motorcyclists drive under an underpass and follow the roads curve off into the distance",
          "Two black beautiful ducks outside relaxing on a grassy field",
          "White tulle with a sequin rainbow sheen is draped artistically against a black background",
          "A skate is show floating very close to the ocean floor",
          "A young girl is swinging in a child swing with wood chips behind her",
          "How funny A black cat tries to catch a ribbon that is swinging from someones hand on the grass",
          "In the white background many portions of whiteout are filling the scene",
          "A prisoner attempts a daring escape being lifted by helicopter",
          "a group of kids ride their bike around on the street",
          "a person is showing someone something that is in the water",
          "soldiers forming ranks and helping each other\n soldiers forming ranks and helping each other",
          "A pair of hands are seen crumbling up flower petals",
          "shows a series of cables that are in a car inside",
          "A group of people wearing white suits in a type of competition",
          "Many birds are flying away from the trees and the small waterfall",
          "Valentines day celebration for his spouse A jewelry gift was given to celebrate the occasion",
          "two full white water rafting boats are going down a river while paddling with white paddles",
          "Driving in a busy city during rush hour after getting off workThere is a ton of traffic",
          "A grey small car on the street in front of it is a street sign",
          "This video has no apparent content and shows varying black and white pixels",
          "An overhead view of a marching band standing on the street in red shirts",
          "A young child is trying to figure out how to use an ink pen",
          "A group of people in a field witness a large explosion",
          "Two people doing a bike race competition on a smooth express",
          "As I walk through the eerie winter woods I turn to check a sound and",
          "its a concert and attend many people to watch the show",
          "A boy holding a sparking firework gets burned and gets hurt",
          "A pair of hands with a wooden stick playing with dough",
          "Biking fest dayJust enjoying the ride in this rainy weather",
          "This one isnt playing anything but it wont let me progress until I type ten words",
          "a person toggles the a video game controller with one hand",
          "A white man with glasses is playing a small guitar while singing",
          "Three performers performing a dance and song on stage during a concert",
          "A person is skydiving in the air doing tricks while ascending down",
          "A man with a yellow shirt looks into the camera as it moves around the room",
          "The arm of the machinery extends beyond the border made of railroad ties",
          "A dog is lying and its back on a hard floor barking at the sky",
          "A video of waves created by a bot and dolphins jumping out the water",
          "A novice skier is trying to control himself as he crashes to the ground in front of two other skiers",
          "There is nothing to caption in this because no images are appearing on the screen",
          "a large flock of birds enjoy the water under a dark sky",
          "a small animal coming out of the snow and looking around nervously",
          "A dog with a vest on is looking at a tree and then walking",
          "a black and white cat drinks water while the black and brown cat looks through the glass",
          "A sleeping car is snuck up on by the cameraman",
          "a boy with a beanie on looks over to where the girl is in the car",
          "Driving down a paved country road in the woods Will a bear jump out A deer",
          "Multiple slots charge all your gadget in one place keep it from being all over",
          "An infant is sitting on someones leg while looking off into the distance",
          "Something looking through a fence can see multiple cars going down a track",
          "many cars drive on the road and make many turns",
          "A little boy and a little girl dancing and playing with balloons",
          "shows a dog spinning in the snow is very happy",
          "A man in a black jacket is walking around a group of women talking",
          "A person is twirling a baton lit of fire around himself at night",
          "A woman with blonde hair sitting in a white armchair in front of a Christmas tree smiles at a young boy in a red sweater and jeans",
          "A blonde baby with a blue bib and white shirt",
          "a child playing with the toys in the bedroom",
          "a cowboy gives a kid a pony ride while a dog just wants someone to throw the ball to it",
          "Various people are riding a carousel of motorcycles outside at a carnival",
          "Group of boys are playing basketball while some are standing in field",
          "A man in a magenta tee shirt steadies a girl on a training bike outside in a park on a colorful cobblestone walk",
          "A man and a podium possibly giving a Sunday sermon",
          "Water rushing down a rocky side of a mountain and splashing up",
          "A person jumps in the water while they are holding someone else",
          "A man on a surfboard surfing on a giant wave",
          "A woman stands on a stage before an audience introducing the next performer",
          "A group of children playing baseball on the field with adults watching",
          "a person wearing red steers a blue boat towards a dock",
          "A woman sits on a chair as she looks at the other vehicles",
          "Several women in red are dancing in front of a room while others watch",
          "The Camera is viewing a crowd of people in the reflection of a mirror",
          "A little girl with dark hair is singing right into the camera with only her head showing",
          "A glass blower shapes a piece of art as it is cooling",
          "A view of a vodafone vehicle which is showcased on a stand",
          "Lights and flicking on and off and different colors while a band plays on stage",
          "The intently watches the laser pointers mark before reaching out to catch it",
          "A reggae band is performing a concert in a small music club",
          "A man is excitedly explaining something funny that occurred to him and his friends",
          "an adult in a red and black jacket assist a child on an ice rink",
          "A group of workers are congregating outside to discuss work",
          "There is a bonfire at night and there is smoke coming from it",
          "A man in a red suit is shown shaking the hand of an child with elf ears",
          "A woman wearing a red sweater and knee pads adjusts her hair at a skating rink",
          "a few kids sit in a tub with each other and bathe",
          "wheres the video it doesnt seem to have loaded on this one ",
          "A man feels the consistency of a material in a bucket",
          "The sewing machine seems to work fine after being repaired",
          "The camera fades back from a large crowd of people and reveals a road",
          "a man rides a horse around some dirt in the daytime",
          "A group of dancing bears are on a stage with the words Mama Mia lit up behind them",
          "A child is enclosed in a multi colored plastic fence",
          "a flagbearer leads his group in a parade down a city street",
          "A guy is blowing into something white inside his house",
          "a statue in the museum at the chief guest and gave the prize"
         ],
         "legendgroup": "no",
         "marker": {
          "color": "#636efa",
          "size": [
           0.8375294504,
           0.7796856625,
           0.80486367,
           0.8389934285,
           0.6004157975,
           0.92773883,
           0.9669630553,
           0.909751011,
           0.9094000172,
           0.9166570948,
           0.888965501,
           0.9247365896,
           0.674878469,
           0.7147326723,
           0.604983478,
           0.6911434916,
           0.8540227389,
           0.6187774475,
           0.8086804243,
           0.7772712924,
           0.8779836442,
           0.6886890916,
           0.5067690455,
           0.929106717,
           0.8899459152,
           0.7964766191,
           0.8205310137,
           0.7790840779,
           0.7775197272,
           0.6235951897,
           0.8008999997,
           0.8326290673,
           0.9688891214,
           0.6423075076,
           0.8015448086,
           0.8888293979,
           0.6491617275,
           0.6548812583,
           0.6982056767,
           0.9674052409,
           0.8457195908,
           0.8236103153,
           0.8276754234,
           0.7961571023,
           0.6570863632,
           0.9557820164,
           0.9542160773,
           0.8987697959,
           0.7189253108,
           0.9114184128,
           0.7749276779,
           0.905739089,
           0.7487577812,
           0.8822023415,
           0.9046039628,
           0.9685729439,
           0.7208129804,
           0.8343087822,
           0.8387233374,
           0.7543712154,
           0.6062695832,
           0.7905196123,
           0.6795930116,
           0.8250996441,
           0.801958458,
           0.8414105411,
           0.8337442439,
           0.531041844,
           0.8649488361,
           0.5760730698,
           0.8276210413,
           0.7624270014,
           0.531329648,
           0.7234373873,
           0.593919182,
           0.8501722728,
           0.9342076142,
           0.8400618686,
           0.9799727628,
           0.6896257327,
           0.8027768417,
           0.7836529419,
           0.9453080832,
           0.8969324132,
           0.8044200536,
           0.8836457653,
           0.6646015482,
           0.8800775557,
           0.8385837407,
           0.8031262333,
           0.6460053964,
           0.955612528,
           0.7888260927,
           0.8301861334,
           0.6908238112,
           0.8508632271,
           0.6695748248,
           0.8009179314,
           0.8196530429,
           0.7940577594,
           0.848917664,
           0.7103197683,
           0.8225514502,
           0.6915870385,
           0.8097853091,
           0.8410537716,
           0.8431552365,
           0.9567752317,
           0.7771100772,
           0.8789487947,
           0.9294698058,
           0.9425049279,
           0.7919243808,
           0.6396856861,
           0.6500879746,
           0.8616885757,
           0.8576368831,
           0.8112786902,
           0.8183408802,
           0.8797591373,
           0.7638992613,
           0.7199116412,
           0.7277205737,
           0.7404055643,
           0.7311434169,
           0.7614264645,
           0.8336662682,
           0.9354663542,
           0.6724775724,
           0.7250013936,
           0.7036291253,
           0.6646967938,
           0.6485963809,
           0.8644533768,
           0.7239240538,
           0.7935419005,
           0.8241567772,
           0.8064547665,
           0.7766008808,
           0.8888572293,
           0.7295587191,
           0.6169880683,
           0.879814683,
           0.8790948548,
           0.9117769355,
           0.821205045,
           0.848405341,
           0.8482879843,
           0.6326732017,
           0.8550794874,
           0.8525211607,
           0.6863125669,
           0.7854414093,
           0.8471237021,
           0.7701676202,
           0.7306720628,
           0.8951877541,
           0.7944862668,
           0.8534210975,
           0.7042643536,
           0.6653348797,
           0.6660091963,
           0.9563238483,
           0.6423854287,
           0.9655283095,
           0.6962785714,
           0.901331097,
           0.9034382828,
           0.632654174,
           0.7119407694,
           0.8248488217,
           0.7862316045,
           0.7706575948,
           0.898481013,
           0.8717114985
          ],
          "sizemode": "area",
          "sizeref": 0.00247292655325,
          "symbol": "circle"
         },
         "mode": "markers",
         "name": "no",
         "scene": "scene",
         "showlegend": true,
         "type": "scatter3d",
         "x": [
          -0.027909164585109437,
          0.0818484806584664,
          -0.03473772445059712,
          -0.041183404018091375,
          0.006906581649364408,
          0.03703711236990858,
          -0.020570206979214068,
          0.11749360476214944,
          -0.06379283429394936,
          -0.05084162927109205,
          -0.05840622558193974,
          -0.08082478825718639,
          -0.08278674761561469,
          0.060335817104253286,
          -0.09987863733307435,
          0.018650922486758096,
          -0.042954725347631194,
          -0.059767119211108916,
          0.021071155922398666,
          0.10371622574659412,
          -0.007207536256406593,
          -0.0979625194898789,
          0.04940487285057973,
          -0.09786939360442737,
          0.0229908001421088,
          -0.09999756624040625,
          -0.11408416234371697,
          -0.015351995306045186,
          -0.01086199172770056,
          0.020777223822524893,
          -0.030595775718328593,
          -0.07335687428625629,
          0.06561015808506415,
          -0.05912779681307574,
          -0.019794701166664267,
          -0.12496403226506111,
          -0.07324510519611512,
          0.1307978625260672,
          -0.11241171704645114,
          0.01021481624082436,
          -0.0656372858927879,
          -0.016939140093110816,
          -0.044363271155635285,
          -0.12758763268243903,
          0.060199379471197786,
          0.0788329195261359,
          -0.11238401947215873,
          0.02429191118093223,
          -0.0945322116152442,
          0.01013749077286341,
          0.012406817126257887,
          0.08699035118212153,
          -0.004536592023310699,
          -0.004240652612578252,
          -0.028999866247739193,
          -0.09275608122864919,
          -0.17872490536468177,
          -0.06500583196581713,
          0.04043225825714013,
          0.08001649981017302,
          0.056969747958315047,
          0.07719536881866895,
          0.006346226126450149,
          -0.07788780071150282,
          -0.11322628050596889,
          -0.05146411846592312,
          0.0587003795135462,
          -0.01497904277730874,
          -0.04488511473171911,
          0.06739278380019662,
          -0.10065844980705005,
          -0.1162377062604366,
          -0.011631251376439897,
          -0.10941443925271647,
          -0.027378740207898215,
          0.00830604982756123,
          -0.13895395097014,
          -0.020520062677268355,
          -0.023372105848850657,
          -0.08232703150521997,
          -0.051003857428569666,
          0.021338033282891997,
          0.017074691747369357,
          0.022715486799983545,
          -0.0715727152064521,
          -0.0006992762192922197,
          0.008405484720255013,
          -0.07499264082171583,
          -0.12738807311129652,
          -0.012098975979436934,
          -0.09533908306422295,
          -0.027220304380643465,
          0.047707215470062805,
          -0.1306810941586785,
          0.017003425331447063,
          -0.006433441928463359,
          -0.03771076520235331,
          -0.013340700745329694,
          -0.016252302238919644,
          0.07269089501638351,
          -0.13265485557594536,
          -0.019770431582720308,
          -0.09349940434080592,
          -0.08979514012862012,
          0.04296339451641325,
          -0.01099755384773166,
          -0.07370854929682553,
          -0.08255264785441598,
          -0.010944929470491024,
          0.02200214153055534,
          -0.04852549301256349,
          -0.06349353681170831,
          -0.1367087866204306,
          -0.0653882519087955,
          -0.03366176233746504,
          -0.04539265864856642,
          0.036148816835560836,
          0.03385160668650449,
          -0.11772811540197387,
          0.07954966946963578,
          0.040903425151107314,
          0.03614648639562423,
          0.04113100621857815,
          0.06784216655135011,
          -0.018074229874701662,
          -0.032965773006538655,
          0.009084353236267297,
          0.06941393762681677,
          -0.03620735612727065,
          -0.016935529274942008,
          0.008035347391312783,
          -0.12390407851665072,
          0.08511193371782803,
          -0.11475791592944705,
          -0.11462105740885738,
          -0.026934318159467136,
          -0.02199717038067724,
          -0.008270454883443882,
          -0.05988767761759121,
          -0.07883557173178903,
          -0.15825891917267484,
          -0.1056220533092838,
          -0.06737760976337723,
          0.015536422666136236,
          -0.13117259903853518,
          -0.043042567085463786,
          -0.0931992794822027,
          -0.17410398039807862,
          -0.022594821624057383,
          0.040592642921933465,
          -0.10847904052329525,
          -0.006661942629485863,
          -0.02956594626704842,
          -0.029554774425408294,
          0.07565039727047938,
          -0.05688996231690963,
          -0.006125040800069144,
          -0.11569495389843845,
          -0.04277815451960871,
          -0.1535533515975384,
          -0.09840314416613909,
          -0.025406373638947245,
          -0.09119726384909514,
          -0.09544106212871745,
          -0.05300770942796518,
          0.044418554936538644,
          0.02565252980220836,
          0.06107585107439322,
          0.007777518562058103,
          -0.03722318496358734,
          -0.043153039826450516,
          -0.05432296957606056,
          -0.10068310187342944,
          -0.05196718928250317,
          -0.014392994740444014
         ],
         "y": [
          0.09612912870981581,
          0.10257359666734694,
          -0.1476488662932558,
          -0.05518895307842677,
          0.1388279203004558,
          -0.04268418994073199,
          -0.07272938910508109,
          -0.11256113791189622,
          0.06350667381993767,
          -0.0438362955965444,
          -0.1413563828076385,
          -0.0006372717774987486,
          0.15811585547046383,
          0.13620969251361967,
          -0.03705470164256995,
          -0.007185114107301743,
          -0.07304082333463814,
          0.03996922947188917,
          0.1449521122587307,
          -0.04209417085793966,
          0.0916351157044112,
          -0.12169116438446824,
          -0.043170810809305855,
          0.03096810985590778,
          -0.00916801896064856,
          0.05560713358973004,
          0.07719234891350878,
          0.08156737194323917,
          -0.03694936201503257,
          -0.19231681800596853,
          -0.04031514039228026,
          0.1274965644012831,
          0.07997592692254599,
          0.0038329802030725056,
          -0.013121051591445552,
          0.02541722143308969,
          0.1951176625172626,
          0.13854300826289853,
          -0.019765113329431944,
          -0.08004378123530281,
          -0.07911941106535894,
          -0.09588821499393632,
          0.005409751723657444,
          -0.02845970210116573,
          0.13852155766610674,
          -0.13349825853828928,
          -0.11152791370137974,
          -0.038540586919852286,
          0.010143930596797184,
          -0.041408323409339434,
          -0.11225378922315798,
          -0.06541074908086598,
          0.13667051027510183,
          -0.0656616305453298,
          -0.18353144362675683,
          -0.040469574163059255,
          0.034051354751486136,
          0.09900948347741421,
          -0.2138970882329727,
          -0.09170065189153842,
          0.08103216043323219,
          -0.048319798141317594,
          0.12908339491148071,
          -0.04897986424675563,
          -0.0709645470930116,
          0.11617149564080227,
          -0.053406456744848396,
          0.12394479913666921,
          0.13464525472715763,
          0.17788916394373902,
          -0.03136517606409391,
          0.06412637392648247,
          0.15733594824124178,
          -0.022281834414272048,
          0.0064612453986464344,
          0.20511220093655724,
          -0.08180427841414349,
          -0.14793452890191677,
          -0.09162691799869994,
          -0.09573110035869112,
          0.27869750048906167,
          0.015272116780970705,
          -0.0414840169800598,
          0.0914426149408506,
          -0.11326827133449449,
          -0.10730626117027861,
          0.09432828897748445,
          0.06911007605790791,
          0.10528557089223926,
          -0.021532400792328096,
          0.02095857064289829,
          -0.020478851656451764,
          0.10216072997288682,
          0.05316091740239258,
          0.11029875952282116,
          -0.1207108114308627,
          0.10152673740193405,
          0.1606602826732336,
          0.1095660485001315,
          0.019284672539382732,
          0.10357442800224649,
          -0.1796157085057829,
          0.14871062397835622,
          0.14020116885275713,
          0.045565662747752644,
          0.06345540765276657,
          -0.0647080237589186,
          -0.1431669749512619,
          0.1454855639392028,
          -0.07508316242982467,
          -0.05694556013448488,
          -0.08698369233114614,
          -0.0007696776738681607,
          0.03877270804858549,
          -0.029021971173548315,
          0.09633493694084433,
          -0.0611694240167804,
          0.05088054697519437,
          0.026753653554965916,
          -0.021154808907723706,
          0.08853018483060271,
          -0.05476903799128961,
          -0.0012551231472469288,
          -0.09919728573376839,
          0.11673782106505394,
          -0.04169795955244266,
          0.12474727510011789,
          -0.004758715302980865,
          -0.14014901028528656,
          0.20440354641305666,
          0.23539577785099716,
          -0.16509580385940154,
          -0.05646504479888333,
          -0.01819093621123068,
          0.014787418646621257,
          -0.1831237593850147,
          -0.18562172170273603,
          -0.18718812891573813,
          -0.08952428653622553,
          0.18547398011387367,
          0.03397822445795687,
          0.01353641863059855,
          -0.005322275477565891,
          0.08329168434758798,
          -0.014302419876839577,
          0.06988946281247697,
          -0.08947883911248343,
          -0.001955390609216195,
          0.07784985836657035,
          0.04766837634608022,
          -0.037713151015106645,
          0.06950294522587128,
          -0.15944324034472895,
          -0.031037206005830265,
          0.1139288591327422,
          0.035094035158015534,
          -0.058213110527417816,
          0.009756344702641057,
          -0.040357182896239914,
          -0.085842497204147,
          0.09245965507872668,
          0.07472778341738633,
          -0.1468769375810092,
          -0.06513792952303336,
          -0.08930594340432794,
          -0.019433680056102545,
          -0.04664337983867273,
          -0.06862279167313938,
          0.21792596903161107,
          0.10332837649129978,
          -0.042398423429961224,
          -0.08303807145150216,
          0.10001043960948884,
          -0.0751935952615483,
          -0.04184633199770161
         ],
         "z": [
          -0.022401517590097394,
          -0.07173949418958371,
          0.04089760403569902,
          0.04180963935141464,
          -0.023626815301280673,
          0.09848491955468529,
          0.0767584560865293,
          -0.05373203905269165,
          -0.05116783244615533,
          -0.10968963607308387,
          0.036785361424977826,
          -0.010070102305534543,
          -0.07037537205112816,
          0.004256893535092807,
          -0.01279604089444866,
          -0.12285693781294948,
          -0.0564956489049288,
          0.039175386738484655,
          -0.0697871711156598,
          -0.0371107309138597,
          -0.02746633965827739,
          0.08954667472514888,
          -0.04471289410154806,
          -0.01905887275070595,
          -0.05214432491542189,
          0.1264195445025729,
          0.012388379025979498,
          0.06783210889308261,
          0.010165032893445556,
          -0.05154195036473322,
          0.2330105442926649,
          -0.1136555006360094,
          -0.1420566695103117,
          0.01701585644753052,
          -0.07571019558739625,
          0.1538503402046668,
          -0.05099048794369794,
          -0.01853196154940988,
          0.05581025530008314,
          0.0016544625003526304,
          -0.11480863010335544,
          0.024495750262999622,
          0.1564407537285081,
          0.14427026378769867,
          -0.02236831953914507,
          -0.13350144249620371,
          -0.042437345878026486,
          -0.0902110406679897,
          -0.05205800007122154,
          -0.08680579618278181,
          -0.07964748182378668,
          -0.02077138513550386,
          0.008612967901307913,
          0.026846495253413594,
          -0.1281155947685553,
          -0.09601425797445073,
          0.07880566989438899,
          0.025878287220540436,
          0.05678934381654818,
          -0.12585006262194903,
          -0.006777634785779756,
          -0.17057681662936489,
          -0.03328679855149516,
          0.16906254484380903,
          0.1368397029332986,
          0.14821247930818182,
          -0.15388467420923035,
          -0.029725812406897086,
          -0.06053630862049308,
          -0.04756133027090193,
          -0.034554227198631896,
          0.17175368598899232,
          -0.14679525696584178,
          -0.07140662490125572,
          -0.14790552969975318,
          -0.04886378924403582,
          0.014742576889358644,
          0.03611010823502218,
          -0.06198015035379264,
          -0.10400488532960638,
          -0.048542096182930476,
          0.016203699024134204,
          0.0031039227598936257,
          -0.10992721739048314,
          -0.0064830269080505005,
          -0.09237273200610353,
          -0.05962745854501998,
          -0.09565673160831063,
          0.07554716195974583,
          -0.08195027974207814,
          0.07686965672038908,
          -0.06283190061942723,
          -0.0656786678133977,
          0.12234471056808131,
          -0.05627507301213418,
          0.05870237967518065,
          -0.007499038276294238,
          -0.03582533655074894,
          -0.07858962728125013,
          -0.08711478516555676,
          0.09617021113094626,
          -0.14881538733938002,
          0.02726487889736751,
          0.049329554270160066,
          -0.0793756975188801,
          0.22188063208580655,
          -0.0562668888468484,
          -0.014570564361586059,
          0.06781797180792853,
          -0.0480927824757567,
          -0.062359397203747786,
          0.019907713754806256,
          0.1988918946302565,
          -0.05797328397429579,
          0.00023619749070596745,
          -0.12945309924553502,
          -0.11331043836839289,
          -0.05216237339353421,
          -0.06927612776247288,
          -0.02056520716791055,
          0.03599188844523275,
          -0.13600416483724834,
          -0.11276707153551346,
          -0.08864968272890404,
          -0.10451795823006328,
          -0.03366497943993382,
          -0.09423001893712683,
          -0.010524092575248082,
          -0.07856122078312248,
          -0.07933913396766461,
          -0.023535846002758126,
          0.06214507668660383,
          -0.04175144996051581,
          0.08853104026482882,
          0.019199563243926118,
          0.04254825066116374,
          -0.044885597871431836,
          -0.03201146140927646,
          -0.013077326274815452,
          0.07997626510811567,
          0.05822783370166367,
          0.02620570151534881,
          0.06552247929800237,
          -0.06889316731869101,
          -0.032562655907105574,
          -0.05947387880077058,
          0.11552642793716596,
          0.09045403642392683,
          -0.06093366546987819,
          -0.03471942149422972,
          0.19227596763560845,
          0.040595964759999506,
          -0.01580466082353279,
          -0.08751179744397972,
          -0.017886332434598338,
          0.08906130737459494,
          -0.1495507559998562,
          0.1685982930499596,
          0.05994953689214407,
          -0.013887026924842087,
          0.11461406658289919,
          0.03978549224668126,
          0.02316879871433469,
          -0.0033996125069638648,
          0.06094052455456673,
          -0.05251481164804741,
          -0.11548692141002344,
          -0.07548299172673528,
          -0.024491967703316197,
          -0.03809048752205578,
          0.13633231168680823,
          -0.0722256612906272,
          0.08285898848505158,
          -0.07264003213734055,
          0.0883130406480211
         ]
        },
        {
         "hovertemplate": "<b>%{hovertext}</b><br><br>color=yes<br>pc1=%{x}<br>pc2=%{y}<br>pc3=%{z}<br>size=%{marker.size}<extra></extra>",
         "hovertext": [
          "The new and improved Canon camera  It is waterproof and can withstand a great amount of water pressure",
          "happiness happiness cleanliness and good view I find it very nice as the environment looks everything is very beautiful",
          "It seems very good to me since it is shown very alleges in the image",
          "It has a very nice landscape and I would like to be there is very wonderful",
          "This is what it looks like in the morning when i held my pee all night",
          "Such an aggravating taskmicrofiche You press a screen upward only for it to quickly go back down",
          "EEEKKKK Run for your life the dinosaur is after me",
          "happiness happiness cleanliness and good view I find it very nice",
          "I like them very much since everything is very clear and precise I like animals very much",
          "looking for in an image\n they are very happy and focused on what",
          "Ok which toy do I choose from There is quite the variety to choose from",
          "Suddenly Jeremy wakes and thinks Where am I how much milk did I drink and wheres my car",
          "I really like everything since it is very beautiful and",
          "OMG I hope everyone survived the helicopter plunging to the ground",
          "We bout to ride boys whose with me You hear me",
          "its Sunday and in this town everything is quiet and no one is out",
          "It is very entertaining colorful and shows a lot of interesting content that we all want to see and know more",
          "Window show of my pal he enjoys the wind blowing on his face",
          "they are having fun while practising and enjoying it nice",
          "A man moving a machinery part on his car in his fathers shop",
          "A man lets the baby lamb get a little more compared to his brothers and sisters",
          "Leave me alone peasant I am eating my meal in peace",
          "these kids get to come to the park every Friday and swing together",
          "It seems very good because it reflects everything I am",
          "Thinking about my life decisions To find a Girlfriend or play games",
          "A couple wants to see what its like to play Red Dead Redemption in real life",
          "I think its a very interesting way to see things",
          "Well nice chatting with you Time to mosey on  around these wires and visit other tables",
          "a very cool and in depth look at life in and under the water",
          "Yea go ahead and bounce to your hearts content Ill just stand her and support the arm of the couch",
          "It was a close football game last night The white team took home the victory",
          "colorful and shows a lot of interesting content that we all",
          "I find it very interesting since it shows a little about the life of animals",
          "There is nothing more enjoyable than watching a peewee ball game with the little ones playing",
          "Here little squirrel come and get your treat as it is tasty",
          "Daddys new worker Mows the grass for a kiss and a candy",
          "show how beautiful nature is and a beautiful waterfall is good",
          "You see something in red go off the screen but you cant see what because its so dark",
          "karaoke is quite easy at this bar where nobody he attends on the weekend",
          "Anchors away as we rough the seas together arm in hand",
          "It seems very good because it reflects everything I am looking",
          "At last going home after a long day cant wait to soak in the bathtub",
          "I really like everything since it is very beautiful and interesting",
          "And we have liftoff as we venture forth into the sky above",
          "It has a very nice landscape and I would like to be there is very wonderful",
          "Looks like a horror story or could it be science culture slides",
          "Kitty cat what  are you doing on my bed  Get down",
          "ready get set to run the race that is set before us",
          "Ok look you book the right team and I will book the opposite",
          "Look at the fiddlers Are they competing or dueling to a song The crowd is going wild",
          "The screen pans to the right showing how amazing nature can be"
         ],
         "legendgroup": "yes",
         "marker": {
          "color": "#EF553B",
          "size": [
           0.9891706213,
           0.6646338186,
           0.6712279318,
           0.6985110562,
           0.9007854597,
           0.8232800392,
           0.8876102395,
           0.8248798006,
           0.8096748953,
           0.8932434554,
           0.6496834998,
           0.857505877,
           0.826166134,
           0.9229894117,
           0.7027873603,
           0.5034061025,
           0.7343080447,
           0.8056558956,
           0.7159524521,
           0.8890853519,
           0.8475424759,
           0.8266440598,
           0.7563572715,
           0.9064132979,
           0.8886223422,
           0.7456610573,
           0.9635655371,
           0.7754070956,
           0.7974579215,
           0.9018637614,
           0.7418429484,
           0.6431426143,
           0.7489827462,
           0.7696534612,
           0.8301259548,
           0.9033172792,
           0.7723195818,
           0.6252375696,
           0.6980094656,
           0.6873643337,
           0.7428423406,
           0.8536519807,
           0.6775291194,
           0.7622805591,
           0.9140083782,
           0.7882803853,
           0.7953205437,
           0.7821171912,
           0.7904525703,
           0.731935087,
           0.6455161791
          ],
          "sizemode": "area",
          "sizeref": 0.00247292655325,
          "symbol": "circle"
         },
         "mode": "markers",
         "name": "yes",
         "scene": "scene",
         "showlegend": true,
         "type": "scatter3d",
         "x": [
          0.13340224725648825,
          0.29924002284366846,
          0.2525396379158741,
          0.2929941338057959,
          0.09377258689961182,
          0.08207072911671133,
          0.020910671278305298,
          0.28291800913637255,
          0.2788841883837427,
          0.16264914105580103,
          0.10618105864622954,
          0.030655683775142606,
          0.34902037651824097,
          0.017917820458714793,
          -0.06029467777639474,
          0.025483144785881474,
          0.2398115473460343,
          0.06040780925069825,
          -0.009919523827086846,
          -0.08148509166045362,
          -0.050109434262423175,
          0.0025247194104598175,
          -0.06605952275874859,
          0.30297425659743976,
          0.06044273156778779,
          -0.008342747635220289,
          0.25105980392666116,
          0.04650965482886602,
          0.1947199519206044,
          0.0014775999122398965,
          -0.03699257431560617,
          0.22117963267249863,
          0.2649960629665269,
          -0.020612436919026957,
          0.06119111318725904,
          -0.04010411307662622,
          0.20802499938406355,
          0.04890169319593902,
          -0.002218473247550781,
          0.004876283821232801,
          0.3349942058621181,
          0.08898936101425493,
          0.35405418908214537,
          0.018772163623291364,
          0.2929941338057959,
          0.08572135123762799,
          0.02324987366804245,
          -0.036734519212642806,
          0.01697131711152421,
          -0.10190742161189618,
          0.1583468467840303
         ],
         "y": [
          0.034492452748952865,
          0.018377367982008445,
          0.0010820219051813724,
          0.06957487786170237,
          -0.027525968425370525,
          -0.035156042725159535,
          -0.0022483558759311805,
          -0.009695824658979004,
          -0.0368380998381127,
          -0.053510625984373866,
          -0.09849838624736551,
          -0.01835716127811299,
          -0.03319837268218166,
          0.06043119614470275,
          0.051041267674506736,
          0.04155746000385584,
          -0.01453991349428068,
          -0.03481035057749964,
          -0.035506330652905684,
          -0.003413269631254592,
          -0.13452213745784877,
          -0.10173139228134086,
          -0.029119148314178965,
          -0.06160069361316457,
          -0.09866827267057722,
          0.04853220990601948,
          0.020969054331024115,
          -0.043073223254857164,
          0.045573406218763754,
          -0.12303680218933717,
          -0.013909925758432858,
          -0.019237617280960156,
          -0.030011860983257223,
          -0.07653968137286858,
          -0.119643999335769,
          -0.14764168783986464,
          0.06252419420045716,
          0.04300019402118813,
          -0.03972221563489118,
          0.01020251997011859,
          -0.02658827423247265,
          -0.03926020538224961,
          -0.01847519875397455,
          0.07554536938731234,
          0.06957487786170237,
          0.020202003594507703,
          -0.15515270180337454,
          0.07667549821767261,
          -0.012404611721934496,
          0.024473305062479387,
          0.10698999680349514
         ],
         "z": [
          -0.08579796849103097,
          0.129692713977691,
          0.022149345209390797,
          0.1064737386338538,
          -0.04683133722073249,
          -0.12592919749072204,
          -0.08582134562198854,
          0.11929869038330039,
          0.08737967819339759,
          0.07802225182408423,
          0.0072009456294985785,
          -0.12465353204186407,
          0.13582633792606022,
          -0.005999598378501057,
          0.0665044800272594,
          0.11300105558889487,
          0.1275924048183163,
          0.015622625235079386,
          0.15886671469173957,
          -0.14174578974452867,
          -0.0644703667858127,
          0.0062896395301175615,
          0.18284946566875016,
          0.089996829810273,
          0.07045775207539409,
          0.07930318258945915,
          0.07014708894014295,
          0.08595381194941563,
          -0.0007784671688568117,
          0.02044465519684276,
          0.08040464837597101,
          0.1394682098605187,
          0.03422275501543286,
          0.1277508775238077,
          -0.030501624612536984,
          -0.04801640815496169,
          0.0646718302241181,
          -0.07970500234732733,
          0.16721229633163076,
          0.009427340403998551,
          0.07731839576086429,
          0.03347296818724817,
          0.13370733504962748,
          -0.017766603428346104,
          0.1064737386338538,
          -0.03491743545877624,
          -0.09876377427306403,
          0.015298075566374799,
          0.07942152115811975,
          0.1192667847940586,
          -0.0414684598587607
         ]
        }
       ],
       "layout": {
        "legend": {
         "itemsizing": "constant",
         "title": {
          "text": "color"
         },
         "tracegroupgap": 0
        },
        "margin": {
         "t": 60
        },
        "scene": {
         "domain": {
          "x": [
           0,
           1
          ],
          "y": [
           0,
           1
          ]
         },
         "xaxis": {
          "title": {
           "text": "pc1"
          }
         },
         "yaxis": {
          "title": {
           "text": "pc2"
          }
         },
         "zaxis": {
          "title": {
           "text": "pc3"
          }
         }
        },
        "template": {
         "data": {
          "bar": [
           {
            "error_x": {
             "color": "#2a3f5f"
            },
            "error_y": {
             "color": "#2a3f5f"
            },
            "marker": {
             "line": {
              "color": "#E5ECF6",
              "width": 0.5
             },
             "pattern": {
              "fillmode": "overlay",
              "size": 10,
              "solidity": 0.2
             }
            },
            "type": "bar"
           }
          ],
          "barpolar": [
           {
            "marker": {
             "line": {
              "color": "#E5ECF6",
              "width": 0.5
             },
             "pattern": {
              "fillmode": "overlay",
              "size": 10,
              "solidity": 0.2
             }
            },
            "type": "barpolar"
           }
          ],
          "carpet": [
           {
            "aaxis": {
             "endlinecolor": "#2a3f5f",
             "gridcolor": "white",
             "linecolor": "white",
             "minorgridcolor": "white",
             "startlinecolor": "#2a3f5f"
            },
            "baxis": {
             "endlinecolor": "#2a3f5f",
             "gridcolor": "white",
             "linecolor": "white",
             "minorgridcolor": "white",
             "startlinecolor": "#2a3f5f"
            },
            "type": "carpet"
           }
          ],
          "choropleth": [
           {
            "colorbar": {
             "outlinewidth": 0,
             "ticks": ""
            },
            "type": "choropleth"
           }
          ],
          "contour": [
           {
            "colorbar": {
             "outlinewidth": 0,
             "ticks": ""
            },
            "colorscale": [
             [
              0,
              "#0d0887"
             ],
             [
              0.1111111111111111,
              "#46039f"
             ],
             [
              0.2222222222222222,
              "#7201a8"
             ],
             [
              0.3333333333333333,
              "#9c179e"
             ],
             [
              0.4444444444444444,
              "#bd3786"
             ],
             [
              0.5555555555555556,
              "#d8576b"
             ],
             [
              0.6666666666666666,
              "#ed7953"
             ],
             [
              0.7777777777777778,
              "#fb9f3a"
             ],
             [
              0.8888888888888888,
              "#fdca26"
             ],
             [
              1,
              "#f0f921"
             ]
            ],
            "type": "contour"
           }
          ],
          "contourcarpet": [
           {
            "colorbar": {
             "outlinewidth": 0,
             "ticks": ""
            },
            "type": "contourcarpet"
           }
          ],
          "heatmap": [
           {
            "colorbar": {
             "outlinewidth": 0,
             "ticks": ""
            },
            "colorscale": [
             [
              0,
              "#0d0887"
             ],
             [
              0.1111111111111111,
              "#46039f"
             ],
             [
              0.2222222222222222,
              "#7201a8"
             ],
             [
              0.3333333333333333,
              "#9c179e"
             ],
             [
              0.4444444444444444,
              "#bd3786"
             ],
             [
              0.5555555555555556,
              "#d8576b"
             ],
             [
              0.6666666666666666,
              "#ed7953"
             ],
             [
              0.7777777777777778,
              "#fb9f3a"
             ],
             [
              0.8888888888888888,
              "#fdca26"
             ],
             [
              1,
              "#f0f921"
             ]
            ],
            "type": "heatmap"
           }
          ],
          "heatmapgl": [
           {
            "colorbar": {
             "outlinewidth": 0,
             "ticks": ""
            },
            "colorscale": [
             [
              0,
              "#0d0887"
             ],
             [
              0.1111111111111111,
              "#46039f"
             ],
             [
              0.2222222222222222,
              "#7201a8"
             ],
             [
              0.3333333333333333,
              "#9c179e"
             ],
             [
              0.4444444444444444,
              "#bd3786"
             ],
             [
              0.5555555555555556,
              "#d8576b"
             ],
             [
              0.6666666666666666,
              "#ed7953"
             ],
             [
              0.7777777777777778,
              "#fb9f3a"
             ],
             [
              0.8888888888888888,
              "#fdca26"
             ],
             [
              1,
              "#f0f921"
             ]
            ],
            "type": "heatmapgl"
           }
          ],
          "histogram": [
           {
            "marker": {
             "pattern": {
              "fillmode": "overlay",
              "size": 10,
              "solidity": 0.2
             }
            },
            "type": "histogram"
           }
          ],
          "histogram2d": [
           {
            "colorbar": {
             "outlinewidth": 0,
             "ticks": ""
            },
            "colorscale": [
             [
              0,
              "#0d0887"
             ],
             [
              0.1111111111111111,
              "#46039f"
             ],
             [
              0.2222222222222222,
              "#7201a8"
             ],
             [
              0.3333333333333333,
              "#9c179e"
             ],
             [
              0.4444444444444444,
              "#bd3786"
             ],
             [
              0.5555555555555556,
              "#d8576b"
             ],
             [
              0.6666666666666666,
              "#ed7953"
             ],
             [
              0.7777777777777778,
              "#fb9f3a"
             ],
             [
              0.8888888888888888,
              "#fdca26"
             ],
             [
              1,
              "#f0f921"
             ]
            ],
            "type": "histogram2d"
           }
          ],
          "histogram2dcontour": [
           {
            "colorbar": {
             "outlinewidth": 0,
             "ticks": ""
            },
            "colorscale": [
             [
              0,
              "#0d0887"
             ],
             [
              0.1111111111111111,
              "#46039f"
             ],
             [
              0.2222222222222222,
              "#7201a8"
             ],
             [
              0.3333333333333333,
              "#9c179e"
             ],
             [
              0.4444444444444444,
              "#bd3786"
             ],
             [
              0.5555555555555556,
              "#d8576b"
             ],
             [
              0.6666666666666666,
              "#ed7953"
             ],
             [
              0.7777777777777778,
              "#fb9f3a"
             ],
             [
              0.8888888888888888,
              "#fdca26"
             ],
             [
              1,
              "#f0f921"
             ]
            ],
            "type": "histogram2dcontour"
           }
          ],
          "mesh3d": [
           {
            "colorbar": {
             "outlinewidth": 0,
             "ticks": ""
            },
            "type": "mesh3d"
           }
          ],
          "parcoords": [
           {
            "line": {
             "colorbar": {
              "outlinewidth": 0,
              "ticks": ""
             }
            },
            "type": "parcoords"
           }
          ],
          "pie": [
           {
            "automargin": true,
            "type": "pie"
           }
          ],
          "scatter": [
           {
            "fillpattern": {
             "fillmode": "overlay",
             "size": 10,
             "solidity": 0.2
            },
            "type": "scatter"
           }
          ],
          "scatter3d": [
           {
            "line": {
             "colorbar": {
              "outlinewidth": 0,
              "ticks": ""
             }
            },
            "marker": {
             "colorbar": {
              "outlinewidth": 0,
              "ticks": ""
             }
            },
            "type": "scatter3d"
           }
          ],
          "scattercarpet": [
           {
            "marker": {
             "colorbar": {
              "outlinewidth": 0,
              "ticks": ""
             }
            },
            "type": "scattercarpet"
           }
          ],
          "scattergeo": [
           {
            "marker": {
             "colorbar": {
              "outlinewidth": 0,
              "ticks": ""
             }
            },
            "type": "scattergeo"
           }
          ],
          "scattergl": [
           {
            "marker": {
             "colorbar": {
              "outlinewidth": 0,
              "ticks": ""
             }
            },
            "type": "scattergl"
           }
          ],
          "scattermapbox": [
           {
            "marker": {
             "colorbar": {
              "outlinewidth": 0,
              "ticks": ""
             }
            },
            "type": "scattermapbox"
           }
          ],
          "scatterpolar": [
           {
            "marker": {
             "colorbar": {
              "outlinewidth": 0,
              "ticks": ""
             }
            },
            "type": "scatterpolar"
           }
          ],
          "scatterpolargl": [
           {
            "marker": {
             "colorbar": {
              "outlinewidth": 0,
              "ticks": ""
             }
            },
            "type": "scatterpolargl"
           }
          ],
          "scatterternary": [
           {
            "marker": {
             "colorbar": {
              "outlinewidth": 0,
              "ticks": ""
             }
            },
            "type": "scatterternary"
           }
          ],
          "surface": [
           {
            "colorbar": {
             "outlinewidth": 0,
             "ticks": ""
            },
            "colorscale": [
             [
              0,
              "#0d0887"
             ],
             [
              0.1111111111111111,
              "#46039f"
             ],
             [
              0.2222222222222222,
              "#7201a8"
             ],
             [
              0.3333333333333333,
              "#9c179e"
             ],
             [
              0.4444444444444444,
              "#bd3786"
             ],
             [
              0.5555555555555556,
              "#d8576b"
             ],
             [
              0.6666666666666666,
              "#ed7953"
             ],
             [
              0.7777777777777778,
              "#fb9f3a"
             ],
             [
              0.8888888888888888,
              "#fdca26"
             ],
             [
              1,
              "#f0f921"
             ]
            ],
            "type": "surface"
           }
          ],
          "table": [
           {
            "cells": {
             "fill": {
              "color": "#EBF0F8"
             },
             "line": {
              "color": "white"
             }
            },
            "header": {
             "fill": {
              "color": "#C8D4E3"
             },
             "line": {
              "color": "white"
             }
            },
            "type": "table"
           }
          ]
         },
         "layout": {
          "annotationdefaults": {
           "arrowcolor": "#2a3f5f",
           "arrowhead": 0,
           "arrowwidth": 1
          },
          "autotypenumbers": "strict",
          "coloraxis": {
           "colorbar": {
            "outlinewidth": 0,
            "ticks": ""
           }
          },
          "colorscale": {
           "diverging": [
            [
             0,
             "#8e0152"
            ],
            [
             0.1,
             "#c51b7d"
            ],
            [
             0.2,
             "#de77ae"
            ],
            [
             0.3,
             "#f1b6da"
            ],
            [
             0.4,
             "#fde0ef"
            ],
            [
             0.5,
             "#f7f7f7"
            ],
            [
             0.6,
             "#e6f5d0"
            ],
            [
             0.7,
             "#b8e186"
            ],
            [
             0.8,
             "#7fbc41"
            ],
            [
             0.9,
             "#4d9221"
            ],
            [
             1,
             "#276419"
            ]
           ],
           "sequential": [
            [
             0,
             "#0d0887"
            ],
            [
             0.1111111111111111,
             "#46039f"
            ],
            [
             0.2222222222222222,
             "#7201a8"
            ],
            [
             0.3333333333333333,
             "#9c179e"
            ],
            [
             0.4444444444444444,
             "#bd3786"
            ],
            [
             0.5555555555555556,
             "#d8576b"
            ],
            [
             0.6666666666666666,
             "#ed7953"
            ],
            [
             0.7777777777777778,
             "#fb9f3a"
            ],
            [
             0.8888888888888888,
             "#fdca26"
            ],
            [
             1,
             "#f0f921"
            ]
           ],
           "sequentialminus": [
            [
             0,
             "#0d0887"
            ],
            [
             0.1111111111111111,
             "#46039f"
            ],
            [
             0.2222222222222222,
             "#7201a8"
            ],
            [
             0.3333333333333333,
             "#9c179e"
            ],
            [
             0.4444444444444444,
             "#bd3786"
            ],
            [
             0.5555555555555556,
             "#d8576b"
            ],
            [
             0.6666666666666666,
             "#ed7953"
            ],
            [
             0.7777777777777778,
             "#fb9f3a"
            ],
            [
             0.8888888888888888,
             "#fdca26"
            ],
            [
             1,
             "#f0f921"
            ]
           ]
          },
          "colorway": [
           "#636efa",
           "#EF553B",
           "#00cc96",
           "#ab63fa",
           "#FFA15A",
           "#19d3f3",
           "#FF6692",
           "#B6E880",
           "#FF97FF",
           "#FECB52"
          ],
          "font": {
           "color": "#2a3f5f"
          },
          "geo": {
           "bgcolor": "white",
           "lakecolor": "white",
           "landcolor": "#E5ECF6",
           "showlakes": true,
           "showland": true,
           "subunitcolor": "white"
          },
          "hoverlabel": {
           "align": "left"
          },
          "hovermode": "closest",
          "mapbox": {
           "style": "light"
          },
          "paper_bgcolor": "white",
          "plot_bgcolor": "#E5ECF6",
          "polar": {
           "angularaxis": {
            "gridcolor": "white",
            "linecolor": "white",
            "ticks": ""
           },
           "bgcolor": "#E5ECF6",
           "radialaxis": {
            "gridcolor": "white",
            "linecolor": "white",
            "ticks": ""
           }
          },
          "scene": {
           "xaxis": {
            "backgroundcolor": "#E5ECF6",
            "gridcolor": "white",
            "gridwidth": 2,
            "linecolor": "white",
            "showbackground": true,
            "ticks": "",
            "zerolinecolor": "white"
           },
           "yaxis": {
            "backgroundcolor": "#E5ECF6",
            "gridcolor": "white",
            "gridwidth": 2,
            "linecolor": "white",
            "showbackground": true,
            "ticks": "",
            "zerolinecolor": "white"
           },
           "zaxis": {
            "backgroundcolor": "#E5ECF6",
            "gridcolor": "white",
            "gridwidth": 2,
            "linecolor": "white",
            "showbackground": true,
            "ticks": "",
            "zerolinecolor": "white"
           }
          },
          "shapedefaults": {
           "line": {
            "color": "#2a3f5f"
           }
          },
          "ternary": {
           "aaxis": {
            "gridcolor": "white",
            "linecolor": "white",
            "ticks": ""
           },
           "baxis": {
            "gridcolor": "white",
            "linecolor": "white",
            "ticks": ""
           },
           "bgcolor": "#E5ECF6",
           "caxis": {
            "gridcolor": "white",
            "linecolor": "white",
            "ticks": ""
           }
          },
          "title": {
           "x": 0.05
          },
          "xaxis": {
           "automargin": true,
           "gridcolor": "white",
           "linecolor": "white",
           "ticks": "",
           "title": {
            "standoff": 15
           },
           "zerolinecolor": "white",
           "zerolinewidth": 2
          },
          "yaxis": {
           "automargin": true,
           "gridcolor": "white",
           "linecolor": "white",
           "ticks": "",
           "title": {
            "standoff": 15
           },
           "zerolinecolor": "white",
           "zerolinewidth": 2
          }
         }
        }
       }
      }
     },
     "metadata": {},
     "output_type": "display_data"
    }
   ],
   "source": [
    "df_filtered['subjective'] = df_filtered['ERROR ID'].apply(lambda x: 'yes' if x==3 else 'no')\n",
    "\n",
    "fig = px.scatter_3d(principalDf, x=\"pc1\", y=\"pc2\", z=\"pc3\", color=df_filtered['subjective'].tolist(), size=df_filtered['mem_score'].tolist(), hover_name=df_filtered['captions'].tolist())\n",
    "fig.show()"
   ]
  },
  {
   "cell_type": "code",
   "execution_count": 17,
   "metadata": {},
   "outputs": [
    {
     "name": "stderr",
     "output_type": "stream",
     "text": [
      "/tmp/ipykernel_117189/3579548486.py:2: SettingWithCopyWarning:\n",
      "\n",
      "\n",
      "A value is trying to be set on a copy of a slice from a DataFrame.\n",
      "Try using .loc[row_indexer,col_indexer] = value instead\n",
      "\n",
      "See the caveats in the documentation: https://pandas.pydata.org/pandas-docs/stable/user_guide/indexing.html#returning-a-view-versus-a-copy\n",
      "\n",
      "/home/imartinf/miniconda3/envs/memo/lib/python3.10/site-packages/plotly/express/_core.py:1958: FutureWarning:\n",
      "\n",
      "The default of observed=False is deprecated and will be changed to True in a future version of pandas. Pass observed=False to retain current behavior or observed=True to adopt the future default and silence this warning.\n",
      "\n"
     ]
    },
    {
     "data": {
      "application/vnd.plotly.v1+json": {
       "config": {
        "plotlyServerURL": "https://plot.ly"
       },
       "data": [
        {
         "hovertemplate": "color=Yes<br>pc1=%{x}<br>pc2=%{y}<br>pc3=%{z}<br>size=%{marker.size}<extra></extra>",
         "legendgroup": "Yes",
         "marker": {
          "color": "#636efa",
          "size": [
           0.8375294504,
           0.7796856625,
           0.6004157975,
           0.909751011,
           0.9247365896,
           0.674878469,
           0.6911434916,
           0.7772712924,
           0.8779836442,
           0.5067690455,
           0.8008999997,
           0.6423075076,
           0.8888293979,
           0.9674052409,
           0.8236103153,
           0.6570863632,
           0.7749276779,
           0.7208129804,
           0.6062695832,
           0.801958458,
           0.8414105411,
           0.8337442439,
           0.9342076142,
           0.9453080832,
           0.8969324132,
           0.6646015482,
           0.8800775557,
           0.8031262333,
           0.6460053964,
           0.955612528,
           0.7888260927,
           0.8301861334,
           0.8196530429,
           0.7940577594,
           0.8410537716,
           0.8789487947,
           0.7919243808,
           0.6500879746,
           0.8797591373,
           0.7277205737,
           0.6646967938,
           0.6485963809,
           0.821205045,
           0.6423854287,
           0.6962785714,
           0.8717114985
          ],
          "sizemode": "area",
          "sizeref": 0.00247292655325,
          "symbol": "circle"
         },
         "mode": "markers",
         "name": "Yes",
         "scene": "scene",
         "showlegend": true,
         "type": "scatter3d",
         "x": [
          -0.027909164585109437,
          0.0818484806584664,
          0.006906581649364408,
          0.11749360476214944,
          -0.08082478825718639,
          -0.08278674761561469,
          0.018650922486758096,
          0.10371622574659412,
          -0.007207536256406593,
          0.04940487285057973,
          -0.030595775718328593,
          -0.05912779681307574,
          -0.12496403226506111,
          0.01021481624082436,
          -0.016939140093110816,
          0.060199379471197786,
          0.012406817126257887,
          -0.17872490536468177,
          0.056969747958315047,
          -0.11322628050596889,
          -0.05146411846592312,
          0.0587003795135462,
          -0.13895395097014,
          0.017074691747369357,
          0.022715486799983545,
          0.008405484720255013,
          -0.07499264082171583,
          -0.012098975979436934,
          -0.09533908306422295,
          -0.027220304380643465,
          0.047707215470062805,
          -0.1306810941586785,
          -0.016252302238919644,
          0.07269089501638351,
          -0.01099755384773166,
          0.02200214153055534,
          -0.1367087866204306,
          -0.03366176233746504,
          0.07954966946963578,
          0.04113100621857815,
          -0.12390407851665072,
          0.08511193371782803,
          -0.043042567085463786,
          -0.09544106212871745,
          0.044418554936538644,
          -0.014392994740444014
         ],
         "y": [
          0.09612912870981581,
          0.10257359666734694,
          0.1388279203004558,
          -0.11256113791189622,
          -0.0006372717774987486,
          0.15811585547046383,
          -0.007185114107301743,
          -0.04209417085793966,
          0.0916351157044112,
          -0.043170810809305855,
          -0.04031514039228026,
          0.0038329802030725056,
          0.02541722143308969,
          -0.08004378123530281,
          -0.09588821499393632,
          0.13852155766610674,
          -0.11225378922315798,
          0.034051354751486136,
          0.08103216043323219,
          -0.0709645470930116,
          0.11617149564080227,
          -0.053406456744848396,
          -0.08180427841414349,
          -0.0414840169800598,
          0.0914426149408506,
          0.09432828897748445,
          0.06911007605790791,
          -0.021532400792328096,
          0.02095857064289829,
          -0.020478851656451764,
          0.10216072997288682,
          0.05316091740239258,
          0.1095660485001315,
          0.019284672539382732,
          0.06345540765276657,
          -0.07508316242982467,
          -0.0007696776738681607,
          -0.029021971173548315,
          -0.021154808907723706,
          -0.0012551231472469288,
          -0.16509580385940154,
          -0.05646504479888333,
          0.06988946281247697,
          -0.06513792952303336,
          -0.019433680056102545,
          -0.04184633199770161
         ],
         "z": [
          -0.022401517590097394,
          -0.07173949418958371,
          -0.023626815301280673,
          -0.05373203905269165,
          -0.010070102305534543,
          -0.07037537205112816,
          -0.12285693781294948,
          -0.0371107309138597,
          -0.02746633965827739,
          -0.04471289410154806,
          0.2330105442926649,
          0.01701585644753052,
          0.1538503402046668,
          0.0016544625003526304,
          0.024495750262999622,
          -0.02236831953914507,
          -0.07964748182378668,
          0.07880566989438899,
          -0.006777634785779756,
          0.1368397029332986,
          0.14821247930818182,
          -0.15388467420923035,
          0.014742576889358644,
          0.0031039227598936257,
          -0.10992721739048314,
          -0.05962745854501998,
          -0.09565673160831063,
          -0.08195027974207814,
          0.07686965672038908,
          -0.06283190061942723,
          -0.0656786678133977,
          0.12234471056808131,
          -0.07858962728125013,
          -0.08711478516555676,
          0.22188063208580655,
          -0.0480927824757567,
          0.1988918946302565,
          0.00023619749070596745,
          -0.02056520716791055,
          -0.11276707153551346,
          0.06214507668660383,
          -0.04175144996051581,
          -0.05947387880077058,
          -0.0033996125069638648,
          -0.05251481164804741,
          0.0883130406480211
         ]
        },
        {
         "hovertemplate": "color=Maybe<br>pc1=%{x}<br>pc2=%{y}<br>pc3=%{z}<br>size=%{marker.size}<extra></extra>",
         "legendgroup": "Maybe",
         "marker": {
          "color": "#EF553B",
          "size": [
           0.9891706213,
           0.80486367,
           0.6646338186,
           0.6712279318,
           0.92773883,
           0.6985110562,
           0.9669630553,
           0.9007854597,
           0.9094000172,
           0.8232800392,
           0.7147326723,
           0.8876102395,
           0.8248798006,
           0.8096748953,
           0.8932434554,
           0.6235951897,
           0.6496834998,
           0.857505877,
           0.826166134,
           0.9229894117,
           0.7027873603,
           0.8276754234,
           0.7961571023,
           0.5034061025,
           0.7343080447,
           0.905739089,
           0.7487577812,
           0.8822023415,
           0.8056558956,
           0.7159524521,
           0.8890853519,
           0.8475424759,
           0.8266440598,
           0.7563572715,
           0.8387233374,
           0.6795930116,
           0.9064132979,
           0.8886223422,
           0.8649488361,
           0.7456610573,
           0.9635655371,
           0.7754070956,
           0.7974579215,
           0.9018637614,
           0.7418429484,
           0.6431426143,
           0.7489827462,
           0.7696534612,
           0.8301259548,
           0.9033172792,
           0.7723195818,
           0.6252375696,
           0.6980094656,
           0.8009179314,
           0.6873643337,
           0.8097853091,
           0.7428423406,
           0.8431552365,
           0.7771100772,
           0.9294698058,
           0.8536519807,
           0.8112786902,
           0.7311434169,
           0.6775291194,
           0.7622805591,
           0.9140083782,
           0.7882803853,
           0.7953205437,
           0.7821171912,
           0.7904525703,
           0.8951877541,
           0.731935087,
           0.6455161791
          ],
          "sizemode": "area",
          "sizeref": 0.00247292655325,
          "symbol": "circle"
         },
         "mode": "markers",
         "name": "Maybe",
         "scene": "scene",
         "showlegend": true,
         "type": "scatter3d",
         "x": [
          0.13340224725648825,
          -0.03473772445059712,
          0.29924002284366846,
          0.2525396379158741,
          0.03703711236990858,
          0.2929941338057959,
          -0.020570206979214068,
          0.09377258689961182,
          -0.06379283429394936,
          0.08207072911671133,
          0.060335817104253286,
          0.020910671278305298,
          0.28291800913637255,
          0.2788841883837427,
          0.16264914105580103,
          0.020777223822524893,
          0.10618105864622954,
          0.030655683775142606,
          0.34902037651824097,
          0.017917820458714793,
          -0.06029467777639474,
          -0.044363271155635285,
          -0.12758763268243903,
          0.025483144785881474,
          0.2398115473460343,
          0.08699035118212153,
          -0.004536592023310699,
          -0.004240652612578252,
          0.06040780925069825,
          -0.009919523827086846,
          -0.08148509166045362,
          -0.050109434262423175,
          0.0025247194104598175,
          -0.06605952275874859,
          0.04043225825714013,
          0.006346226126450149,
          0.30297425659743976,
          0.06044273156778779,
          -0.04488511473171911,
          -0.008342747635220289,
          0.25105980392666116,
          0.04650965482886602,
          0.1947199519206044,
          0.0014775999122398965,
          -0.03699257431560617,
          0.22117963267249863,
          0.2649960629665269,
          -0.020612436919026957,
          0.06119111318725904,
          -0.04010411307662622,
          0.20802499938406355,
          0.04890169319593902,
          -0.002218473247550781,
          -0.013340700745329694,
          0.004876283821232801,
          0.04296339451641325,
          0.3349942058621181,
          -0.07370854929682553,
          -0.010944929470491024,
          -0.04852549301256349,
          0.08898936101425493,
          0.03385160668650449,
          -0.018074229874701662,
          0.35405418908214537,
          0.018772163623291364,
          0.2929941338057959,
          0.08572135123762799,
          0.02324987366804245,
          -0.036734519212642806,
          0.01697131711152421,
          -0.006125040800069144,
          -0.10190742161189618,
          0.1583468467840303
         ],
         "y": [
          0.034492452748952865,
          -0.1476488662932558,
          0.018377367982008445,
          0.0010820219051813724,
          -0.04268418994073199,
          0.06957487786170237,
          -0.07272938910508109,
          -0.027525968425370525,
          0.06350667381993767,
          -0.035156042725159535,
          0.13620969251361967,
          -0.0022483558759311805,
          -0.009695824658979004,
          -0.0368380998381127,
          -0.053510625984373866,
          -0.19231681800596853,
          -0.09849838624736551,
          -0.01835716127811299,
          -0.03319837268218166,
          0.06043119614470275,
          0.051041267674506736,
          0.005409751723657444,
          -0.02845970210116573,
          0.04155746000385584,
          -0.01453991349428068,
          -0.06541074908086598,
          0.13667051027510183,
          -0.0656616305453298,
          -0.03481035057749964,
          -0.035506330652905684,
          -0.003413269631254592,
          -0.13452213745784877,
          -0.10173139228134086,
          -0.029119148314178965,
          -0.2138970882329727,
          0.12908339491148071,
          -0.06160069361316457,
          -0.09866827267057722,
          0.13464525472715763,
          0.04853220990601948,
          0.020969054331024115,
          -0.043073223254857164,
          0.045573406218763754,
          -0.12303680218933717,
          -0.013909925758432858,
          -0.019237617280960156,
          -0.030011860983257223,
          -0.07653968137286858,
          -0.119643999335769,
          -0.14764168783986464,
          0.06252419420045716,
          0.04300019402118813,
          -0.03972221563489118,
          0.1606602826732336,
          0.01020251997011859,
          0.045565662747752644,
          -0.02658827423247265,
          -0.0647080237589186,
          0.1454855639392028,
          -0.05694556013448488,
          -0.03926020538224961,
          0.05088054697519437,
          0.11673782106505394,
          -0.01847519875397455,
          0.07554536938731234,
          0.06957487786170237,
          0.020202003594507703,
          -0.15515270180337454,
          0.07667549821767261,
          -0.012404611721934496,
          -0.058213110527417816,
          0.024473305062479387,
          0.10698999680349514
         ],
         "z": [
          -0.08579796849103097,
          0.04089760403569902,
          0.129692713977691,
          0.022149345209390797,
          0.09848491955468529,
          0.1064737386338538,
          0.0767584560865293,
          -0.04683133722073249,
          -0.05116783244615533,
          -0.12592919749072204,
          0.004256893535092807,
          -0.08582134562198854,
          0.11929869038330039,
          0.08737967819339759,
          0.07802225182408423,
          -0.05154195036473322,
          0.0072009456294985785,
          -0.12465353204186407,
          0.13582633792606022,
          -0.005999598378501057,
          0.0665044800272594,
          0.1564407537285081,
          0.14427026378769867,
          0.11300105558889487,
          0.1275924048183163,
          -0.02077138513550386,
          0.008612967901307913,
          0.026846495253413594,
          0.015622625235079386,
          0.15886671469173957,
          -0.14174578974452867,
          -0.0644703667858127,
          0.0062896395301175615,
          0.18284946566875016,
          0.05678934381654818,
          -0.03328679855149516,
          0.089996829810273,
          0.07045775207539409,
          -0.06053630862049308,
          0.07930318258945915,
          0.07014708894014295,
          0.08595381194941563,
          -0.0007784671688568117,
          0.02044465519684276,
          0.08040464837597101,
          0.1394682098605187,
          0.03422275501543286,
          0.1277508775238077,
          -0.030501624612536984,
          -0.04801640815496169,
          0.0646718302241181,
          -0.07970500234732733,
          0.16721229633163076,
          -0.03582533655074894,
          0.009427340403998551,
          -0.0793756975188801,
          0.07731839576086429,
          -0.0562668888468484,
          0.06781797180792853,
          -0.062359397203747786,
          0.03347296818724817,
          -0.05216237339353421,
          -0.10451795823006328,
          0.13370733504962748,
          -0.017766603428346104,
          0.1064737386338538,
          -0.03491743545877624,
          -0.09876377427306403,
          0.015298075566374799,
          0.07942152115811975,
          -0.1495507559998562,
          0.1192667847940586,
          -0.0414684598587607
         ]
        },
        {
         "hovertemplate": "color=No<br>pc1=%{x}<br>pc2=%{y}<br>pc3=%{z}<br>size=%{marker.size}<extra></extra>",
         "legendgroup": "No",
         "marker": {
          "color": "#00cc96",
          "size": [
           0.8389934285,
           0.9166570948,
           0.888965501,
           0.604983478,
           0.8540227389,
           0.6187774475,
           0.8086804243,
           0.6886890916,
           0.929106717,
           0.8899459152,
           0.7964766191,
           0.8205310137,
           0.7790840779,
           0.7775197272,
           0.8326290673,
           0.9688891214,
           0.8015448086,
           0.6491617275,
           0.6548812583,
           0.6982056767,
           0.8457195908,
           0.9557820164,
           0.9542160773,
           0.8987697959,
           0.7189253108,
           0.9114184128,
           0.9046039628,
           0.9685729439,
           0.8343087822,
           0.7543712154,
           0.7905196123,
           0.8250996441,
           0.531041844,
           0.5760730698,
           0.8276210413,
           0.7624270014,
           0.531329648,
           0.7234373873,
           0.593919182,
           0.8501722728,
           0.8400618686,
           0.9799727628,
           0.6896257327,
           0.8027768417,
           0.7836529419,
           0.8044200536,
           0.8836457653,
           0.8385837407,
           0.6908238112,
           0.8508632271,
           0.6695748248,
           0.848917664,
           0.7103197683,
           0.8225514502,
           0.6915870385,
           0.9567752317,
           0.9425049279,
           0.6396856861,
           0.8616885757,
           0.8576368831,
           0.8183408802,
           0.7638992613,
           0.7199116412,
           0.7404055643,
           0.7614264645,
           0.8336662682,
           0.9354663542,
           0.6724775724,
           0.7250013936,
           0.7036291253,
           0.8644533768,
           0.7239240538,
           0.7935419005,
           0.8241567772,
           0.8064547665,
           0.7766008808,
           0.8888572293,
           0.7295587191,
           0.6169880683,
           0.879814683,
           0.8790948548,
           0.9117769355,
           0.848405341,
           0.8482879843,
           0.6326732017,
           0.8550794874,
           0.8525211607,
           0.6863125669,
           0.7854414093,
           0.8471237021,
           0.7701676202,
           0.7306720628,
           0.7944862668,
           0.8534210975,
           0.7042643536,
           0.6653348797,
           0.6660091963,
           0.9563238483,
           0.9655283095,
           0.901331097,
           0.9034382828,
           0.632654174,
           0.7119407694,
           0.8248488217,
           0.7862316045,
           0.7706575948,
           0.898481013
          ],
          "sizemode": "area",
          "sizeref": 0.00247292655325,
          "symbol": "circle"
         },
         "mode": "markers",
         "name": "No",
         "scene": "scene",
         "showlegend": true,
         "type": "scatter3d",
         "x": [
          -0.041183404018091375,
          -0.05084162927109205,
          -0.05840622558193974,
          -0.09987863733307435,
          -0.042954725347631194,
          -0.059767119211108916,
          0.021071155922398666,
          -0.0979625194898789,
          -0.09786939360442737,
          0.0229908001421088,
          -0.09999756624040625,
          -0.11408416234371697,
          -0.015351995306045186,
          -0.01086199172770056,
          -0.07335687428625629,
          0.06561015808506415,
          -0.019794701166664267,
          -0.07324510519611512,
          0.1307978625260672,
          -0.11241171704645114,
          -0.0656372858927879,
          0.0788329195261359,
          -0.11238401947215873,
          0.02429191118093223,
          -0.0945322116152442,
          0.01013749077286341,
          -0.028999866247739193,
          -0.09275608122864919,
          -0.06500583196581713,
          0.08001649981017302,
          0.07719536881866895,
          -0.07788780071150282,
          -0.01497904277730874,
          0.06739278380019662,
          -0.10065844980705005,
          -0.1162377062604366,
          -0.011631251376439897,
          -0.10941443925271647,
          -0.027378740207898215,
          0.00830604982756123,
          -0.020520062677268355,
          -0.023372105848850657,
          -0.08232703150521997,
          -0.051003857428569666,
          0.021338033282891997,
          -0.0715727152064521,
          -0.0006992762192922197,
          -0.12738807311129652,
          0.017003425331447063,
          -0.006433441928463359,
          -0.03771076520235331,
          -0.13265485557594536,
          -0.019770431582720308,
          -0.09349940434080592,
          -0.08979514012862012,
          -0.08255264785441598,
          -0.06349353681170831,
          -0.0653882519087955,
          -0.04539265864856642,
          0.036148816835560836,
          -0.11772811540197387,
          0.040903425151107314,
          0.03614648639562423,
          0.06784216655135011,
          -0.032965773006538655,
          0.009084353236267297,
          0.06941393762681677,
          -0.03620735612727065,
          -0.016935529274942008,
          0.008035347391312783,
          -0.11475791592944705,
          -0.11462105740885738,
          -0.026934318159467136,
          -0.02199717038067724,
          -0.008270454883443882,
          -0.05988767761759121,
          -0.07883557173178903,
          -0.15825891917267484,
          -0.1056220533092838,
          -0.06737760976337723,
          0.015536422666136236,
          -0.13117259903853518,
          -0.0931992794822027,
          -0.17410398039807862,
          -0.022594821624057383,
          0.040592642921933465,
          -0.10847904052329525,
          -0.006661942629485863,
          -0.02956594626704842,
          -0.029554774425408294,
          0.07565039727047938,
          -0.05688996231690963,
          -0.11569495389843845,
          -0.04277815451960871,
          -0.1535533515975384,
          -0.09840314416613909,
          -0.025406373638947245,
          -0.09119726384909514,
          -0.05300770942796518,
          0.02565252980220836,
          0.06107585107439322,
          0.007777518562058103,
          -0.03722318496358734,
          -0.043153039826450516,
          -0.05432296957606056,
          -0.10068310187342944,
          -0.05196718928250317
         ],
         "y": [
          -0.05518895307842677,
          -0.0438362955965444,
          -0.1413563828076385,
          -0.03705470164256995,
          -0.07304082333463814,
          0.03996922947188917,
          0.1449521122587307,
          -0.12169116438446824,
          0.03096810985590778,
          -0.00916801896064856,
          0.05560713358973004,
          0.07719234891350878,
          0.08156737194323917,
          -0.03694936201503257,
          0.1274965644012831,
          0.07997592692254599,
          -0.013121051591445552,
          0.1951176625172626,
          0.13854300826289853,
          -0.019765113329431944,
          -0.07911941106535894,
          -0.13349825853828928,
          -0.11152791370137974,
          -0.038540586919852286,
          0.010143930596797184,
          -0.041408323409339434,
          -0.18353144362675683,
          -0.040469574163059255,
          0.09900948347741421,
          -0.09170065189153842,
          -0.048319798141317594,
          -0.04897986424675563,
          0.12394479913666921,
          0.17788916394373902,
          -0.03136517606409391,
          0.06412637392648247,
          0.15733594824124178,
          -0.022281834414272048,
          0.0064612453986464344,
          0.20511220093655724,
          -0.14793452890191677,
          -0.09162691799869994,
          -0.09573110035869112,
          0.27869750048906167,
          0.015272116780970705,
          -0.11326827133449449,
          -0.10730626117027861,
          0.10528557089223926,
          0.11029875952282116,
          -0.1207108114308627,
          0.10152673740193405,
          0.10357442800224649,
          -0.1796157085057829,
          0.14871062397835622,
          0.14020116885275713,
          -0.1431669749512619,
          -0.08698369233114614,
          0.03877270804858549,
          0.09633493694084433,
          -0.0611694240167804,
          0.026753653554965916,
          0.08853018483060271,
          -0.05476903799128961,
          -0.09919728573376839,
          -0.04169795955244266,
          0.12474727510011789,
          -0.004758715302980865,
          -0.14014901028528656,
          0.20440354641305666,
          0.23539577785099716,
          -0.01819093621123068,
          0.014787418646621257,
          -0.1831237593850147,
          -0.18562172170273603,
          -0.18718812891573813,
          -0.08952428653622553,
          0.18547398011387367,
          0.03397822445795687,
          0.01353641863059855,
          -0.005322275477565891,
          0.08329168434758798,
          -0.014302419876839577,
          -0.08947883911248343,
          -0.001955390609216195,
          0.07784985836657035,
          0.04766837634608022,
          -0.037713151015106645,
          0.06950294522587128,
          -0.15944324034472895,
          -0.031037206005830265,
          0.1139288591327422,
          0.035094035158015534,
          0.009756344702641057,
          -0.040357182896239914,
          -0.085842497204147,
          0.09245965507872668,
          0.07472778341738633,
          -0.1468769375810092,
          -0.08930594340432794,
          -0.04664337983867273,
          -0.06862279167313938,
          0.21792596903161107,
          0.10332837649129978,
          -0.042398423429961224,
          -0.08303807145150216,
          0.10001043960948884,
          -0.0751935952615483
         ],
         "z": [
          0.04180963935141464,
          -0.10968963607308387,
          0.036785361424977826,
          -0.01279604089444866,
          -0.0564956489049288,
          0.039175386738484655,
          -0.0697871711156598,
          0.08954667472514888,
          -0.01905887275070595,
          -0.05214432491542189,
          0.1264195445025729,
          0.012388379025979498,
          0.06783210889308261,
          0.010165032893445556,
          -0.1136555006360094,
          -0.1420566695103117,
          -0.07571019558739625,
          -0.05099048794369794,
          -0.01853196154940988,
          0.05581025530008314,
          -0.11480863010335544,
          -0.13350144249620371,
          -0.042437345878026486,
          -0.0902110406679897,
          -0.05205800007122154,
          -0.08680579618278181,
          -0.1281155947685553,
          -0.09601425797445073,
          0.025878287220540436,
          -0.12585006262194903,
          -0.17057681662936489,
          0.16906254484380903,
          -0.029725812406897086,
          -0.04756133027090193,
          -0.034554227198631896,
          0.17175368598899232,
          -0.14679525696584178,
          -0.07140662490125572,
          -0.14790552969975318,
          -0.04886378924403582,
          0.03611010823502218,
          -0.06198015035379264,
          -0.10400488532960638,
          -0.048542096182930476,
          0.016203699024134204,
          -0.0064830269080505005,
          -0.09237273200610353,
          0.07554716195974583,
          -0.05627507301213418,
          0.05870237967518065,
          -0.007499038276294238,
          0.09617021113094626,
          -0.14881538733938002,
          0.02726487889736751,
          0.049329554270160066,
          -0.014570564361586059,
          0.019907713754806256,
          -0.05797328397429579,
          -0.12945309924553502,
          -0.11331043836839289,
          -0.06927612776247288,
          0.03599188844523275,
          -0.13600416483724834,
          -0.08864968272890404,
          -0.03366497943993382,
          -0.09423001893712683,
          -0.010524092575248082,
          -0.07856122078312248,
          -0.07933913396766461,
          -0.023535846002758126,
          0.08853104026482882,
          0.019199563243926118,
          0.04254825066116374,
          -0.044885597871431836,
          -0.03201146140927646,
          -0.013077326274815452,
          0.07997626510811567,
          0.05822783370166367,
          0.02620570151534881,
          0.06552247929800237,
          -0.06889316731869101,
          -0.032562655907105574,
          0.11552642793716596,
          0.09045403642392683,
          -0.06093366546987819,
          -0.03471942149422972,
          0.19227596763560845,
          0.040595964759999506,
          -0.01580466082353279,
          -0.08751179744397972,
          -0.017886332434598338,
          0.08906130737459494,
          0.1685982930499596,
          0.05994953689214407,
          -0.013887026924842087,
          0.11461406658289919,
          0.03978549224668126,
          0.02316879871433469,
          0.06094052455456673,
          -0.11548692141002344,
          -0.07548299172673528,
          -0.024491967703316197,
          -0.03809048752205578,
          0.13633231168680823,
          -0.0722256612906272,
          0.08285898848505158,
          -0.07264003213734055
         ]
        }
       ],
       "layout": {
        "legend": {
         "itemsizing": "constant",
         "title": {
          "text": "color"
         },
         "tracegroupgap": 0
        },
        "margin": {
         "t": 60
        },
        "scene": {
         "domain": {
          "x": [
           0,
           1
          ],
          "y": [
           0,
           1
          ]
         },
         "xaxis": {
          "title": {
           "text": "pc1"
          }
         },
         "yaxis": {
          "title": {
           "text": "pc2"
          }
         },
         "zaxis": {
          "title": {
           "text": "pc3"
          }
         }
        },
        "template": {
         "data": {
          "bar": [
           {
            "error_x": {
             "color": "#2a3f5f"
            },
            "error_y": {
             "color": "#2a3f5f"
            },
            "marker": {
             "line": {
              "color": "#E5ECF6",
              "width": 0.5
             },
             "pattern": {
              "fillmode": "overlay",
              "size": 10,
              "solidity": 0.2
             }
            },
            "type": "bar"
           }
          ],
          "barpolar": [
           {
            "marker": {
             "line": {
              "color": "#E5ECF6",
              "width": 0.5
             },
             "pattern": {
              "fillmode": "overlay",
              "size": 10,
              "solidity": 0.2
             }
            },
            "type": "barpolar"
           }
          ],
          "carpet": [
           {
            "aaxis": {
             "endlinecolor": "#2a3f5f",
             "gridcolor": "white",
             "linecolor": "white",
             "minorgridcolor": "white",
             "startlinecolor": "#2a3f5f"
            },
            "baxis": {
             "endlinecolor": "#2a3f5f",
             "gridcolor": "white",
             "linecolor": "white",
             "minorgridcolor": "white",
             "startlinecolor": "#2a3f5f"
            },
            "type": "carpet"
           }
          ],
          "choropleth": [
           {
            "colorbar": {
             "outlinewidth": 0,
             "ticks": ""
            },
            "type": "choropleth"
           }
          ],
          "contour": [
           {
            "colorbar": {
             "outlinewidth": 0,
             "ticks": ""
            },
            "colorscale": [
             [
              0,
              "#0d0887"
             ],
             [
              0.1111111111111111,
              "#46039f"
             ],
             [
              0.2222222222222222,
              "#7201a8"
             ],
             [
              0.3333333333333333,
              "#9c179e"
             ],
             [
              0.4444444444444444,
              "#bd3786"
             ],
             [
              0.5555555555555556,
              "#d8576b"
             ],
             [
              0.6666666666666666,
              "#ed7953"
             ],
             [
              0.7777777777777778,
              "#fb9f3a"
             ],
             [
              0.8888888888888888,
              "#fdca26"
             ],
             [
              1,
              "#f0f921"
             ]
            ],
            "type": "contour"
           }
          ],
          "contourcarpet": [
           {
            "colorbar": {
             "outlinewidth": 0,
             "ticks": ""
            },
            "type": "contourcarpet"
           }
          ],
          "heatmap": [
           {
            "colorbar": {
             "outlinewidth": 0,
             "ticks": ""
            },
            "colorscale": [
             [
              0,
              "#0d0887"
             ],
             [
              0.1111111111111111,
              "#46039f"
             ],
             [
              0.2222222222222222,
              "#7201a8"
             ],
             [
              0.3333333333333333,
              "#9c179e"
             ],
             [
              0.4444444444444444,
              "#bd3786"
             ],
             [
              0.5555555555555556,
              "#d8576b"
             ],
             [
              0.6666666666666666,
              "#ed7953"
             ],
             [
              0.7777777777777778,
              "#fb9f3a"
             ],
             [
              0.8888888888888888,
              "#fdca26"
             ],
             [
              1,
              "#f0f921"
             ]
            ],
            "type": "heatmap"
           }
          ],
          "heatmapgl": [
           {
            "colorbar": {
             "outlinewidth": 0,
             "ticks": ""
            },
            "colorscale": [
             [
              0,
              "#0d0887"
             ],
             [
              0.1111111111111111,
              "#46039f"
             ],
             [
              0.2222222222222222,
              "#7201a8"
             ],
             [
              0.3333333333333333,
              "#9c179e"
             ],
             [
              0.4444444444444444,
              "#bd3786"
             ],
             [
              0.5555555555555556,
              "#d8576b"
             ],
             [
              0.6666666666666666,
              "#ed7953"
             ],
             [
              0.7777777777777778,
              "#fb9f3a"
             ],
             [
              0.8888888888888888,
              "#fdca26"
             ],
             [
              1,
              "#f0f921"
             ]
            ],
            "type": "heatmapgl"
           }
          ],
          "histogram": [
           {
            "marker": {
             "pattern": {
              "fillmode": "overlay",
              "size": 10,
              "solidity": 0.2
             }
            },
            "type": "histogram"
           }
          ],
          "histogram2d": [
           {
            "colorbar": {
             "outlinewidth": 0,
             "ticks": ""
            },
            "colorscale": [
             [
              0,
              "#0d0887"
             ],
             [
              0.1111111111111111,
              "#46039f"
             ],
             [
              0.2222222222222222,
              "#7201a8"
             ],
             [
              0.3333333333333333,
              "#9c179e"
             ],
             [
              0.4444444444444444,
              "#bd3786"
             ],
             [
              0.5555555555555556,
              "#d8576b"
             ],
             [
              0.6666666666666666,
              "#ed7953"
             ],
             [
              0.7777777777777778,
              "#fb9f3a"
             ],
             [
              0.8888888888888888,
              "#fdca26"
             ],
             [
              1,
              "#f0f921"
             ]
            ],
            "type": "histogram2d"
           }
          ],
          "histogram2dcontour": [
           {
            "colorbar": {
             "outlinewidth": 0,
             "ticks": ""
            },
            "colorscale": [
             [
              0,
              "#0d0887"
             ],
             [
              0.1111111111111111,
              "#46039f"
             ],
             [
              0.2222222222222222,
              "#7201a8"
             ],
             [
              0.3333333333333333,
              "#9c179e"
             ],
             [
              0.4444444444444444,
              "#bd3786"
             ],
             [
              0.5555555555555556,
              "#d8576b"
             ],
             [
              0.6666666666666666,
              "#ed7953"
             ],
             [
              0.7777777777777778,
              "#fb9f3a"
             ],
             [
              0.8888888888888888,
              "#fdca26"
             ],
             [
              1,
              "#f0f921"
             ]
            ],
            "type": "histogram2dcontour"
           }
          ],
          "mesh3d": [
           {
            "colorbar": {
             "outlinewidth": 0,
             "ticks": ""
            },
            "type": "mesh3d"
           }
          ],
          "parcoords": [
           {
            "line": {
             "colorbar": {
              "outlinewidth": 0,
              "ticks": ""
             }
            },
            "type": "parcoords"
           }
          ],
          "pie": [
           {
            "automargin": true,
            "type": "pie"
           }
          ],
          "scatter": [
           {
            "fillpattern": {
             "fillmode": "overlay",
             "size": 10,
             "solidity": 0.2
            },
            "type": "scatter"
           }
          ],
          "scatter3d": [
           {
            "line": {
             "colorbar": {
              "outlinewidth": 0,
              "ticks": ""
             }
            },
            "marker": {
             "colorbar": {
              "outlinewidth": 0,
              "ticks": ""
             }
            },
            "type": "scatter3d"
           }
          ],
          "scattercarpet": [
           {
            "marker": {
             "colorbar": {
              "outlinewidth": 0,
              "ticks": ""
             }
            },
            "type": "scattercarpet"
           }
          ],
          "scattergeo": [
           {
            "marker": {
             "colorbar": {
              "outlinewidth": 0,
              "ticks": ""
             }
            },
            "type": "scattergeo"
           }
          ],
          "scattergl": [
           {
            "marker": {
             "colorbar": {
              "outlinewidth": 0,
              "ticks": ""
             }
            },
            "type": "scattergl"
           }
          ],
          "scattermapbox": [
           {
            "marker": {
             "colorbar": {
              "outlinewidth": 0,
              "ticks": ""
             }
            },
            "type": "scattermapbox"
           }
          ],
          "scatterpolar": [
           {
            "marker": {
             "colorbar": {
              "outlinewidth": 0,
              "ticks": ""
             }
            },
            "type": "scatterpolar"
           }
          ],
          "scatterpolargl": [
           {
            "marker": {
             "colorbar": {
              "outlinewidth": 0,
              "ticks": ""
             }
            },
            "type": "scatterpolargl"
           }
          ],
          "scatterternary": [
           {
            "marker": {
             "colorbar": {
              "outlinewidth": 0,
              "ticks": ""
             }
            },
            "type": "scatterternary"
           }
          ],
          "surface": [
           {
            "colorbar": {
             "outlinewidth": 0,
             "ticks": ""
            },
            "colorscale": [
             [
              0,
              "#0d0887"
             ],
             [
              0.1111111111111111,
              "#46039f"
             ],
             [
              0.2222222222222222,
              "#7201a8"
             ],
             [
              0.3333333333333333,
              "#9c179e"
             ],
             [
              0.4444444444444444,
              "#bd3786"
             ],
             [
              0.5555555555555556,
              "#d8576b"
             ],
             [
              0.6666666666666666,
              "#ed7953"
             ],
             [
              0.7777777777777778,
              "#fb9f3a"
             ],
             [
              0.8888888888888888,
              "#fdca26"
             ],
             [
              1,
              "#f0f921"
             ]
            ],
            "type": "surface"
           }
          ],
          "table": [
           {
            "cells": {
             "fill": {
              "color": "#EBF0F8"
             },
             "line": {
              "color": "white"
             }
            },
            "header": {
             "fill": {
              "color": "#C8D4E3"
             },
             "line": {
              "color": "white"
             }
            },
            "type": "table"
           }
          ]
         },
         "layout": {
          "annotationdefaults": {
           "arrowcolor": "#2a3f5f",
           "arrowhead": 0,
           "arrowwidth": 1
          },
          "autotypenumbers": "strict",
          "coloraxis": {
           "colorbar": {
            "outlinewidth": 0,
            "ticks": ""
           }
          },
          "colorscale": {
           "diverging": [
            [
             0,
             "#8e0152"
            ],
            [
             0.1,
             "#c51b7d"
            ],
            [
             0.2,
             "#de77ae"
            ],
            [
             0.3,
             "#f1b6da"
            ],
            [
             0.4,
             "#fde0ef"
            ],
            [
             0.5,
             "#f7f7f7"
            ],
            [
             0.6,
             "#e6f5d0"
            ],
            [
             0.7,
             "#b8e186"
            ],
            [
             0.8,
             "#7fbc41"
            ],
            [
             0.9,
             "#4d9221"
            ],
            [
             1,
             "#276419"
            ]
           ],
           "sequential": [
            [
             0,
             "#0d0887"
            ],
            [
             0.1111111111111111,
             "#46039f"
            ],
            [
             0.2222222222222222,
             "#7201a8"
            ],
            [
             0.3333333333333333,
             "#9c179e"
            ],
            [
             0.4444444444444444,
             "#bd3786"
            ],
            [
             0.5555555555555556,
             "#d8576b"
            ],
            [
             0.6666666666666666,
             "#ed7953"
            ],
            [
             0.7777777777777778,
             "#fb9f3a"
            ],
            [
             0.8888888888888888,
             "#fdca26"
            ],
            [
             1,
             "#f0f921"
            ]
           ],
           "sequentialminus": [
            [
             0,
             "#0d0887"
            ],
            [
             0.1111111111111111,
             "#46039f"
            ],
            [
             0.2222222222222222,
             "#7201a8"
            ],
            [
             0.3333333333333333,
             "#9c179e"
            ],
            [
             0.4444444444444444,
             "#bd3786"
            ],
            [
             0.5555555555555556,
             "#d8576b"
            ],
            [
             0.6666666666666666,
             "#ed7953"
            ],
            [
             0.7777777777777778,
             "#fb9f3a"
            ],
            [
             0.8888888888888888,
             "#fdca26"
            ],
            [
             1,
             "#f0f921"
            ]
           ]
          },
          "colorway": [
           "#636efa",
           "#EF553B",
           "#00cc96",
           "#ab63fa",
           "#FFA15A",
           "#19d3f3",
           "#FF6692",
           "#B6E880",
           "#FF97FF",
           "#FECB52"
          ],
          "font": {
           "color": "#2a3f5f"
          },
          "geo": {
           "bgcolor": "white",
           "lakecolor": "white",
           "landcolor": "#E5ECF6",
           "showlakes": true,
           "showland": true,
           "subunitcolor": "white"
          },
          "hoverlabel": {
           "align": "left"
          },
          "hovermode": "closest",
          "mapbox": {
           "style": "light"
          },
          "paper_bgcolor": "white",
          "plot_bgcolor": "#E5ECF6",
          "polar": {
           "angularaxis": {
            "gridcolor": "white",
            "linecolor": "white",
            "ticks": ""
           },
           "bgcolor": "#E5ECF6",
           "radialaxis": {
            "gridcolor": "white",
            "linecolor": "white",
            "ticks": ""
           }
          },
          "scene": {
           "xaxis": {
            "backgroundcolor": "#E5ECF6",
            "gridcolor": "white",
            "gridwidth": 2,
            "linecolor": "white",
            "showbackground": true,
            "ticks": "",
            "zerolinecolor": "white"
           },
           "yaxis": {
            "backgroundcolor": "#E5ECF6",
            "gridcolor": "white",
            "gridwidth": 2,
            "linecolor": "white",
            "showbackground": true,
            "ticks": "",
            "zerolinecolor": "white"
           },
           "zaxis": {
            "backgroundcolor": "#E5ECF6",
            "gridcolor": "white",
            "gridwidth": 2,
            "linecolor": "white",
            "showbackground": true,
            "ticks": "",
            "zerolinecolor": "white"
           }
          },
          "shapedefaults": {
           "line": {
            "color": "#2a3f5f"
           }
          },
          "ternary": {
           "aaxis": {
            "gridcolor": "white",
            "linecolor": "white",
            "ticks": ""
           },
           "baxis": {
            "gridcolor": "white",
            "linecolor": "white",
            "ticks": ""
           },
           "bgcolor": "#E5ECF6",
           "caxis": {
            "gridcolor": "white",
            "linecolor": "white",
            "ticks": ""
           }
          },
          "title": {
           "x": 0.05
          },
          "xaxis": {
           "automargin": true,
           "gridcolor": "white",
           "linecolor": "white",
           "ticks": "",
           "title": {
            "standoff": 15
           },
           "zerolinecolor": "white",
           "zerolinewidth": 2
          },
          "yaxis": {
           "automargin": true,
           "gridcolor": "white",
           "linecolor": "white",
           "ticks": "",
           "title": {
            "standoff": 15
           },
           "zerolinecolor": "white",
           "zerolinewidth": 2
          }
         }
        }
       }
      }
     },
     "metadata": {},
     "output_type": "display_data"
    }
   ],
   "source": [
    "# Scatter plot PCA with remove as color and memorability score as size\n",
    "df_filtered['Remove?'] = df_filtered['Remove?'].astype('category')\n",
    "fig = px.scatter_3d(principalDf, x='pc1', y='pc2', z='pc3', color=df_filtered['Remove?'], size=df_filtered['mem_score'])\n",
    "fig.show()"
   ]
  },
  {
   "cell_type": "code",
   "execution_count": 18,
   "metadata": {},
   "outputs": [
    {
     "data": {
      "application/vnd.plotly.v1+json": {
       "config": {
        "plotlyServerURL": "https://plot.ly"
       },
       "data": [
        {
         "hovertemplate": "x=%{x}<br>y=%{y}<extra></extra>",
         "legendgroup": "",
         "line": {
          "color": "#636efa",
          "dash": "solid"
         },
         "marker": {
          "symbol": "circle"
         },
         "mode": "lines",
         "name": "",
         "orientation": "v",
         "showlegend": false,
         "type": "scatter",
         "x": [
          1,
          2,
          3,
          4,
          5,
          6,
          7,
          8,
          9,
          10,
          11,
          12,
          13,
          14,
          15,
          16,
          17,
          18,
          19,
          20,
          21,
          22,
          23,
          24,
          25,
          26,
          27,
          28,
          29,
          30,
          31,
          32,
          33,
          34,
          35,
          36,
          37,
          38,
          39,
          40,
          41,
          42,
          43,
          44,
          45,
          46,
          47,
          48,
          49,
          50,
          51,
          52,
          53,
          54,
          55,
          56,
          57,
          58,
          59,
          60,
          61,
          62,
          63,
          64,
          65,
          66,
          67,
          68,
          69,
          70,
          71,
          72,
          73,
          74,
          75,
          76,
          77,
          78,
          79,
          80,
          81,
          82,
          83,
          84,
          85,
          86,
          87,
          88,
          89,
          90,
          91,
          92,
          93,
          94,
          95,
          96,
          97,
          98,
          99,
          100,
          101,
          102,
          103,
          104,
          105,
          106,
          107,
          108,
          109,
          110,
          111,
          112,
          113,
          114,
          115,
          116,
          117,
          118,
          119,
          120,
          121,
          122,
          123,
          124,
          125,
          126,
          127,
          128,
          129,
          130,
          131,
          132,
          133,
          134,
          135,
          136,
          137,
          138,
          139,
          140,
          141,
          142,
          143,
          144,
          145,
          146,
          147,
          148,
          149,
          150,
          151,
          152,
          153,
          154,
          155,
          156,
          157,
          158,
          159,
          160,
          161,
          162,
          163,
          164,
          165,
          166,
          167,
          168,
          169,
          170,
          171,
          172,
          173,
          174,
          175,
          176,
          177,
          178,
          179,
          180,
          181,
          182,
          183,
          184,
          185,
          186,
          187,
          188,
          189,
          190,
          191,
          192,
          193,
          194,
          195,
          196,
          197,
          198,
          199,
          200,
          201,
          202,
          203,
          204,
          205,
          206,
          207,
          208,
          209,
          210,
          211,
          212,
          213,
          214,
          215,
          216,
          217,
          218,
          219,
          220,
          221,
          222,
          223,
          224,
          225,
          226
         ],
         "xaxis": "x",
         "y": [
          0.04336461821597521,
          0.08061052600858326,
          0.11215378611369467,
          0.13924094087630906,
          0.16420351168778344,
          0.1870531146517177,
          0.2073164312312727,
          0.22704170804852591,
          0.24617383125249592,
          0.2639542518408014,
          0.2810369659368983,
          0.296563280587404,
          0.3117310328252146,
          0.3263801795349724,
          0.3402140569542953,
          0.3533436701341922,
          0.36624617405058935,
          0.3785994656464589,
          0.39050359299263865,
          0.40200576073147976,
          0.41320787370604356,
          0.4239977810038636,
          0.4345545231802655,
          0.44502769098382167,
          0.45494176782831347,
          0.46476093927852546,
          0.4743335310639813,
          0.4837396580778189,
          0.4928917084409487,
          0.5017306948994358,
          0.5104325484019685,
          0.5187120562204222,
          0.5268980496960388,
          0.5350142624592182,
          0.5430268438526358,
          0.5506086735647673,
          0.5581006400934483,
          0.5654631521493996,
          0.5727207961007681,
          0.5797396265041725,
          0.5866322283070484,
          0.5934200633892622,
          0.6000981577467901,
          0.6067184973697097,
          0.6131052890400412,
          0.6192682640919066,
          0.6253606154152369,
          0.6312886779868774,
          0.6371616788910829,
          0.6429330886320669,
          0.6486151204094547,
          0.6541588176891974,
          0.6596627767160779,
          0.6649947543841518,
          0.6703030854027753,
          0.6754498607206393,
          0.680474343435875,
          0.685440172737346,
          0.6903069052575205,
          0.6951028677794747,
          0.6998622775889908,
          0.7046119491695589,
          0.70932402255885,
          0.7138778334425531,
          0.7183078101647982,
          0.722656008640086,
          0.7269778946344858,
          0.731235466985801,
          0.7354689108502749,
          0.7396541818483988,
          0.7437564198553128,
          0.7477330477104001,
          0.7516873680403579,
          0.7555704537639432,
          0.7594395605239519,
          0.7631872792878468,
          0.7669044644299436,
          0.7706050447412682,
          0.7742261764132774,
          0.7777915834429151,
          0.7813162717608093,
          0.7847899434132992,
          0.7882047520634233,
          0.7915878772618056,
          0.7949073838972931,
          0.7981781100924923,
          0.80142843492799,
          0.8046205791953579,
          0.807794962315632,
          0.8109206411546918,
          0.8139825279478438,
          0.8170087076893877,
          0.819987230366665,
          0.8229592250124933,
          0.8258751116930731,
          0.8287325333135123,
          0.8315740798167852,
          0.8343680051043739,
          0.8371328597221369,
          0.8398659773780461,
          0.8425460723517417,
          0.8451668207446096,
          0.847775887288356,
          0.8503267872577229,
          0.8528602098982985,
          0.8553767154215438,
          0.8578561512063073,
          0.8602959964330265,
          0.8627235124639329,
          0.8651129383307675,
          0.8674614399099434,
          0.8697961115185122,
          0.8720736097692068,
          0.874320519369204,
          0.8765400183929344,
          0.8787471994678716,
          0.8809185549906406,
          0.8830330193151104,
          0.885141801255002,
          0.8872375957620616,
          0.8893030416126946,
          0.8913214487711543,
          0.8933017454598997,
          0.8952710509836661,
          0.897211989029778,
          0.8991198382287585,
          0.9010218790500485,
          0.9028785499810363,
          0.9047126707364566,
          0.9065155041242304,
          0.9082812663033208,
          0.9100341381028936,
          0.9117684200084855,
          0.9134882913344337,
          0.9151697995224941,
          0.9168216664169353,
          0.9184573616401586,
          0.9200799105518833,
          0.9216903616615949,
          0.9232730638331433,
          0.9248405442089048,
          0.9263824012327598,
          0.927920278133383,
          0.9294297399017121,
          0.9309204689807664,
          0.9324074675341135,
          0.933861716570905,
          0.9353110443893458,
          0.9367336302433836,
          0.9381540762724576,
          0.9395435236453974,
          0.940928839362714,
          0.942256277824221,
          0.9435673309891955,
          0.9448685124055258,
          0.9461416810421208,
          0.9474092409061636,
          0.9486563472452233,
          0.9498939326275272,
          0.9511075863758586,
          0.9522878458662135,
          0.9534609909126819,
          0.9546326601687799,
          0.9557877916870954,
          0.9569175004116954,
          0.9580273334613895,
          0.9591261966972564,
          0.9602170493988841,
          0.9612863351724192,
          0.9623434542719247,
          0.9633707135281094,
          0.9643945247113035,
          0.9654111322246771,
          0.9664220758161648,
          0.9674137027212916,
          0.9683833151159118,
          0.969347402630159,
          0.9703059950217776,
          0.9712372798148267,
          0.9721586204767299,
          0.9730649081443502,
          0.9739583625136324,
          0.9748441439785306,
          0.9757171176362306,
          0.9765756664210381,
          0.9774223354994718,
          0.9782526378520481,
          0.9790762259423279,
          0.9798967215203771,
          0.9806937357688779,
          0.9814718683737373,
          0.9822413831270005,
          0.9830055324939656,
          0.9837535190043032,
          0.9844792950976096,
          0.9851991575080727,
          0.9859126673714663,
          0.9865991823130434,
          0.9872816217409883,
          0.9879541844791211,
          0.98860774364579,
          0.9892436647026431,
          0.9898772698188106,
          0.9904932210984562,
          0.9910930271250421,
          0.9916834080454754,
          0.9922555458573624,
          0.992819770850802,
          0.9933756300434833,
          0.9939237933153224,
          0.9944574625532331,
          0.9949841509218386,
          0.9955026573482816,
          0.9960104542858753,
          0.9965089687993243,
          0.9970031473380662,
          0.9974585637567825,
          0.9979075350665022,
          0.9983405762203393,
          0.9987647520803694,
          0.9991820361918097,
          0.9995703504561555,
          0.9997982754802314,
          0.9999999999999996,
          0.9999999999999996,
          0.9999999999999996
         ],
         "yaxis": "y"
        }
       ],
       "layout": {
        "legend": {
         "tracegroupgap": 0
        },
        "margin": {
         "t": 60
        },
        "template": {
         "data": {
          "bar": [
           {
            "error_x": {
             "color": "#2a3f5f"
            },
            "error_y": {
             "color": "#2a3f5f"
            },
            "marker": {
             "line": {
              "color": "#E5ECF6",
              "width": 0.5
             },
             "pattern": {
              "fillmode": "overlay",
              "size": 10,
              "solidity": 0.2
             }
            },
            "type": "bar"
           }
          ],
          "barpolar": [
           {
            "marker": {
             "line": {
              "color": "#E5ECF6",
              "width": 0.5
             },
             "pattern": {
              "fillmode": "overlay",
              "size": 10,
              "solidity": 0.2
             }
            },
            "type": "barpolar"
           }
          ],
          "carpet": [
           {
            "aaxis": {
             "endlinecolor": "#2a3f5f",
             "gridcolor": "white",
             "linecolor": "white",
             "minorgridcolor": "white",
             "startlinecolor": "#2a3f5f"
            },
            "baxis": {
             "endlinecolor": "#2a3f5f",
             "gridcolor": "white",
             "linecolor": "white",
             "minorgridcolor": "white",
             "startlinecolor": "#2a3f5f"
            },
            "type": "carpet"
           }
          ],
          "choropleth": [
           {
            "colorbar": {
             "outlinewidth": 0,
             "ticks": ""
            },
            "type": "choropleth"
           }
          ],
          "contour": [
           {
            "colorbar": {
             "outlinewidth": 0,
             "ticks": ""
            },
            "colorscale": [
             [
              0,
              "#0d0887"
             ],
             [
              0.1111111111111111,
              "#46039f"
             ],
             [
              0.2222222222222222,
              "#7201a8"
             ],
             [
              0.3333333333333333,
              "#9c179e"
             ],
             [
              0.4444444444444444,
              "#bd3786"
             ],
             [
              0.5555555555555556,
              "#d8576b"
             ],
             [
              0.6666666666666666,
              "#ed7953"
             ],
             [
              0.7777777777777778,
              "#fb9f3a"
             ],
             [
              0.8888888888888888,
              "#fdca26"
             ],
             [
              1,
              "#f0f921"
             ]
            ],
            "type": "contour"
           }
          ],
          "contourcarpet": [
           {
            "colorbar": {
             "outlinewidth": 0,
             "ticks": ""
            },
            "type": "contourcarpet"
           }
          ],
          "heatmap": [
           {
            "colorbar": {
             "outlinewidth": 0,
             "ticks": ""
            },
            "colorscale": [
             [
              0,
              "#0d0887"
             ],
             [
              0.1111111111111111,
              "#46039f"
             ],
             [
              0.2222222222222222,
              "#7201a8"
             ],
             [
              0.3333333333333333,
              "#9c179e"
             ],
             [
              0.4444444444444444,
              "#bd3786"
             ],
             [
              0.5555555555555556,
              "#d8576b"
             ],
             [
              0.6666666666666666,
              "#ed7953"
             ],
             [
              0.7777777777777778,
              "#fb9f3a"
             ],
             [
              0.8888888888888888,
              "#fdca26"
             ],
             [
              1,
              "#f0f921"
             ]
            ],
            "type": "heatmap"
           }
          ],
          "heatmapgl": [
           {
            "colorbar": {
             "outlinewidth": 0,
             "ticks": ""
            },
            "colorscale": [
             [
              0,
              "#0d0887"
             ],
             [
              0.1111111111111111,
              "#46039f"
             ],
             [
              0.2222222222222222,
              "#7201a8"
             ],
             [
              0.3333333333333333,
              "#9c179e"
             ],
             [
              0.4444444444444444,
              "#bd3786"
             ],
             [
              0.5555555555555556,
              "#d8576b"
             ],
             [
              0.6666666666666666,
              "#ed7953"
             ],
             [
              0.7777777777777778,
              "#fb9f3a"
             ],
             [
              0.8888888888888888,
              "#fdca26"
             ],
             [
              1,
              "#f0f921"
             ]
            ],
            "type": "heatmapgl"
           }
          ],
          "histogram": [
           {
            "marker": {
             "pattern": {
              "fillmode": "overlay",
              "size": 10,
              "solidity": 0.2
             }
            },
            "type": "histogram"
           }
          ],
          "histogram2d": [
           {
            "colorbar": {
             "outlinewidth": 0,
             "ticks": ""
            },
            "colorscale": [
             [
              0,
              "#0d0887"
             ],
             [
              0.1111111111111111,
              "#46039f"
             ],
             [
              0.2222222222222222,
              "#7201a8"
             ],
             [
              0.3333333333333333,
              "#9c179e"
             ],
             [
              0.4444444444444444,
              "#bd3786"
             ],
             [
              0.5555555555555556,
              "#d8576b"
             ],
             [
              0.6666666666666666,
              "#ed7953"
             ],
             [
              0.7777777777777778,
              "#fb9f3a"
             ],
             [
              0.8888888888888888,
              "#fdca26"
             ],
             [
              1,
              "#f0f921"
             ]
            ],
            "type": "histogram2d"
           }
          ],
          "histogram2dcontour": [
           {
            "colorbar": {
             "outlinewidth": 0,
             "ticks": ""
            },
            "colorscale": [
             [
              0,
              "#0d0887"
             ],
             [
              0.1111111111111111,
              "#46039f"
             ],
             [
              0.2222222222222222,
              "#7201a8"
             ],
             [
              0.3333333333333333,
              "#9c179e"
             ],
             [
              0.4444444444444444,
              "#bd3786"
             ],
             [
              0.5555555555555556,
              "#d8576b"
             ],
             [
              0.6666666666666666,
              "#ed7953"
             ],
             [
              0.7777777777777778,
              "#fb9f3a"
             ],
             [
              0.8888888888888888,
              "#fdca26"
             ],
             [
              1,
              "#f0f921"
             ]
            ],
            "type": "histogram2dcontour"
           }
          ],
          "mesh3d": [
           {
            "colorbar": {
             "outlinewidth": 0,
             "ticks": ""
            },
            "type": "mesh3d"
           }
          ],
          "parcoords": [
           {
            "line": {
             "colorbar": {
              "outlinewidth": 0,
              "ticks": ""
             }
            },
            "type": "parcoords"
           }
          ],
          "pie": [
           {
            "automargin": true,
            "type": "pie"
           }
          ],
          "scatter": [
           {
            "fillpattern": {
             "fillmode": "overlay",
             "size": 10,
             "solidity": 0.2
            },
            "type": "scatter"
           }
          ],
          "scatter3d": [
           {
            "line": {
             "colorbar": {
              "outlinewidth": 0,
              "ticks": ""
             }
            },
            "marker": {
             "colorbar": {
              "outlinewidth": 0,
              "ticks": ""
             }
            },
            "type": "scatter3d"
           }
          ],
          "scattercarpet": [
           {
            "marker": {
             "colorbar": {
              "outlinewidth": 0,
              "ticks": ""
             }
            },
            "type": "scattercarpet"
           }
          ],
          "scattergeo": [
           {
            "marker": {
             "colorbar": {
              "outlinewidth": 0,
              "ticks": ""
             }
            },
            "type": "scattergeo"
           }
          ],
          "scattergl": [
           {
            "marker": {
             "colorbar": {
              "outlinewidth": 0,
              "ticks": ""
             }
            },
            "type": "scattergl"
           }
          ],
          "scattermapbox": [
           {
            "marker": {
             "colorbar": {
              "outlinewidth": 0,
              "ticks": ""
             }
            },
            "type": "scattermapbox"
           }
          ],
          "scatterpolar": [
           {
            "marker": {
             "colorbar": {
              "outlinewidth": 0,
              "ticks": ""
             }
            },
            "type": "scatterpolar"
           }
          ],
          "scatterpolargl": [
           {
            "marker": {
             "colorbar": {
              "outlinewidth": 0,
              "ticks": ""
             }
            },
            "type": "scatterpolargl"
           }
          ],
          "scatterternary": [
           {
            "marker": {
             "colorbar": {
              "outlinewidth": 0,
              "ticks": ""
             }
            },
            "type": "scatterternary"
           }
          ],
          "surface": [
           {
            "colorbar": {
             "outlinewidth": 0,
             "ticks": ""
            },
            "colorscale": [
             [
              0,
              "#0d0887"
             ],
             [
              0.1111111111111111,
              "#46039f"
             ],
             [
              0.2222222222222222,
              "#7201a8"
             ],
             [
              0.3333333333333333,
              "#9c179e"
             ],
             [
              0.4444444444444444,
              "#bd3786"
             ],
             [
              0.5555555555555556,
              "#d8576b"
             ],
             [
              0.6666666666666666,
              "#ed7953"
             ],
             [
              0.7777777777777778,
              "#fb9f3a"
             ],
             [
              0.8888888888888888,
              "#fdca26"
             ],
             [
              1,
              "#f0f921"
             ]
            ],
            "type": "surface"
           }
          ],
          "table": [
           {
            "cells": {
             "fill": {
              "color": "#EBF0F8"
             },
             "line": {
              "color": "white"
             }
            },
            "header": {
             "fill": {
              "color": "#C8D4E3"
             },
             "line": {
              "color": "white"
             }
            },
            "type": "table"
           }
          ]
         },
         "layout": {
          "annotationdefaults": {
           "arrowcolor": "#2a3f5f",
           "arrowhead": 0,
           "arrowwidth": 1
          },
          "autotypenumbers": "strict",
          "coloraxis": {
           "colorbar": {
            "outlinewidth": 0,
            "ticks": ""
           }
          },
          "colorscale": {
           "diverging": [
            [
             0,
             "#8e0152"
            ],
            [
             0.1,
             "#c51b7d"
            ],
            [
             0.2,
             "#de77ae"
            ],
            [
             0.3,
             "#f1b6da"
            ],
            [
             0.4,
             "#fde0ef"
            ],
            [
             0.5,
             "#f7f7f7"
            ],
            [
             0.6,
             "#e6f5d0"
            ],
            [
             0.7,
             "#b8e186"
            ],
            [
             0.8,
             "#7fbc41"
            ],
            [
             0.9,
             "#4d9221"
            ],
            [
             1,
             "#276419"
            ]
           ],
           "sequential": [
            [
             0,
             "#0d0887"
            ],
            [
             0.1111111111111111,
             "#46039f"
            ],
            [
             0.2222222222222222,
             "#7201a8"
            ],
            [
             0.3333333333333333,
             "#9c179e"
            ],
            [
             0.4444444444444444,
             "#bd3786"
            ],
            [
             0.5555555555555556,
             "#d8576b"
            ],
            [
             0.6666666666666666,
             "#ed7953"
            ],
            [
             0.7777777777777778,
             "#fb9f3a"
            ],
            [
             0.8888888888888888,
             "#fdca26"
            ],
            [
             1,
             "#f0f921"
            ]
           ],
           "sequentialminus": [
            [
             0,
             "#0d0887"
            ],
            [
             0.1111111111111111,
             "#46039f"
            ],
            [
             0.2222222222222222,
             "#7201a8"
            ],
            [
             0.3333333333333333,
             "#9c179e"
            ],
            [
             0.4444444444444444,
             "#bd3786"
            ],
            [
             0.5555555555555556,
             "#d8576b"
            ],
            [
             0.6666666666666666,
             "#ed7953"
            ],
            [
             0.7777777777777778,
             "#fb9f3a"
            ],
            [
             0.8888888888888888,
             "#fdca26"
            ],
            [
             1,
             "#f0f921"
            ]
           ]
          },
          "colorway": [
           "#636efa",
           "#EF553B",
           "#00cc96",
           "#ab63fa",
           "#FFA15A",
           "#19d3f3",
           "#FF6692",
           "#B6E880",
           "#FF97FF",
           "#FECB52"
          ],
          "font": {
           "color": "#2a3f5f"
          },
          "geo": {
           "bgcolor": "white",
           "lakecolor": "white",
           "landcolor": "#E5ECF6",
           "showlakes": true,
           "showland": true,
           "subunitcolor": "white"
          },
          "hoverlabel": {
           "align": "left"
          },
          "hovermode": "closest",
          "mapbox": {
           "style": "light"
          },
          "paper_bgcolor": "white",
          "plot_bgcolor": "#E5ECF6",
          "polar": {
           "angularaxis": {
            "gridcolor": "white",
            "linecolor": "white",
            "ticks": ""
           },
           "bgcolor": "#E5ECF6",
           "radialaxis": {
            "gridcolor": "white",
            "linecolor": "white",
            "ticks": ""
           }
          },
          "scene": {
           "xaxis": {
            "backgroundcolor": "#E5ECF6",
            "gridcolor": "white",
            "gridwidth": 2,
            "linecolor": "white",
            "showbackground": true,
            "ticks": "",
            "zerolinecolor": "white"
           },
           "yaxis": {
            "backgroundcolor": "#E5ECF6",
            "gridcolor": "white",
            "gridwidth": 2,
            "linecolor": "white",
            "showbackground": true,
            "ticks": "",
            "zerolinecolor": "white"
           },
           "zaxis": {
            "backgroundcolor": "#E5ECF6",
            "gridcolor": "white",
            "gridwidth": 2,
            "linecolor": "white",
            "showbackground": true,
            "ticks": "",
            "zerolinecolor": "white"
           }
          },
          "shapedefaults": {
           "line": {
            "color": "#2a3f5f"
           }
          },
          "ternary": {
           "aaxis": {
            "gridcolor": "white",
            "linecolor": "white",
            "ticks": ""
           },
           "baxis": {
            "gridcolor": "white",
            "linecolor": "white",
            "ticks": ""
           },
           "bgcolor": "#E5ECF6",
           "caxis": {
            "gridcolor": "white",
            "linecolor": "white",
            "ticks": ""
           }
          },
          "title": {
           "x": 0.05
          },
          "xaxis": {
           "automargin": true,
           "gridcolor": "white",
           "linecolor": "white",
           "ticks": "",
           "title": {
            "standoff": 15
           },
           "zerolinecolor": "white",
           "zerolinewidth": 2
          },
          "yaxis": {
           "automargin": true,
           "gridcolor": "white",
           "linecolor": "white",
           "ticks": "",
           "title": {
            "standoff": 15
           },
           "zerolinecolor": "white",
           "zerolinewidth": 2
          }
         }
        },
        "xaxis": {
         "anchor": "y",
         "domain": [
          0,
          1
         ],
         "title": {
          "text": "x"
         }
        },
        "yaxis": {
         "anchor": "x",
         "domain": [
          0,
          1
         ],
         "title": {
          "text": "y"
         }
        }
       }
      }
     },
     "metadata": {},
     "output_type": "display_data"
    }
   ],
   "source": [
    "# Plot n_components vs explained_variance_ratio_ for PCA\n",
    "pca_226 = PCA(n_components=226)\n",
    "pca_226.fit(df_filtered['openai_caption_embeddings'].tolist())\n",
    "fig = px.line(x=np.arange(1, 227), y=np.cumsum(pca_226.explained_variance_ratio_))\n",
    "fig.show()"
   ]
  },
  {
   "cell_type": "code",
   "execution_count": 19,
   "metadata": {},
   "outputs": [],
   "source": [
    "# Compute PCA for 128 components\n",
    "pca_128 = PCA(n_components=128)\n",
    "pca_128.fit(df_filtered['openai_caption_embeddings'].tolist())\n",
    "principalComponents_128 = pca_128.transform(df_filtered['openai_caption_embeddings'].tolist())"
   ]
  },
  {
   "cell_type": "code",
   "execution_count": 20,
   "metadata": {},
   "outputs": [
    {
     "name": "stdout",
     "output_type": "stream",
     "text": [
      "(180, 128) (46, 128) (180,) (46,)\n"
     ]
    }
   ],
   "source": [
    "# Train test split (Balance beween error ids)\n",
    "from sklearn.model_selection import train_test_split\n",
    "\n",
    "X_train, X_test, y_train, y_test = train_test_split(principalComponents_128, df_filtered['ERROR ID'], test_size=0.2, random_state=42, stratify=df_filtered['ERROR ID'])\n",
    "print(X_train.shape, X_test.shape, y_train.shape, y_test.shape)\n"
   ]
  },
  {
   "cell_type": "code",
   "execution_count": 21,
   "metadata": {},
   "outputs": [
    {
     "name": "stderr",
     "output_type": "stream",
     "text": [
      "Exception ignored on calling ctypes callback function: <function _ThreadpoolInfo._find_modules_with_dl_iterate_phdr.<locals>.match_module_callback at 0x7f5c33bc4670>\n",
      "Traceback (most recent call last):\n",
      "  File \"/home/imartinf/miniconda3/envs/memo/lib/python3.10/site-packages/threadpoolctl.py\", line 400, in match_module_callback\n",
      "    self._make_module_from_path(filepath)\n",
      "  File \"/home/imartinf/miniconda3/envs/memo/lib/python3.10/site-packages/threadpoolctl.py\", line 515, in _make_module_from_path\n",
      "    module = module_class(filepath, prefix, user_api, internal_api)\n",
      "  File \"/home/imartinf/miniconda3/envs/memo/lib/python3.10/site-packages/threadpoolctl.py\", line 606, in __init__\n",
      "    self.version = self.get_version()\n",
      "  File \"/home/imartinf/miniconda3/envs/memo/lib/python3.10/site-packages/threadpoolctl.py\", line 646, in get_version\n",
      "    config = get_config().split()\n",
      "AttributeError: 'NoneType' object has no attribute 'split'\n"
     ]
    },
    {
     "name": "stdout",
     "output_type": "stream",
     "text": [
      "0.3695652173913043\n",
      "[[5 6 0 1 0 0 0 0 0]\n",
      " [4 5 0 1 0 0 0 0 0]\n",
      " [2 2 5 1 0 0 0 0 0]\n",
      " [3 2 0 1 0 0 0 0 0]\n",
      " [0 1 1 0 0 0 0 0 0]\n",
      " [0 1 0 0 0 0 0 0 0]\n",
      " [3 0 0 0 0 0 0 0 0]\n",
      " [0 0 0 0 0 0 0 1 0]\n",
      " [0 1 0 0 0 0 0 0 0]]\n",
      "              precision    recall  f1-score   support\n",
      "\n",
      "         1.0       0.29      0.42      0.34        12\n",
      "         2.0       0.28      0.50      0.36        10\n",
      "         3.0       0.83      0.50      0.62        10\n",
      "         4.0       0.25      0.17      0.20         6\n",
      "         5.0       0.00      0.00      0.00         2\n",
      "         6.0       0.00      0.00      0.00         1\n",
      "         7.0       0.00      0.00      0.00         3\n",
      "         8.0       1.00      1.00      1.00         1\n",
      "         9.0       0.00      0.00      0.00         1\n",
      "\n",
      "    accuracy                           0.37        46\n",
      "   macro avg       0.30      0.29      0.28        46\n",
      "weighted avg       0.37      0.37      0.35        46\n",
      "\n"
     ]
    },
    {
     "name": "stderr",
     "output_type": "stream",
     "text": [
      "/home/imartinf/miniconda3/envs/memo/lib/python3.10/site-packages/sklearn/metrics/_classification.py:1469: UndefinedMetricWarning:\n",
      "\n",
      "Precision and F-score are ill-defined and being set to 0.0 in labels with no predicted samples. Use `zero_division` parameter to control this behavior.\n",
      "\n",
      "/home/imartinf/miniconda3/envs/memo/lib/python3.10/site-packages/sklearn/metrics/_classification.py:1469: UndefinedMetricWarning:\n",
      "\n",
      "Precision and F-score are ill-defined and being set to 0.0 in labels with no predicted samples. Use `zero_division` parameter to control this behavior.\n",
      "\n",
      "/home/imartinf/miniconda3/envs/memo/lib/python3.10/site-packages/sklearn/metrics/_classification.py:1469: UndefinedMetricWarning:\n",
      "\n",
      "Precision and F-score are ill-defined and being set to 0.0 in labels with no predicted samples. Use `zero_division` parameter to control this behavior.\n",
      "\n"
     ]
    }
   ],
   "source": [
    "# Build a KNN model with 128 components to predict ERROR ID\n",
    "from sklearn.neighbors import KNeighborsClassifier\n",
    "from sklearn.metrics import accuracy_score\n",
    "from sklearn.metrics import confusion_matrix\n",
    "from sklearn.metrics import classification_report\n",
    "knn = KNeighborsClassifier(n_neighbors=3)\n",
    "\n",
    "knn.fit(X_train, y_train)\n",
    "y_pred = knn.predict(X_test)\n",
    "print(accuracy_score(y_test, y_pred))\n",
    "print(confusion_matrix(y_test, y_pred))\n",
    "print(classification_report(y_test, y_pred))\n",
    "\n"
   ]
  },
  {
   "cell_type": "code",
   "execution_count": 22,
   "metadata": {},
   "outputs": [
    {
     "name": "stdout",
     "output_type": "stream",
     "text": [
      "[[5 6 0 1 0 0 0 0 0]\n",
      " [4 5 0 1 0 0 0 0 0]\n",
      " [2 2 5 1 0 0 0 0 0]\n",
      " [3 2 0 1 0 0 0 0 0]\n",
      " [0 1 1 0 0 0 0 0 0]\n",
      " [0 1 0 0 0 0 0 0 0]\n",
      " [3 0 0 0 0 0 0 0 0]\n",
      " [0 0 0 0 0 0 0 1 0]\n",
      " [0 1 0 0 0 0 0 0 0]]\n"
     ]
    },
    {
     "data": {
      "image/png": "[encoded data removed]",
      "text/plain": [
       "<Figure size 1000x1000 with 2 Axes>"
      ]
     },
     "metadata": {},
     "output_type": "display_data"
    }
   ],
   "source": [
    "# Plot confusion matrix via matplotlib\n",
    "import matplotlib.pyplot as plt\n",
    "\n",
    "cm = confusion_matrix(y_test, y_pred)\n",
    "print(cm)\n",
    "fig, ax = plt.subplots(figsize=(10,10))\n",
    "sns.heatmap(cm, annot=True, ax=ax, fmt='g')\n",
    "ax.set_xlabel('Predicted labels')\n",
    "ax.set_ylabel('True labels')\n",
    "ax.set_title('Confusion Matrix')\n",
    "ax.xaxis.set_ticklabels(['1', '2', '3', '4', '5', '6', '7', '8', '9'])\n",
    "ax.yaxis.set_ticklabels(['1', '2', '3', '4', '5', '6', '7', '8', '9'])\n",
    "plt.show()\n",
    "                          "
   ]
  },
  {
   "cell_type": "code",
   "execution_count": 23,
   "metadata": {},
   "outputs": [
    {
     "name": "stderr",
     "output_type": "stream",
     "text": [
      "Exception ignored on calling ctypes callback function: <function _ThreadpoolInfo._find_modules_with_dl_iterate_phdr.<locals>.match_module_callback at 0x7f5c3410f7f0>\n",
      "Traceback (most recent call last):\n",
      "  File \"/home/imartinf/miniconda3/envs/memo/lib/python3.10/site-packages/threadpoolctl.py\", line 400, in match_module_callback\n",
      "    self._make_module_from_path(filepath)\n",
      "  File \"/home/imartinf/miniconda3/envs/memo/lib/python3.10/site-packages/threadpoolctl.py\", line 515, in _make_module_from_path\n",
      "    module = module_class(filepath, prefix, user_api, internal_api)\n",
      "  File \"/home/imartinf/miniconda3/envs/memo/lib/python3.10/site-packages/threadpoolctl.py\", line 606, in __init__\n",
      "    self.version = self.get_version()\n",
      "  File \"/home/imartinf/miniconda3/envs/memo/lib/python3.10/site-packages/threadpoolctl.py\", line 646, in get_version\n",
      "    config = get_config().split()\n",
      "AttributeError: 'NoneType' object has no attribute 'split'\n"
     ]
    },
    {
     "name": "stdout",
     "output_type": "stream",
     "text": [
      "(180, 128) (46, 128) (180,) (46,)\n",
      "0.5217391304347826\n",
      "[[ 5  7  3]\n",
      " [ 1 14  7]\n",
      " [ 1  3  5]]\n",
      "              precision    recall  f1-score   support\n",
      "\n",
      "       Maybe       0.71      0.33      0.45        15\n",
      "          No       0.58      0.64      0.61        22\n",
      "         Yes       0.33      0.56      0.42         9\n",
      "\n",
      "    accuracy                           0.52        46\n",
      "   macro avg       0.54      0.51      0.49        46\n",
      "weighted avg       0.58      0.52      0.52        46\n",
      "\n"
     ]
    }
   ],
   "source": [
    "# Use KNN to predict Remove? column\n",
    "X_train, X_test, y_train, y_test = train_test_split(principalComponents_128, df_filtered['Remove?'], test_size=0.2, random_state=42, stratify=df_filtered['Remove?'])\n",
    "print(X_train.shape, X_test.shape, y_train.shape, y_test.shape)\n",
    "\n",
    "knn = KNeighborsClassifier(n_neighbors=3)\n",
    "\n",
    "knn.fit(X_train, y_train)\n",
    "y_pred = knn.predict(X_test)\n",
    "\n",
    "print(accuracy_score(y_test, y_pred))\n",
    "print(confusion_matrix(y_test, y_pred))\n",
    "print(classification_report(y_test, y_pred))"
   ]
  },
  {
   "cell_type": "code",
   "execution_count": 24,
   "metadata": {},
   "outputs": [
    {
     "name": "stdout",
     "output_type": "stream",
     "text": [
      "[[ 5  7  3]\n",
      " [ 1 14  7]\n",
      " [ 1  3  5]]\n"
     ]
    },
    {
     "data": {
      "image/png": "[encoded data removed]",
      "text/plain": [
       "<Figure size 1000x1000 with 2 Axes>"
      ]
     },
     "metadata": {},
     "output_type": "display_data"
    }
   ],
   "source": [
    "# Plot confusion matrix via matplotlib\n",
    "import matplotlib.pyplot as plt\n",
    "\n",
    "cm = confusion_matrix(y_test, y_pred)\n",
    "print(cm)\n",
    "fig, ax = plt.subplots(figsize=(10,10))\n",
    "sns.heatmap(cm, annot=True, ax=ax, fmt='g')\n",
    "ax.set_xlabel('Predicted labels')\n",
    "ax.set_ylabel('True labels')\n",
    "ax.set_title('Confusion Matrix')\n",
    "ax.xaxis.set_ticklabels(['Maybe', 'No', 'Yes'])\n",
    "ax.yaxis.set_ticklabels(['Maybe', 'No', 'Yes'])\n",
    "plt.show()"
   ]
  },
  {
   "cell_type": "code",
   "execution_count": 25,
   "metadata": {},
   "outputs": [
    {
     "name": "stderr",
     "output_type": "stream",
     "text": [
      "Exception ignored on calling ctypes callback function: <function _ThreadpoolInfo._find_modules_with_dl_iterate_phdr.<locals>.match_module_callback at 0x7f5c33b9a170>\n",
      "Traceback (most recent call last):\n",
      "  File \"/home/imartinf/miniconda3/envs/memo/lib/python3.10/site-packages/threadpoolctl.py\", line 400, in match_module_callback\n",
      "    self._make_module_from_path(filepath)\n",
      "  File \"/home/imartinf/miniconda3/envs/memo/lib/python3.10/site-packages/threadpoolctl.py\", line 515, in _make_module_from_path\n",
      "    module = module_class(filepath, prefix, user_api, internal_api)\n",
      "  File \"/home/imartinf/miniconda3/envs/memo/lib/python3.10/site-packages/threadpoolctl.py\", line 606, in __init__\n",
      "    self.version = self.get_version()\n",
      "  File \"/home/imartinf/miniconda3/envs/memo/lib/python3.10/site-packages/threadpoolctl.py\", line 646, in get_version\n",
      "    config = get_config().split()\n",
      "AttributeError: 'NoneType' object has no attribute 'split'\n"
     ]
    },
    {
     "name": "stdout",
     "output_type": "stream",
     "text": [
      "0.9347826086956522\n",
      "[[36  0]\n",
      " [ 3  7]]\n",
      "              precision    recall  f1-score   support\n",
      "\n",
      "          no       0.92      1.00      0.96        36\n",
      "         yes       1.00      0.70      0.82        10\n",
      "\n",
      "    accuracy                           0.93        46\n",
      "   macro avg       0.96      0.85      0.89        46\n",
      "weighted avg       0.94      0.93      0.93        46\n",
      "\n"
     ]
    }
   ],
   "source": [
    "# Use pca128 to predict subjective\n",
    "X_train, X_test, y_train, y_test = train_test_split(principalComponents_128, df_filtered['subjective'], test_size=0.2, random_state=42, stratify=df_filtered['subjective'])\n",
    "\n",
    "knn = KNeighborsClassifier(n_neighbors=3)\n",
    "\n",
    "knn.fit(X_train, y_train)\n",
    "y_pred = knn.predict(X_test)\n",
    "\n",
    "print(accuracy_score(y_test, y_pred))\n",
    "print(confusion_matrix(y_test, y_pred))\n",
    "print(classification_report(y_test, y_pred))"
   ]
  },
  {
   "cell_type": "code",
   "execution_count": 27,
   "metadata": {},
   "outputs": [
    {
     "data": {
      "text/html": [
       "<div>\n",
       "<style scoped>\n",
       "    .dataframe tbody tr th:only-of-type {\n",
       "        vertical-align: middle;\n",
       "    }\n",
       "\n",
       "    .dataframe tbody tr th {\n",
       "        vertical-align: top;\n",
       "    }\n",
       "\n",
       "    .dataframe thead th {\n",
       "        text-align: right;\n",
       "    }\n",
       "</style>\n",
       "<table border=\"1\" class=\"dataframe\">\n",
       "  <thead>\n",
       "    <tr style=\"text-align: right;\">\n",
       "      <th></th>\n",
       "      <th>ERROR</th>\n",
       "      <th>Remove?</th>\n",
       "    </tr>\n",
       "  </thead>\n",
       "  <tbody>\n",
       "    <tr>\n",
       "      <th>11</th>\n",
       "      <td>Caption does not belong to video</td>\n",
       "      <td>Yes</td>\n",
       "    </tr>\n",
       "    <tr>\n",
       "      <th>1</th>\n",
       "      <td>Caption does not describe the scene (subjective)</td>\n",
       "      <td>Maybe</td>\n",
       "    </tr>\n",
       "    <tr>\n",
       "      <th>5</th>\n",
       "      <td>Caption focuses on a different part of the scene</td>\n",
       "      <td>No</td>\n",
       "    </tr>\n",
       "    <tr>\n",
       "      <th>13</th>\n",
       "      <td>Caption has a typo</td>\n",
       "      <td>Maybe</td>\n",
       "    </tr>\n",
       "    <tr>\n",
       "      <th>10</th>\n",
       "      <td>Caption includes external context</td>\n",
       "      <td>Maybe</td>\n",
       "    </tr>\n",
       "    <tr>\n",
       "      <th>0</th>\n",
       "      <td>Caption mistakenly describes the scene</td>\n",
       "      <td>Yes</td>\n",
       "    </tr>\n",
       "    <tr>\n",
       "      <th>3</th>\n",
       "      <td>Caption refers to audio</td>\n",
       "      <td>Maybe</td>\n",
       "    </tr>\n",
       "    <tr>\n",
       "      <th>20</th>\n",
       "      <td>No error</td>\n",
       "      <td>No</td>\n",
       "    </tr>\n",
       "    <tr>\n",
       "      <th>26</th>\n",
       "      <td>Playback error</td>\n",
       "      <td>Yes</td>\n",
       "    </tr>\n",
       "    <tr>\n",
       "      <th>156</th>\n",
       "      <td>Unknown - Corrupt video</td>\n",
       "      <td>Yes</td>\n",
       "    </tr>\n",
       "  </tbody>\n",
       "</table>\n",
       "</div>"
      ],
      "text/plain": [
       "                                                ERROR Remove?\n",
       "11                   Caption does not belong to video     Yes\n",
       "1    Caption does not describe the scene (subjective)   Maybe\n",
       "5    Caption focuses on a different part of the scene      No\n",
       "13                                 Caption has a typo   Maybe\n",
       "10                  Caption includes external context   Maybe\n",
       "0              Caption mistakenly describes the scene     Yes\n",
       "3                             Caption refers to audio   Maybe\n",
       "20                                           No error      No\n",
       "26                                     Playback error     Yes\n",
       "156                           Unknown - Corrupt video     Yes"
      ]
     },
     "execution_count": 27,
     "metadata": {},
     "output_type": "execute_result"
    }
   ],
   "source": [
    "# Show the mapping between ERROR and Remove?\n",
    "df_filtered[['ERROR', 'Remove?']].drop_duplicates().sort_values(by='ERROR')\n"
   ]
  }
 ],
 "metadata": {
  "kernelspec": {
   "display_name": "memo",
   "language": "python",
   "name": "python3"
  },
  "language_info": {
   "codemirror_mode": {
    "name": "ipython",
    "version": 3
   },
   "file_extension": ".py",
   "mimetype": "text/x-python",
   "name": "python",
   "nbconvert_exporter": "python",
   "pygments_lexer": "ipython3",
   "version": "3.10.9"
  }
 },
 "nbformat": 4,
 "nbformat_minor": 2
}
