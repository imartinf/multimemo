{
 "cells": [
  {
   "cell_type": "markdown",
   "metadata": {},
   "source": [
    "# Exploratory Analysis of Automatically Generated Text Corpus"
   ]
  },
  {
   "cell_type": "code",
   "execution_count": 29,
   "metadata": {},
   "outputs": [
    {
     "name": "stdout",
     "output_type": "stream",
     "text": [
      "The autoreload extension is already loaded. To reload it, use:\n",
      "  %reload_ext autoreload\n"
     ]
    }
   ],
   "source": [
    "# Imports\n",
    "# OPTIONAL: Load the \"autoreload\" extension so that code can change\n",
    "%load_ext autoreload\n",
    "\n",
    "# OPTIONAL: always reload modules so that as you change code in src, it gets loaded\n",
    "%autoreload 2\n",
    "\n",
    "from src.metrics.oov_words import OOVWords\n",
    "from transformers import AutoTokenizer, AutoModelForSequenceClassification\n",
    "from sentence_transformers import SentenceTransformer\n",
    "\n",
    "import pandas as pd\n",
    "\n",
    "from tqdm.notebook import tqdm\n",
    "\n",
    "import string\n",
    "\n",
    "import matplotlib.pyplot as plt"
   ]
  },
  {
   "cell_type": "code",
   "execution_count": 3,
   "metadata": {},
   "outputs": [
    {
     "data": {
      "text/plain": [
       "'/mnt/rufus_A/multimemo/notebooks'"
      ]
     },
     "execution_count": 3,
     "metadata": {},
     "output_type": "execute_result"
    }
   ],
   "source": [
    "%pwd"
   ]
  },
  {
   "cell_type": "code",
   "execution_count": 2,
   "metadata": {},
   "outputs": [
    {
     "name": "stdout",
     "output_type": "stream",
     "text": [
      "Loaded 42500 captions.\n"
     ]
    }
   ],
   "source": [
    "# Load data\n",
    "data = pd.read_json('../data/processed/memento_data_recaption.json')\n",
    "data_exp = data.explode(['captions', 'recaptions'], ignore_index=True)\n",
    "print(f\"Loaded {len(data_exp)} captions.\")"
   ]
  },
  {
   "cell_type": "code",
   "execution_count": 12,
   "metadata": {},
   "outputs": [],
   "source": [
    "# Remove punctuation\n",
    "\n",
    "def remove_punctuation(text):\n",
    "    \"\"\"\n",
    "    Remove punctuation from a text.\n",
    "    \"\"\"\n",
    "    return text.translate(str.maketrans('', '', string.punctuation))\n",
    "\n",
    "data_exp['captions'] = data_exp['captions'].apply(remove_punctuation)\n",
    "data_exp['recaptions'] = data_exp['recaptions'].apply(remove_punctuation)\n"
   ]
  },
  {
   "cell_type": "markdown",
   "metadata": {},
   "source": [
    "## OOV words"
   ]
  },
  {
   "cell_type": "code",
   "execution_count": 13,
   "metadata": {},
   "outputs": [],
   "source": [
    "model = SentenceTransformer('sentence-transformers/all-mpnet-base-v2')\n",
    "tokenizer = AutoTokenizer.from_pretrained(\"sentence-transformers/all-mpnet-base-v2\")\n",
    "device = \"gpu\"\n",
    "\n",
    "oov_metric = OOVWords(model, tokenizer, device)"
   ]
  },
  {
   "cell_type": "code",
   "execution_count": 14,
   "metadata": {},
   "outputs": [
    {
     "name": "stderr",
     "output_type": "stream",
     "text": [
      "OOV words:   0%|          | 0/42500 [00:00<?, ?it/s]"
     ]
    },
    {
     "name": "stderr",
     "output_type": "stream",
     "text": [
      "OOV words: 100%|██████████| 42500/42500 [00:19<00:00, 2169.90it/s]\n"
     ]
    },
    {
     "name": "stdout",
     "output_type": "stream",
     "text": [
      "Successfully computed OOV for 42500 captions.\n",
      "Sample caption OOV: [2 0 0 1 0]\n"
     ]
    },
    {
     "name": "stderr",
     "output_type": "stream",
     "text": [
      "OOV words: 100%|██████████| 42500/42500 [00:20<00:00, 2052.28it/s]"
     ]
    },
    {
     "name": "stdout",
     "output_type": "stream",
     "text": [
      "Successfully computed OOV for 42500 recaptions.\n",
      "Sample recaption OOV: [0 1 1 1 1]\n"
     ]
    },
    {
     "name": "stderr",
     "output_type": "stream",
     "text": [
      "\n"
     ]
    }
   ],
   "source": [
    "data_exp['caption_oov_words'] = oov_metric.get_metric(data_exp['captions'].values, notebook=True)\n",
    "print(f\"Successfully computed OOV for {len(data_exp)} captions.\")\n",
    "print(f\"Sample caption OOV: {data_exp['caption_oov_words'].values[:5]}\")\n",
    "data_exp['recaption_oov_words'] = oov_metric.get_metric(data_exp['recaptions'].values, notebook=True)\n",
    "print(f\"Successfully computed OOV for {len(data_exp)} recaptions.\")\n",
    "print(f\"Sample recaption OOV: {data_exp['recaption_oov_words'].values[:5]}\")"
   ]
  },
  {
   "cell_type": "code",
   "execution_count": 15,
   "metadata": {},
   "outputs": [
    {
     "data": {
      "text/html": [
       "<div>\n",
       "<style scoped>\n",
       "    .dataframe tbody tr th:only-of-type {\n",
       "        vertical-align: middle;\n",
       "    }\n",
       "\n",
       "    .dataframe tbody tr th {\n",
       "        vertical-align: top;\n",
       "    }\n",
       "\n",
       "    .dataframe thead th {\n",
       "        text-align: right;\n",
       "    }\n",
       "</style>\n",
       "<table border=\"1\" class=\"dataframe\">\n",
       "  <thead>\n",
       "    <tr style=\"text-align: right;\">\n",
       "      <th></th>\n",
       "      <th>captions</th>\n",
       "      <th>caption_oov_words</th>\n",
       "    </tr>\n",
       "  </thead>\n",
       "  <tbody>\n",
       "    <tr>\n",
       "      <th>0</th>\n",
       "      <td>A brown hair girl with lip piercings mumbles s...</td>\n",
       "      <td>2</td>\n",
       "    </tr>\n",
       "    <tr>\n",
       "      <th>3</th>\n",
       "      <td>A young woman wearing a striped shirt who has ...</td>\n",
       "      <td>1</td>\n",
       "    </tr>\n",
       "    <tr>\n",
       "      <th>10</th>\n",
       "      <td>A person wearing a white sleeveless shirt is c...</td>\n",
       "      <td>1</td>\n",
       "    </tr>\n",
       "    <tr>\n",
       "      <th>11</th>\n",
       "      <td>A fat woman claps and hits the table while spe...</td>\n",
       "      <td>1</td>\n",
       "    </tr>\n",
       "    <tr>\n",
       "      <th>12</th>\n",
       "      <td>A larger woman in a white tank top claps her h...</td>\n",
       "      <td>1</td>\n",
       "    </tr>\n",
       "    <tr>\n",
       "      <th>14</th>\n",
       "      <td>A brunette sings and claps before in front of ...</td>\n",
       "      <td>1</td>\n",
       "    </tr>\n",
       "    <tr>\n",
       "      <th>20</th>\n",
       "      <td>Two overweight women sway next to each other a...</td>\n",
       "      <td>1</td>\n",
       "    </tr>\n",
       "    <tr>\n",
       "      <th>22</th>\n",
       "      <td>Two morbidly obese women dance and sing in a r...</td>\n",
       "      <td>2</td>\n",
       "    </tr>\n",
       "    <tr>\n",
       "      <th>24</th>\n",
       "      <td>two fatties stand around and sing while swayin...</td>\n",
       "      <td>1</td>\n",
       "    </tr>\n",
       "    <tr>\n",
       "      <th>36</th>\n",
       "      <td>The lower part of a womans face neck and shoul...</td>\n",
       "      <td>1</td>\n",
       "    </tr>\n",
       "  </tbody>\n",
       "</table>\n",
       "</div>"
      ],
      "text/plain": [
       "                                             captions  caption_oov_words\n",
       "0   A brown hair girl with lip piercings mumbles s...                  2\n",
       "3   A young woman wearing a striped shirt who has ...                  1\n",
       "10  A person wearing a white sleeveless shirt is c...                  1\n",
       "11  A fat woman claps and hits the table while spe...                  1\n",
       "12  A larger woman in a white tank top claps her h...                  1\n",
       "14  A brunette sings and claps before in front of ...                  1\n",
       "20  Two overweight women sway next to each other a...                  1\n",
       "22  Two morbidly obese women dance and sing in a r...                  2\n",
       "24  two fatties stand around and sing while swayin...                  1\n",
       "36  The lower part of a womans face neck and shoul...                  1"
      ]
     },
     "execution_count": 15,
     "metadata": {},
     "output_type": "execute_result"
    }
   ],
   "source": [
    "high_oov_captions = data_exp[data_exp['caption_oov_words'] > 0]\n",
    "high_oov_captions[['captions', 'caption_oov_words']].head(10)"
   ]
  },
  {
   "cell_type": "code",
   "execution_count": 23,
   "metadata": {},
   "outputs": [
    {
     "data": {
      "text/plain": [
       "['two',\n",
       " 'over',\n",
       " '##weight',\n",
       " 'women',\n",
       " 'sway',\n",
       " 'next',\n",
       " 'to',\n",
       " 'each',\n",
       " 'other',\n",
       " 'as',\n",
       " 'one',\n",
       " 'of',\n",
       " 'them',\n",
       " 'sings']"
      ]
     },
     "execution_count": 23,
     "metadata": {},
     "output_type": "execute_result"
    }
   ],
   "source": [
    "tokenizer.tokenize(high_oov_captions['captions'].iloc[6])"
   ]
  },
  {
   "cell_type": "code",
   "execution_count": 25,
   "metadata": {},
   "outputs": [
    {
     "name": "stdout",
     "output_type": "stream",
     "text": [
      "(28780, 13)\n"
     ]
    }
   ],
   "source": [
    "no_oov = data_exp[data_exp['caption_oov_words'] == 0]\n",
    "print(no_oov.shape)"
   ]
  },
  {
   "cell_type": "code",
   "execution_count": 28,
   "metadata": {},
   "outputs": [
    {
     "data": {
      "application/vnd.jupyter.widget-view+json": {
       "model_id": "f5ef7eff6579414ca200f5844e7f1e7b",
       "version_major": 2,
       "version_minor": 0
      },
      "text/plain": [
       "OOV words:   0%|          | 0/42500 [00:00<?, ?it/s]"
      ]
     },
     "metadata": {},
     "output_type": "display_data"
    },
    {
     "name": "stdout",
     "output_type": "stream",
     "text": [
      "Percentage of OOV words in the captions corpus: 2.98%\n",
      "Percentage of OOV words in the recaptions corpus: 9.89%\n"
     ]
    }
   ],
   "source": [
    "# Percentage of OOV words in the captions and recaptions corpus\n",
    "total_words_in_captions_corpus = 0\n",
    "total_oov_words_in_captions_corpus = 0\n",
    "total_words_in_recaptions_corpus = 0\n",
    "total_oov_words_in_recaptions_corpus = 0\n",
    "for _, row in tqdm(data_exp.iterrows(), total=data_exp.shape[0], desc=\"OOV words\"):\n",
    "    total_words_in_captions_corpus += len(row['captions'].split())\n",
    "    total_words_in_recaptions_corpus += len(row['recaptions'].split())\n",
    "    total_oov_words_in_captions_corpus += row['caption_oov_words']\n",
    "    total_oov_words_in_recaptions_corpus += row['recaption_oov_words']\n",
    "print(f\"Percentage of OOV words in the captions corpus: {total_oov_words_in_captions_corpus/total_words_in_captions_corpus*100:.2f}%\")\n",
    "print(f\"Percentage of OOV words in the recaptions corpus: {total_oov_words_in_recaptions_corpus/total_words_in_recaptions_corpus*100:.2f}%\")\n"
   ]
  },
  {
   "cell_type": "code",
   "execution_count": 31,
   "metadata": {},
   "outputs": [
    {
     "data": {
      "text/html": [
       "<div>\n",
       "<style scoped>\n",
       "    .dataframe tbody tr th:only-of-type {\n",
       "        vertical-align: middle;\n",
       "    }\n",
       "\n",
       "    .dataframe tbody tr th {\n",
       "        vertical-align: top;\n",
       "    }\n",
       "\n",
       "    .dataframe thead th {\n",
       "        text-align: right;\n",
       "    }\n",
       "</style>\n",
       "<table border=\"1\" class=\"dataframe\">\n",
       "  <thead>\n",
       "    <tr style=\"text-align: right;\">\n",
       "      <th></th>\n",
       "      <th>caption_oov_words</th>\n",
       "      <th>recaption_oov_words</th>\n",
       "    </tr>\n",
       "  </thead>\n",
       "  <tbody>\n",
       "    <tr>\n",
       "      <th>count</th>\n",
       "      <td>42500.000000</td>\n",
       "      <td>42500.000000</td>\n",
       "    </tr>\n",
       "    <tr>\n",
       "      <th>mean</th>\n",
       "      <td>0.390165</td>\n",
       "      <td>1.338376</td>\n",
       "    </tr>\n",
       "    <tr>\n",
       "      <th>std</th>\n",
       "      <td>0.625585</td>\n",
       "      <td>1.152594</td>\n",
       "    </tr>\n",
       "    <tr>\n",
       "      <th>min</th>\n",
       "      <td>0.000000</td>\n",
       "      <td>0.000000</td>\n",
       "    </tr>\n",
       "    <tr>\n",
       "      <th>25%</th>\n",
       "      <td>0.000000</td>\n",
       "      <td>0.000000</td>\n",
       "    </tr>\n",
       "    <tr>\n",
       "      <th>50%</th>\n",
       "      <td>0.000000</td>\n",
       "      <td>1.000000</td>\n",
       "    </tr>\n",
       "    <tr>\n",
       "      <th>75%</th>\n",
       "      <td>1.000000</td>\n",
       "      <td>2.000000</td>\n",
       "    </tr>\n",
       "    <tr>\n",
       "      <th>max</th>\n",
       "      <td>6.000000</td>\n",
       "      <td>10.000000</td>\n",
       "    </tr>\n",
       "  </tbody>\n",
       "</table>\n",
       "</div>"
      ],
      "text/plain": [
       "       caption_oov_words  recaption_oov_words\n",
       "count       42500.000000         42500.000000\n",
       "mean            0.390165             1.338376\n",
       "std             0.625585             1.152594\n",
       "min             0.000000             0.000000\n",
       "25%             0.000000             0.000000\n",
       "50%             0.000000             1.000000\n",
       "75%             1.000000             2.000000\n",
       "max             6.000000            10.000000"
      ]
     },
     "execution_count": 31,
     "metadata": {},
     "output_type": "execute_result"
    }
   ],
   "source": [
    "data_exp[['caption_oov_words', 'recaption_oov_words']].describe()"
   ]
  },
  {
   "cell_type": "code",
   "execution_count": 33,
   "metadata": {},
   "outputs": [
    {
     "data": {
      "image/png": "[encoded data removed]",
      "text/plain": [
       "<Figure size 900x500 with 1 Axes>"
      ]
     },
     "metadata": {},
     "output_type": "display_data"
    }
   ],
   "source": [
    "# Histogram of the OOV words for the captions and recaptions corpus (same plot)\n",
    "\n",
    "plt.figure(figsize=(9, 5))\n",
    "plt.hist(data_exp['caption_oov_words'], bins=10, alpha=0.5, label='captions', density=False, color='blue')\n",
    "plt.hist(data_exp['recaption_oov_words'], bins=10, alpha=0.5, label='recaptions', density=False, color='red')\n",
    "plt.legend(loc='upper right')\n",
    "plt.grid(axis='both', alpha=0.75)\n",
    "plt.xlabel('OOV Words in the caption/recaption')\n",
    "plt.ylabel('Number of captions/recaptions')\n",
    "plt.title('OOV Words Histogram')\n",
    "plt.show()"
   ]
  },
  {
   "cell_type": "code",
   "execution_count": 45,
   "metadata": {},
   "outputs": [
    {
     "data": {
      "text/html": [
       "<div>\n",
       "<style scoped>\n",
       "    .dataframe tbody tr th:only-of-type {\n",
       "        vertical-align: middle;\n",
       "    }\n",
       "\n",
       "    .dataframe tbody tr th {\n",
       "        vertical-align: top;\n",
       "    }\n",
       "\n",
       "    .dataframe thead th {\n",
       "        text-align: right;\n",
       "    }\n",
       "</style>\n",
       "<table border=\"1\" class=\"dataframe\">\n",
       "  <thead>\n",
       "    <tr style=\"text-align: right;\">\n",
       "      <th></th>\n",
       "      <th>caption_oov_words_ratio</th>\n",
       "      <th>recaption_oov_words_ratio</th>\n",
       "    </tr>\n",
       "  </thead>\n",
       "  <tbody>\n",
       "    <tr>\n",
       "      <th>count</th>\n",
       "      <td>42500.000000</td>\n",
       "      <td>42500.000000</td>\n",
       "    </tr>\n",
       "    <tr>\n",
       "      <th>mean</th>\n",
       "      <td>0.030617</td>\n",
       "      <td>0.103267</td>\n",
       "    </tr>\n",
       "    <tr>\n",
       "      <th>std</th>\n",
       "      <td>0.049828</td>\n",
       "      <td>0.090813</td>\n",
       "    </tr>\n",
       "    <tr>\n",
       "      <th>min</th>\n",
       "      <td>0.000000</td>\n",
       "      <td>0.000000</td>\n",
       "    </tr>\n",
       "    <tr>\n",
       "      <th>25%</th>\n",
       "      <td>0.000000</td>\n",
       "      <td>0.000000</td>\n",
       "    </tr>\n",
       "    <tr>\n",
       "      <th>50%</th>\n",
       "      <td>0.000000</td>\n",
       "      <td>0.086957</td>\n",
       "    </tr>\n",
       "    <tr>\n",
       "      <th>75%</th>\n",
       "      <td>0.071429</td>\n",
       "      <td>0.153846</td>\n",
       "    </tr>\n",
       "    <tr>\n",
       "      <th>max</th>\n",
       "      <td>0.400000</td>\n",
       "      <td>0.800000</td>\n",
       "    </tr>\n",
       "  </tbody>\n",
       "</table>\n",
       "</div>"
      ],
      "text/plain": [
       "       caption_oov_words_ratio  recaption_oov_words_ratio\n",
       "count             42500.000000               42500.000000\n",
       "mean                  0.030617                   0.103267\n",
       "std                   0.049828                   0.090813\n",
       "min                   0.000000                   0.000000\n",
       "25%                   0.000000                   0.000000\n",
       "50%                   0.000000                   0.086957\n",
       "75%                   0.071429                   0.153846\n",
       "max                   0.400000                   0.800000"
      ]
     },
     "execution_count": 45,
     "metadata": {},
     "output_type": "execute_result"
    }
   ],
   "source": [
    "data_exp['caption_length'] = data_exp['captions'].apply(lambda x: len(x.split()))\n",
    "data_exp['caption_oov_words_ratio'] = data_exp['caption_oov_words'] / data_exp['caption_length']\n",
    "\n",
    "data_exp['recaption_length'] = data_exp['recaptions'].apply(lambda x: len(x.split()))\n",
    "data_exp['recaption_oov_words_ratio'] = data_exp['recaption_oov_words'] / data_exp['recaption_length']\n",
    "\n",
    "data_exp[['caption_oov_words_ratio', 'recaption_oov_words_ratio']].describe()"
   ]
  },
  {
   "cell_type": "code",
   "execution_count": 46,
   "metadata": {},
   "outputs": [
    {
     "data": {
      "image/png": "[encoded data removed]",
      "text/plain": [
       "<Figure size 900x500 with 1 Axes>"
      ]
     },
     "metadata": {},
     "output_type": "display_data"
    }
   ],
   "source": [
    "plt.figure(figsize=(9, 5))\n",
    "plt.hist(data_exp['caption_oov_words_ratio'], bins=10, alpha=0.5, label='captions', density=False, color='blue')\n",
    "plt.hist(data_exp['recaption_oov_words_ratio'], bins=10, alpha=0.5, label='recaptions', density=False, color='red')\n",
    "plt.legend(loc='upper right')\n",
    "plt.grid(axis='both', alpha=0.75)\n",
    "plt.xlabel('Ratio of OOV Words in the caption/recaption')\n",
    "plt.ylabel('Number of captions/recaptions')\n",
    "plt.title('Ratio of OOV Words Histogram')\n",
    "plt.show()"
   ]
  },
  {
   "cell_type": "code",
   "execution_count": 42,
   "metadata": {},
   "outputs": [
    {
     "data": {
      "text/html": [
       "<div>\n",
       "<style scoped>\n",
       "    .dataframe tbody tr th:only-of-type {\n",
       "        vertical-align: middle;\n",
       "    }\n",
       "\n",
       "    .dataframe tbody tr th {\n",
       "        vertical-align: top;\n",
       "    }\n",
       "\n",
       "    .dataframe thead th {\n",
       "        text-align: right;\n",
       "    }\n",
       "</style>\n",
       "<table border=\"1\" class=\"dataframe\">\n",
       "  <thead>\n",
       "    <tr style=\"text-align: right;\">\n",
       "      <th></th>\n",
       "      <th>recaptions</th>\n",
       "      <th>recaption_oov_words</th>\n",
       "    </tr>\n",
       "  </thead>\n",
       "  <tbody>\n",
       "    <tr>\n",
       "      <th>25451</th>\n",
       "      <td>A wintry set of scenes filled with snowdriftin...</td>\n",
       "      <td>10</td>\n",
       "    </tr>\n",
       "    <tr>\n",
       "      <th>35244</th>\n",
       "      <td>A late night adventurer glides effortlessly up...</td>\n",
       "      <td>10</td>\n",
       "    </tr>\n",
       "    <tr>\n",
       "      <th>8329</th>\n",
       "      <td>A car winds its way through scorching sand dun...</td>\n",
       "      <td>9</td>\n",
       "    </tr>\n",
       "    <tr>\n",
       "      <th>35499</th>\n",
       "      <td>A group unwinds amidst the warmth of a burning...</td>\n",
       "      <td>9</td>\n",
       "    </tr>\n",
       "    <tr>\n",
       "      <th>39195</th>\n",
       "      <td>Un billet dune course nautique avec plusieurs ...</td>\n",
       "      <td>9</td>\n",
       "    </tr>\n",
       "    <tr>\n",
       "      <th>25359</th>\n",
       "      <td>A cute feline naps on a cozy beanbag then hila...</td>\n",
       "      <td>8</td>\n",
       "    </tr>\n",
       "    <tr>\n",
       "      <th>21264</th>\n",
       "      <td>Musicians donning cowboy hats grace the stage ...</td>\n",
       "      <td>8</td>\n",
       "    </tr>\n",
       "    <tr>\n",
       "      <th>9796</th>\n",
       "      <td>A tiny cherub nestled merrily within a comfy p...</td>\n",
       "      <td>8</td>\n",
       "    </tr>\n",
       "    <tr>\n",
       "      <th>36614</th>\n",
       "      <td>A school of shimmering fish glides amidst wave...</td>\n",
       "      <td>8</td>\n",
       "    </tr>\n",
       "    <tr>\n",
       "      <th>312</th>\n",
       "      <td>A tiny tot licks and slobbers over a toweldeck...</td>\n",
       "      <td>8</td>\n",
       "    </tr>\n",
       "  </tbody>\n",
       "</table>\n",
       "</div>"
      ],
      "text/plain": [
       "                                              recaptions  recaption_oov_words\n",
       "25451  A wintry set of scenes filled with snowdriftin...                   10\n",
       "35244  A late night adventurer glides effortlessly up...                   10\n",
       "8329   A car winds its way through scorching sand dun...                    9\n",
       "35499  A group unwinds amidst the warmth of a burning...                    9\n",
       "39195  Un billet dune course nautique avec plusieurs ...                    9\n",
       "25359  A cute feline naps on a cozy beanbag then hila...                    8\n",
       "21264  Musicians donning cowboy hats grace the stage ...                    8\n",
       "9796   A tiny cherub nestled merrily within a comfy p...                    8\n",
       "36614  A school of shimmering fish glides amidst wave...                    8\n",
       "312    A tiny tot licks and slobbers over a toweldeck...                    8"
      ]
     },
     "execution_count": 42,
     "metadata": {},
     "output_type": "execute_result"
    }
   ],
   "source": [
    "# Show recaptions examples with most OOV words\n",
    "highest_oov_recaptions = data_exp[['recaptions','recaption_oov_words']].sort_values(by='recaption_oov_words', ascending=False).head(10)\n",
    "highest_oov_recaptions"
   ]
  },
  {
   "cell_type": "code",
   "execution_count": 43,
   "metadata": {},
   "outputs": [
    {
     "data": {
      "text/plain": [
       "['a',\n",
       " 'win',\n",
       " '##try',\n",
       " 'set',\n",
       " 'of',\n",
       " 'scenes',\n",
       " 'filled',\n",
       " 'with',\n",
       " 'snow',\n",
       " '##dr',\n",
       " '##if',\n",
       " '##ting',\n",
       " 'heavily',\n",
       " '##car',\n",
       " '##pet',\n",
       " '##ed',\n",
       " 'cobb',\n",
       " '##led',\n",
       " 'roads',\n",
       " 'lit',\n",
       " 'up',\n",
       " 'by',\n",
       " 'a',\n",
       " 'charming',\n",
       " 'collection',\n",
       " 'of',\n",
       " 'diverse',\n",
       " 'residents',\n",
       " 'o',\n",
       " '##cc',\n",
       " '##lus',\n",
       " '##ive',\n",
       " '##lo',\n",
       " '##oki',\n",
       " '##ng',\n",
       " 'residences',\n",
       " 'parallel',\n",
       " '##ed',\n",
       " 'with',\n",
       " 'ob',\n",
       " '##st',\n",
       " '##ru',\n",
       " '##cting',\n",
       " 'driveway',\n",
       " '##s',\n",
       " 'fence',\n",
       " '##d',\n",
       " 'up',\n",
       " 'by',\n",
       " 'contrasting',\n",
       " 'eccentric',\n",
       " 'winter',\n",
       " '##cha',\n",
       " '##rio',\n",
       " '##t',\n",
       " 'bars',\n",
       " 'surrounded']"
      ]
     },
     "execution_count": 43,
     "metadata": {},
     "output_type": "execute_result"
    }
   ],
   "source": [
    "tokenizer.tokenize(highest_oov_recaptions['recaptions'].values[0])"
   ]
  }
 ],
 "metadata": {
  "kernelspec": {
   "display_name": "memo",
   "language": "python",
   "name": "python3"
  },
  "language_info": {
   "codemirror_mode": {
    "name": "ipython",
    "version": 3
   },
   "file_extension": ".py",
   "mimetype": "text/x-python",
   "name": "python",
   "nbconvert_exporter": "python",
   "pygments_lexer": "ipython3",
   "version": "3.10.9"
  },
  "orig_nbformat": 4
 },
 "nbformat": 4,
 "nbformat_minor": 2
}
