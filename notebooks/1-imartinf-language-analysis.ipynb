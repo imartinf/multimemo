{
 "cells": [
  {
   "cell_type": "markdown",
   "metadata": {},
   "source": [
    "# Exploratory Analysis of Automatically Generated Text Corpus"
   ]
  },
  {
   "cell_type": "code",
   "execution_count": 1,
   "metadata": {},
   "outputs": [],
   "source": [
    "# Imports\n",
    "# OPTIONAL: Load the \"autoreload\" extension so that code can change\n",
    "%load_ext autoreload\n",
    "\n",
    "# OPTIONAL: always reload modules so that as you change code in src, it gets loaded\n",
    "%autoreload 2\n",
    "\n",
    "from src.metrics.oov_words import OOVWords\n",
    "from src.metrics.transrate import TransRate\n",
    "from src.metrics.cosine_similarity import CosineSimilarity\n",
    "from src.tools.text_processing import normalize_text\n",
    "from transformers import AutoTokenizer, AutoModelForSequenceClassification\n",
    "from sentence_transformers import SentenceTransformer\n",
    "\n",
    "import pandas as pd\n",
    "\n",
    "from tqdm.notebook import tqdm, trange\n",
    "tqdm.pandas()\n",
    "\n",
    "import string\n",
    "\n",
    "import matplotlib.pyplot as plt\n",
    "import seaborn as sns\n",
    "import plotly.express as px\n",
    "import plotly.graph_objects as go\n",
    "\n",
    "from collections import Counter\n",
    "\n",
    "import openai\n",
    "\n",
    "from dotenv import load_dotenv, find_dotenv\n",
    "import os"
   ]
  },
  {
   "cell_type": "code",
   "execution_count": 2,
   "metadata": {},
   "outputs": [
    {
     "data": {
      "text/plain": [
       "'/mnt/rufus_A/multimemo/notebooks'"
      ]
     },
     "execution_count": 2,
     "metadata": {},
     "output_type": "execute_result"
    }
   ],
   "source": [
    "%pwd"
   ]
  },
  {
   "cell_type": "code",
   "execution_count": 34,
   "metadata": {},
   "outputs": [],
   "source": [
    "# Set up openai embedding model\n",
    "# Get environment variables\n",
    "\n",
    "load_dotenv(find_dotenv())\n",
    "\n",
    "openai.api_type = \"azure\"\n",
    "openai.api_key = os.environ.get('OPENAI_API_KEY')\n",
    "openai.api_base = os.environ.get('OPENAI_API_BASE')\n",
    "openai.api_version = os.environ.get('OPENAI_API_VERSION')"
   ]
  },
  {
   "cell_type": "code",
   "execution_count": 2,
   "metadata": {},
   "outputs": [],
   "source": [
    "load_dotenv(find_dotenv())\n",
    "\n",
    "openai.api_key = os.environ.get('OPENAI_API_KEY')"
   ]
  },
  {
   "cell_type": "code",
   "execution_count": 3,
   "metadata": {},
   "outputs": [
    {
     "name": "stdout",
     "output_type": "stream",
     "text": [
      "Loaded 42500 captions.\n"
     ]
    }
   ],
   "source": [
    "# Load data\n",
    "data = pd.read_json('../data/processed/memento_data_recaption.json')\n",
    "data_exp = data.explode(['captions', 'recaptions'], ignore_index=True)\n",
    "print(f\"Loaded {len(data_exp)} captions.\")"
   ]
  },
  {
   "cell_type": "code",
   "execution_count": 4,
   "metadata": {},
   "outputs": [],
   "source": [
    "# Remove punctuation\n",
    "\n",
    "def remove_punctuation(text):\n",
    "    \"\"\"\n",
    "    Remove punctuation from a text.\n",
    "    \"\"\"\n",
    "    return text.translate(str.maketrans('', '', string.punctuation))\n",
    "\n",
    "data_exp['captions'] = data_exp['captions'].apply(remove_punctuation)\n",
    "data_exp['recaptions'] = data_exp['recaptions'].apply(remove_punctuation)\n"
   ]
  },
  {
   "cell_type": "markdown",
   "metadata": {},
   "source": [
    "## OOV words"
   ]
  },
  {
   "cell_type": "code",
   "execution_count": 5,
   "metadata": {},
   "outputs": [],
   "source": [
    "model = SentenceTransformer('sentence-transformers/all-mpnet-base-v2')\n",
    "tokenizer = AutoTokenizer.from_pretrained(\"sentence-transformers/all-mpnet-base-v2\")\n",
    "device = \"cuda\"\n",
    "\n",
    "oov_metric = OOVWords(model, tokenizer, device)"
   ]
  },
  {
   "cell_type": "code",
   "execution_count": 6,
   "metadata": {},
   "outputs": [
    {
     "name": "stderr",
     "output_type": "stream",
     "text": [
      "OOV words:   0%|          | 0/42500 [00:00<?, ?it/s]"
     ]
    },
    {
     "name": "stderr",
     "output_type": "stream",
     "text": [
      "OOV words: 100%|██████████| 42500/42500 [00:19<00:00, 2225.88it/s]\n"
     ]
    },
    {
     "name": "stdout",
     "output_type": "stream",
     "text": [
      "Successfully computed OOV for 42500 captions.\n",
      "Sample caption OOV: [2 0 0 1 0]\n"
     ]
    },
    {
     "name": "stderr",
     "output_type": "stream",
     "text": [
      "OOV words: 100%|██████████| 42500/42500 [00:20<00:00, 2115.60it/s]"
     ]
    },
    {
     "name": "stdout",
     "output_type": "stream",
     "text": [
      "Successfully computed OOV for 42500 recaptions.\n",
      "Sample recaption OOV: [0 1 1 1 1]\n"
     ]
    },
    {
     "name": "stderr",
     "output_type": "stream",
     "text": [
      "\n"
     ]
    }
   ],
   "source": [
    "data_exp['caption_oov_words'] = oov_metric.get_metric(data_exp['captions'].values, notebook=True)\n",
    "print(f\"Successfully computed OOV for {len(data_exp)} captions.\")\n",
    "print(f\"Sample caption OOV: {data_exp['caption_oov_words'].values[:5]}\")\n",
    "data_exp['recaption_oov_words'] = oov_metric.get_metric(data_exp['recaptions'].values, notebook=True)\n",
    "print(f\"Successfully computed OOV for {len(data_exp)} recaptions.\")\n",
    "print(f\"Sample recaption OOV: {data_exp['recaption_oov_words'].values[:5]}\")"
   ]
  },
  {
   "cell_type": "code",
   "execution_count": 7,
   "metadata": {},
   "outputs": [
    {
     "data": {
      "text/html": [
       "<div>\n",
       "<style scoped>\n",
       "    .dataframe tbody tr th:only-of-type {\n",
       "        vertical-align: middle;\n",
       "    }\n",
       "\n",
       "    .dataframe tbody tr th {\n",
       "        vertical-align: top;\n",
       "    }\n",
       "\n",
       "    .dataframe thead th {\n",
       "        text-align: right;\n",
       "    }\n",
       "</style>\n",
       "<table border=\"1\" class=\"dataframe\">\n",
       "  <thead>\n",
       "    <tr style=\"text-align: right;\">\n",
       "      <th></th>\n",
       "      <th>captions</th>\n",
       "      <th>caption_oov_words</th>\n",
       "    </tr>\n",
       "  </thead>\n",
       "  <tbody>\n",
       "    <tr>\n",
       "      <th>0</th>\n",
       "      <td>A brown hair girl with lip piercings mumbles s...</td>\n",
       "      <td>2</td>\n",
       "    </tr>\n",
       "    <tr>\n",
       "      <th>3</th>\n",
       "      <td>A young woman wearing a striped shirt who has ...</td>\n",
       "      <td>1</td>\n",
       "    </tr>\n",
       "    <tr>\n",
       "      <th>10</th>\n",
       "      <td>A person wearing a white sleeveless shirt is c...</td>\n",
       "      <td>1</td>\n",
       "    </tr>\n",
       "    <tr>\n",
       "      <th>11</th>\n",
       "      <td>A fat woman claps and hits the table while spe...</td>\n",
       "      <td>1</td>\n",
       "    </tr>\n",
       "    <tr>\n",
       "      <th>12</th>\n",
       "      <td>A larger woman in a white tank top claps her h...</td>\n",
       "      <td>1</td>\n",
       "    </tr>\n",
       "    <tr>\n",
       "      <th>14</th>\n",
       "      <td>A brunette sings and claps before in front of ...</td>\n",
       "      <td>1</td>\n",
       "    </tr>\n",
       "    <tr>\n",
       "      <th>20</th>\n",
       "      <td>Two overweight women sway next to each other a...</td>\n",
       "      <td>1</td>\n",
       "    </tr>\n",
       "    <tr>\n",
       "      <th>22</th>\n",
       "      <td>Two morbidly obese women dance and sing in a r...</td>\n",
       "      <td>2</td>\n",
       "    </tr>\n",
       "    <tr>\n",
       "      <th>24</th>\n",
       "      <td>two fatties stand around and sing while swayin...</td>\n",
       "      <td>1</td>\n",
       "    </tr>\n",
       "    <tr>\n",
       "      <th>36</th>\n",
       "      <td>The lower part of a womans face neck and shoul...</td>\n",
       "      <td>1</td>\n",
       "    </tr>\n",
       "  </tbody>\n",
       "</table>\n",
       "</div>"
      ],
      "text/plain": [
       "                                             captions  caption_oov_words\n",
       "0   A brown hair girl with lip piercings mumbles s...                  2\n",
       "3   A young woman wearing a striped shirt who has ...                  1\n",
       "10  A person wearing a white sleeveless shirt is c...                  1\n",
       "11  A fat woman claps and hits the table while spe...                  1\n",
       "12  A larger woman in a white tank top claps her h...                  1\n",
       "14  A brunette sings and claps before in front of ...                  1\n",
       "20  Two overweight women sway next to each other a...                  1\n",
       "22  Two morbidly obese women dance and sing in a r...                  2\n",
       "24  two fatties stand around and sing while swayin...                  1\n",
       "36  The lower part of a womans face neck and shoul...                  1"
      ]
     },
     "execution_count": 7,
     "metadata": {},
     "output_type": "execute_result"
    }
   ],
   "source": [
    "high_oov_captions = data_exp[data_exp['caption_oov_words'] > 0]\n",
    "high_oov_captions[['captions', 'caption_oov_words']].head(10)"
   ]
  },
  {
   "cell_type": "code",
   "execution_count": 8,
   "metadata": {},
   "outputs": [
    {
     "data": {
      "text/plain": [
       "['two',\n",
       " 'over',\n",
       " '##weight',\n",
       " 'women',\n",
       " 'sway',\n",
       " 'next',\n",
       " 'to',\n",
       " 'each',\n",
       " 'other',\n",
       " 'as',\n",
       " 'one',\n",
       " 'of',\n",
       " 'them',\n",
       " 'sings']"
      ]
     },
     "execution_count": 8,
     "metadata": {},
     "output_type": "execute_result"
    }
   ],
   "source": [
    "tokenizer.tokenize(high_oov_captions['captions'].iloc[6])"
   ]
  },
  {
   "cell_type": "code",
   "execution_count": 9,
   "metadata": {},
   "outputs": [
    {
     "name": "stdout",
     "output_type": "stream",
     "text": [
      "(28780, 13)\n"
     ]
    }
   ],
   "source": [
    "no_oov = data_exp[data_exp['caption_oov_words'] == 0]\n",
    "print(no_oov.shape)"
   ]
  },
  {
   "cell_type": "code",
   "execution_count": 10,
   "metadata": {},
   "outputs": [
    {
     "data": {
      "application/vnd.jupyter.widget-view+json": {
       "model_id": "840f1844c3434207be830690ccfd17c0",
       "version_major": 2,
       "version_minor": 0
      },
      "text/plain": [
       "OOV words:   0%|          | 0/42500 [00:00<?, ?it/s]"
      ]
     },
     "metadata": {},
     "output_type": "display_data"
    },
    {
     "name": "stdout",
     "output_type": "stream",
     "text": [
      "Percentage of OOV words in the captions corpus: 2.98%\n",
      "Percentage of OOV words in the recaptions corpus: 9.89%\n"
     ]
    }
   ],
   "source": [
    "# Percentage of OOV words in the captions and recaptions corpus\n",
    "total_words_in_captions_corpus = 0\n",
    "total_oov_words_in_captions_corpus = 0\n",
    "total_words_in_recaptions_corpus = 0\n",
    "total_oov_words_in_recaptions_corpus = 0\n",
    "for _, row in tqdm(data_exp.iterrows(), total=data_exp.shape[0], desc=\"OOV words\"):\n",
    "    total_words_in_captions_corpus += len(row['captions'].split())\n",
    "    total_words_in_recaptions_corpus += len(row['recaptions'].split())\n",
    "    total_oov_words_in_captions_corpus += row['caption_oov_words']\n",
    "    total_oov_words_in_recaptions_corpus += row['recaption_oov_words']\n",
    "print(f\"Percentage of OOV words in the captions corpus: {total_oov_words_in_captions_corpus/total_words_in_captions_corpus*100:.2f}%\")\n",
    "print(f\"Percentage of OOV words in the recaptions corpus: {total_oov_words_in_recaptions_corpus/total_words_in_recaptions_corpus*100:.2f}%\")\n"
   ]
  },
  {
   "cell_type": "code",
   "execution_count": 11,
   "metadata": {},
   "outputs": [
    {
     "data": {
      "text/html": [
       "<div>\n",
       "<style scoped>\n",
       "    .dataframe tbody tr th:only-of-type {\n",
       "        vertical-align: middle;\n",
       "    }\n",
       "\n",
       "    .dataframe tbody tr th {\n",
       "        vertical-align: top;\n",
       "    }\n",
       "\n",
       "    .dataframe thead th {\n",
       "        text-align: right;\n",
       "    }\n",
       "</style>\n",
       "<table border=\"1\" class=\"dataframe\">\n",
       "  <thead>\n",
       "    <tr style=\"text-align: right;\">\n",
       "      <th></th>\n",
       "      <th>caption_oov_words</th>\n",
       "      <th>recaption_oov_words</th>\n",
       "    </tr>\n",
       "  </thead>\n",
       "  <tbody>\n",
       "    <tr>\n",
       "      <th>count</th>\n",
       "      <td>42500.000000</td>\n",
       "      <td>42500.000000</td>\n",
       "    </tr>\n",
       "    <tr>\n",
       "      <th>mean</th>\n",
       "      <td>0.390165</td>\n",
       "      <td>1.338376</td>\n",
       "    </tr>\n",
       "    <tr>\n",
       "      <th>std</th>\n",
       "      <td>0.625585</td>\n",
       "      <td>1.152594</td>\n",
       "    </tr>\n",
       "    <tr>\n",
       "      <th>min</th>\n",
       "      <td>0.000000</td>\n",
       "      <td>0.000000</td>\n",
       "    </tr>\n",
       "    <tr>\n",
       "      <th>25%</th>\n",
       "      <td>0.000000</td>\n",
       "      <td>0.000000</td>\n",
       "    </tr>\n",
       "    <tr>\n",
       "      <th>50%</th>\n",
       "      <td>0.000000</td>\n",
       "      <td>1.000000</td>\n",
       "    </tr>\n",
       "    <tr>\n",
       "      <th>75%</th>\n",
       "      <td>1.000000</td>\n",
       "      <td>2.000000</td>\n",
       "    </tr>\n",
       "    <tr>\n",
       "      <th>max</th>\n",
       "      <td>6.000000</td>\n",
       "      <td>10.000000</td>\n",
       "    </tr>\n",
       "  </tbody>\n",
       "</table>\n",
       "</div>"
      ],
      "text/plain": [
       "       caption_oov_words  recaption_oov_words\n",
       "count       42500.000000         42500.000000\n",
       "mean            0.390165             1.338376\n",
       "std             0.625585             1.152594\n",
       "min             0.000000             0.000000\n",
       "25%             0.000000             0.000000\n",
       "50%             0.000000             1.000000\n",
       "75%             1.000000             2.000000\n",
       "max             6.000000            10.000000"
      ]
     },
     "execution_count": 11,
     "metadata": {},
     "output_type": "execute_result"
    }
   ],
   "source": [
    "data_exp[['caption_oov_words', 'recaption_oov_words']].describe()"
   ]
  },
  {
   "cell_type": "code",
   "execution_count": 12,
   "metadata": {},
   "outputs": [
    {
     "data": {
      "image/png": "[encoded data removed]",
      "text/plain": [
       "<Figure size 900x500 with 1 Axes>"
      ]
     },
     "metadata": {},
     "output_type": "display_data"
    }
   ],
   "source": [
    "# Histogram of the OOV words for the captions and recaptions corpus (same plot)\n",
    "\n",
    "plt.figure(figsize=(9, 5))\n",
    "plt.hist(data_exp['caption_oov_words'], bins=10, alpha=0.5, label='captions', density=False, color='blue')\n",
    "plt.hist(data_exp['recaption_oov_words'], bins=10, alpha=0.5, label='recaptions', density=False, color='red')\n",
    "plt.legend(loc='upper right')\n",
    "plt.grid(axis='both', alpha=0.75)\n",
    "plt.xlabel('OOV Words in the caption/recaption')\n",
    "plt.ylabel('Number of captions/recaptions')\n",
    "plt.title('OOV Words Histogram')\n",
    "plt.show()"
   ]
  },
  {
   "cell_type": "code",
   "execution_count": 13,
   "metadata": {},
   "outputs": [
    {
     "data": {
      "text/html": [
       "<div>\n",
       "<style scoped>\n",
       "    .dataframe tbody tr th:only-of-type {\n",
       "        vertical-align: middle;\n",
       "    }\n",
       "\n",
       "    .dataframe tbody tr th {\n",
       "        vertical-align: top;\n",
       "    }\n",
       "\n",
       "    .dataframe thead th {\n",
       "        text-align: right;\n",
       "    }\n",
       "</style>\n",
       "<table border=\"1\" class=\"dataframe\">\n",
       "  <thead>\n",
       "    <tr style=\"text-align: right;\">\n",
       "      <th></th>\n",
       "      <th>caption_oov_words_ratio</th>\n",
       "      <th>recaption_oov_words_ratio</th>\n",
       "    </tr>\n",
       "  </thead>\n",
       "  <tbody>\n",
       "    <tr>\n",
       "      <th>count</th>\n",
       "      <td>42500.000000</td>\n",
       "      <td>42500.000000</td>\n",
       "    </tr>\n",
       "    <tr>\n",
       "      <th>mean</th>\n",
       "      <td>0.030617</td>\n",
       "      <td>0.103267</td>\n",
       "    </tr>\n",
       "    <tr>\n",
       "      <th>std</th>\n",
       "      <td>0.049828</td>\n",
       "      <td>0.090813</td>\n",
       "    </tr>\n",
       "    <tr>\n",
       "      <th>min</th>\n",
       "      <td>0.000000</td>\n",
       "      <td>0.000000</td>\n",
       "    </tr>\n",
       "    <tr>\n",
       "      <th>25%</th>\n",
       "      <td>0.000000</td>\n",
       "      <td>0.000000</td>\n",
       "    </tr>\n",
       "    <tr>\n",
       "      <th>50%</th>\n",
       "      <td>0.000000</td>\n",
       "      <td>0.086957</td>\n",
       "    </tr>\n",
       "    <tr>\n",
       "      <th>75%</th>\n",
       "      <td>0.071429</td>\n",
       "      <td>0.153846</td>\n",
       "    </tr>\n",
       "    <tr>\n",
       "      <th>max</th>\n",
       "      <td>0.400000</td>\n",
       "      <td>0.800000</td>\n",
       "    </tr>\n",
       "  </tbody>\n",
       "</table>\n",
       "</div>"
      ],
      "text/plain": [
       "       caption_oov_words_ratio  recaption_oov_words_ratio\n",
       "count             42500.000000               42500.000000\n",
       "mean                  0.030617                   0.103267\n",
       "std                   0.049828                   0.090813\n",
       "min                   0.000000                   0.000000\n",
       "25%                   0.000000                   0.000000\n",
       "50%                   0.000000                   0.086957\n",
       "75%                   0.071429                   0.153846\n",
       "max                   0.400000                   0.800000"
      ]
     },
     "execution_count": 13,
     "metadata": {},
     "output_type": "execute_result"
    }
   ],
   "source": [
    "data_exp['caption_length'] = data_exp['captions'].apply(lambda x: len(x.split()))\n",
    "data_exp['caption_oov_words_ratio'] = data_exp['caption_oov_words'] / data_exp['caption_length']\n",
    "\n",
    "data_exp['recaption_length'] = data_exp['recaptions'].apply(lambda x: len(x.split()))\n",
    "data_exp['recaption_oov_words_ratio'] = data_exp['recaption_oov_words'] / data_exp['recaption_length']\n",
    "\n",
    "data_exp[['caption_oov_words_ratio', 'recaption_oov_words_ratio']].describe()"
   ]
  },
  {
   "cell_type": "code",
   "execution_count": 14,
   "metadata": {},
   "outputs": [
    {
     "data": {
      "image/png": "[encoded data removed]",
      "text/plain": [
       "<Figure size 900x500 with 1 Axes>"
      ]
     },
     "metadata": {},
     "output_type": "display_data"
    }
   ],
   "source": [
    "plt.figure(figsize=(9, 5))\n",
    "plt.hist(data_exp['caption_oov_words_ratio'], bins=10, alpha=0.5, label='captions', density=False, color='blue')\n",
    "plt.hist(data_exp['recaption_oov_words_ratio'], bins=10, alpha=0.5, label='recaptions', density=False, color='red')\n",
    "plt.legend(loc='upper right')\n",
    "plt.grid(axis='both', alpha=0.75)\n",
    "plt.xlabel('Ratio of OOV Words in the caption/recaption')\n",
    "plt.ylabel('Number of captions/recaptions')\n",
    "plt.title('Ratio of OOV Words Histogram')\n",
    "plt.show()"
   ]
  },
  {
   "cell_type": "code",
   "execution_count": 15,
   "metadata": {},
   "outputs": [
    {
     "data": {
      "text/html": [
       "<div>\n",
       "<style scoped>\n",
       "    .dataframe tbody tr th:only-of-type {\n",
       "        vertical-align: middle;\n",
       "    }\n",
       "\n",
       "    .dataframe tbody tr th {\n",
       "        vertical-align: top;\n",
       "    }\n",
       "\n",
       "    .dataframe thead th {\n",
       "        text-align: right;\n",
       "    }\n",
       "</style>\n",
       "<table border=\"1\" class=\"dataframe\">\n",
       "  <thead>\n",
       "    <tr style=\"text-align: right;\">\n",
       "      <th></th>\n",
       "      <th>recaptions</th>\n",
       "      <th>recaption_oov_words</th>\n",
       "    </tr>\n",
       "  </thead>\n",
       "  <tbody>\n",
       "    <tr>\n",
       "      <th>25451</th>\n",
       "      <td>A wintry set of scenes filled with snowdriftin...</td>\n",
       "      <td>10</td>\n",
       "    </tr>\n",
       "    <tr>\n",
       "      <th>35244</th>\n",
       "      <td>A late night adventurer glides effortlessly up...</td>\n",
       "      <td>10</td>\n",
       "    </tr>\n",
       "    <tr>\n",
       "      <th>8329</th>\n",
       "      <td>A car winds its way through scorching sand dun...</td>\n",
       "      <td>9</td>\n",
       "    </tr>\n",
       "    <tr>\n",
       "      <th>35499</th>\n",
       "      <td>A group unwinds amidst the warmth of a burning...</td>\n",
       "      <td>9</td>\n",
       "    </tr>\n",
       "    <tr>\n",
       "      <th>39195</th>\n",
       "      <td>Un billet dune course nautique avec plusieurs ...</td>\n",
       "      <td>9</td>\n",
       "    </tr>\n",
       "    <tr>\n",
       "      <th>25359</th>\n",
       "      <td>A cute feline naps on a cozy beanbag then hila...</td>\n",
       "      <td>8</td>\n",
       "    </tr>\n",
       "    <tr>\n",
       "      <th>21264</th>\n",
       "      <td>Musicians donning cowboy hats grace the stage ...</td>\n",
       "      <td>8</td>\n",
       "    </tr>\n",
       "    <tr>\n",
       "      <th>9796</th>\n",
       "      <td>A tiny cherub nestled merrily within a comfy p...</td>\n",
       "      <td>8</td>\n",
       "    </tr>\n",
       "    <tr>\n",
       "      <th>36614</th>\n",
       "      <td>A school of shimmering fish glides amidst wave...</td>\n",
       "      <td>8</td>\n",
       "    </tr>\n",
       "    <tr>\n",
       "      <th>312</th>\n",
       "      <td>A tiny tot licks and slobbers over a toweldeck...</td>\n",
       "      <td>8</td>\n",
       "    </tr>\n",
       "  </tbody>\n",
       "</table>\n",
       "</div>"
      ],
      "text/plain": [
       "                                              recaptions  recaption_oov_words\n",
       "25451  A wintry set of scenes filled with snowdriftin...                   10\n",
       "35244  A late night adventurer glides effortlessly up...                   10\n",
       "8329   A car winds its way through scorching sand dun...                    9\n",
       "35499  A group unwinds amidst the warmth of a burning...                    9\n",
       "39195  Un billet dune course nautique avec plusieurs ...                    9\n",
       "25359  A cute feline naps on a cozy beanbag then hila...                    8\n",
       "21264  Musicians donning cowboy hats grace the stage ...                    8\n",
       "9796   A tiny cherub nestled merrily within a comfy p...                    8\n",
       "36614  A school of shimmering fish glides amidst wave...                    8\n",
       "312    A tiny tot licks and slobbers over a toweldeck...                    8"
      ]
     },
     "execution_count": 15,
     "metadata": {},
     "output_type": "execute_result"
    }
   ],
   "source": [
    "# Show recaptions examples with most OOV words\n",
    "highest_oov_recaptions = data_exp[['recaptions','recaption_oov_words']].sort_values(by='recaption_oov_words', ascending=False).head(10)\n",
    "highest_oov_recaptions"
   ]
  },
  {
   "cell_type": "code",
   "execution_count": 16,
   "metadata": {},
   "outputs": [
    {
     "data": {
      "text/plain": [
       "['a',\n",
       " 'win',\n",
       " '##try',\n",
       " 'set',\n",
       " 'of',\n",
       " 'scenes',\n",
       " 'filled',\n",
       " 'with',\n",
       " 'snow',\n",
       " '##dr',\n",
       " '##if',\n",
       " '##ting',\n",
       " 'heavily',\n",
       " '##car',\n",
       " '##pet',\n",
       " '##ed',\n",
       " 'cobb',\n",
       " '##led',\n",
       " 'roads',\n",
       " 'lit',\n",
       " 'up',\n",
       " 'by',\n",
       " 'a',\n",
       " 'charming',\n",
       " 'collection',\n",
       " 'of',\n",
       " 'diverse',\n",
       " 'residents',\n",
       " 'o',\n",
       " '##cc',\n",
       " '##lus',\n",
       " '##ive',\n",
       " '##lo',\n",
       " '##oki',\n",
       " '##ng',\n",
       " 'residences',\n",
       " 'parallel',\n",
       " '##ed',\n",
       " 'with',\n",
       " 'ob',\n",
       " '##st',\n",
       " '##ru',\n",
       " '##cting',\n",
       " 'driveway',\n",
       " '##s',\n",
       " 'fence',\n",
       " '##d',\n",
       " 'up',\n",
       " 'by',\n",
       " 'contrasting',\n",
       " 'eccentric',\n",
       " 'winter',\n",
       " '##cha',\n",
       " '##rio',\n",
       " '##t',\n",
       " 'bars',\n",
       " 'surrounded']"
      ]
     },
     "execution_count": 16,
     "metadata": {},
     "output_type": "execute_result"
    }
   ],
   "source": [
    "tokenizer.tokenize(highest_oov_recaptions['recaptions'].values[0])"
   ]
  },
  {
   "cell_type": "code",
   "execution_count": 17,
   "metadata": {},
   "outputs": [
    {
     "data": {
      "application/vnd.jupyter.widget-view+json": {
       "model_id": "58caebe7f1814b998b9db3c713dd6e4a",
       "version_major": 2,
       "version_minor": 0
      },
      "text/plain": [
       "  0%|          | 0/42500 [00:00<?, ?it/s]"
      ]
     },
     "metadata": {},
     "output_type": "display_data"
    },
    {
     "name": "stdout",
     "output_type": "stream",
     "text": [
      "Number of OOV words in captions:  4196\n",
      "[('toddler', 457), ('swims', 236), ('skis', 198), ('pans', 174), ('surfboard', 147), ('crawls', 126), ('skateboard', 116), ('bib', 111), ('bathtub', 110), ('onlookers', 108)]\n"
     ]
    }
   ],
   "source": [
    "# Create a dicttionary that stores the number of times each OOV word appears in the captions\n",
    "oov_words_captions = Counter()\n",
    "for _,row in tqdm(data_exp.iterrows(), total=len(data_exp)):\n",
    "    for word in row['captions'].split():\n",
    "        if oov_metric.is_oov(word):\n",
    "            oov_words_captions[word] += 1\n",
    "\n",
    "print(\"Number of OOV words in captions: \", len(oov_words_captions))\n",
    "# Print most frequent\n",
    "print(oov_words_captions.most_common(10))"
   ]
  },
  {
   "cell_type": "code",
   "execution_count": 18,
   "metadata": {},
   "outputs": [
    {
     "data": {
      "application/vnd.jupyter.widget-view+json": {
       "model_id": "9a598947b5ff48418cae83b93f5e47d9",
       "version_major": 2,
       "version_minor": 0
      },
      "text/plain": [
       "  0%|          | 0/20 [00:00<?, ?it/s]"
      ]
     },
     "metadata": {},
     "output_type": "display_data"
    },
    {
     "data": {
      "text/plain": [
       "{'toddler': ['todd', '##ler'],\n",
       " 'swims': ['swim', '##s'],\n",
       " 'skis': ['ski', '##s'],\n",
       " 'pans': ['pan', '##s'],\n",
       " 'surfboard': ['surf', '##board'],\n",
       " 'crawls': ['crawl', '##s'],\n",
       " 'skateboard': ['skate', '##board'],\n",
       " 'bib': ['bi', '##b'],\n",
       " 'bathtub': ['bath', '##tub'],\n",
       " 'onlookers': ['on', '##lo', '##oke', '##rs'],\n",
       " 'skates': ['skate', '##s'],\n",
       " 'claps': ['clap', '##s'],\n",
       " 'crib': ['cr', '##ib'],\n",
       " 'trampoline': ['tram', '##pol', '##ine'],\n",
       " 'kayak': ['kay', '##ak'],\n",
       " 'bikers': ['biker', '##s'],\n",
       " 'cheerleaders': ['cheer', '##leader', '##s'],\n",
       " 'someones': ['someone', '##s'],\n",
       " 'bounces': ['bounce', '##s'],\n",
       " 'chews': ['chew', '##s']}"
      ]
     },
     "execution_count": 18,
     "metadata": {},
     "output_type": "execute_result"
    }
   ],
   "source": [
    "# Get the tokens for the 10 most common OOV words in the captions in a dictionary\n",
    "oov_words = oov_words_captions.most_common(20)\n",
    "oov_tokens = {}\n",
    "for oov_word, _ in tqdm(oov_words):\n",
    "    tokens = tokenizer.tokenize(oov_word)\n",
    "    if len(tokens) > 1:\n",
    "        tokens = [token for token in tokens if token not in ['[UNK]', '[PAD]']]\n",
    "    if len(tokens) > 0:\n",
    "        oov_tokens[oov_word] = tokens\n",
    "oov_tokens"
   ]
  },
  {
   "cell_type": "code",
   "execution_count": 19,
   "metadata": {},
   "outputs": [
    {
     "data": {
      "application/vnd.jupyter.widget-view+json": {
       "model_id": "e0e799ae8efb4337b48918149954a71a",
       "version_major": 2,
       "version_minor": 0
      },
      "text/plain": [
       "  0%|          | 0/42500 [00:00<?, ?it/s]"
      ]
     },
     "metadata": {},
     "output_type": "display_data"
    },
    {
     "name": "stdout",
     "output_type": "stream",
     "text": [
      "Number of OOV words in captions:  11274\n",
      "[('glides', 913), ('joyfully', 830), ('navigates', 744), ('toddler', 621), ('bustling', 522), ('energetically', 447), ('feline', 415), ('joyful', 354), ('onlookers', 310), ('donning', 290)]\n"
     ]
    }
   ],
   "source": [
    "# Create a dicttionary that stores the number of times each OOV word appears in the recaptions\n",
    "oov_words_recaptions = Counter()\n",
    "for _,row in tqdm(data_exp.iterrows(), total=len(data_exp)):\n",
    "    for word in row['recaptions'].split():\n",
    "        if oov_metric.is_oov(word):\n",
    "            oov_words_recaptions[word] += 1\n",
    "\n",
    "print(\"Number of OOV words in captions: \", len(oov_words_recaptions))\n",
    "# Print most frequent\n",
    "print(oov_words_recaptions.most_common(10))"
   ]
  },
  {
   "cell_type": "code",
   "execution_count": 20,
   "metadata": {},
   "outputs": [
    {
     "data": {
      "application/vnd.jupyter.widget-view+json": {
       "model_id": "ed3ef6944a6049d499f829b8e8776115",
       "version_major": 2,
       "version_minor": 0
      },
      "text/plain": [
       "  0%|          | 0/20 [00:00<?, ?it/s]"
      ]
     },
     "metadata": {},
     "output_type": "display_data"
    },
    {
     "data": {
      "text/plain": [
       "{'glides': ['glide', '##s'],\n",
       " 'joyfully': ['joy', '##fully'],\n",
       " 'navigates': ['navigate', '##s'],\n",
       " 'toddler': ['todd', '##ler'],\n",
       " 'bustling': ['bust', '##ling'],\n",
       " 'energetically': ['energetic', '##ally'],\n",
       " 'feline': ['fe', '##line'],\n",
       " 'joyful': ['joy', '##ful'],\n",
       " 'onlookers': ['on', '##lo', '##oke', '##rs'],\n",
       " 'donning': ['don', '##ning'],\n",
       " 'mesmerizing': ['me', '##sm', '##eri', '##zing'],\n",
       " 'leisurely': ['leisure', '##ly'],\n",
       " 'navigating': ['na', '##vi', '##gating'],\n",
       " 'skillfully': ['skill', '##fully'],\n",
       " 'interacts': ['interact', '##s'],\n",
       " 'captivating': ['capt', '##ivating'],\n",
       " 'cascading': ['cas', '##ca', '##ding'],\n",
       " 'youngster': ['young', '##ster'],\n",
       " 'festive': ['fest', '##ive'],\n",
       " 'tranquil': ['tran', '##quil']}"
      ]
     },
     "execution_count": 20,
     "metadata": {},
     "output_type": "execute_result"
    }
   ],
   "source": [
    "# Get the tokens for the 10 most common OOV words in the captions in a dictionary\n",
    "oov_words_re = oov_words_recaptions.most_common(20)\n",
    "oov_tokens_re = {}\n",
    "for oov_word, _ in tqdm(oov_words_re):\n",
    "    tokens = tokenizer.tokenize(oov_word)\n",
    "    if len(tokens) > 1:\n",
    "        tokens = [token for token in tokens if token not in ['[UNK]', '[PAD]']]\n",
    "    if len(tokens) > 0:\n",
    "        oov_tokens_re[oov_word] = tokens\n",
    "oov_tokens_re"
   ]
  },
  {
   "cell_type": "code",
   "execution_count": 22,
   "metadata": {},
   "outputs": [
    {
     "name": "stdout",
     "output_type": "stream",
     "text": [
      "Original caption: A yellowed headed parakeet with an olive greengrey body is chirping up past wooden poles on a stoop while orange plastic chains hang in the foreground\n",
      "Recaption: A colorful bird perches and creates sounds amongst tall wooden poles and bright orange chains in the foreground\n",
      "Cosine similarity: 0.6839526891708374\n",
      "\n",
      "Original caption: Yellow Iguana is eating crickets out of a bowel with crickets and strawberries\n",
      "Recaption: A vibrant Iguana savors snacks from a bowled banquet of crickets and strawberries\n",
      "Cosine similarity: 0.7721712589263916\n",
      "\n",
      "Original caption: A beagle licks a golden retriever on the body while The golden retriever wags his tail\n",
      "Recaption: A friendly beagle loves to groom a cheerful golden retriever by licking its fur and making it wag its happy tail\n",
      "Cosine similarity: 0.7730629444122314\n",
      "\n",
      "Original caption: A doctor and a nurse adjust and stead a squirming baby thats inside an incubator inside an ICU\n",
      "Recaption: Two medical professionals working together to care for a fragile baby in need of attention and assistance within a specialized unit\n",
      "Cosine similarity: 0.7032616138458252\n",
      "\n",
      "Original caption: a camera pans a room and shows a carlsberg beer inflatable and then zooms to a tv screen on top of a credenza bureau\n",
      "Recaption: A video captures a room with a Carlsberg beer inflatable and a TV screen atop a credenza bureau\n",
      "Cosine similarity: 0.8660148978233337\n",
      "\n",
      "Original caption: A white woolen llama chews food while a baby pokes its head into view\n",
      "Recaption: A fluffy llama munches away as a curious little one comes to say hello\n",
      "Cosine similarity: 0.729295551776886\n",
      "\n",
      "Original caption: A dady is tickling his toddler and his toddler is laughing\n",
      "Recaption: A father brings joy to his child as they engage in lighthearted play\n",
      "Cosine similarity: 0.6638269424438477\n",
      "\n",
      "Original caption: Two talkshow women interact with a skein of burlap for a DIY project\n",
      "Recaption: Two ladies engage in a creative DIY activity by chatting and working with a rough material\n",
      "Cosine similarity: 0.6617687940597534\n",
      "\n",
      "Original caption: A small child covered in frosting smears a womans face with the sugary substance\n",
      "Recaption: A toddler delightfully applies frosted treats onto a womans face\n",
      "Cosine similarity: 0.7314655184745789\n",
      "\n",
      "Original caption: a sunfish sailboat with a yellow and blue flag is followed in a race by a sunfish with a blue an white flag as they pass a sunfish with an orange and yellow sail going in the opposite direction\n",
      "Recaption: A colorful yacht contest between boats with different sails passing each other in opposite directions\n",
      "Cosine similarity: 0.6591083407402039\n",
      "\n"
     ]
    }
   ],
   "source": [
    "# Get the recaptions with most OOV words and compute cosine similarity to the original caption\n",
    "\n",
    "cosine_sim_metric = CosineSimilarity(model, tokenizer, device)\n",
    "\n",
    "for _,row in data_exp.sort_values(by='caption_oov_words', ascending=False).head(10).iterrows():\n",
    "    print(f\"Original caption: {row['captions']}\")\n",
    "    print(f\"Recaption: {row['recaptions']}\")\n",
    "    print(f\"Cosine similarity: {cosine_sim_metric.get_metric([row['captions']], [row['recaptions']])[0][0]}\")\n",
    "    print()"
   ]
  },
  {
   "cell_type": "code",
   "execution_count": 23,
   "metadata": {},
   "outputs": [
    {
     "data": {
      "text/plain": [
       "array([[0.90610707]], dtype=float32)"
      ]
     },
     "execution_count": 23,
     "metadata": {},
     "output_type": "execute_result"
    }
   ],
   "source": [
    "cosine_sim_metric.get_metric(\"This is a test\", \"This is another test\")"
   ]
  },
  {
   "cell_type": "code",
   "execution_count": 24,
   "metadata": {},
   "outputs": [
    {
     "name": "stdout",
     "output_type": "stream",
     "text": [
      "Original caption: A yellowed headed parakeet with an olive greengrey body is chirping up past wooden poles on a stoop while orange plastic chains hang in the foreground\n",
      "Recaption: A colorful bird perches and creates sounds amongst tall wooden poles and bright orange chains in the foreground\n",
      "Warning: text-embedding-ada-002 only supports one text at a time.\n",
      "Using the first text in the list.\n",
      "Warning: text-embedding-ada-002 only supports one text at a time.\n",
      "Using the first text in the list.\n",
      "Cosine similarity: 0.9351926551293945\n",
      "\n",
      "Original caption: Yellow Iguana is eating crickets out of a bowel with crickets and strawberries\n",
      "Recaption: A vibrant Iguana savors snacks from a bowled banquet of crickets and strawberries\n",
      "Warning: text-embedding-ada-002 only supports one text at a time.\n",
      "Using the first text in the list.\n",
      "Warning: text-embedding-ada-002 only supports one text at a time.\n",
      "Using the first text in the list.\n",
      "Cosine similarity: 0.9604398787825085\n",
      "\n",
      "Original caption: A beagle licks a golden retriever on the body while The golden retriever wags his tail\n",
      "Recaption: A friendly beagle loves to groom a cheerful golden retriever by licking its fur and making it wag its happy tail\n",
      "Warning: text-embedding-ada-002 only supports one text at a time.\n",
      "Using the first text in the list.\n",
      "Warning: text-embedding-ada-002 only supports one text at a time.\n",
      "Using the first text in the list.\n",
      "Cosine similarity: 0.9636617608809757\n",
      "\n",
      "Original caption: A doctor and a nurse adjust and stead a squirming baby thats inside an incubator inside an ICU\n",
      "Recaption: Two medical professionals working together to care for a fragile baby in need of attention and assistance within a specialized unit\n",
      "Warning: text-embedding-ada-002 only supports one text at a time.\n",
      "Using the first text in the list.\n",
      "Warning: text-embedding-ada-002 only supports one text at a time.\n",
      "Using the first text in the list.\n",
      "Cosine similarity: 0.9071275603832867\n",
      "\n",
      "Original caption: a camera pans a room and shows a carlsberg beer inflatable and then zooms to a tv screen on top of a credenza bureau\n",
      "Recaption: A video captures a room with a Carlsberg beer inflatable and a TV screen atop a credenza bureau\n",
      "Warning: text-embedding-ada-002 only supports one text at a time.\n",
      "Using the first text in the list.\n",
      "Warning: text-embedding-ada-002 only supports one text at a time.\n",
      "Using the first text in the list.\n",
      "Cosine similarity: 0.9726040944691468\n",
      "\n",
      "Original caption: A white woolen llama chews food while a baby pokes its head into view\n",
      "Recaption: A fluffy llama munches away as a curious little one comes to say hello\n",
      "Warning: text-embedding-ada-002 only supports one text at a time.\n",
      "Using the first text in the list.\n",
      "Warning: text-embedding-ada-002 only supports one text at a time.\n",
      "Using the first text in the list.\n",
      "Cosine similarity: 0.9357588459448248\n",
      "\n",
      "Original caption: A dady is tickling his toddler and his toddler is laughing\n",
      "Recaption: A father brings joy to his child as they engage in lighthearted play\n",
      "Warning: text-embedding-ada-002 only supports one text at a time.\n",
      "Using the first text in the list.\n",
      "Warning: text-embedding-ada-002 only supports one text at a time.\n",
      "Using the first text in the list.\n",
      "Cosine similarity: 0.8940519549288404\n",
      "\n",
      "Original caption: Two talkshow women interact with a skein of burlap for a DIY project\n",
      "Recaption: Two ladies engage in a creative DIY activity by chatting and working with a rough material\n",
      "Warning: text-embedding-ada-002 only supports one text at a time.\n",
      "Using the first text in the list.\n",
      "Warning: text-embedding-ada-002 only supports one text at a time.\n",
      "Using the first text in the list.\n",
      "Cosine similarity: 0.9113740697023821\n",
      "\n",
      "Original caption: A small child covered in frosting smears a womans face with the sugary substance\n",
      "Recaption: A toddler delightfully applies frosted treats onto a womans face\n",
      "Warning: text-embedding-ada-002 only supports one text at a time.\n",
      "Using the first text in the list.\n",
      "Warning: text-embedding-ada-002 only supports one text at a time.\n",
      "Using the first text in the list.\n",
      "Cosine similarity: 0.9426490509734042\n",
      "\n",
      "Original caption: a sunfish sailboat with a yellow and blue flag is followed in a race by a sunfish with a blue an white flag as they pass a sunfish with an orange and yellow sail going in the opposite direction\n",
      "Recaption: A colorful yacht contest between boats with different sails passing each other in opposite directions\n",
      "Warning: text-embedding-ada-002 only supports one text at a time.\n",
      "Using the first text in the list.\n",
      "Warning: text-embedding-ada-002 only supports one text at a time.\n",
      "Using the first text in the list.\n",
      "Cosine similarity: 0.9179809035232024\n",
      "\n"
     ]
    }
   ],
   "source": [
    "cosine_sim_metric_openai = CosineSimilarity(\"text-embedding-ada-002\", tokenizer, device)\n",
    "\n",
    "for _,row in data_exp.sort_values(by='caption_oov_words', ascending=False).head(10).iterrows():\n",
    "    print(f\"Original caption: {row['captions']}\")\n",
    "    print(f\"Recaption: {row['recaptions']}\")\n",
    "    print(f\"Cosine similarity: {cosine_sim_metric_openai.get_metric([row['captions']], [row['recaptions']])[0][0]}\")\n",
    "    print()"
   ]
  },
  {
   "cell_type": "code",
   "execution_count": 25,
   "metadata": {},
   "outputs": [
    {
     "data": {
      "application/vnd.jupyter.widget-view+json": {
       "model_id": "bbeb912a017e4f0bbc6bc01454d8bade",
       "version_major": 2,
       "version_minor": 0
      },
      "text/plain": [
       "  0%|          | 0/100 [00:00<?, ?it/s]"
      ]
     },
     "metadata": {},
     "output_type": "display_data"
    },
    {
     "data": {
      "application/vnd.jupyter.widget-view+json": {
       "model_id": "3804498427a945fabf965de7b1302f14",
       "version_major": 2,
       "version_minor": 0
      },
      "text/plain": [
       "  0%|          | 0/100 [00:00<?, ?it/s]"
      ]
     },
     "metadata": {},
     "output_type": "display_data"
    },
    {
     "data": {
      "text/html": [
       "<div>\n",
       "<style scoped>\n",
       "    .dataframe tbody tr th:only-of-type {\n",
       "        vertical-align: middle;\n",
       "    }\n",
       "\n",
       "    .dataframe tbody tr th {\n",
       "        vertical-align: top;\n",
       "    }\n",
       "\n",
       "    .dataframe thead th {\n",
       "        text-align: right;\n",
       "    }\n",
       "</style>\n",
       "<table border=\"1\" class=\"dataframe\">\n",
       "  <thead>\n",
       "    <tr style=\"text-align: right;\">\n",
       "      <th></th>\n",
       "      <th>filename</th>\n",
       "      <th>url</th>\n",
       "      <th>mem_score</th>\n",
       "      <th>alpha</th>\n",
       "      <th>audio_description</th>\n",
       "      <th>captions</th>\n",
       "      <th>action_labels</th>\n",
       "      <th>actions</th>\n",
       "      <th>responses</th>\n",
       "      <th>recaptions</th>\n",
       "      <th>total_used_tokens</th>\n",
       "      <th>caption_oov_words</th>\n",
       "      <th>recaption_oov_words</th>\n",
       "      <th>caption_length</th>\n",
       "      <th>caption_oov_words_ratio</th>\n",
       "      <th>recaption_length</th>\n",
       "      <th>recaption_oov_words_ratio</th>\n",
       "      <th>cosine_sim_mpnet</th>\n",
       "      <th>cosine_sim_openai</th>\n",
       "    </tr>\n",
       "  </thead>\n",
       "  <tbody>\n",
       "    <tr>\n",
       "      <th>34688</th>\n",
       "      <td>whistling_flickr-4-1-4-3-0-7-4-5-4541430745_74...</td>\n",
       "      <td>https://data.csail.mit.edu/soundnet/actions3/w...</td>\n",
       "      <td>0.859782</td>\n",
       "      <td>-0.001601</td>\n",
       "      <td>a parakeet with a yellow head and orange spot ...</td>\n",
       "      <td>A yellowed headed parakeet with an olive green...</td>\n",
       "      <td>[whistling, sing, blowing, standing]</td>\n",
       "      <td>whistling, sing, blowing, standing</td>\n",
       "      <td>[{'id': 'chatcmpl-7KEsD8XHCFgWtwz2j23yy9Lqsprh...</td>\n",
       "      <td>A colorful bird perches and creates sounds amo...</td>\n",
       "      <td>1898</td>\n",
       "      <td>6</td>\n",
       "      <td>2</td>\n",
       "      <td>26</td>\n",
       "      <td>0.230769</td>\n",
       "      <td>18</td>\n",
       "      <td>0.111111</td>\n",
       "      <td>0.683953</td>\n",
       "      <td>0.935193</td>\n",
       "    </tr>\n",
       "    <tr>\n",
       "      <th>9070</th>\n",
       "      <td>eating_flickr-4-0-0-2-8-6-9-6-3140028696_6.mp4</td>\n",
       "      <td>https://data.csail.mit.edu/soundnet/actions3/e...</td>\n",
       "      <td>0.956170</td>\n",
       "      <td>-0.000442</td>\n",
       "      <td>we have what looks like a bearded dragon havin...</td>\n",
       "      <td>Yellow Iguana is eating crickets out of a bowe...</td>\n",
       "      <td>[eating, sitting, attacking, feeding]</td>\n",
       "      <td>eating, sitting, attacking, feeding</td>\n",
       "      <td>[{'id': 'chatcmpl-7JsfxqHcgQm6WSgGRX7Wh5N49Irr...</td>\n",
       "      <td>A vibrant Iguana savors snacks from a bowled b...</td>\n",
       "      <td>1875</td>\n",
       "      <td>5</td>\n",
       "      <td>4</td>\n",
       "      <td>13</td>\n",
       "      <td>0.384615</td>\n",
       "      <td>13</td>\n",
       "      <td>0.307692</td>\n",
       "      <td>0.772171</td>\n",
       "      <td>0.960467</td>\n",
       "    </tr>\n",
       "    <tr>\n",
       "      <th>37995</th>\n",
       "      <td>licking_flickr-5-4-1-5-0-9-8-6-2554150986_83.mp4</td>\n",
       "      <td>https://data.csail.mit.edu/soundnet/actions3/l...</td>\n",
       "      <td>0.882156</td>\n",
       "      <td>-0.001528</td>\n",
       "      <td>on a wooden floor there are two small brown do...</td>\n",
       "      <td>A beagle licks a golden retriever on the body ...</td>\n",
       "      <td>[licking, eating, washing, imitating, cleaning]</td>\n",
       "      <td>licking, eating, washing, imitating, cleaning</td>\n",
       "      <td>[{'id': 'chatcmpl-7KINpiV79VbEGlRLLnZsvfWo6TX9...</td>\n",
       "      <td>A friendly beagle loves to groom a cheerful go...</td>\n",
       "      <td>1880</td>\n",
       "      <td>5</td>\n",
       "      <td>3</td>\n",
       "      <td>16</td>\n",
       "      <td>0.312500</td>\n",
       "      <td>21</td>\n",
       "      <td>0.142857</td>\n",
       "      <td>0.773063</td>\n",
       "      <td>0.963662</td>\n",
       "    </tr>\n",
       "    <tr>\n",
       "      <th>7209</th>\n",
       "      <td>discussing_0-9-8-2-2-0-2-4-2509822024.mp4</td>\n",
       "      <td>https://data.csail.mit.edu/soundnet/actions3/d...</td>\n",
       "      <td>0.803126</td>\n",
       "      <td>-0.000455</td>\n",
       "      <td>in this video she possibly a new dad and a nur...</td>\n",
       "      <td>A doctor and a nurse adjust and stead a squirm...</td>\n",
       "      <td>[performing]</td>\n",
       "      <td>performing</td>\n",
       "      <td>[{'id': 'chatcmpl-7Jr4hlVGcMK68hWzqIBlqh8o4LWC...</td>\n",
       "      <td>Two medical professionals working together to ...</td>\n",
       "      <td>1871</td>\n",
       "      <td>5</td>\n",
       "      <td>0</td>\n",
       "      <td>18</td>\n",
       "      <td>0.277778</td>\n",
       "      <td>21</td>\n",
       "      <td>0.000000</td>\n",
       "      <td>0.703262</td>\n",
       "      <td>0.907246</td>\n",
       "    </tr>\n",
       "    <tr>\n",
       "      <th>30119</th>\n",
       "      <td>talking_0-1-0-8-1-3-7-1-2701081371.mp4</td>\n",
       "      <td>https://data.csail.mit.edu/soundnet/actions3/t...</td>\n",
       "      <td>0.820418</td>\n",
       "      <td>-0.001956</td>\n",
       "      <td>someone is filming objects in their home a car...</td>\n",
       "      <td>a camera pans a room and shows a carlsberg bee...</td>\n",
       "      <td>[sitting, filming, speaking]</td>\n",
       "      <td>sitting, filming, speaking</td>\n",
       "      <td>[{'id': 'chatcmpl-7KBp3szwndg2WPQ1lCijvt8557HH...</td>\n",
       "      <td>A video captures a room with a Carlsberg beer ...</td>\n",
       "      <td>1878</td>\n",
       "      <td>5</td>\n",
       "      <td>3</td>\n",
       "      <td>24</td>\n",
       "      <td>0.208333</td>\n",
       "      <td>18</td>\n",
       "      <td>0.166667</td>\n",
       "      <td>0.866015</td>\n",
       "      <td>0.972604</td>\n",
       "    </tr>\n",
       "    <tr>\n",
       "      <th>...</th>\n",
       "      <td>...</td>\n",
       "      <td>...</td>\n",
       "      <td>...</td>\n",
       "      <td>...</td>\n",
       "      <td>...</td>\n",
       "      <td>...</td>\n",
       "      <td>...</td>\n",
       "      <td>...</td>\n",
       "      <td>...</td>\n",
       "      <td>...</td>\n",
       "      <td>...</td>\n",
       "      <td>...</td>\n",
       "      <td>...</td>\n",
       "      <td>...</td>\n",
       "      <td>...</td>\n",
       "      <td>...</td>\n",
       "      <td>...</td>\n",
       "      <td>...</td>\n",
       "      <td>...</td>\n",
       "    </tr>\n",
       "    <tr>\n",
       "      <th>25077</th>\n",
       "      <td>slipping_2-1-8-5332948218.mp4</td>\n",
       "      <td>https://data.csail.mit.edu/soundnet/actions3/s...</td>\n",
       "      <td>0.639985</td>\n",
       "      <td>-0.000093</td>\n",
       "      <td>people are on snowboards on a mountain slope a...</td>\n",
       "      <td>There are various skiers and snowboarders on t...</td>\n",
       "      <td>[slipping, skating, skiing, seeming]</td>\n",
       "      <td>slipping, skating, skiing, seeming</td>\n",
       "      <td>[{'id': 'chatcmpl-7K9ezYwILCvcluHWz3exj6XwODru...</td>\n",
       "      <td>Several winter sports enthusiasts glide and gr...</td>\n",
       "      <td>1871</td>\n",
       "      <td>3</td>\n",
       "      <td>1</td>\n",
       "      <td>12</td>\n",
       "      <td>0.250000</td>\n",
       "      <td>13</td>\n",
       "      <td>0.076923</td>\n",
       "      <td>0.664756</td>\n",
       "      <td>0.919034</td>\n",
       "    </tr>\n",
       "    <tr>\n",
       "      <th>12184</th>\n",
       "      <td>hiking_flickr-7-7-1-4-2-8-3-6-15777142836_9.mp4</td>\n",
       "      <td>https://data.csail.mit.edu/soundnet/actions3/h...</td>\n",
       "      <td>0.884792</td>\n",
       "      <td>-0.002100</td>\n",
       "      <td>outdoors we see a man dress for cold wearing s...</td>\n",
       "      <td>The man in the beanie and coat pans his selfie...</td>\n",
       "      <td>[showing, rotating]</td>\n",
       "      <td>showing, rotating</td>\n",
       "      <td>[{'id': 'chatcmpl-7Jy54LtqpjDIA1fl5mokqQQOsgLs...</td>\n",
       "      <td>A beanieclad man pivots his front camera to re...</td>\n",
       "      <td>1838</td>\n",
       "      <td>3</td>\n",
       "      <td>2</td>\n",
       "      <td>15</td>\n",
       "      <td>0.200000</td>\n",
       "      <td>11</td>\n",
       "      <td>0.181818</td>\n",
       "      <td>0.641285</td>\n",
       "      <td>0.943491</td>\n",
       "    </tr>\n",
       "    <tr>\n",
       "      <th>28825</th>\n",
       "      <td>surfing_flickr-0-7-0-5-8-4-5-1-4807058451_1.mp4</td>\n",
       "      <td>https://data.csail.mit.edu/soundnet/actions3/s...</td>\n",
       "      <td>0.754383</td>\n",
       "      <td>-0.002280</td>\n",
       "      <td>this video shows someone trying to surf in the...</td>\n",
       "      <td>a man paddles a surfboard and catches a small ...</td>\n",
       "      <td>[surfing, splashing, showing, flowing]</td>\n",
       "      <td>surfing, splashing, showing, flowing</td>\n",
       "      <td>[{'id': 'chatcmpl-7KBXjdYDavSGNXebmDPzVWvpR1Uz...</td>\n",
       "      <td>A surfer conquers the rough waters on his board</td>\n",
       "      <td>1875</td>\n",
       "      <td>3</td>\n",
       "      <td>1</td>\n",
       "      <td>11</td>\n",
       "      <td>0.272727</td>\n",
       "      <td>9</td>\n",
       "      <td>0.111111</td>\n",
       "      <td>0.545162</td>\n",
       "      <td>0.910957</td>\n",
       "    </tr>\n",
       "    <tr>\n",
       "      <th>37474</th>\n",
       "      <td>grilling_flickr-2-4-9-3-6-1-9-4-14024936194_35...</td>\n",
       "      <td>https://data.csail.mit.edu/soundnet/actions3/g...</td>\n",
       "      <td>0.934460</td>\n",
       "      <td>-0.000100</td>\n",
       "      <td>there is an assortment of food and mostly hamb...</td>\n",
       "      <td>The fiery grill is covered with corn sausages ...</td>\n",
       "      <td>[combusting, grilling, barbecuing, cooking]</td>\n",
       "      <td>combusting, grilling, barbecuing, cooking</td>\n",
       "      <td>[{'id': 'chatcmpl-7KHslIMLC9EOgWlFFgADmBRQXNzK...</td>\n",
       "      <td>The blazing grill ignites an assortment of mea...</td>\n",
       "      <td>1894</td>\n",
       "      <td>3</td>\n",
       "      <td>2</td>\n",
       "      <td>15</td>\n",
       "      <td>0.200000</td>\n",
       "      <td>14</td>\n",
       "      <td>0.142857</td>\n",
       "      <td>0.709818</td>\n",
       "      <td>0.930191</td>\n",
       "    </tr>\n",
       "    <tr>\n",
       "      <th>39884</th>\n",
       "      <td>sitting_flickr-2-4-0-0-1-8-0-5-3024001805_4.mp4</td>\n",
       "      <td>https://data.csail.mit.edu/soundnet/actions3/s...</td>\n",
       "      <td>0.921589</td>\n",
       "      <td>0.000533</td>\n",
       "      <td>there is a baby wearing a pink and white strip...</td>\n",
       "      <td>A toddler squats by a rug and throws a sixside...</td>\n",
       "      <td>[sitting, attacking, trying]</td>\n",
       "      <td>sitting, attacking, trying</td>\n",
       "      <td>[{'id': 'chatcmpl-7KKFSDqMNsW1LZ51Mv4SlwOU33im...</td>\n",
       "      <td>A little one playing with a block exploring it...</td>\n",
       "      <td>1867</td>\n",
       "      <td>3</td>\n",
       "      <td>0</td>\n",
       "      <td>11</td>\n",
       "      <td>0.272727</td>\n",
       "      <td>16</td>\n",
       "      <td>0.000000</td>\n",
       "      <td>0.561425</td>\n",
       "      <td>0.921703</td>\n",
       "    </tr>\n",
       "  </tbody>\n",
       "</table>\n",
       "<p>100 rows × 19 columns</p>\n",
       "</div>"
      ],
      "text/plain": [
       "                                                filename  \\\n",
       "34688  whistling_flickr-4-1-4-3-0-7-4-5-4541430745_74...   \n",
       "9070      eating_flickr-4-0-0-2-8-6-9-6-3140028696_6.mp4   \n",
       "37995   licking_flickr-5-4-1-5-0-9-8-6-2554150986_83.mp4   \n",
       "7209           discussing_0-9-8-2-2-0-2-4-2509822024.mp4   \n",
       "30119             talking_0-1-0-8-1-3-7-1-2701081371.mp4   \n",
       "...                                                  ...   \n",
       "25077                      slipping_2-1-8-5332948218.mp4   \n",
       "12184    hiking_flickr-7-7-1-4-2-8-3-6-15777142836_9.mp4   \n",
       "28825    surfing_flickr-0-7-0-5-8-4-5-1-4807058451_1.mp4   \n",
       "37474  grilling_flickr-2-4-9-3-6-1-9-4-14024936194_35...   \n",
       "39884    sitting_flickr-2-4-0-0-1-8-0-5-3024001805_4.mp4   \n",
       "\n",
       "                                                     url  mem_score     alpha  \\\n",
       "34688  https://data.csail.mit.edu/soundnet/actions3/w...   0.859782 -0.001601   \n",
       "9070   https://data.csail.mit.edu/soundnet/actions3/e...   0.956170 -0.000442   \n",
       "37995  https://data.csail.mit.edu/soundnet/actions3/l...   0.882156 -0.001528   \n",
       "7209   https://data.csail.mit.edu/soundnet/actions3/d...   0.803126 -0.000455   \n",
       "30119  https://data.csail.mit.edu/soundnet/actions3/t...   0.820418 -0.001956   \n",
       "...                                                  ...        ...       ...   \n",
       "25077  https://data.csail.mit.edu/soundnet/actions3/s...   0.639985 -0.000093   \n",
       "12184  https://data.csail.mit.edu/soundnet/actions3/h...   0.884792 -0.002100   \n",
       "28825  https://data.csail.mit.edu/soundnet/actions3/s...   0.754383 -0.002280   \n",
       "37474  https://data.csail.mit.edu/soundnet/actions3/g...   0.934460 -0.000100   \n",
       "39884  https://data.csail.mit.edu/soundnet/actions3/s...   0.921589  0.000533   \n",
       "\n",
       "                                       audio_description  \\\n",
       "34688  a parakeet with a yellow head and orange spot ...   \n",
       "9070   we have what looks like a bearded dragon havin...   \n",
       "37995  on a wooden floor there are two small brown do...   \n",
       "7209   in this video she possibly a new dad and a nur...   \n",
       "30119  someone is filming objects in their home a car...   \n",
       "...                                                  ...   \n",
       "25077  people are on snowboards on a mountain slope a...   \n",
       "12184  outdoors we see a man dress for cold wearing s...   \n",
       "28825  this video shows someone trying to surf in the...   \n",
       "37474  there is an assortment of food and mostly hamb...   \n",
       "39884  there is a baby wearing a pink and white strip...   \n",
       "\n",
       "                                                captions  \\\n",
       "34688  A yellowed headed parakeet with an olive green...   \n",
       "9070   Yellow Iguana is eating crickets out of a bowe...   \n",
       "37995  A beagle licks a golden retriever on the body ...   \n",
       "7209   A doctor and a nurse adjust and stead a squirm...   \n",
       "30119  a camera pans a room and shows a carlsberg bee...   \n",
       "...                                                  ...   \n",
       "25077  There are various skiers and snowboarders on t...   \n",
       "12184  The man in the beanie and coat pans his selfie...   \n",
       "28825  a man paddles a surfboard and catches a small ...   \n",
       "37474  The fiery grill is covered with corn sausages ...   \n",
       "39884  A toddler squats by a rug and throws a sixside...   \n",
       "\n",
       "                                         action_labels  \\\n",
       "34688             [whistling, sing, blowing, standing]   \n",
       "9070             [eating, sitting, attacking, feeding]   \n",
       "37995  [licking, eating, washing, imitating, cleaning]   \n",
       "7209                                      [performing]   \n",
       "30119                     [sitting, filming, speaking]   \n",
       "...                                                ...   \n",
       "25077             [slipping, skating, skiing, seeming]   \n",
       "12184                              [showing, rotating]   \n",
       "28825           [surfing, splashing, showing, flowing]   \n",
       "37474      [combusting, grilling, barbecuing, cooking]   \n",
       "39884                     [sitting, attacking, trying]   \n",
       "\n",
       "                                             actions  \\\n",
       "34688             whistling, sing, blowing, standing   \n",
       "9070             eating, sitting, attacking, feeding   \n",
       "37995  licking, eating, washing, imitating, cleaning   \n",
       "7209                                      performing   \n",
       "30119                     sitting, filming, speaking   \n",
       "...                                              ...   \n",
       "25077             slipping, skating, skiing, seeming   \n",
       "12184                              showing, rotating   \n",
       "28825           surfing, splashing, showing, flowing   \n",
       "37474      combusting, grilling, barbecuing, cooking   \n",
       "39884                     sitting, attacking, trying   \n",
       "\n",
       "                                               responses  \\\n",
       "34688  [{'id': 'chatcmpl-7KEsD8XHCFgWtwz2j23yy9Lqsprh...   \n",
       "9070   [{'id': 'chatcmpl-7JsfxqHcgQm6WSgGRX7Wh5N49Irr...   \n",
       "37995  [{'id': 'chatcmpl-7KINpiV79VbEGlRLLnZsvfWo6TX9...   \n",
       "7209   [{'id': 'chatcmpl-7Jr4hlVGcMK68hWzqIBlqh8o4LWC...   \n",
       "30119  [{'id': 'chatcmpl-7KBp3szwndg2WPQ1lCijvt8557HH...   \n",
       "...                                                  ...   \n",
       "25077  [{'id': 'chatcmpl-7K9ezYwILCvcluHWz3exj6XwODru...   \n",
       "12184  [{'id': 'chatcmpl-7Jy54LtqpjDIA1fl5mokqQQOsgLs...   \n",
       "28825  [{'id': 'chatcmpl-7KBXjdYDavSGNXebmDPzVWvpR1Uz...   \n",
       "37474  [{'id': 'chatcmpl-7KHslIMLC9EOgWlFFgADmBRQXNzK...   \n",
       "39884  [{'id': 'chatcmpl-7KKFSDqMNsW1LZ51Mv4SlwOU33im...   \n",
       "\n",
       "                                              recaptions  total_used_tokens  \\\n",
       "34688  A colorful bird perches and creates sounds amo...               1898   \n",
       "9070   A vibrant Iguana savors snacks from a bowled b...               1875   \n",
       "37995  A friendly beagle loves to groom a cheerful go...               1880   \n",
       "7209   Two medical professionals working together to ...               1871   \n",
       "30119  A video captures a room with a Carlsberg beer ...               1878   \n",
       "...                                                  ...                ...   \n",
       "25077  Several winter sports enthusiasts glide and gr...               1871   \n",
       "12184  A beanieclad man pivots his front camera to re...               1838   \n",
       "28825    A surfer conquers the rough waters on his board               1875   \n",
       "37474  The blazing grill ignites an assortment of mea...               1894   \n",
       "39884  A little one playing with a block exploring it...               1867   \n",
       "\n",
       "       caption_oov_words  recaption_oov_words  caption_length  \\\n",
       "34688                  6                    2              26   \n",
       "9070                   5                    4              13   \n",
       "37995                  5                    3              16   \n",
       "7209                   5                    0              18   \n",
       "30119                  5                    3              24   \n",
       "...                  ...                  ...             ...   \n",
       "25077                  3                    1              12   \n",
       "12184                  3                    2              15   \n",
       "28825                  3                    1              11   \n",
       "37474                  3                    2              15   \n",
       "39884                  3                    0              11   \n",
       "\n",
       "       caption_oov_words_ratio  recaption_length  recaption_oov_words_ratio  \\\n",
       "34688                 0.230769                18                   0.111111   \n",
       "9070                  0.384615                13                   0.307692   \n",
       "37995                 0.312500                21                   0.142857   \n",
       "7209                  0.277778                21                   0.000000   \n",
       "30119                 0.208333                18                   0.166667   \n",
       "...                        ...               ...                        ...   \n",
       "25077                 0.250000                13                   0.076923   \n",
       "12184                 0.200000                11                   0.181818   \n",
       "28825                 0.272727                 9                   0.111111   \n",
       "37474                 0.200000                14                   0.142857   \n",
       "39884                 0.272727                16                   0.000000   \n",
       "\n",
       "       cosine_sim_mpnet  cosine_sim_openai  \n",
       "34688          0.683953           0.935193  \n",
       "9070           0.772171           0.960467  \n",
       "37995          0.773063           0.963662  \n",
       "7209           0.703262           0.907246  \n",
       "30119          0.866015           0.972604  \n",
       "...                 ...                ...  \n",
       "25077          0.664756           0.919034  \n",
       "12184          0.641285           0.943491  \n",
       "28825          0.545162           0.910957  \n",
       "37474          0.709818           0.930191  \n",
       "39884          0.561425           0.921703  \n",
       "\n",
       "[100 rows x 19 columns]"
      ]
     },
     "execution_count": 25,
     "metadata": {},
     "output_type": "execute_result"
    }
   ],
   "source": [
    "df = data_exp.sort_values(by='caption_oov_words', ascending=False).head(100)\n",
    "df['cosine_sim_mpnet'] = df.progress_apply(lambda row: cosine_sim_metric.get_metric(row['recaptions'], row['captions'])[0][0], axis=1)\n",
    "df['cosine_sim_openai'] = df.progress_apply(lambda row: cosine_sim_metric_openai.get_metric(row['recaptions'], row['captions'])[0][0], axis=1)\n",
    "\n",
    "df"
   ]
  },
  {
   "cell_type": "code",
   "execution_count": 26,
   "metadata": {},
   "outputs": [
    {
     "data": {
      "text/html": [
       "<div>\n",
       "<style scoped>\n",
       "    .dataframe tbody tr th:only-of-type {\n",
       "        vertical-align: middle;\n",
       "    }\n",
       "\n",
       "    .dataframe tbody tr th {\n",
       "        vertical-align: top;\n",
       "    }\n",
       "\n",
       "    .dataframe thead th {\n",
       "        text-align: right;\n",
       "    }\n",
       "</style>\n",
       "<table border=\"1\" class=\"dataframe\">\n",
       "  <thead>\n",
       "    <tr style=\"text-align: right;\">\n",
       "      <th></th>\n",
       "      <th>captions</th>\n",
       "      <th>recaptions</th>\n",
       "      <th>caption_oov_words</th>\n",
       "      <th>cosine_sim_mpnet</th>\n",
       "      <th>cosine_sim_openai</th>\n",
       "    </tr>\n",
       "  </thead>\n",
       "  <tbody>\n",
       "    <tr>\n",
       "      <th>34688</th>\n",
       "      <td>A yellowed headed parakeet with an olive greengrey body is chirping up past wooden poles on a stoop while orange plastic chains hang in the foreground</td>\n",
       "      <td>A colorful bird perches and creates sounds amongst tall wooden poles and bright orange chains in the foreground</td>\n",
       "      <td>6</td>\n",
       "      <td>0.683953</td>\n",
       "      <td>0.935193</td>\n",
       "    </tr>\n",
       "    <tr>\n",
       "      <th>9070</th>\n",
       "      <td>Yellow Iguana is eating crickets out of a bowel with crickets and strawberries</td>\n",
       "      <td>A vibrant Iguana savors snacks from a bowled banquet of crickets and strawberries</td>\n",
       "      <td>5</td>\n",
       "      <td>0.772171</td>\n",
       "      <td>0.960467</td>\n",
       "    </tr>\n",
       "    <tr>\n",
       "      <th>37995</th>\n",
       "      <td>A beagle licks a golden retriever on the body while The golden retriever wags his tail</td>\n",
       "      <td>A friendly beagle loves to groom a cheerful golden retriever by licking its fur and making it wag its happy tail</td>\n",
       "      <td>5</td>\n",
       "      <td>0.773063</td>\n",
       "      <td>0.963662</td>\n",
       "    </tr>\n",
       "    <tr>\n",
       "      <th>7209</th>\n",
       "      <td>A doctor and a nurse adjust and stead a squirming baby thats inside an incubator inside an ICU</td>\n",
       "      <td>Two medical professionals working together to care for a fragile baby in need of attention and assistance within a specialized unit</td>\n",
       "      <td>5</td>\n",
       "      <td>0.703262</td>\n",
       "      <td>0.907246</td>\n",
       "    </tr>\n",
       "    <tr>\n",
       "      <th>30119</th>\n",
       "      <td>a camera pans a room and shows a carlsberg beer inflatable and then zooms to a tv screen on top of a credenza bureau</td>\n",
       "      <td>A video captures a room with a Carlsberg beer inflatable and a TV screen atop a credenza bureau</td>\n",
       "      <td>5</td>\n",
       "      <td>0.866015</td>\n",
       "      <td>0.972604</td>\n",
       "    </tr>\n",
       "  </tbody>\n",
       "</table>\n",
       "</div>"
      ],
      "text/plain": [
       "                                                                                                                                                     captions  \\\n",
       "34688  A yellowed headed parakeet with an olive greengrey body is chirping up past wooden poles on a stoop while orange plastic chains hang in the foreground   \n",
       "9070                                                                           Yellow Iguana is eating crickets out of a bowel with crickets and strawberries   \n",
       "37995                                                                  A beagle licks a golden retriever on the body while The golden retriever wags his tail   \n",
       "7209                                                           A doctor and a nurse adjust and stead a squirming baby thats inside an incubator inside an ICU   \n",
       "30119                                    a camera pans a room and shows a carlsberg beer inflatable and then zooms to a tv screen on top of a credenza bureau   \n",
       "\n",
       "                                                                                                                                recaptions  \\\n",
       "34688                      A colorful bird perches and creates sounds amongst tall wooden poles and bright orange chains in the foreground   \n",
       "9070                                                     A vibrant Iguana savors snacks from a bowled banquet of crickets and strawberries   \n",
       "37995                     A friendly beagle loves to groom a cheerful golden retriever by licking its fur and making it wag its happy tail   \n",
       "7209   Two medical professionals working together to care for a fragile baby in need of attention and assistance within a specialized unit   \n",
       "30119                                      A video captures a room with a Carlsberg beer inflatable and a TV screen atop a credenza bureau   \n",
       "\n",
       "       caption_oov_words  cosine_sim_mpnet  cosine_sim_openai  \n",
       "34688                  6          0.683953           0.935193  \n",
       "9070                   5          0.772171           0.960467  \n",
       "37995                  5          0.773063           0.963662  \n",
       "7209                   5          0.703262           0.907246  \n",
       "30119                  5          0.866015           0.972604  "
      ]
     },
     "execution_count": 26,
     "metadata": {},
     "output_type": "execute_result"
    }
   ],
   "source": [
    "# Edit pandas display options so that we can see the full text\n",
    "pd.set_option('display.max_colwidth', None)\n",
    "df[['captions','recaptions','caption_oov_words','cosine_sim_mpnet','cosine_sim_openai']].head(5)"
   ]
  },
  {
   "cell_type": "code",
   "execution_count": 27,
   "metadata": {},
   "outputs": [
    {
     "data": {
      "image/png": "[encoded data removed]",
      "text/plain": [
       "<Figure size 1000x500 with 1 Axes>"
      ]
     },
     "metadata": {},
     "output_type": "display_data"
    }
   ],
   "source": [
    "# Plot an overimposed histogram of the cosine similarities per MPNet and OpenAI\n",
    "plt.figure(figsize=(10, 5))\n",
    "plt.hist(df['cosine_sim_mpnet'], bins=10, alpha=0.5, label='MPNet')\n",
    "plt.hist(df['cosine_sim_openai'], bins=10, alpha=0.5, label='OpenAI')\n",
    "plt.legend(loc='upper right')\n",
    "plt.title('Cosine Similarity between captions and recaptions - 100 captions with most OOV words')\n",
    "plt.xlabel('Cosine Similarity')\n",
    "plt.ylabel('Frequency')\n",
    "plt.show()"
   ]
  },
  {
   "cell_type": "code",
   "execution_count": 29,
   "metadata": {},
   "outputs": [
    {
     "data": {
      "application/vnd.jupyter.widget-view+json": {
       "model_id": "f6970bfaae40454cb53186dd996c4005",
       "version_major": 2,
       "version_minor": 0
      },
      "text/plain": [
       "  0%|          | 0/100 [00:00<?, ?it/s]"
      ]
     },
     "metadata": {},
     "output_type": "display_data"
    },
    {
     "data": {
      "application/vnd.jupyter.widget-view+json": {
       "model_id": "9ef3816945eb43b593c6f80a23a04a30",
       "version_major": 2,
       "version_minor": 0
      },
      "text/plain": [
       "  0%|          | 0/100 [00:00<?, ?it/s]"
      ]
     },
     "metadata": {},
     "output_type": "display_data"
    },
    {
     "data": {
      "text/html": [
       "<div>\n",
       "<style scoped>\n",
       "    .dataframe tbody tr th:only-of-type {\n",
       "        vertical-align: middle;\n",
       "    }\n",
       "\n",
       "    .dataframe tbody tr th {\n",
       "        vertical-align: top;\n",
       "    }\n",
       "\n",
       "    .dataframe thead th {\n",
       "        text-align: right;\n",
       "    }\n",
       "</style>\n",
       "<table border=\"1\" class=\"dataframe\">\n",
       "  <thead>\n",
       "    <tr style=\"text-align: right;\">\n",
       "      <th></th>\n",
       "      <th>captions</th>\n",
       "      <th>recaptions</th>\n",
       "      <th>caption_oov_words</th>\n",
       "      <th>cosine_sim_mpnet</th>\n",
       "      <th>cosine_sim_openai</th>\n",
       "    </tr>\n",
       "  </thead>\n",
       "  <tbody>\n",
       "    <tr>\n",
       "      <th>25451</th>\n",
       "      <td>Snow covered houses on a snow covered street with snow blanketed cars</td>\n",
       "      <td>A wintry set of scenes filled with snowdrifting heavilycarpeted cobbled roads lit up by a charming collection of diverse residents occlusivelooking residences paralleled with obstructing driveways fenced up by contrasting eccentric winterchariot bars surrounded</td>\n",
       "      <td>1</td>\n",
       "      <td>0.711434</td>\n",
       "      <td>0.907137</td>\n",
       "    </tr>\n",
       "    <tr>\n",
       "      <th>35244</th>\n",
       "      <td>a man wearing a backpack snowboards up a hill at night</td>\n",
       "      <td>A late night adventurer glides effortlessly up a snowcapped mound adorned in frontporch America cos omcmene up omypist opws7  codingdeEra eraKr eujsloopaw</td>\n",
       "      <td>1</td>\n",
       "      <td>0.460499</td>\n",
       "      <td>0.861020</td>\n",
       "    </tr>\n",
       "    <tr>\n",
       "      <th>8329</th>\n",
       "      <td>The view outside the windshield of a vehicle as it drives through a desert</td>\n",
       "      <td>A car winds its way through scorching sand dunes trudging through them under an sunpuzzling earth bleached without any discernible peak insight into the neverending expanses of the world also barrennes canyd sculptures watching them</td>\n",
       "      <td>0</td>\n",
       "      <td>0.566428</td>\n",
       "      <td>0.888759</td>\n",
       "    </tr>\n",
       "    <tr>\n",
       "      <th>35499</th>\n",
       "      <td>People are sitting around a campfire and the lady in a green sweatshirt is roasting marshmallows</td>\n",
       "      <td>A group unwinds amidst the warmth of a burning evening fire pit where a lady adorns a green sweatshirt and frosts foamy marshmallows over the brilliantly undulating and twinkling ember lights</td>\n",
       "      <td>3</td>\n",
       "      <td>0.796249</td>\n",
       "      <td>0.935788</td>\n",
       "    </tr>\n",
       "    <tr>\n",
       "      <th>39195</th>\n",
       "      <td>Several teams of four people each rowing down a waterway</td>\n",
       "      <td>Un billet dune course nautique avec plusieurs équipes de quatre pagayeurs glissant sur une voie navigable</td>\n",
       "      <td>0</td>\n",
       "      <td>0.276925</td>\n",
       "      <td>0.869016</td>\n",
       "    </tr>\n",
       "  </tbody>\n",
       "</table>\n",
       "</div>"
      ],
      "text/plain": [
       "                                                                                               captions  \\\n",
       "25451                             Snow covered houses on a snow covered street with snow blanketed cars   \n",
       "35244                                            a man wearing a backpack snowboards up a hill at night   \n",
       "8329                         The view outside the windshield of a vehicle as it drives through a desert   \n",
       "35499  People are sitting around a campfire and the lady in a green sweatshirt is roasting marshmallows   \n",
       "39195                                          Several teams of four people each rowing down a waterway   \n",
       "\n",
       "                                                                                                                                                                                                                                                                  recaptions  \\\n",
       "25451  A wintry set of scenes filled with snowdrifting heavilycarpeted cobbled roads lit up by a charming collection of diverse residents occlusivelooking residences paralleled with obstructing driveways fenced up by contrasting eccentric winterchariot bars surrounded   \n",
       "35244                                                                                                             A late night adventurer glides effortlessly up a snowcapped mound adorned in frontporch America cos omcmene up omypist opws7  codingdeEra eraKr eujsloopaw   \n",
       "8329                                A car winds its way through scorching sand dunes trudging through them under an sunpuzzling earth bleached without any discernible peak insight into the neverending expanses of the world also barrennes canyd sculptures watching them   \n",
       "35499                                                                        A group unwinds amidst the warmth of a burning evening fire pit where a lady adorns a green sweatshirt and frosts foamy marshmallows over the brilliantly undulating and twinkling ember lights   \n",
       "39195                                                                                                                                                              Un billet dune course nautique avec plusieurs équipes de quatre pagayeurs glissant sur une voie navigable   \n",
       "\n",
       "       caption_oov_words  cosine_sim_mpnet  cosine_sim_openai  \n",
       "25451                  1          0.711434           0.907137  \n",
       "35244                  1          0.460499           0.861020  \n",
       "8329                   0          0.566428           0.888759  \n",
       "35499                  3          0.796249           0.935788  \n",
       "39195                  0          0.276925           0.869016  "
      ]
     },
     "execution_count": 29,
     "metadata": {},
     "output_type": "execute_result"
    }
   ],
   "source": [
    "df2 = data_exp.sort_values(by='recaption_oov_words', ascending=False).head(100)\n",
    "df2['cosine_sim_mpnet'] = df2.progress_apply(lambda row: cosine_sim_metric.get_metric(row['recaptions'], row['captions'])[0][0], axis=1)\n",
    "df2['cosine_sim_openai'] = df2.progress_apply(lambda row: cosine_sim_metric_openai.get_metric(row['recaptions'], row['captions'])[0][0], axis=1)\n",
    "\n",
    "df2[['captions','recaptions','caption_oov_words','cosine_sim_mpnet','cosine_sim_openai']].head(5)"
   ]
  },
  {
   "cell_type": "code",
   "execution_count": 30,
   "metadata": {},
   "outputs": [
    {
     "data": {
      "image/png": "[encoded data removed]",
      "text/plain": [
       "<Figure size 1000x500 with 1 Axes>"
      ]
     },
     "metadata": {},
     "output_type": "display_data"
    }
   ],
   "source": [
    "# Plot an overimposed histogram of the cosine similarities per MPNet and OpenAI\n",
    "plt.figure(figsize=(10, 5))\n",
    "plt.hist(df2['cosine_sim_mpnet'], bins=10, alpha=0.5, label='MPNet')\n",
    "plt.hist(df2['cosine_sim_openai'], bins=10, alpha=0.5, label='OpenAI')\n",
    "plt.legend(loc='upper right')\n",
    "plt.title('Cosine Similarity between captions and recaptions - 100 recaptions with most OOV words')\n",
    "plt.xlabel('Cosine Similarity')\n",
    "plt.ylabel('Frequency')\n",
    "plt.show()"
   ]
  },
  {
   "cell_type": "code",
   "execution_count": 33,
   "metadata": {},
   "outputs": [
    {
     "data": {
      "application/vnd.jupyter.widget-view+json": {
       "model_id": "957cba83782d4be8826d9e49aa9bf7a1",
       "version_major": 2,
       "version_minor": 0
      },
      "text/plain": [
       "  0%|          | 0/5000 [00:00<?, ?it/s]"
      ]
     },
     "metadata": {},
     "output_type": "display_data"
    },
    {
     "data": {
      "application/vnd.jupyter.widget-view+json": {
       "model_id": "e5a8edeb3c154cc5a1ba0f19b7aca920",
       "version_major": 2,
       "version_minor": 0
      },
      "text/plain": [
       "  0%|          | 0/5000 [00:00<?, ?it/s]"
      ]
     },
     "metadata": {},
     "output_type": "display_data"
    },
    {
     "data": {
      "text/html": [
       "<div>\n",
       "<style scoped>\n",
       "    .dataframe tbody tr th:only-of-type {\n",
       "        vertical-align: middle;\n",
       "    }\n",
       "\n",
       "    .dataframe tbody tr th {\n",
       "        vertical-align: top;\n",
       "    }\n",
       "\n",
       "    .dataframe thead th {\n",
       "        text-align: right;\n",
       "    }\n",
       "</style>\n",
       "<table border=\"1\" class=\"dataframe\">\n",
       "  <thead>\n",
       "    <tr style=\"text-align: right;\">\n",
       "      <th></th>\n",
       "      <th>captions</th>\n",
       "      <th>recaptions</th>\n",
       "      <th>caption_oov_words</th>\n",
       "      <th>cosine_sim_mpnet</th>\n",
       "      <th>cosine_sim_openai</th>\n",
       "    </tr>\n",
       "  </thead>\n",
       "  <tbody>\n",
       "    <tr>\n",
       "      <th>36506</th>\n",
       "      <td>A blow fish swims along some coral reefs in an aquarium</td>\n",
       "      <td>A puffedup fish explores vibrant coral in an underwater room with clear walls</td>\n",
       "      <td>1</td>\n",
       "      <td>0.734054</td>\n",
       "      <td>0.927767</td>\n",
       "    </tr>\n",
       "    <tr>\n",
       "      <th>2265</th>\n",
       "      <td>There is something on fire on what appears to be a dark night</td>\n",
       "      <td>A bright blaze illuminates the darkness of an obscure night</td>\n",
       "      <td>0</td>\n",
       "      <td>0.690853</td>\n",
       "      <td>0.932103</td>\n",
       "    </tr>\n",
       "    <tr>\n",
       "      <th>30324</th>\n",
       "      <td>A dog walking around in grass next to a large pile of sticks</td>\n",
       "      <td>A canine strolls through a lush lawn alongside heaps of wood debris nearby</td>\n",
       "      <td>0</td>\n",
       "      <td>0.712160</td>\n",
       "      <td>0.940940</td>\n",
       "    </tr>\n",
       "    <tr>\n",
       "      <th>7481</th>\n",
       "      <td>A fish is swimming under water where the floor is littered with coral</td>\n",
       "      <td>A colorful fish explores an underwater world full of vibrant coral</td>\n",
       "      <td>0</td>\n",
       "      <td>0.702900</td>\n",
       "      <td>0.934687</td>\n",
       "    </tr>\n",
       "    <tr>\n",
       "      <th>30545</th>\n",
       "      <td>A baby smiles at the camera while wrapped in a white cloth</td>\n",
       "      <td>An adorable infant joyfully gazes at the camera swaddled in pristine fabric</td>\n",
       "      <td>0</td>\n",
       "      <td>0.818118</td>\n",
       "      <td>0.950467</td>\n",
       "    </tr>\n",
       "  </tbody>\n",
       "</table>\n",
       "</div>"
      ],
      "text/plain": [
       "                                                                    captions  \\\n",
       "36506                A blow fish swims along some coral reefs in an aquarium   \n",
       "2265           There is something on fire on what appears to be a dark night   \n",
       "30324           A dog walking around in grass next to a large pile of sticks   \n",
       "7481   A fish is swimming under water where the floor is littered with coral   \n",
       "30545             A baby smiles at the camera while wrapped in a white cloth   \n",
       "\n",
       "                                                                          recaptions  \\\n",
       "36506  A puffedup fish explores vibrant coral in an underwater room with clear walls   \n",
       "2265                     A bright blaze illuminates the darkness of an obscure night   \n",
       "30324     A canine strolls through a lush lawn alongside heaps of wood debris nearby   \n",
       "7481              A colorful fish explores an underwater world full of vibrant coral   \n",
       "30545    An adorable infant joyfully gazes at the camera swaddled in pristine fabric   \n",
       "\n",
       "       caption_oov_words  cosine_sim_mpnet  cosine_sim_openai  \n",
       "36506                  1          0.734054           0.927767  \n",
       "2265                   0          0.690853           0.932103  \n",
       "30324                  0          0.712160           0.940940  \n",
       "7481                   0          0.702900           0.934687  \n",
       "30545                  0          0.818118           0.950467  "
      ]
     },
     "execution_count": 33,
     "metadata": {},
     "output_type": "execute_result"
    }
   ],
   "source": [
    "df3 = data_exp.sample(5000, random_state=42)\n",
    "df3['cosine_sim_mpnet'] = df3.progress_apply(lambda row: cosine_sim_metric.get_metric(row['recaptions'], row['captions'])[0][0], axis=1)\n",
    "df3['cosine_sim_openai'] = df3.progress_apply(lambda row: cosine_sim_metric_openai.get_metric(row['recaptions'], row['captions'])[0][0], axis=1)\n",
    "\n",
    "df3[['captions','recaptions','caption_oov_words','cosine_sim_mpnet','cosine_sim_openai']].head(5)"
   ]
  },
  {
   "cell_type": "code",
   "execution_count": 34,
   "metadata": {},
   "outputs": [
    {
     "data": {
      "image/png": "[encoded data removed]",
      "text/plain": [
       "<Figure size 1000x500 with 1 Axes>"
      ]
     },
     "metadata": {},
     "output_type": "display_data"
    }
   ],
   "source": [
    "# Plot an overimposed histogram of the cosine similarities per MPNet and OpenAI\n",
    "plt.figure(figsize=(10, 5))\n",
    "plt.hist(df3['cosine_sim_mpnet'], bins=10, alpha=0.5, label='MPNet')\n",
    "plt.hist(df3['cosine_sim_openai'], bins=10, alpha=0.5, label='OpenAI')\n",
    "plt.legend(loc='upper right')\n",
    "plt.title('Cosine Similarity between captions and recaptions - 5000 uniform samples')\n",
    "plt.xlabel('Cosine Similarity')\n",
    "plt.ylabel('Frequency')\n",
    "plt.show()"
   ]
  },
  {
   "cell_type": "code",
   "execution_count": null,
   "metadata": {},
   "outputs": [],
   "source": [
    "data_exp['cosine_sim_mpnet'] = data_exp.progress_apply(lambda row: cosine_sim_metric.get_metric(row['recaptions'], row['captions'])[0][0], axis=1)"
   ]
  },
  {
   "cell_type": "code",
   "execution_count": 44,
   "metadata": {},
   "outputs": [
    {
     "data": {
      "text/plain": [
       "count    42500.000000\n",
       "mean         0.692201\n",
       "std          0.120035\n",
       "min         -0.049704\n",
       "25%          0.618009\n",
       "50%          0.703642\n",
       "75%          0.779243\n",
       "max          0.975266\n",
       "Name: cosine_sim_mpnet, dtype: float64"
      ]
     },
     "execution_count": 44,
     "metadata": {},
     "output_type": "execute_result"
    }
   ],
   "source": [
    "data_exp['cosine_sim_mpnet'].describe()"
   ]
  },
  {
   "cell_type": "code",
   "execution_count": 39,
   "metadata": {},
   "outputs": [
    {
     "data": {
      "image/png": "[encoded data removed]",
      "text/plain": [
       "<Figure size 1000x600 with 1 Axes>"
      ]
     },
     "metadata": {},
     "output_type": "display_data"
    }
   ],
   "source": [
    "plt.figure(figsize=(10, 6))\n",
    "# Histogram of cosine similarities for recaptions with no oov words\n",
    "plt.hist(data_exp[data_exp['recaption_oov_words']>0]['cosine_sim_mpnet'], bins=50, alpha=0.5, label='With OOV')\n",
    "plt.hist(data_exp[data_exp['recaption_oov_words']==0]['cosine_sim_mpnet'], bins=50, alpha=0.5, label='No OOV')\n",
    "plt.legend(loc='upper right')\n",
    "plt.title('Cosine similarity between recaptions and captions')\n",
    "plt.xlabel('Cosine similarity')\n",
    "plt.ylabel('Number of examples')\n",
    "plt.show()"
   ]
  },
  {
   "cell_type": "code",
   "execution_count": 48,
   "metadata": {},
   "outputs": [
    {
     "data": {
      "application/vnd.jupyter.widget-view+json": {
       "model_id": "018ebd97c81949128de06d3ea0a94ea9",
       "version_major": 2,
       "version_minor": 0
      },
      "text/plain": [
       "  0%|          | 0/11 [00:00<?, ?it/s]"
      ]
     },
     "metadata": {},
     "output_type": "display_data"
    },
    {
     "data": {
      "text/html": [
       "<div>\n",
       "<style scoped>\n",
       "    .dataframe tbody tr th:only-of-type {\n",
       "        vertical-align: middle;\n",
       "    }\n",
       "\n",
       "    .dataframe tbody tr th {\n",
       "        vertical-align: top;\n",
       "    }\n",
       "\n",
       "    .dataframe thead th {\n",
       "        text-align: right;\n",
       "    }\n",
       "</style>\n",
       "<table border=\"1\" class=\"dataframe\">\n",
       "  <thead>\n",
       "    <tr style=\"text-align: right;\">\n",
       "      <th></th>\n",
       "      <th>oov</th>\n",
       "      <th>mean</th>\n",
       "      <th>std</th>\n",
       "    </tr>\n",
       "  </thead>\n",
       "  <tbody>\n",
       "    <tr>\n",
       "      <th>0</th>\n",
       "      <td>0</td>\n",
       "      <td>0.704962</td>\n",
       "      <td>0.123412</td>\n",
       "    </tr>\n",
       "    <tr>\n",
       "      <th>1</th>\n",
       "      <td>1</td>\n",
       "      <td>0.698832</td>\n",
       "      <td>0.116565</td>\n",
       "    </tr>\n",
       "    <tr>\n",
       "      <th>2</th>\n",
       "      <td>2</td>\n",
       "      <td>0.685377</td>\n",
       "      <td>0.117068</td>\n",
       "    </tr>\n",
       "    <tr>\n",
       "      <th>3</th>\n",
       "      <td>3</td>\n",
       "      <td>0.671316</td>\n",
       "      <td>0.120734</td>\n",
       "    </tr>\n",
       "    <tr>\n",
       "      <th>4</th>\n",
       "      <td>4</td>\n",
       "      <td>0.658099</td>\n",
       "      <td>0.121551</td>\n",
       "    </tr>\n",
       "    <tr>\n",
       "      <th>5</th>\n",
       "      <td>5</td>\n",
       "      <td>0.639237</td>\n",
       "      <td>0.122610</td>\n",
       "    </tr>\n",
       "    <tr>\n",
       "      <th>6</th>\n",
       "      <td>6</td>\n",
       "      <td>0.609922</td>\n",
       "      <td>0.136014</td>\n",
       "    </tr>\n",
       "    <tr>\n",
       "      <th>7</th>\n",
       "      <td>7</td>\n",
       "      <td>0.592627</td>\n",
       "      <td>0.144047</td>\n",
       "    </tr>\n",
       "    <tr>\n",
       "      <th>8</th>\n",
       "      <td>8</td>\n",
       "      <td>0.601037</td>\n",
       "      <td>0.134286</td>\n",
       "    </tr>\n",
       "    <tr>\n",
       "      <th>9</th>\n",
       "      <td>9</td>\n",
       "      <td>0.546534</td>\n",
       "      <td>0.260233</td>\n",
       "    </tr>\n",
       "    <tr>\n",
       "      <th>10</th>\n",
       "      <td>10</td>\n",
       "      <td>0.585967</td>\n",
       "      <td>0.177438</td>\n",
       "    </tr>\n",
       "  </tbody>\n",
       "</table>\n",
       "</div>"
      ],
      "text/plain": [
       "   oov      mean       std\n",
       "0    0  0.704962  0.123412\n",
       "1    1  0.698832  0.116565\n",
       "2    2  0.685377  0.117068\n",
       "3    3  0.671316  0.120734\n",
       "4    4  0.658099  0.121551\n",
       "5    5  0.639237  0.122610\n",
       "6    6  0.609922  0.136014\n",
       "7    7  0.592627  0.144047\n",
       "8    8  0.601037  0.134286\n",
       "9    9  0.546534  0.260233\n",
       "10  10  0.585967  0.177438"
      ]
     },
     "execution_count": 48,
     "metadata": {},
     "output_type": "execute_result"
    }
   ],
   "source": [
    "# Mean and std cosine similarity between caption and recaption with respect to number of OOV words\n",
    "\n",
    "cosine_sim_vs_oov_df = pd.DataFrame(columns=['oov', 'mean', 'std'])\n",
    "for oov in trange(0, data_exp['recaption_oov_words'].max() + 1):\n",
    "    cosine_sim_vs_oov_df = pd.concat([cosine_sim_vs_oov_df, pd.DataFrame({\n",
    "        'oov': oov,\n",
    "        'mean': data_exp[data_exp['recaption_oov_words'] == oov]['cosine_sim_mpnet'].mean(),\n",
    "        'std': data_exp[data_exp['recaption_oov_words'] == oov]['cosine_sim_mpnet'].std()\n",
    "    }, index=[0])], ignore_index=True)\n",
    "\n",
    "cosine_sim_vs_oov_df\n"
   ]
  },
  {
   "cell_type": "code",
   "execution_count": 59,
   "metadata": {},
   "outputs": [
    {
     "data": {
      "application/vnd.plotly.v1+json": {
       "config": {
        "plotlyServerURL": "https://plot.ly"
       },
       "data": [
        {
         "error_y": {
          "array": [
           0.8283741176128387,
           0.8153977170586586,
           0.8024452775716782,
           0.7920503243803978,
           0.7796496227383614,
           0.7618468999862671,
           0.7459363788366318,
           0.7366739362478256,
           0.735323041677475,
           0.8067669570446014,
           0.7634044736623764
          ],
          "arrayminus": [
           0.5815494358539581,
           0.5822668299078941,
           0.5683083683252335,
           0.5505816116929054,
           0.5365486070513725,
           0.5166267156600952,
           0.47390808165073395,
           0.4485807567834854,
           0.4667501747608185,
           0.2863006889820099,
           0.4085289388895035
          ],
          "color": "blue",
          "symmetric": false,
          "thickness": 1.5,
          "type": "data",
          "width": 3
         },
         "hovertemplate": "Number of OOV Words=%{x}<br>Cosine Similarity=%{y}<extra></extra>",
         "legendgroup": "",
         "line": {
          "color": "blue",
          "dash": "solid"
         },
         "marker": {
          "symbol": "circle"
         },
         "mode": "lines",
         "name": "",
         "orientation": "v",
         "showlegend": false,
         "type": "scatter",
         "x": [
          0,
          1,
          2,
          3,
          4,
          5,
          6,
          7,
          8,
          9,
          10
         ],
         "xaxis": "x",
         "y": [
          0.7049617767333984,
          0.6988322734832764,
          0.6853768229484558,
          0.6713159680366516,
          0.6580991148948669,
          0.6392368078231812,
          0.6099222302436829,
          0.5926273465156555,
          0.6010366082191467,
          0.5465338230133057,
          0.5859667062759399
         ],
         "yaxis": "y"
        }
       ],
       "layout": {
        "legend": {
         "tracegroupgap": 0
        },
        "template": {
         "data": {
          "bar": [
           {
            "error_x": {
             "color": "#2a3f5f"
            },
            "error_y": {
             "color": "#2a3f5f"
            },
            "marker": {
             "line": {
              "color": "#E5ECF6",
              "width": 0.5
             },
             "pattern": {
              "fillmode": "overlay",
              "size": 10,
              "solidity": 0.2
             }
            },
            "type": "bar"
           }
          ],
          "barpolar": [
           {
            "marker": {
             "line": {
              "color": "#E5ECF6",
              "width": 0.5
             },
             "pattern": {
              "fillmode": "overlay",
              "size": 10,
              "solidity": 0.2
             }
            },
            "type": "barpolar"
           }
          ],
          "carpet": [
           {
            "aaxis": {
             "endlinecolor": "#2a3f5f",
             "gridcolor": "white",
             "linecolor": "white",
             "minorgridcolor": "white",
             "startlinecolor": "#2a3f5f"
            },
            "baxis": {
             "endlinecolor": "#2a3f5f",
             "gridcolor": "white",
             "linecolor": "white",
             "minorgridcolor": "white",
             "startlinecolor": "#2a3f5f"
            },
            "type": "carpet"
           }
          ],
          "choropleth": [
           {
            "colorbar": {
             "outlinewidth": 0,
             "ticks": ""
            },
            "type": "choropleth"
           }
          ],
          "contour": [
           {
            "colorbar": {
             "outlinewidth": 0,
             "ticks": ""
            },
            "colorscale": [
             [
              0,
              "#0d0887"
             ],
             [
              0.1111111111111111,
              "#46039f"
             ],
             [
              0.2222222222222222,
              "#7201a8"
             ],
             [
              0.3333333333333333,
              "#9c179e"
             ],
             [
              0.4444444444444444,
              "#bd3786"
             ],
             [
              0.5555555555555556,
              "#d8576b"
             ],
             [
              0.6666666666666666,
              "#ed7953"
             ],
             [
              0.7777777777777778,
              "#fb9f3a"
             ],
             [
              0.8888888888888888,
              "#fdca26"
             ],
             [
              1,
              "#f0f921"
             ]
            ],
            "type": "contour"
           }
          ],
          "contourcarpet": [
           {
            "colorbar": {
             "outlinewidth": 0,
             "ticks": ""
            },
            "type": "contourcarpet"
           }
          ],
          "heatmap": [
           {
            "colorbar": {
             "outlinewidth": 0,
             "ticks": ""
            },
            "colorscale": [
             [
              0,
              "#0d0887"
             ],
             [
              0.1111111111111111,
              "#46039f"
             ],
             [
              0.2222222222222222,
              "#7201a8"
             ],
             [
              0.3333333333333333,
              "#9c179e"
             ],
             [
              0.4444444444444444,
              "#bd3786"
             ],
             [
              0.5555555555555556,
              "#d8576b"
             ],
             [
              0.6666666666666666,
              "#ed7953"
             ],
             [
              0.7777777777777778,
              "#fb9f3a"
             ],
             [
              0.8888888888888888,
              "#fdca26"
             ],
             [
              1,
              "#f0f921"
             ]
            ],
            "type": "heatmap"
           }
          ],
          "heatmapgl": [
           {
            "colorbar": {
             "outlinewidth": 0,
             "ticks": ""
            },
            "colorscale": [
             [
              0,
              "#0d0887"
             ],
             [
              0.1111111111111111,
              "#46039f"
             ],
             [
              0.2222222222222222,
              "#7201a8"
             ],
             [
              0.3333333333333333,
              "#9c179e"
             ],
             [
              0.4444444444444444,
              "#bd3786"
             ],
             [
              0.5555555555555556,
              "#d8576b"
             ],
             [
              0.6666666666666666,
              "#ed7953"
             ],
             [
              0.7777777777777778,
              "#fb9f3a"
             ],
             [
              0.8888888888888888,
              "#fdca26"
             ],
             [
              1,
              "#f0f921"
             ]
            ],
            "type": "heatmapgl"
           }
          ],
          "histogram": [
           {
            "marker": {
             "pattern": {
              "fillmode": "overlay",
              "size": 10,
              "solidity": 0.2
             }
            },
            "type": "histogram"
           }
          ],
          "histogram2d": [
           {
            "colorbar": {
             "outlinewidth": 0,
             "ticks": ""
            },
            "colorscale": [
             [
              0,
              "#0d0887"
             ],
             [
              0.1111111111111111,
              "#46039f"
             ],
             [
              0.2222222222222222,
              "#7201a8"
             ],
             [
              0.3333333333333333,
              "#9c179e"
             ],
             [
              0.4444444444444444,
              "#bd3786"
             ],
             [
              0.5555555555555556,
              "#d8576b"
             ],
             [
              0.6666666666666666,
              "#ed7953"
             ],
             [
              0.7777777777777778,
              "#fb9f3a"
             ],
             [
              0.8888888888888888,
              "#fdca26"
             ],
             [
              1,
              "#f0f921"
             ]
            ],
            "type": "histogram2d"
           }
          ],
          "histogram2dcontour": [
           {
            "colorbar": {
             "outlinewidth": 0,
             "ticks": ""
            },
            "colorscale": [
             [
              0,
              "#0d0887"
             ],
             [
              0.1111111111111111,
              "#46039f"
             ],
             [
              0.2222222222222222,
              "#7201a8"
             ],
             [
              0.3333333333333333,
              "#9c179e"
             ],
             [
              0.4444444444444444,
              "#bd3786"
             ],
             [
              0.5555555555555556,
              "#d8576b"
             ],
             [
              0.6666666666666666,
              "#ed7953"
             ],
             [
              0.7777777777777778,
              "#fb9f3a"
             ],
             [
              0.8888888888888888,
              "#fdca26"
             ],
             [
              1,
              "#f0f921"
             ]
            ],
            "type": "histogram2dcontour"
           }
          ],
          "mesh3d": [
           {
            "colorbar": {
             "outlinewidth": 0,
             "ticks": ""
            },
            "type": "mesh3d"
           }
          ],
          "parcoords": [
           {
            "line": {
             "colorbar": {
              "outlinewidth": 0,
              "ticks": ""
             }
            },
            "type": "parcoords"
           }
          ],
          "pie": [
           {
            "automargin": true,
            "type": "pie"
           }
          ],
          "scatter": [
           {
            "fillpattern": {
             "fillmode": "overlay",
             "size": 10,
             "solidity": 0.2
            },
            "type": "scatter"
           }
          ],
          "scatter3d": [
           {
            "line": {
             "colorbar": {
              "outlinewidth": 0,
              "ticks": ""
             }
            },
            "marker": {
             "colorbar": {
              "outlinewidth": 0,
              "ticks": ""
             }
            },
            "type": "scatter3d"
           }
          ],
          "scattercarpet": [
           {
            "marker": {
             "colorbar": {
              "outlinewidth": 0,
              "ticks": ""
             }
            },
            "type": "scattercarpet"
           }
          ],
          "scattergeo": [
           {
            "marker": {
             "colorbar": {
              "outlinewidth": 0,
              "ticks": ""
             }
            },
            "type": "scattergeo"
           }
          ],
          "scattergl": [
           {
            "marker": {
             "colorbar": {
              "outlinewidth": 0,
              "ticks": ""
             }
            },
            "type": "scattergl"
           }
          ],
          "scattermapbox": [
           {
            "marker": {
             "colorbar": {
              "outlinewidth": 0,
              "ticks": ""
             }
            },
            "type": "scattermapbox"
           }
          ],
          "scatterpolar": [
           {
            "marker": {
             "colorbar": {
              "outlinewidth": 0,
              "ticks": ""
             }
            },
            "type": "scatterpolar"
           }
          ],
          "scatterpolargl": [
           {
            "marker": {
             "colorbar": {
              "outlinewidth": 0,
              "ticks": ""
             }
            },
            "type": "scatterpolargl"
           }
          ],
          "scatterternary": [
           {
            "marker": {
             "colorbar": {
              "outlinewidth": 0,
              "ticks": ""
             }
            },
            "type": "scatterternary"
           }
          ],
          "surface": [
           {
            "colorbar": {
             "outlinewidth": 0,
             "ticks": ""
            },
            "colorscale": [
             [
              0,
              "#0d0887"
             ],
             [
              0.1111111111111111,
              "#46039f"
             ],
             [
              0.2222222222222222,
              "#7201a8"
             ],
             [
              0.3333333333333333,
              "#9c179e"
             ],
             [
              0.4444444444444444,
              "#bd3786"
             ],
             [
              0.5555555555555556,
              "#d8576b"
             ],
             [
              0.6666666666666666,
              "#ed7953"
             ],
             [
              0.7777777777777778,
              "#fb9f3a"
             ],
             [
              0.8888888888888888,
              "#fdca26"
             ],
             [
              1,
              "#f0f921"
             ]
            ],
            "type": "surface"
           }
          ],
          "table": [
           {
            "cells": {
             "fill": {
              "color": "#EBF0F8"
             },
             "line": {
              "color": "white"
             }
            },
            "header": {
             "fill": {
              "color": "#C8D4E3"
             },
             "line": {
              "color": "white"
             }
            },
            "type": "table"
           }
          ]
         },
         "layout": {
          "annotationdefaults": {
           "arrowcolor": "#2a3f5f",
           "arrowhead": 0,
           "arrowwidth": 1
          },
          "autotypenumbers": "strict",
          "coloraxis": {
           "colorbar": {
            "outlinewidth": 0,
            "ticks": ""
           }
          },
          "colorscale": {
           "diverging": [
            [
             0,
             "#8e0152"
            ],
            [
             0.1,
             "#c51b7d"
            ],
            [
             0.2,
             "#de77ae"
            ],
            [
             0.3,
             "#f1b6da"
            ],
            [
             0.4,
             "#fde0ef"
            ],
            [
             0.5,
             "#f7f7f7"
            ],
            [
             0.6,
             "#e6f5d0"
            ],
            [
             0.7,
             "#b8e186"
            ],
            [
             0.8,
             "#7fbc41"
            ],
            [
             0.9,
             "#4d9221"
            ],
            [
             1,
             "#276419"
            ]
           ],
           "sequential": [
            [
             0,
             "#0d0887"
            ],
            [
             0.1111111111111111,
             "#46039f"
            ],
            [
             0.2222222222222222,
             "#7201a8"
            ],
            [
             0.3333333333333333,
             "#9c179e"
            ],
            [
             0.4444444444444444,
             "#bd3786"
            ],
            [
             0.5555555555555556,
             "#d8576b"
            ],
            [
             0.6666666666666666,
             "#ed7953"
            ],
            [
             0.7777777777777778,
             "#fb9f3a"
            ],
            [
             0.8888888888888888,
             "#fdca26"
            ],
            [
             1,
             "#f0f921"
            ]
           ],
           "sequentialminus": [
            [
             0,
             "#0d0887"
            ],
            [
             0.1111111111111111,
             "#46039f"
            ],
            [
             0.2222222222222222,
             "#7201a8"
            ],
            [
             0.3333333333333333,
             "#9c179e"
            ],
            [
             0.4444444444444444,
             "#bd3786"
            ],
            [
             0.5555555555555556,
             "#d8576b"
            ],
            [
             0.6666666666666666,
             "#ed7953"
            ],
            [
             0.7777777777777778,
             "#fb9f3a"
            ],
            [
             0.8888888888888888,
             "#fdca26"
            ],
            [
             1,
             "#f0f921"
            ]
           ]
          },
          "colorway": [
           "#636efa",
           "#EF553B",
           "#00cc96",
           "#ab63fa",
           "#FFA15A",
           "#19d3f3",
           "#FF6692",
           "#B6E880",
           "#FF97FF",
           "#FECB52"
          ],
          "font": {
           "color": "#2a3f5f"
          },
          "geo": {
           "bgcolor": "white",
           "lakecolor": "white",
           "landcolor": "#E5ECF6",
           "showlakes": true,
           "showland": true,
           "subunitcolor": "white"
          },
          "hoverlabel": {
           "align": "left"
          },
          "hovermode": "closest",
          "mapbox": {
           "style": "light"
          },
          "paper_bgcolor": "white",
          "plot_bgcolor": "#E5ECF6",
          "polar": {
           "angularaxis": {
            "gridcolor": "white",
            "linecolor": "white",
            "ticks": ""
           },
           "bgcolor": "#E5ECF6",
           "radialaxis": {
            "gridcolor": "white",
            "linecolor": "white",
            "ticks": ""
           }
          },
          "scene": {
           "xaxis": {
            "backgroundcolor": "#E5ECF6",
            "gridcolor": "white",
            "gridwidth": 2,
            "linecolor": "white",
            "showbackground": true,
            "ticks": "",
            "zerolinecolor": "white"
           },
           "yaxis": {
            "backgroundcolor": "#E5ECF6",
            "gridcolor": "white",
            "gridwidth": 2,
            "linecolor": "white",
            "showbackground": true,
            "ticks": "",
            "zerolinecolor": "white"
           },
           "zaxis": {
            "backgroundcolor": "#E5ECF6",
            "gridcolor": "white",
            "gridwidth": 2,
            "linecolor": "white",
            "showbackground": true,
            "ticks": "",
            "zerolinecolor": "white"
           }
          },
          "shapedefaults": {
           "line": {
            "color": "#2a3f5f"
           }
          },
          "ternary": {
           "aaxis": {
            "gridcolor": "white",
            "linecolor": "white",
            "ticks": ""
           },
           "baxis": {
            "gridcolor": "white",
            "linecolor": "white",
            "ticks": ""
           },
           "bgcolor": "#E5ECF6",
           "caxis": {
            "gridcolor": "white",
            "linecolor": "white",
            "ticks": ""
           }
          },
          "title": {
           "x": 0.05
          },
          "xaxis": {
           "automargin": true,
           "gridcolor": "white",
           "linecolor": "white",
           "ticks": "",
           "title": {
            "standoff": 15
           },
           "zerolinecolor": "white",
           "zerolinewidth": 2
          },
          "yaxis": {
           "automargin": true,
           "gridcolor": "white",
           "linecolor": "white",
           "ticks": "",
           "title": {
            "standoff": 15
           },
           "zerolinecolor": "white",
           "zerolinewidth": 2
          }
         }
        },
        "title": {
         "text": "Cosine Similarity vs Number of OOV Words"
        },
        "xaxis": {
         "anchor": "y",
         "domain": [
          0,
          1
         ],
         "title": {
          "text": "Number of OOV Words"
         }
        },
        "yaxis": {
         "anchor": "x",
         "domain": [
          0,
          1
         ],
         "title": {
          "text": "Cosine Similarity"
         }
        }
       }
      },
      "text/html": [
       "<div>                            <div id=\"e273b5a2-2487-4047-a429-ce7825b558fb\" class=\"plotly-graph-div\" style=\"height:525px; width:100%;\"></div>            <script type=\"text/javascript\">                require([\"plotly\"], function(Plotly) {                    window.PLOTLYENV=window.PLOTLYENV || {};                                    if (document.getElementById(\"e273b5a2-2487-4047-a429-ce7825b558fb\")) {                    Plotly.newPlot(                        \"e273b5a2-2487-4047-a429-ce7825b558fb\",                        [{\"error_y\":{\"array\":[0.8283741176128387,0.8153977170586586,0.8024452775716782,0.7920503243803978,0.7796496227383614,0.7618468999862671,0.7459363788366318,0.7366739362478256,0.735323041677475,0.8067669570446014,0.7634044736623764],\"arrayminus\":[0.5815494358539581,0.5822668299078941,0.5683083683252335,0.5505816116929054,0.5365486070513725,0.5166267156600952,0.47390808165073395,0.4485807567834854,0.4667501747608185,0.2863006889820099,0.4085289388895035],\"color\":\"blue\",\"symmetric\":false,\"thickness\":1.5,\"type\":\"data\",\"width\":3},\"hovertemplate\":\"Number of OOV Words=%{x}<br>Cosine Similarity=%{y}<extra></extra>\",\"legendgroup\":\"\",\"line\":{\"color\":\"blue\",\"dash\":\"solid\"},\"marker\":{\"symbol\":\"circle\"},\"mode\":\"lines\",\"name\":\"\",\"orientation\":\"v\",\"showlegend\":false,\"x\":[0,1,2,3,4,5,6,7,8,9,10],\"xaxis\":\"x\",\"y\":[0.7049617767333984,0.6988322734832764,0.6853768229484558,0.6713159680366516,0.6580991148948669,0.6392368078231812,0.6099222302436829,0.5926273465156555,0.6010366082191467,0.5465338230133057,0.5859667062759399],\"yaxis\":\"y\",\"type\":\"scatter\"}],                        {\"template\":{\"data\":{\"histogram2dcontour\":[{\"type\":\"histogram2dcontour\",\"colorbar\":{\"outlinewidth\":0,\"ticks\":\"\"},\"colorscale\":[[0.0,\"#0d0887\"],[0.1111111111111111,\"#46039f\"],[0.2222222222222222,\"#7201a8\"],[0.3333333333333333,\"#9c179e\"],[0.4444444444444444,\"#bd3786\"],[0.5555555555555556,\"#d8576b\"],[0.6666666666666666,\"#ed7953\"],[0.7777777777777778,\"#fb9f3a\"],[0.8888888888888888,\"#fdca26\"],[1.0,\"#f0f921\"]]}],\"choropleth\":[{\"type\":\"choropleth\",\"colorbar\":{\"outlinewidth\":0,\"ticks\":\"\"}}],\"histogram2d\":[{\"type\":\"histogram2d\",\"colorbar\":{\"outlinewidth\":0,\"ticks\":\"\"},\"colorscale\":[[0.0,\"#0d0887\"],[0.1111111111111111,\"#46039f\"],[0.2222222222222222,\"#7201a8\"],[0.3333333333333333,\"#9c179e\"],[0.4444444444444444,\"#bd3786\"],[0.5555555555555556,\"#d8576b\"],[0.6666666666666666,\"#ed7953\"],[0.7777777777777778,\"#fb9f3a\"],[0.8888888888888888,\"#fdca26\"],[1.0,\"#f0f921\"]]}],\"heatmap\":[{\"type\":\"heatmap\",\"colorbar\":{\"outlinewidth\":0,\"ticks\":\"\"},\"colorscale\":[[0.0,\"#0d0887\"],[0.1111111111111111,\"#46039f\"],[0.2222222222222222,\"#7201a8\"],[0.3333333333333333,\"#9c179e\"],[0.4444444444444444,\"#bd3786\"],[0.5555555555555556,\"#d8576b\"],[0.6666666666666666,\"#ed7953\"],[0.7777777777777778,\"#fb9f3a\"],[0.8888888888888888,\"#fdca26\"],[1.0,\"#f0f921\"]]}],\"heatmapgl\":[{\"type\":\"heatmapgl\",\"colorbar\":{\"outlinewidth\":0,\"ticks\":\"\"},\"colorscale\":[[0.0,\"#0d0887\"],[0.1111111111111111,\"#46039f\"],[0.2222222222222222,\"#7201a8\"],[0.3333333333333333,\"#9c179e\"],[0.4444444444444444,\"#bd3786\"],[0.5555555555555556,\"#d8576b\"],[0.6666666666666666,\"#ed7953\"],[0.7777777777777778,\"#fb9f3a\"],[0.8888888888888888,\"#fdca26\"],[1.0,\"#f0f921\"]]}],\"contourcarpet\":[{\"type\":\"contourcarpet\",\"colorbar\":{\"outlinewidth\":0,\"ticks\":\"\"}}],\"contour\":[{\"type\":\"contour\",\"colorbar\":{\"outlinewidth\":0,\"ticks\":\"\"},\"colorscale\":[[0.0,\"#0d0887\"],[0.1111111111111111,\"#46039f\"],[0.2222222222222222,\"#7201a8\"],[0.3333333333333333,\"#9c179e\"],[0.4444444444444444,\"#bd3786\"],[0.5555555555555556,\"#d8576b\"],[0.6666666666666666,\"#ed7953\"],[0.7777777777777778,\"#fb9f3a\"],[0.8888888888888888,\"#fdca26\"],[1.0,\"#f0f921\"]]}],\"surface\":[{\"type\":\"surface\",\"colorbar\":{\"outlinewidth\":0,\"ticks\":\"\"},\"colorscale\":[[0.0,\"#0d0887\"],[0.1111111111111111,\"#46039f\"],[0.2222222222222222,\"#7201a8\"],[0.3333333333333333,\"#9c179e\"],[0.4444444444444444,\"#bd3786\"],[0.5555555555555556,\"#d8576b\"],[0.6666666666666666,\"#ed7953\"],[0.7777777777777778,\"#fb9f3a\"],[0.8888888888888888,\"#fdca26\"],[1.0,\"#f0f921\"]]}],\"mesh3d\":[{\"type\":\"mesh3d\",\"colorbar\":{\"outlinewidth\":0,\"ticks\":\"\"}}],\"scatter\":[{\"fillpattern\":{\"fillmode\":\"overlay\",\"size\":10,\"solidity\":0.2},\"type\":\"scatter\"}],\"parcoords\":[{\"type\":\"parcoords\",\"line\":{\"colorbar\":{\"outlinewidth\":0,\"ticks\":\"\"}}}],\"scatterpolargl\":[{\"type\":\"scatterpolargl\",\"marker\":{\"colorbar\":{\"outlinewidth\":0,\"ticks\":\"\"}}}],\"bar\":[{\"error_x\":{\"color\":\"#2a3f5f\"},\"error_y\":{\"color\":\"#2a3f5f\"},\"marker\":{\"line\":{\"color\":\"#E5ECF6\",\"width\":0.5},\"pattern\":{\"fillmode\":\"overlay\",\"size\":10,\"solidity\":0.2}},\"type\":\"bar\"}],\"scattergeo\":[{\"type\":\"scattergeo\",\"marker\":{\"colorbar\":{\"outlinewidth\":0,\"ticks\":\"\"}}}],\"scatterpolar\":[{\"type\":\"scatterpolar\",\"marker\":{\"colorbar\":{\"outlinewidth\":0,\"ticks\":\"\"}}}],\"histogram\":[{\"marker\":{\"pattern\":{\"fillmode\":\"overlay\",\"size\":10,\"solidity\":0.2}},\"type\":\"histogram\"}],\"scattergl\":[{\"type\":\"scattergl\",\"marker\":{\"colorbar\":{\"outlinewidth\":0,\"ticks\":\"\"}}}],\"scatter3d\":[{\"type\":\"scatter3d\",\"line\":{\"colorbar\":{\"outlinewidth\":0,\"ticks\":\"\"}},\"marker\":{\"colorbar\":{\"outlinewidth\":0,\"ticks\":\"\"}}}],\"scattermapbox\":[{\"type\":\"scattermapbox\",\"marker\":{\"colorbar\":{\"outlinewidth\":0,\"ticks\":\"\"}}}],\"scatterternary\":[{\"type\":\"scatterternary\",\"marker\":{\"colorbar\":{\"outlinewidth\":0,\"ticks\":\"\"}}}],\"scattercarpet\":[{\"type\":\"scattercarpet\",\"marker\":{\"colorbar\":{\"outlinewidth\":0,\"ticks\":\"\"}}}],\"carpet\":[{\"aaxis\":{\"endlinecolor\":\"#2a3f5f\",\"gridcolor\":\"white\",\"linecolor\":\"white\",\"minorgridcolor\":\"white\",\"startlinecolor\":\"#2a3f5f\"},\"baxis\":{\"endlinecolor\":\"#2a3f5f\",\"gridcolor\":\"white\",\"linecolor\":\"white\",\"minorgridcolor\":\"white\",\"startlinecolor\":\"#2a3f5f\"},\"type\":\"carpet\"}],\"table\":[{\"cells\":{\"fill\":{\"color\":\"#EBF0F8\"},\"line\":{\"color\":\"white\"}},\"header\":{\"fill\":{\"color\":\"#C8D4E3\"},\"line\":{\"color\":\"white\"}},\"type\":\"table\"}],\"barpolar\":[{\"marker\":{\"line\":{\"color\":\"#E5ECF6\",\"width\":0.5},\"pattern\":{\"fillmode\":\"overlay\",\"size\":10,\"solidity\":0.2}},\"type\":\"barpolar\"}],\"pie\":[{\"automargin\":true,\"type\":\"pie\"}]},\"layout\":{\"autotypenumbers\":\"strict\",\"colorway\":[\"#636efa\",\"#EF553B\",\"#00cc96\",\"#ab63fa\",\"#FFA15A\",\"#19d3f3\",\"#FF6692\",\"#B6E880\",\"#FF97FF\",\"#FECB52\"],\"font\":{\"color\":\"#2a3f5f\"},\"hovermode\":\"closest\",\"hoverlabel\":{\"align\":\"left\"},\"paper_bgcolor\":\"white\",\"plot_bgcolor\":\"#E5ECF6\",\"polar\":{\"bgcolor\":\"#E5ECF6\",\"angularaxis\":{\"gridcolor\":\"white\",\"linecolor\":\"white\",\"ticks\":\"\"},\"radialaxis\":{\"gridcolor\":\"white\",\"linecolor\":\"white\",\"ticks\":\"\"}},\"ternary\":{\"bgcolor\":\"#E5ECF6\",\"aaxis\":{\"gridcolor\":\"white\",\"linecolor\":\"white\",\"ticks\":\"\"},\"baxis\":{\"gridcolor\":\"white\",\"linecolor\":\"white\",\"ticks\":\"\"},\"caxis\":{\"gridcolor\":\"white\",\"linecolor\":\"white\",\"ticks\":\"\"}},\"coloraxis\":{\"colorbar\":{\"outlinewidth\":0,\"ticks\":\"\"}},\"colorscale\":{\"sequential\":[[0.0,\"#0d0887\"],[0.1111111111111111,\"#46039f\"],[0.2222222222222222,\"#7201a8\"],[0.3333333333333333,\"#9c179e\"],[0.4444444444444444,\"#bd3786\"],[0.5555555555555556,\"#d8576b\"],[0.6666666666666666,\"#ed7953\"],[0.7777777777777778,\"#fb9f3a\"],[0.8888888888888888,\"#fdca26\"],[1.0,\"#f0f921\"]],\"sequentialminus\":[[0.0,\"#0d0887\"],[0.1111111111111111,\"#46039f\"],[0.2222222222222222,\"#7201a8\"],[0.3333333333333333,\"#9c179e\"],[0.4444444444444444,\"#bd3786\"],[0.5555555555555556,\"#d8576b\"],[0.6666666666666666,\"#ed7953\"],[0.7777777777777778,\"#fb9f3a\"],[0.8888888888888888,\"#fdca26\"],[1.0,\"#f0f921\"]],\"diverging\":[[0,\"#8e0152\"],[0.1,\"#c51b7d\"],[0.2,\"#de77ae\"],[0.3,\"#f1b6da\"],[0.4,\"#fde0ef\"],[0.5,\"#f7f7f7\"],[0.6,\"#e6f5d0\"],[0.7,\"#b8e186\"],[0.8,\"#7fbc41\"],[0.9,\"#4d9221\"],[1,\"#276419\"]]},\"xaxis\":{\"gridcolor\":\"white\",\"linecolor\":\"white\",\"ticks\":\"\",\"title\":{\"standoff\":15},\"zerolinecolor\":\"white\",\"automargin\":true,\"zerolinewidth\":2},\"yaxis\":{\"gridcolor\":\"white\",\"linecolor\":\"white\",\"ticks\":\"\",\"title\":{\"standoff\":15},\"zerolinecolor\":\"white\",\"automargin\":true,\"zerolinewidth\":2},\"scene\":{\"xaxis\":{\"backgroundcolor\":\"#E5ECF6\",\"gridcolor\":\"white\",\"linecolor\":\"white\",\"showbackground\":true,\"ticks\":\"\",\"zerolinecolor\":\"white\",\"gridwidth\":2},\"yaxis\":{\"backgroundcolor\":\"#E5ECF6\",\"gridcolor\":\"white\",\"linecolor\":\"white\",\"showbackground\":true,\"ticks\":\"\",\"zerolinecolor\":\"white\",\"gridwidth\":2},\"zaxis\":{\"backgroundcolor\":\"#E5ECF6\",\"gridcolor\":\"white\",\"linecolor\":\"white\",\"showbackground\":true,\"ticks\":\"\",\"zerolinecolor\":\"white\",\"gridwidth\":2}},\"shapedefaults\":{\"line\":{\"color\":\"#2a3f5f\"}},\"annotationdefaults\":{\"arrowcolor\":\"#2a3f5f\",\"arrowhead\":0,\"arrowwidth\":1},\"geo\":{\"bgcolor\":\"white\",\"landcolor\":\"#E5ECF6\",\"subunitcolor\":\"white\",\"showland\":true,\"showlakes\":true,\"lakecolor\":\"white\"},\"title\":{\"x\":0.05},\"mapbox\":{\"style\":\"light\"}}},\"xaxis\":{\"anchor\":\"y\",\"domain\":[0.0,1.0],\"title\":{\"text\":\"Number of OOV Words\"}},\"yaxis\":{\"anchor\":\"x\",\"domain\":[0.0,1.0],\"title\":{\"text\":\"Cosine Similarity\"}},\"legend\":{\"tracegroupgap\":0},\"title\":{\"text\":\"Cosine Similarity vs Number of OOV Words\"}},                        {\"responsive\": true}                    ).then(function(){\n",
       "                            \n",
       "var gd = document.getElementById('e273b5a2-2487-4047-a429-ce7825b558fb');\n",
       "var x = new MutationObserver(function (mutations, observer) {{\n",
       "        var display = window.getComputedStyle(gd).display;\n",
       "        if (!display || display === 'none') {{\n",
       "            console.log([gd, 'removed!']);\n",
       "            Plotly.purge(gd);\n",
       "            observer.disconnect();\n",
       "        }}\n",
       "}});\n",
       "\n",
       "// Listen for the removal of the full notebook cells\n",
       "var notebookContainer = gd.closest('#notebook-container');\n",
       "if (notebookContainer) {{\n",
       "    x.observe(notebookContainer, {childList: true});\n",
       "}}\n",
       "\n",
       "// Listen for the clearing of the current output cell\n",
       "var outputEl = gd.closest('.output');\n",
       "if (outputEl) {{\n",
       "    x.observe(outputEl, {childList: true});\n",
       "}}\n",
       "\n",
       "                        })                };                });            </script>        </div>"
      ]
     },
     "metadata": {},
     "output_type": "display_data"
    }
   ],
   "source": [
    "# Lineplot of the mean cosine similarity vs number of OOV words with std as error bars\n",
    "# The mean should be a lineplot, and the error should be represented as lines with a different color\n",
    "# The space between must be shaded\n",
    "# Use plotly\n",
    "\n",
    "fig = px.line(\n",
    "    x=cosine_sim_vs_oov_df[\"oov\"],\n",
    "    y=cosine_sim_vs_oov_df[\"mean\"],\n",
    "    title=\"Cosine Similarity vs Number of OOV Words\",\n",
    "    # error_y=cosine_sim_vs_oov_df[\"std\"],\n",
    "    labels={\n",
    "        \"x\": \"Number of OOV Words\",\n",
    "        \"y\": \"Cosine Similarity\",\n",
    "        \"error_y\": \"Standard Deviation\",\n",
    "    },\n",
    ")\n",
    "\n",
    "fig.update_traces(\n",
    "    line=dict(color=\"blue\"),\n",
    "    error_y=dict(\n",
    "        type=\"data\",\n",
    "        symmetric=False,\n",
    "        array=cosine_sim_vs_oov_df[\"mean\"] + cosine_sim_vs_oov_df[\"std\"],\n",
    "        arrayminus=cosine_sim_vs_oov_df[\"mean\"] - cosine_sim_vs_oov_df[\"std\"],\n",
    "        thickness=1.5,\n",
    "        width=3,\n",
    "        color=\"blue\",\n",
    "    ),\n",
    ")\n",
    "\n",
    "fig.show()\n",
    "\n",
    "\n"
   ]
  }
 ],
 "metadata": {
  "kernelspec": {
   "display_name": "memo",
   "language": "python",
   "name": "python3"
  },
  "language_info": {
   "codemirror_mode": {
    "name": "ipython",
    "version": 3
   },
   "file_extension": ".py",
   "mimetype": "text/x-python",
   "name": "python",
   "nbconvert_exporter": "python",
   "pygments_lexer": "ipython3",
   "version": "3.10.9"
  },
  "orig_nbformat": 4
 },
 "nbformat": 4,
 "nbformat_minor": 2
}
